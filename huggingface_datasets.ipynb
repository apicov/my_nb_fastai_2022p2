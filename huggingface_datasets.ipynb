{
 "cells": [
  {
   "cell_type": "code",
   "execution_count": 1,
   "id": "bc17e3a7",
   "metadata": {
    "ExecuteTime": {
     "end_time": "2022-11-25T10:33:58.167299Z",
     "start_time": "2022-11-25T10:33:56.690385Z"
    }
   },
   "outputs": [],
   "source": [
    "import pickle,gzip,math,os,time,shutil,torch,matplotlib as mpl,numpy as np,matplotlib.pyplot as plt\n",
    "from pathlib import Path\n",
    "from operator import itemgetter\n",
    "\n",
    "from torch import tensor,nn,optim\n",
    "from torch.utils.data import DataLoader,default_collate\n",
    "import torch.nn.functional as F\n",
    "\n",
    "from datasets import load_dataset,load_dataset_builder"
   ]
  },
  {
   "cell_type": "code",
   "execution_count": 2,
   "id": "0d9929de",
   "metadata": {
    "ExecuteTime": {
     "end_time": "2022-11-25T10:33:59.122517Z",
     "start_time": "2022-11-25T10:33:59.025407Z"
    }
   },
   "outputs": [],
   "source": [
    "import torchvision.transforms.functional as TF\n",
    "from fastcore.test import test_close\n",
    "\n",
    "torch.set_printoptions(precision=2, linewidth=140, sci_mode=False)\n",
    "torch.manual_seed(1)\n",
    "mpl.rcParams['image.cmap'] = 'gray'\n",
    "\n",
    "import logging\n",
    "logging.disable(logging.WARNING)"
   ]
  },
  {
   "cell_type": "markdown",
   "id": "4f8b133e",
   "metadata": {},
   "source": [
    "## Hugging face datasets"
   ]
  },
  {
   "cell_type": "code",
   "execution_count": 3,
   "id": "eb64dea5",
   "metadata": {
    "ExecuteTime": {
     "end_time": "2022-11-25T10:35:26.577068Z",
     "start_time": "2022-11-25T10:35:26.570057Z"
    }
   },
   "outputs": [],
   "source": [
    "name = \"fashion_mnist\""
   ]
  },
  {
   "cell_type": "code",
   "execution_count": 4,
   "id": "193491ef",
   "metadata": {
    "ExecuteTime": {
     "end_time": "2022-11-25T10:36:36.363490Z",
     "start_time": "2022-11-25T10:36:26.812548Z"
    }
   },
   "outputs": [
    {
     "data": {
      "application/vnd.jupyter.widget-view+json": {
       "model_id": "4f1b4f74484d4a89af43f752b94be0b2",
       "version_major": 2,
       "version_minor": 0
      },
      "text/plain": [
       "Downloading builder script:   0%|          | 0.00/4.83k [00:00<?, ?B/s]"
      ]
     },
     "metadata": {},
     "output_type": "display_data"
    },
    {
     "data": {
      "application/vnd.jupyter.widget-view+json": {
       "model_id": "1b47333c7fa347c99f6d081673785f02",
       "version_major": 2,
       "version_minor": 0
      },
      "text/plain": [
       "Downloading metadata:   0%|          | 0.00/3.13k [00:00<?, ?B/s]"
      ]
     },
     "metadata": {},
     "output_type": "display_data"
    },
    {
     "data": {
      "application/vnd.jupyter.widget-view+json": {
       "model_id": "4933758e644d452a88941a88d58d08e7",
       "version_major": 2,
       "version_minor": 0
      },
      "text/plain": [
       "Downloading readme:   0%|          | 0.00/8.82k [00:00<?, ?B/s]"
      ]
     },
     "metadata": {},
     "output_type": "display_data"
    },
    {
     "name": "stdout",
     "output_type": "stream",
     "text": [
      "Fashion-MNIST is a dataset of Zalando's article images—consisting of a training set of\n",
      "60,000 examples and a test set of 10,000 examples. Each example is a 28x28 grayscale image,\n",
      "associated with a label from 10 classes. We intend Fashion-MNIST to serve as a direct drop-in\n",
      "replacement for the original MNIST dataset for benchmarking machine learning algorithms.\n",
      "It shares the same image size and structure of training and testing splits.\n",
      "\n"
     ]
    }
   ],
   "source": [
    "ds_builder = load_dataset_builder(name)\n",
    "print(ds_builder.info.description)"
   ]
  },
  {
   "cell_type": "code",
   "execution_count": 5,
   "id": "3107a887",
   "metadata": {
    "ExecuteTime": {
     "end_time": "2022-11-25T10:38:25.087816Z",
     "start_time": "2022-11-25T10:38:25.065739Z"
    }
   },
   "outputs": [
    {
     "data": {
      "text/plain": [
       "{'image': Image(decode=True, id=None),\n",
       " 'label': ClassLabel(names=['T - shirt / top', 'Trouser', 'Pullover', 'Dress', 'Coat', 'Sandal', 'Shirt', 'Sneaker', 'Bag', 'Ankle boot'], id=None)}"
      ]
     },
     "execution_count": 5,
     "metadata": {},
     "output_type": "execute_result"
    }
   ],
   "source": [
    "ds_builder.info.features"
   ]
  },
  {
   "cell_type": "code",
   "execution_count": 6,
   "id": "bf8eaa4f",
   "metadata": {
    "ExecuteTime": {
     "end_time": "2022-11-25T10:38:40.978966Z",
     "start_time": "2022-11-25T10:38:40.966134Z"
    }
   },
   "outputs": [
    {
     "data": {
      "text/plain": [
       "{'train': SplitInfo(name='train', num_bytes=31296655, num_examples=60000, shard_lengths=None, dataset_name=None),\n",
       " 'test': SplitInfo(name='test', num_bytes=5233818, num_examples=10000, shard_lengths=None, dataset_name=None)}"
      ]
     },
     "execution_count": 6,
     "metadata": {},
     "output_type": "execute_result"
    }
   ],
   "source": [
    "ds_builder.info.splits"
   ]
  },
  {
   "cell_type": "code",
   "execution_count": 7,
   "id": "eea3dfde",
   "metadata": {
    "ExecuteTime": {
     "end_time": "2022-11-25T10:40:02.198136Z",
     "start_time": "2022-11-25T10:39:16.545829Z"
    }
   },
   "outputs": [
    {
     "name": "stdout",
     "output_type": "stream",
     "text": [
      "Downloading and preparing dataset fashion_mnist/fashion_mnist to /home/pico/.cache/huggingface/datasets/fashion_mnist/fashion_mnist/1.0.0/8d6c32399aa01613d96e2cbc9b13638f359ef62bb33612b077b4c247f6ef99c1...\n"
     ]
    },
    {
     "data": {
      "application/vnd.jupyter.widget-view+json": {
       "model_id": "d99d5badffa243ec8e8b5baf6ad84cdb",
       "version_major": 2,
       "version_minor": 0
      },
      "text/plain": [
       "Downloading data files:   0%|          | 0/4 [00:00<?, ?it/s]"
      ]
     },
     "metadata": {},
     "output_type": "display_data"
    },
    {
     "data": {
      "application/vnd.jupyter.widget-view+json": {
       "model_id": "bcddb30fdf4d414e9a4682363e1e84c7",
       "version_major": 2,
       "version_minor": 0
      },
      "text/plain": [
       "Downloading data:   0%|          | 0.00/26.4M [00:00<?, ?B/s]"
      ]
     },
     "metadata": {},
     "output_type": "display_data"
    },
    {
     "data": {
      "application/vnd.jupyter.widget-view+json": {
       "model_id": "7fc532ade0b24ea78bd5f776ccbbf719",
       "version_major": 2,
       "version_minor": 0
      },
      "text/plain": [
       "Downloading data:   0%|          | 0.00/29.5k [00:00<?, ?B/s]"
      ]
     },
     "metadata": {},
     "output_type": "display_data"
    },
    {
     "data": {
      "application/vnd.jupyter.widget-view+json": {
       "model_id": "bf72402784c147978b497034dbfebaf6",
       "version_major": 2,
       "version_minor": 0
      },
      "text/plain": [
       "Downloading data:   0%|          | 0.00/4.42M [00:00<?, ?B/s]"
      ]
     },
     "metadata": {},
     "output_type": "display_data"
    },
    {
     "data": {
      "application/vnd.jupyter.widget-view+json": {
       "model_id": "71a8183753a048ddb0606dd29064292f",
       "version_major": 2,
       "version_minor": 0
      },
      "text/plain": [
       "Downloading data:   0%|          | 0.00/5.15k [00:00<?, ?B/s]"
      ]
     },
     "metadata": {},
     "output_type": "display_data"
    },
    {
     "name": "stdout",
     "output_type": "stream",
     "text": [
      "    "
     ]
    },
    {
     "data": {
      "application/vnd.jupyter.widget-view+json": {
       "model_id": "f11798fbe4424d5093d7064c9450dc16",
       "version_major": 2,
       "version_minor": 0
      },
      "text/plain": [
       "Extracting data files #1:   0%|          | 0/1 [00:00<?, ?obj/s]"
      ]
     },
     "metadata": {},
     "output_type": "display_data"
    },
    {
     "data": {
      "application/vnd.jupyter.widget-view+json": {
       "model_id": "1eba45e6e4f1418594b884d58ae74099",
       "version_major": 2,
       "version_minor": 0
      },
      "text/plain": [
       "Extracting data files #0:   0%|          | 0/1 [00:00<?, ?obj/s]"
      ]
     },
     "metadata": {},
     "output_type": "display_data"
    },
    {
     "data": {
      "application/vnd.jupyter.widget-view+json": {
       "model_id": "7e03babcc48f4b8590af0350e2b0e7ff",
       "version_major": 2,
       "version_minor": 0
      },
      "text/plain": [
       "Extracting data files #2:   0%|          | 0/1 [00:00<?, ?obj/s]"
      ]
     },
     "metadata": {},
     "output_type": "display_data"
    },
    {
     "data": {
      "application/vnd.jupyter.widget-view+json": {
       "model_id": "0120e3d32ce54b6e86fb3ab55b3bd071",
       "version_major": 2,
       "version_minor": 0
      },
      "text/plain": [
       "Extracting data files #3:   0%|          | 0/1 [00:00<?, ?obj/s]"
      ]
     },
     "metadata": {},
     "output_type": "display_data"
    },
    {
     "data": {
      "application/vnd.jupyter.widget-view+json": {
       "model_id": "",
       "version_major": 2,
       "version_minor": 0
      },
      "text/plain": [
       "Generating train split:   0%|          | 0/60000 [00:00<?, ? examples/s]"
      ]
     },
     "metadata": {},
     "output_type": "display_data"
    },
    {
     "data": {
      "application/vnd.jupyter.widget-view+json": {
       "model_id": "",
       "version_major": 2,
       "version_minor": 0
      },
      "text/plain": [
       "Generating test split:   0%|          | 0/10000 [00:00<?, ? examples/s]"
      ]
     },
     "metadata": {},
     "output_type": "display_data"
    },
    {
     "name": "stdout",
     "output_type": "stream",
     "text": [
      "Dataset fashion_mnist downloaded and prepared to /home/pico/.cache/huggingface/datasets/fashion_mnist/fashion_mnist/1.0.0/8d6c32399aa01613d96e2cbc9b13638f359ef62bb33612b077b4c247f6ef99c1. Subsequent calls will reuse this data.\n"
     ]
    },
    {
     "data": {
      "application/vnd.jupyter.widget-view+json": {
       "model_id": "ca18448b2e1045d4aa595e4f4a100ee7",
       "version_major": 2,
       "version_minor": 0
      },
      "text/plain": [
       "  0%|          | 0/2 [00:00<?, ?it/s]"
      ]
     },
     "metadata": {},
     "output_type": "display_data"
    },
    {
     "data": {
      "text/plain": [
       "DatasetDict({\n",
       "    train: Dataset({\n",
       "        features: ['image', 'label'],\n",
       "        num_rows: 60000\n",
       "    })\n",
       "    test: Dataset({\n",
       "        features: ['image', 'label'],\n",
       "        num_rows: 10000\n",
       "    })\n",
       "})"
      ]
     },
     "execution_count": 7,
     "metadata": {},
     "output_type": "execute_result"
    }
   ],
   "source": [
    "dsd = load_dataset(name)\n",
    "dsd"
   ]
  },
  {
   "cell_type": "code",
   "execution_count": 9,
   "id": "51ab5771",
   "metadata": {
    "ExecuteTime": {
     "end_time": "2022-11-25T10:40:29.688320Z",
     "start_time": "2022-11-25T10:40:29.672720Z"
    }
   },
   "outputs": [
    {
     "data": {
      "text/plain": [
       "{'image': <PIL.PngImagePlugin.PngImageFile image mode=L size=28x28>,\n",
       " 'label': 9}"
      ]
     },
     "execution_count": 9,
     "metadata": {},
     "output_type": "execute_result"
    }
   ],
   "source": [
    "train, test = dsd['train'], dsd['test']\n",
    "train[0]"
   ]
  },
  {
   "cell_type": "code",
   "execution_count": 12,
   "id": "e1720c5a",
   "metadata": {
    "ExecuteTime": {
     "end_time": "2022-11-25T10:41:57.838869Z",
     "start_time": "2022-11-25T10:41:57.830763Z"
    }
   },
   "outputs": [],
   "source": [
    "x, y = ds_builder.info.features"
   ]
  },
  {
   "cell_type": "code",
   "execution_count": 13,
   "id": "cb63a848",
   "metadata": {
    "ExecuteTime": {
     "end_time": "2022-11-25T10:42:06.528068Z",
     "start_time": "2022-11-25T10:42:06.514501Z"
    }
   },
   "outputs": [
    {
     "data": {
      "text/plain": [
       "('image', 'label')"
      ]
     },
     "execution_count": 13,
     "metadata": {},
     "output_type": "execute_result"
    }
   ],
   "source": [
    "x, y"
   ]
  },
  {
   "cell_type": "code",
   "execution_count": 15,
   "id": "ce2cb633",
   "metadata": {
    "ExecuteTime": {
     "end_time": "2022-11-25T10:42:49.819846Z",
     "start_time": "2022-11-25T10:42:49.805531Z"
    }
   },
   "outputs": [
    {
     "data": {
      "image/png": "[encoded data removed]",
      "text/plain": [
       "<PIL.PngImagePlugin.PngImageFile image mode=L size=28x28>"
      ]
     },
     "execution_count": 15,
     "metadata": {},
     "output_type": "execute_result"
    }
   ],
   "source": [
    "x, y = 'image', 'label'\n",
    "img = train[0][x]\n",
    "img"
   ]
  },
  {
   "cell_type": "code",
   "execution_count": 16,
   "id": "24f77346",
   "metadata": {
    "ExecuteTime": {
     "end_time": "2022-11-25T10:43:33.157730Z",
     "start_time": "2022-11-25T10:43:33.139941Z"
    }
   },
   "outputs": [
    {
     "data": {
      "text/plain": [
       "[9, 0, 0, 3, 0]"
      ]
     },
     "execution_count": 16,
     "metadata": {},
     "output_type": "execute_result"
    }
   ],
   "source": [
    "xb = train[:5][x]\n",
    "yb = train[:5][y]\n",
    "yb"
   ]
  },
  {
   "cell_type": "code",
   "execution_count": 17,
   "id": "977e095a",
   "metadata": {
    "ExecuteTime": {
     "end_time": "2022-11-25T10:44:55.567708Z",
     "start_time": "2022-11-25T10:44:55.554059Z"
    }
   },
   "outputs": [
    {
     "data": {
      "text/plain": [
       "ClassLabel(names=['T - shirt / top', 'Trouser', 'Pullover', 'Dress', 'Coat', 'Sandal', 'Shirt', 'Sneaker', 'Bag', 'Ankle boot'], id=None)"
      ]
     },
     "execution_count": 17,
     "metadata": {},
     "output_type": "execute_result"
    }
   ],
   "source": [
    "featy = train.features[y]\n",
    "featy"
   ]
  },
  {
   "cell_type": "code",
   "execution_count": 19,
   "id": "631cfe04",
   "metadata": {
    "ExecuteTime": {
     "end_time": "2022-11-25T10:46:43.152374Z",
     "start_time": "2022-11-25T10:46:43.136192Z"
    }
   },
   "outputs": [
    {
     "data": {
      "text/plain": [
       "['Ankle boot',\n",
       " 'T - shirt / top',\n",
       " 'T - shirt / top',\n",
       " 'Dress',\n",
       " 'T - shirt / top']"
      ]
     },
     "execution_count": 19,
     "metadata": {},
     "output_type": "execute_result"
    }
   ],
   "source": [
    "featy.int2str(yb)"
   ]
  },
  {
   "cell_type": "code",
   "execution_count": 24,
   "id": "0d56dafc",
   "metadata": {
    "ExecuteTime": {
     "end_time": "2022-11-25T11:04:59.695331Z",
     "start_time": "2022-11-25T11:04:59.683540Z"
    }
   },
   "outputs": [],
   "source": [
    "def collate_fn(b):\n",
    "    #import pdb; pdb.set_trace()\n",
    "    d = {x:torch.stack( [TF.to_tensor(o[x]) for o in b] ),\n",
    "        y:tensor([o[y] for o in b])}\n",
    "    return d"
   ]
  },
  {
   "cell_type": "code",
   "execution_count": 25,
   "id": "db67687e",
   "metadata": {
    "ExecuteTime": {
     "end_time": "2022-11-25T11:06:22.879762Z",
     "start_time": "2022-11-25T11:06:22.859338Z"
    }
   },
   "outputs": [
    {
     "data": {
      "text/plain": [
       "(torch.Size([16, 1, 28, 28]),\n",
       " tensor([9, 0, 0, 3, 0, 2, 7, 2, 5, 5, 0, 9, 5, 5, 7, 9]))"
      ]
     },
     "execution_count": 25,
     "metadata": {},
     "output_type": "execute_result"
    }
   ],
   "source": [
    "dl = DataLoader(train, collate_fn=collate_fn, batch_size=16)\n",
    "b = next(iter(dl))\n",
    "b[x].shape, b[y]"
   ]
  },
  {
   "cell_type": "markdown",
   "id": "e28f79c1",
   "metadata": {},
   "source": [
    "we can use transforms instead of collate_fn because DataLoader also accepts dictionaries (instead of tuples) as inputs :"
   ]
  },
  {
   "cell_type": "code",
   "execution_count": 37,
   "id": "4433c1e6",
   "metadata": {
    "ExecuteTime": {
     "end_time": "2022-11-25T11:39:14.707439Z",
     "start_time": "2022-11-25T11:39:14.698011Z"
    }
   },
   "outputs": [],
   "source": [
    "def transforms(b):\n",
    "    #import pdb; pdb.set_trace()\n",
    "    b[x] = [TF.to_tensor(o) for o in b[x]]\n",
    "    return b"
   ]
  },
  {
   "cell_type": "code",
   "execution_count": 38,
   "id": "8fd3dbd3",
   "metadata": {
    "ExecuteTime": {
     "end_time": "2022-11-25T11:39:15.406859Z",
     "start_time": "2022-11-25T11:39:15.381809Z"
    }
   },
   "outputs": [
    {
     "data": {
      "text/plain": [
       "(torch.Size([16, 1, 28, 28]),\n",
       " tensor([9, 0, 0, 3, 0, 2, 7, 2, 5, 5, 0, 9, 5, 5, 7, 9]))"
      ]
     },
     "execution_count": 38,
     "metadata": {},
     "output_type": "execute_result"
    }
   ],
   "source": [
    "tds = train.with_transform(transforms)\n",
    "dl = DataLoader(tds, batch_size=16)\n",
    "b = next(iter(dl))\n",
    "b[x].shape, b[y]"
   ]
  },
  {
   "cell_type": "code",
   "execution_count": 39,
   "id": "c09303bf",
   "metadata": {
    "ExecuteTime": {
     "end_time": "2022-11-25T11:50:23.442639Z",
     "start_time": "2022-11-25T11:50:23.437657Z"
    }
   },
   "outputs": [],
   "source": [
    "def _transformi(b): b[x] = [torch.flatten(TF.to_tensor(o)) for o in b[x]]"
   ]
  },
  {
   "cell_type": "markdown",
   "id": "317f2dd1",
   "metadata": {},
   "source": [
    "inplace fuction takes another fuction as an argument ,creates a new function that adds extra fnctionality to the argument function, and then returns the newly created function"
   ]
  },
  {
   "cell_type": "code",
   "execution_count": 40,
   "id": "937c312b",
   "metadata": {
    "ExecuteTime": {
     "end_time": "2022-11-25T11:51:36.571409Z",
     "start_time": "2022-11-25T11:51:36.561994Z"
    }
   },
   "outputs": [],
   "source": [
    "def inplace(f):\n",
    "    def _f(b):\n",
    "        f(b)\n",
    "        return b\n",
    "    return _f"
   ]
  },
  {
   "cell_type": "code",
   "execution_count": 41,
   "id": "9106dcf1",
   "metadata": {
    "ExecuteTime": {
     "end_time": "2022-11-25T11:59:48.832685Z",
     "start_time": "2022-11-25T11:59:48.825789Z"
    }
   },
   "outputs": [],
   "source": [
    "transformi = inplace(_transformi)"
   ]
  },
  {
   "cell_type": "code",
   "execution_count": 43,
   "id": "a3b0ba1b",
   "metadata": {
    "ExecuteTime": {
     "end_time": "2022-11-25T12:01:44.837413Z",
     "start_time": "2022-11-25T12:01:44.813699Z"
    }
   },
   "outputs": [
    {
     "data": {
      "text/plain": [
       "(torch.Size([784]), 9)"
      ]
     },
     "execution_count": 43,
     "metadata": {},
     "output_type": "execute_result"
    }
   ],
   "source": [
    "# with_transform is applied in _getitem__ dunder\n",
    "r= train.with_transform(transformi)[0]\n",
    "r[x].shape, r[y]"
   ]
  },
  {
   "cell_type": "markdown",
   "id": "46969950",
   "metadata": {},
   "source": [
    "decorators are the same as transformi = inplace(_transformi)"
   ]
  },
  {
   "cell_type": "code",
   "execution_count": 44,
   "id": "cd4107eb",
   "metadata": {
    "ExecuteTime": {
     "end_time": "2022-11-25T12:03:08.870617Z",
     "start_time": "2022-11-25T12:03:08.859538Z"
    }
   },
   "outputs": [],
   "source": [
    "@inplace\n",
    "def transformi(b):\n",
    "    b[x] = [torch.flatten(TF.to_tensor(o)) for o in b[x]]"
   ]
  },
  {
   "cell_type": "code",
   "execution_count": 46,
   "id": "b79b046c",
   "metadata": {
    "ExecuteTime": {
     "end_time": "2022-11-25T12:06:47.711888Z",
     "start_time": "2022-11-25T12:06:47.690429Z"
    }
   },
   "outputs": [
    {
     "data": {
      "text/plain": [
       "(torch.Size([784]), 9)"
      ]
     },
     "execution_count": 46,
     "metadata": {},
     "output_type": "execute_result"
    }
   ],
   "source": [
    "tdsf = train.with_transform(transformi)\n",
    "r = tdsf[0]\n",
    "r[x].shape, r[y]"
   ]
  },
  {
   "cell_type": "markdown",
   "id": "e91aad24",
   "metadata": {},
   "source": [
    "itemgetter returns a function that when called returns a tuple of the elements indexed by the arguments"
   ]
  },
  {
   "cell_type": "code",
   "execution_count": 47,
   "id": "7340405a",
   "metadata": {
    "ExecuteTime": {
     "end_time": "2022-11-25T12:17:40.507405Z",
     "start_time": "2022-11-25T12:17:40.492361Z"
    }
   },
   "outputs": [
    {
     "data": {
      "text/plain": [
       "(1, 3)"
      ]
     },
     "execution_count": 47,
     "metadata": {},
     "output_type": "execute_result"
    }
   ],
   "source": [
    "d = dict(a=1, b=2, c=3)\n",
    "ig = itemgetter('a', 'c')\n",
    "ig(d)"
   ]
  },
  {
   "cell_type": "code",
   "execution_count": 53,
   "id": "678297dd",
   "metadata": {
    "ExecuteTime": {
     "end_time": "2022-11-25T12:27:05.780436Z",
     "start_time": "2022-11-25T12:27:05.770857Z"
    }
   },
   "outputs": [],
   "source": [
    "class D:\n",
    "    def __getitem__(self, k): return 1 if k=='a' else 2 if k=='b' else 3"
   ]
  },
  {
   "cell_type": "code",
   "execution_count": 54,
   "id": "491346b8",
   "metadata": {
    "ExecuteTime": {
     "end_time": "2022-11-25T12:27:06.350047Z",
     "start_time": "2022-11-25T12:27:06.336777Z"
    }
   },
   "outputs": [
    {
     "data": {
      "text/plain": [
       "(1, 3)"
      ]
     },
     "execution_count": 54,
     "metadata": {},
     "output_type": "execute_result"
    }
   ],
   "source": [
    "d = D()\n",
    "ig(d)"
   ]
  },
  {
   "cell_type": "code",
   "execution_count": 55,
   "id": "7d7317e3",
   "metadata": {
    "ExecuteTime": {
     "end_time": "2022-11-25T12:27:59.350111Z",
     "start_time": "2022-11-25T12:27:59.337399Z"
    }
   },
   "outputs": [
    {
     "data": {
      "text/plain": [
       "['image', 'label']"
      ]
     },
     "execution_count": 55,
     "metadata": {},
     "output_type": "execute_result"
    }
   ],
   "source": [
    "list(tdsf.features)"
   ]
  },
  {
   "cell_type": "markdown",
   "id": "3f7519b3",
   "metadata": {},
   "source": [
    "torch has a default_collate function. With dictionaries, it takes the matching keys, grabs their values and stacks them together"
   ]
  },
  {
   "cell_type": "code",
   "execution_count": 57,
   "id": "8f0801e5",
   "metadata": {
    "ExecuteTime": {
     "end_time": "2022-11-25T12:33:03.379864Z",
     "start_time": "2022-11-25T12:33:03.364096Z"
    }
   },
   "outputs": [
    {
     "data": {
      "text/plain": [
       "{'a': [tensor([1, 3])], 'b': [tensor([2, 4])]}"
      ]
     },
     "execution_count": 57,
     "metadata": {},
     "output_type": "execute_result"
    }
   ],
   "source": [
    "batch = dict(a=[1],b=[2]), dict(a=[3],b=[4])\n",
    "default_collate(batch)"
   ]
  },
  {
   "cell_type": "markdown",
   "id": "9c3abcdd",
   "metadata": {},
   "source": [
    "collate_dict returns a function that takes a batch of dictionaries and collates it into a tuple"
   ]
  },
  {
   "cell_type": "code",
   "execution_count": 66,
   "id": "b6fccacc",
   "metadata": {
    "ExecuteTime": {
     "end_time": "2022-11-25T12:54:24.310108Z",
     "start_time": "2022-11-25T12:54:24.300207Z"
    }
   },
   "outputs": [],
   "source": [
    "def collate_dict(ds):\n",
    "    get = itemgetter(*ds.features)\n",
    "    def _f(b):\n",
    "        return get(default_collate(b))\n",
    "    return _f"
   ]
  },
  {
   "cell_type": "code",
   "execution_count": 67,
   "id": "3a39de34",
   "metadata": {
    "ExecuteTime": {
     "end_time": "2022-11-25T12:54:24.741315Z",
     "start_time": "2022-11-25T12:54:24.729490Z"
    }
   },
   "outputs": [
    {
     "data": {
      "text/plain": [
       "(torch.Size([4, 784]), tensor([9, 0, 0, 3]))"
      ]
     },
     "execution_count": 67,
     "metadata": {},
     "output_type": "execute_result"
    }
   ],
   "source": [
    "dlf = DataLoader(tdsf, batch_size=4, collate_fn=collate_dict(tdsf))\n",
    "xb, yb = next(iter(dlf))\n",
    "xb.shape, yb"
   ]
  },
  {
   "cell_type": "markdown",
   "id": "50e8d946",
   "metadata": {
    "ExecuteTime": {
     "end_time": "2022-11-28T11:03:38.166402Z",
     "start_time": "2022-11-28T11:03:38.158205Z"
    }
   },
   "source": [
    "## Plotting images"
   ]
  },
  {
   "cell_type": "code",
   "execution_count": 69,
   "id": "1252e5b4",
   "metadata": {
    "ExecuteTime": {
     "end_time": "2022-11-28T11:06:01.388313Z",
     "start_time": "2022-11-28T11:06:01.290219Z"
    }
   },
   "outputs": [
    {
     "data": {
      "image/png": "[encoded data removed]",
      "text/plain": [
       "<Figure size 432x288 with 1 Axes>"
      ]
     },
     "metadata": {
      "needs_background": "light"
     },
     "output_type": "display_data"
    }
   ],
   "source": [
    "b = next(iter(dl))\n",
    "xb = b['image']\n",
    "img = xb[0]\n",
    "plt.imshow(img[0]);"
   ]
  },
  {
   "cell_type": "code",
   "execution_count": null,
   "id": "16a53c20",
   "metadata": {
    "ExecuteTime": {
     "end_time": "2022-11-28T11:27:31.024632Z",
     "start_time": "2022-11-28T11:27:31.013577Z"
    }
   },
   "outputs": [],
   "source": []
  },
  {
   "cell_type": "code",
   "execution_count": null,
   "id": "f1b43077",
   "metadata": {
    "ExecuteTime": {
     "end_time": "2022-11-28T11:38:44.634650Z",
     "start_time": "2022-11-28T11:38:44.615060Z"
    }
   },
   "outputs": [],
   "source": []
  },
  {
   "cell_type": "code",
   "execution_count": null,
   "id": "1e6b373a",
   "metadata": {
    "ExecuteTime": {
     "end_time": "2022-11-28T11:44:42.793442Z",
     "start_time": "2022-11-28T11:44:42.784819Z"
    }
   },
   "outputs": [],
   "source": []
  },
  {
   "cell_type": "code",
   "execution_count": null,
   "id": "811f9254",
   "metadata": {
    "ExecuteTime": {
     "end_time": "2022-11-28T11:38:45.661587Z",
     "start_time": "2022-11-28T11:38:45.597448Z"
    }
   },
   "outputs": [],
   "source": []
  },
  {
   "cell_type": "code",
   "execution_count": null,
   "id": "0bdd519b",
   "metadata": {
    "ExecuteTime": {
     "end_time": "2022-11-28T11:39:58.750354Z",
     "start_time": "2022-11-28T11:39:58.685413Z"
    }
   },
   "outputs": [],
   "source": []
  },
  {
   "cell_type": "code",
   "execution_count": null,
   "id": "a0aa63b3",
   "metadata": {},
   "outputs": [],
   "source": [
    "\n",
    "    "
   ]
  },
  {
   "cell_type": "code",
   "execution_count": null,
   "id": "ca32367f",
   "metadata": {},
   "outputs": [],
   "source": []
  }
 ],
 "metadata": {
  "kernelspec": {
   "display_name": "Python [conda env:fai] *",
   "language": "python",
   "name": "conda-env-fai-py"
  },
  "language_info": {
   "codemirror_mode": {
    "name": "ipython",
    "version": 3
   },
   "file_extension": ".py",
   "mimetype": "text/x-python",
   "name": "python",
   "nbconvert_exporter": "python",
   "pygments_lexer": "ipython3",
   "version": "3.10.4"
  },
  "varInspector": {
   "cols": {
    "lenName": 16,
    "lenType": 16,
    "lenVar": 40
   },
   "kernels_config": {
    "python": {
     "delete_cmd_postfix": "",
     "delete_cmd_prefix": "del ",
     "library": "var_list.py",
     "varRefreshCmd": "print(var_dic_list())"
    },
    "r": {
     "delete_cmd_postfix": ") ",
     "delete_cmd_prefix": "rm(",
     "library": "var_list.r",
     "varRefreshCmd": "cat(var_dic_list()) "
    }
   },
   "types_to_exclude": [
    "module",
    "function",
    "builtin_function_or_method",
    "instance",
    "_Feature"
   ],
   "window_display": false
  }
 },
 "nbformat": 4,
 "nbformat_minor": 5
}
