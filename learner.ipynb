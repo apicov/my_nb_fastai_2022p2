{
 "cells": [
  {
   "cell_type": "code",
   "execution_count": 87,
   "id": "a5a9a560",
   "metadata": {
    "ExecuteTime": {
     "end_time": "2022-12-07T16:06:10.018792Z",
     "start_time": "2022-12-07T16:06:10.015087Z"
    }
   },
   "outputs": [],
   "source": [
    "import pickle,gzip,math,os,time,shutil,torch,matplotlib as mpl,numpy as np,matplotlib.pyplot as plt\n",
    "import fastcore.all as fc\n",
    "from collections.abc import Mapping\n",
    "from pathlib import Path\n",
    "from operator import attrgetter,itemgetter\n",
    "from functools import partial\n",
    "from copy import copy\n",
    "from contextlib import contextmanager\n",
    "\n",
    "from torch import tensor,nn,optim\n",
    "from torch.utils.data import DataLoader,default_collate\n",
    "import torch.nn.functional as F\n",
    "import torchvision.transforms.functional as TF\n",
    "from datasets import load_dataset,load_dataset_builder\n",
    "\n",
    "from miniai.datasets import *\n",
    "from miniai.conv import *\n",
    "\n",
    "from fastprogress import progress_bar,master_bar\n",
    "\n"
   ]
  },
  {
   "cell_type": "code",
   "execution_count": 2,
   "id": "0eb9b4fd",
   "metadata": {
    "ExecuteTime": {
     "end_time": "2022-12-06T14:10:46.144435Z",
     "start_time": "2022-12-06T14:10:46.140606Z"
    }
   },
   "outputs": [],
   "source": [
    "from fastcore.test import test_close\n",
    "\n",
    "torch.set_printoptions(precision=2, linewidth=140, sci_mode=False)\n",
    "torch.manual_seed(1)\n",
    "mpl.rcParams['image.cmap'] = 'gray'\n",
    "\n",
    "import logging\n",
    "logging.disable(logging.WARNING)"
   ]
  },
  {
   "cell_type": "markdown",
   "id": "db5803bd",
   "metadata": {
    "ExecuteTime": {
     "end_time": "2022-11-30T10:28:07.764026Z",
     "start_time": "2022-11-30T10:28:07.749453Z"
    }
   },
   "source": [
    "## Learner"
   ]
  },
  {
   "cell_type": "code",
   "execution_count": 3,
   "id": "9e8ffea8",
   "metadata": {
    "ExecuteTime": {
     "end_time": "2022-12-06T14:10:49.701143Z",
     "start_time": "2022-12-06T14:10:46.146238Z"
    }
   },
   "outputs": [
    {
     "data": {
      "application/vnd.jupyter.widget-view+json": {
       "model_id": "ec97ddff59b64f9197d824efd2b72eef",
       "version_major": 2,
       "version_minor": 0
      },
      "text/plain": [
       "  0%|          | 0/2 [00:00<?, ?it/s]"
      ]
     },
     "metadata": {},
     "output_type": "display_data"
    }
   ],
   "source": [
    "x , y = 'image', 'label'\n",
    "name = \"fashion_mnist\"\n",
    "dsd = load_dataset(name)"
   ]
  },
  {
   "cell_type": "code",
   "execution_count": 4,
   "id": "47deae1b",
   "metadata": {
    "ExecuteTime": {
     "end_time": "2022-12-06T14:10:49.706397Z",
     "start_time": "2022-12-06T14:10:49.703340Z"
    }
   },
   "outputs": [],
   "source": [
    "@inplace\n",
    "def transformi(b): b[x] = [torch.flatten(TF.to_tensor(o)) for o in b[x]]"
   ]
  },
  {
   "cell_type": "code",
   "execution_count": 5,
   "id": "7d646be1",
   "metadata": {
    "ExecuteTime": {
     "end_time": "2022-12-06T14:10:49.714820Z",
     "start_time": "2022-12-06T14:10:49.708720Z"
    }
   },
   "outputs": [],
   "source": [
    "bs = 1024\n",
    "tds = dsd.with_transform(transformi)"
   ]
  },
  {
   "cell_type": "code",
   "execution_count": 6,
   "id": "39496b24",
   "metadata": {
    "ExecuteTime": {
     "end_time": "2022-12-06T14:10:49.719066Z",
     "start_time": "2022-12-06T14:10:49.715906Z"
    }
   },
   "outputs": [],
   "source": [
    "class DataLoaders:\n",
    "    def __init__(self, *dls):\n",
    "        self.train, self.valid = dls[:2]\n",
    "    \n",
    "    @classmethod\n",
    "    def from_dd(cls, dd, batch_size, as_tuple=True):\n",
    "        '''from dataset dictionary'''\n",
    "        return cls(*[DataLoader(ds, batch_size, num_workers=4, collate_fn=collate_dict(ds)) for ds in dd.values()])"
   ]
  },
  {
   "cell_type": "code",
   "execution_count": 7,
   "id": "ecb8d479",
   "metadata": {
    "ExecuteTime": {
     "end_time": "2022-12-06T14:10:50.295321Z",
     "start_time": "2022-12-06T14:10:49.721121Z"
    }
   },
   "outputs": [
    {
     "data": {
      "text/plain": [
       "(torch.Size([1024, 784]), tensor([9, 0, 0, 3, 0, 2, 7, 2, 5, 5]))"
      ]
     },
     "execution_count": 7,
     "metadata": {},
     "output_type": "execute_result"
    }
   ],
   "source": [
    "dls = DataLoaders.from_dd(tds, bs)\n",
    "dt = dls.train\n",
    "xb, yb =next(iter(dt))\n",
    "xb.shape, yb[:10]"
   ]
  },
  {
   "cell_type": "code",
   "execution_count": 8,
   "id": "46eec9d2",
   "metadata": {
    "ExecuteTime": {
     "end_time": "2022-12-06T14:10:50.303292Z",
     "start_time": "2022-12-06T14:10:50.296850Z"
    }
   },
   "outputs": [],
   "source": [
    "#|export\n",
    "class Learner:\n",
    "    def __init__(self, model, dls, loss_func, lr, opt_func=optim.SGD): fc.store_attr()\n",
    "\n",
    "    def one_batch(self):\n",
    "        self.xb,self.yb = to_device(self.batch)\n",
    "        self.preds = self.model(self.xb)\n",
    "        self.loss = self.loss_func(self.preds, self.yb)\n",
    "        if self.model.training:\n",
    "            self.loss.backward()\n",
    "            self.opt.step()\n",
    "            self.opt.zero_grad()\n",
    "        with torch.no_grad(): self.calc_stats()\n",
    "    \n",
    "    def calc_stats(self):\n",
    "        acc = (self.preds.argmax(dim=1)==self.yb).float().sum()\n",
    "        self.accs.append(acc)\n",
    "        n = len(self.xb)\n",
    "        self.losses.append(self.loss*n)\n",
    "        self.ns.append(n)\n",
    "\n",
    "    def one_epoch(self, train):\n",
    "        self.accs,self.losses,self.ns = [],[],[]\n",
    "        self.model.training = train\n",
    "        dl = self.dls.train if train else self.dls.valid\n",
    "        for self.num,self.batch in enumerate(dl): self.one_batch()\n",
    "        n = sum(self.ns)\n",
    "        print(self.epoch, self.model.training, sum(self.losses).item()/n, sum(self.accs).item()/n)\n",
    "    \n",
    "    def fit(self, n_epochs):\n",
    "        #self.accs,self.losses,self.ns = [],[],[]\n",
    "        self.model.to(def_device)\n",
    "        self.opt = self.opt_func(self.model.parameters(), self.lr)\n",
    "        self.n_epochs = n_epochs\n",
    "        for self.epoch in range(n_epochs):\n",
    "            self.one_epoch(True)\n",
    "            self.one_epoch(False)"
   ]
  },
  {
   "cell_type": "code",
   "execution_count": 9,
   "id": "cb6592da",
   "metadata": {
    "ExecuteTime": {
     "end_time": "2022-12-06T14:10:50.310496Z",
     "start_time": "2022-12-06T14:10:50.307112Z"
    }
   },
   "outputs": [],
   "source": [
    "m,nh = 28*28,50\n",
    "model = nn.Sequential(nn.Linear(m,nh), nn.ReLU(), nn.Linear(nh,10))"
   ]
  },
  {
   "cell_type": "code",
   "execution_count": 10,
   "id": "99d5937a",
   "metadata": {
    "ExecuteTime": {
     "end_time": "2022-12-06T14:10:57.430728Z",
     "start_time": "2022-12-06T14:10:50.311838Z"
    }
   },
   "outputs": [
    {
     "name": "stdout",
     "output_type": "stream",
     "text": [
      "0 True 1.1852178385416667 0.5956333333333333\n",
      "0 False 0.8332626953125 0.6878\n"
     ]
    }
   ],
   "source": [
    "learn = Learner(model, dls, F.cross_entropy, lr=0.2)\n",
    "learn.fit(1)"
   ]
  },
  {
   "cell_type": "markdown",
   "id": "4f998a00",
   "metadata": {},
   "source": [
    "## Basic callbacks learner"
   ]
  },
  {
   "cell_type": "code",
   "execution_count": 44,
   "id": "b589530b",
   "metadata": {
    "ExecuteTime": {
     "end_time": "2022-12-06T16:42:52.119712Z",
     "start_time": "2022-12-06T16:42:52.111440Z"
    }
   },
   "outputs": [],
   "source": [
    "class CancelFitException(Exception): pass\n",
    "class CancelBatchException(Exception): pass\n",
    "class CancelEpochException(Exception): pass"
   ]
  },
  {
   "cell_type": "code",
   "execution_count": 45,
   "id": "c1f8f27f",
   "metadata": {
    "ExecuteTime": {
     "end_time": "2022-12-06T16:42:53.107429Z",
     "start_time": "2022-12-06T16:42:53.103015Z"
    }
   },
   "outputs": [],
   "source": [
    "def run_cbs(cbs, method_nm):\n",
    "    for cb in sorted(cbs, key=attrgetter('order')):\n",
    "        method = getattr(cb, method_nm, None)\n",
    "        if method is not None:\n",
    "            method()"
   ]
  },
  {
   "cell_type": "code",
   "execution_count": 46,
   "id": "825f3c8e",
   "metadata": {
    "ExecuteTime": {
     "end_time": "2022-12-06T16:42:54.070415Z",
     "start_time": "2022-12-06T16:42:54.066251Z"
    }
   },
   "outputs": [],
   "source": [
    "class Callback():\n",
    "    order = 0"
   ]
  },
  {
   "cell_type": "code",
   "execution_count": 47,
   "id": "e10f5508",
   "metadata": {
    "ExecuteTime": {
     "end_time": "2022-12-06T16:42:55.026512Z",
     "start_time": "2022-12-06T16:42:55.024121Z"
    }
   },
   "outputs": [],
   "source": [
    "class CompletionCB(Callback):\n",
    "    def before_fit(self): self.count = 0\n",
    "    def after_batch(self): self.count += 1\n",
    "    def after_fit(self): print(f'completed {self.count} batches')"
   ]
  },
  {
   "cell_type": "code",
   "execution_count": 48,
   "id": "34f4fcdf",
   "metadata": {
    "ExecuteTime": {
     "end_time": "2022-12-06T16:42:55.848295Z",
     "start_time": "2022-12-06T16:42:55.838136Z"
    }
   },
   "outputs": [
    {
     "name": "stdout",
     "output_type": "stream",
     "text": [
      "completed 1 batches\n"
     ]
    }
   ],
   "source": [
    "cbs = [CompletionCB()]\n",
    "run_cbs(cbs, 'before_fit')\n",
    "run_cbs(cbs, 'after_batch')\n",
    "run_cbs(cbs, 'after_fit')"
   ]
  },
  {
   "cell_type": "code",
   "execution_count": 55,
   "id": "6e8a55a8",
   "metadata": {
    "ExecuteTime": {
     "end_time": "2022-12-06T16:52:18.897745Z",
     "start_time": "2022-12-06T16:52:18.883609Z"
    }
   },
   "outputs": [],
   "source": [
    "class Learner():\n",
    "    def __init__(self, model, dls, loss_func, lr, cbs, opt_func = optim.SGD):\n",
    "        fc.store_attr()\n",
    "        for cb in cbs: cb.learn = self\n",
    "    \n",
    "    def one_batch(self):\n",
    "        self.preds = self.model(self.batch[0])\n",
    "        self.loss = self.loss_func(self.preds, self.batch[1])\n",
    "        if self.model.training:\n",
    "            self.loss.backward()\n",
    "            self.opt.step()\n",
    "            self.opt.zero_grad()\n",
    "            \n",
    "    def one_epoch(self, train):\n",
    "        self.model.train(train)\n",
    "        self.dl = self.dls.train if train else self.dls.valid\n",
    "        try:\n",
    "            self.callback('before_epoch')\n",
    "            for self.iter,self.batch in enumerate(self.dl):\n",
    "                try:\n",
    "                    self.callback('before_batch')\n",
    "                    self.one_batch()\n",
    "                    self.callback('after_batch')\n",
    "                except CancelBatchException: pass\n",
    "            self.callback('after_epoch')\n",
    "        except CancelEpochException: pass\n",
    "        \n",
    "    def fit(self, n_epochs):\n",
    "        self.n_epochs =  n_epochs\n",
    "        self.epochs = range(n_epochs)\n",
    "        self.opt = self.opt_func(self.model.parameters(), self.lr)\n",
    "        try:\n",
    "            self.callback('before_fit')\n",
    "            for self.epoch in self.epochs:\n",
    "                self.one_epoch(True)\n",
    "                self.one_epoch(False)\n",
    "            self.callback('after_fit')\n",
    "        except CancelFitException: pass\n",
    "        \n",
    "    def callback(self, method_nm):\n",
    "        run_cbs(self.cbs, method_nm)"
   ]
  },
  {
   "cell_type": "code",
   "execution_count": 56,
   "id": "c1427be4",
   "metadata": {
    "ExecuteTime": {
     "end_time": "2022-12-06T16:52:19.181127Z",
     "start_time": "2022-12-06T16:52:19.173691Z"
    }
   },
   "outputs": [],
   "source": [
    "m, nh = 28*28, 50\n",
    "\n",
    "def get_model():\n",
    "    return nn.Sequential(nn.Linear(m, nh), nn.ReLU(), nn.Linear(nh, 10))"
   ]
  },
  {
   "cell_type": "code",
   "execution_count": 57,
   "id": "427bdf97",
   "metadata": {
    "ExecuteTime": {
     "end_time": "2022-12-06T16:52:23.865913Z",
     "start_time": "2022-12-06T16:52:19.505412Z"
    }
   },
   "outputs": [
    {
     "name": "stdout",
     "output_type": "stream",
     "text": [
      "completed 69 batches\n"
     ]
    }
   ],
   "source": [
    "model = get_model()\n",
    "learn = Learner(model, dls, F.cross_entropy, lr=0.2, cbs=[CompletionCB()])\n",
    "learn.fit(1)"
   ]
  },
  {
   "cell_type": "code",
   "execution_count": 66,
   "id": "09b77abd",
   "metadata": {
    "ExecuteTime": {
     "end_time": "2022-12-06T17:04:04.859359Z",
     "start_time": "2022-12-06T17:04:04.853810Z"
    }
   },
   "outputs": [],
   "source": [
    "class SingleBatchCallback(Callback):\n",
    "    order = 1\n",
    "    def after_batch(self): \n",
    "        raise CancelEpochException()"
   ]
  },
  {
   "cell_type": "code",
   "execution_count": 67,
   "id": "9edd4c80",
   "metadata": {
    "ExecuteTime": {
     "end_time": "2022-12-06T17:04:06.327401Z",
     "start_time": "2022-12-06T17:04:05.143168Z"
    }
   },
   "outputs": [
    {
     "name": "stdout",
     "output_type": "stream",
     "text": [
      "completed 2 batches\n"
     ]
    }
   ],
   "source": [
    "learn = Learner(get_model(), dls, F.cross_entropy, lr=0.2, cbs=[SingleBatchCallback(), CompletionCB()])\n",
    "learn.fit(1)"
   ]
  },
  {
   "cell_type": "markdown",
   "id": "5304f628",
   "metadata": {
    "ExecuteTime": {
     "end_time": "2022-11-30T11:42:22.693614Z",
     "start_time": "2022-11-30T11:42:22.668110Z"
    }
   },
   "source": [
    "## Metrics"
   ]
  },
  {
   "cell_type": "code",
   "execution_count": 68,
   "id": "4189513a",
   "metadata": {
    "ExecuteTime": {
     "end_time": "2022-12-06T17:25:28.861647Z",
     "start_time": "2022-12-06T17:25:28.846455Z"
    }
   },
   "outputs": [],
   "source": [
    "class Metric:\n",
    "    def __init__(self):\n",
    "      self.reset()\n",
    "    def reset(self):\n",
    "        self.vals, self.ns = [], []\n",
    "    def add(self, inp, targ=None, n=1):\n",
    "        self.last = self.calc(inp, targ)\n",
    "        self.vals.append(self.last)\n",
    "        self.ns.append(n)\n",
    "    @property\n",
    "    def value(self):\n",
    "        ns = tensor(self.ns)\n",
    "        return (tensor(self.vals)*ns).sum()/ns.sum()\n",
    "    def calc(self, inps, targs):\n",
    "        return inps"
   ]
  },
  {
   "cell_type": "code",
   "execution_count": 69,
   "id": "5fcf8c22",
   "metadata": {
    "ExecuteTime": {
     "end_time": "2022-12-06T17:25:29.562675Z",
     "start_time": "2022-12-06T17:25:29.557852Z"
    }
   },
   "outputs": [],
   "source": [
    "class Accuracy(Metric):\n",
    "    def calc(self, inps, targs):\n",
    "        return (inps==targs).float().mean()"
   ]
  },
  {
   "cell_type": "code",
   "execution_count": 70,
   "id": "983bf21a",
   "metadata": {
    "ExecuteTime": {
     "end_time": "2022-12-06T17:25:30.004552Z",
     "start_time": "2022-12-06T17:25:29.993590Z"
    }
   },
   "outputs": [
    {
     "data": {
      "text/plain": [
       "tensor(0.45)"
      ]
     },
     "execution_count": 70,
     "metadata": {},
     "output_type": "execute_result"
    }
   ],
   "source": [
    "acc = Accuracy()\n",
    "acc.add(tensor([0,1,2,0,1,2]), tensor([0,1,1,2,1,0]))\n",
    "acc.add(tensor([1,1,2,0,1]), tensor([0,1,1,2,1]))\n",
    "acc.value"
   ]
  },
  {
   "cell_type": "code",
   "execution_count": 71,
   "id": "b83413e3",
   "metadata": {
    "ExecuteTime": {
     "end_time": "2022-12-06T17:25:30.571798Z",
     "start_time": "2022-12-06T17:25:30.555299Z"
    }
   },
   "outputs": [
    {
     "data": {
      "text/plain": [
       "(tensor(0.62), 0.62)"
      ]
     },
     "execution_count": 71,
     "metadata": {},
     "output_type": "execute_result"
    }
   ],
   "source": [
    "loss = Metric()\n",
    "loss.add(0.6, n=32)\n",
    "loss.add(0.9, n=2)\n",
    "loss.value, round((0.6*32+0.9*2)/(32+2), 2)"
   ]
  },
  {
   "cell_type": "markdown",
   "id": "5b780cad",
   "metadata": {
    "ExecuteTime": {
     "end_time": "2022-12-07T14:31:25.989906Z",
     "start_time": "2022-12-07T14:31:25.984071Z"
    }
   },
   "source": [
    "## Some callbacks"
   ]
  },
  {
   "cell_type": "code",
   "execution_count": 76,
   "id": "8d9e0637",
   "metadata": {
    "ExecuteTime": {
     "end_time": "2022-12-07T14:38:16.449407Z",
     "start_time": "2022-12-07T14:38:16.443433Z"
    }
   },
   "outputs": [],
   "source": [
    "class DeviceCB(Callback):\n",
    "    def __init__(self, device=def_device):\n",
    "        fc.store_attr()\n",
    "    def before_fit(self):\n",
    "        self.learn.model.to(self.device)\n",
    "    def before_batch(self):\n",
    "        self.learn.batch = to_device(self.learn.batch, device=self.device)"
   ]
  },
  {
   "cell_type": "markdown",
   "id": "7c50bb8d",
   "metadata": {
    "ExecuteTime": {
     "end_time": "2022-12-07T14:44:03.280012Z",
     "start_time": "2022-12-07T14:44:03.275066Z"
    }
   },
   "source": [
    "### using torcheval metrics package (pip install torcheval)"
   ]
  },
  {
   "cell_type": "code",
   "execution_count": 78,
   "id": "61c72e3f",
   "metadata": {
    "ExecuteTime": {
     "end_time": "2022-12-07T14:45:45.818764Z",
     "start_time": "2022-12-07T14:45:45.686439Z"
    }
   },
   "outputs": [],
   "source": [
    "from torcheval.metrics import MulticlassAccuracy, Mean"
   ]
  },
  {
   "cell_type": "code",
   "execution_count": 79,
   "id": "f021f637",
   "metadata": {
    "ExecuteTime": {
     "end_time": "2022-12-07T14:47:45.902321Z",
     "start_time": "2022-12-07T14:47:45.827371Z"
    }
   },
   "outputs": [
    {
     "data": {
      "text/plain": [
       "tensor(0.50)"
      ]
     },
     "execution_count": 79,
     "metadata": {},
     "output_type": "execute_result"
    }
   ],
   "source": [
    "metric = MulticlassAccuracy()\n",
    "metric.update(tensor([0 ,2, 1, 3]), tensor([0, 1, 2, 3]))\n",
    "metric.compute()"
   ]
  },
  {
   "cell_type": "code",
   "execution_count": 80,
   "id": "5ebdec4e",
   "metadata": {
    "ExecuteTime": {
     "end_time": "2022-12-07T14:50:10.072134Z",
     "start_time": "2022-12-07T14:50:10.053376Z"
    }
   },
   "outputs": [
    {
     "data": {
      "text/plain": [
       "tensor(nan)"
      ]
     },
     "execution_count": 80,
     "metadata": {},
     "output_type": "execute_result"
    }
   ],
   "source": [
    "metric.reset()\n",
    "metric.compute()"
   ]
  },
  {
   "cell_type": "code",
   "execution_count": 92,
   "id": "57a7c0b7",
   "metadata": {
    "ExecuteTime": {
     "end_time": "2022-12-07T16:23:49.259116Z",
     "start_time": "2022-12-07T16:23:49.248197Z"
    }
   },
   "outputs": [],
   "source": [
    "def to_cpu(x):\n",
    "    if isinstance(x, Mapping): return {k:to_cpu(v) for k,v in x.items()}\n",
    "    if isinstance(x, list): return [to_cpu(o) for o in x]\n",
    "    if isinstance(x, tuple): return tuple(to_cpu(list(x)))\n",
    "    return x.detach().cpu()"
   ]
  },
  {
   "cell_type": "code",
   "execution_count": 95,
   "id": "416f41fa",
   "metadata": {
    "ExecuteTime": {
     "end_time": "2022-12-07T16:48:07.847657Z",
     "start_time": "2022-12-07T16:48:07.827082Z"
    }
   },
   "outputs": [],
   "source": [
    "class MetricsCB(Callback):\n",
    "    def __init__(self, *ms, **metrics):\n",
    "        for o in ms:\n",
    "            #if there are arguments in ms we add them to metrics dictionary. \n",
    "            #we use the object type as key for the dict.\n",
    "            metrics[type(o).__name__] = o\n",
    "        self.metrics = metrics\n",
    "        self.all_metrics = copy(metrics)\n",
    "        self.all_metrics['loss'] = self.loss = Mean()\n",
    "        \n",
    "    def _log(self, d): \n",
    "        print(d)\n",
    "        \n",
    "    def before_fit(self):\n",
    "        self.learn.metrics = self\n",
    "    \n",
    "    def before_epoch(self):\n",
    "        [o.reset() for o in self.all_metrics.values()]\n",
    "    \n",
    "    def after_epoch(self):\n",
    "        log = {k:f'{v.compute()}:.3f' for k,v in self.all_metrics.items()}\n",
    "        log['epoch'] = self.learn.epoch\n",
    "        log['train'] = self.learn.model.training\n",
    "        self._log(log)\n",
    "        \n",
    "    def after_batch(self):\n",
    "        x, y = to_cpu(self.learn.batch)\n",
    "        for m in self.metrics.values():\n",
    "            m.update(to_cpu(self.learn.preds), y)\n",
    "        self.loss.update(to_cpu(self.learn.loss), weight=len(x))"
   ]
  },
  {
   "cell_type": "code",
   "execution_count": 97,
   "id": "99b54f61",
   "metadata": {
    "ExecuteTime": {
     "end_time": "2022-12-07T16:48:48.445855Z",
     "start_time": "2022-12-07T16:48:27.217156Z"
    }
   },
   "outputs": [
    {
     "name": "stdout",
     "output_type": "stream",
     "text": [
      "{'accuracy': '0.5989166498184204:.3f', 'loss': '1.1985833644866943:.3f', 'epoch': 0, 'train': True}\n",
      "{'accuracy': '0.6873999834060669:.3f', 'loss': '0.8357239961624146:.3f', 'epoch': 0, 'train': False}\n",
      "{'accuracy': '0.7438666820526123:.3f', 'loss': '0.7178865671157837:.3f', 'epoch': 1, 'train': True}\n",
      "{'accuracy': '0.7598000168800354:.3f', 'loss': '0.6535628437995911:.3f', 'epoch': 1, 'train': False}\n",
      "{'accuracy': '0.7845166921615601:.3f', 'loss': '0.6146935820579529:.3f', 'epoch': 2, 'train': True}\n",
      "{'accuracy': '0.7857999801635742:.3f', 'loss': '0.5967615246772766:.3f', 'epoch': 2, 'train': False}\n",
      "{'accuracy': '0.8023666739463806:.3f', 'loss': '0.5637335181236267:.3f', 'epoch': 3, 'train': True}\n",
      "{'accuracy': '0.8082000017166138:.3f', 'loss': '0.547622561454773:.3f', 'epoch': 3, 'train': False}\n",
      "{'accuracy': '0.8141000270843506:.3f', 'loss': '0.5293701887130737:.3f', 'epoch': 4, 'train': True}\n",
      "{'accuracy': '0.8209999799728394:.3f', 'loss': '0.5174703001976013:.3f', 'epoch': 4, 'train': False}\n"
     ]
    }
   ],
   "source": [
    "model = get_model()\n",
    "metrics = MetricsCB(accuracy = MulticlassAccuracy())\n",
    "learn = Learner(model, dls, F.cross_entropy, lr=0.2, cbs=[DeviceCB(), metrics])\n",
    "learn.fit(5)"
   ]
  },
  {
   "cell_type": "code",
   "execution_count": null,
   "id": "7fb3ae59",
   "metadata": {},
   "outputs": [],
   "source": []
  }
 ],
 "metadata": {
  "kernelspec": {
   "display_name": "Python [conda env:fai] *",
   "language": "python",
   "name": "conda-env-fai-py"
  },
  "language_info": {
   "codemirror_mode": {
    "name": "ipython",
    "version": 3
   },
   "file_extension": ".py",
   "mimetype": "text/x-python",
   "name": "python",
   "nbconvert_exporter": "python",
   "pygments_lexer": "ipython3",
   "version": "3.10.4"
  },
  "varInspector": {
   "cols": {
    "lenName": 16,
    "lenType": 16,
    "lenVar": 40
   },
   "kernels_config": {
    "python": {
     "delete_cmd_postfix": "",
     "delete_cmd_prefix": "del ",
     "library": "var_list.py",
     "varRefreshCmd": "print(var_dic_list())"
    },
    "r": {
     "delete_cmd_postfix": ") ",
     "delete_cmd_prefix": "rm(",
     "library": "var_list.r",
     "varRefreshCmd": "cat(var_dic_list()) "
    }
   },
   "types_to_exclude": [
    "module",
    "function",
    "builtin_function_or_method",
    "instance",
    "_Feature"
   ],
   "window_display": false
  }
 },
 "nbformat": 4,
 "nbformat_minor": 5
}
