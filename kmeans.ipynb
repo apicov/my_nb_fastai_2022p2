{
 "cells": [
  {
   "cell_type": "markdown",
   "id": "86c670b8",
   "metadata": {
    "ExecuteTime": {
     "end_time": "2022-11-03T11:01:35.757243Z",
     "start_time": "2022-11-03T11:01:35.746818Z"
    }
   },
   "source": [
    "## clustering"
   ]
  },
  {
   "cell_type": "code",
   "execution_count": 236,
   "id": "23d1b026",
   "metadata": {
    "ExecuteTime": {
     "end_time": "2022-11-10T15:21:05.177047Z",
     "start_time": "2022-11-10T15:21:05.165430Z"
    }
   },
   "outputs": [],
   "source": [
    "import math, matplotlib.pyplot as plt, operator, torch\n",
    "from functools import partial\n",
    "torch.manual_seed(42);\n",
    "torch.set_printoptions(precision=3, linewidth=140, sci_mode=False)\n",
    "from  torch.utils.data import WeightedRandomSampler"
   ]
  },
  {
   "cell_type": "markdown",
   "id": "14fac012",
   "metadata": {},
   "source": [
    "## Create data"
   ]
  },
  {
   "cell_type": "code",
   "execution_count": 141,
   "id": "e879736b",
   "metadata": {
    "ExecuteTime": {
     "end_time": "2022-11-09T16:50:23.648479Z",
     "start_time": "2022-11-09T16:50:23.641351Z"
    }
   },
   "outputs": [],
   "source": [
    "n_clusters = 6\n",
    "n_samples = 250"
   ]
  },
  {
   "cell_type": "code",
   "execution_count": 142,
   "id": "e09eb337",
   "metadata": {
    "ExecuteTime": {
     "end_time": "2022-11-09T16:50:23.927718Z",
     "start_time": "2022-11-09T16:50:23.913105Z"
    }
   },
   "outputs": [
    {
     "data": {
      "text/plain": [
       "tensor([[ 26.759,  29.050],\n",
       "        [ -8.200,  32.151],\n",
       "        [ -7.669,   7.063],\n",
       "        [-17.040,  20.555],\n",
       "        [ 30.854, -25.677],\n",
       "        [ 30.422,   6.551]])"
      ]
     },
     "execution_count": 142,
     "metadata": {},
     "output_type": "execute_result"
    }
   ],
   "source": [
    "centroids = torch.rand(n_clusters, 2)*70-35\n",
    "centroids"
   ]
  },
  {
   "cell_type": "code",
   "execution_count": 143,
   "id": "c4c6131a",
   "metadata": {
    "ExecuteTime": {
     "end_time": "2022-11-09T16:50:24.747831Z",
     "start_time": "2022-11-09T16:50:24.744589Z"
    }
   },
   "outputs": [],
   "source": [
    "from torch.distributions.multivariate_normal import MultivariateNormal\n",
    "from torch import tensor\n",
    "\n",
    "def sample(m): return MultivariateNormal(m, torch.diag(tensor([5.,5.]))).sample((n_samples,))"
   ]
  },
  {
   "cell_type": "code",
   "execution_count": 144,
   "id": "43b00c7e",
   "metadata": {
    "ExecuteTime": {
     "end_time": "2022-11-09T16:50:25.153976Z",
     "start_time": "2022-11-09T16:50:25.141462Z"
    }
   },
   "outputs": [
    {
     "data": {
      "text/plain": [
       "torch.Size([1500, 2])"
      ]
     },
     "execution_count": 144,
     "metadata": {},
     "output_type": "execute_result"
    }
   ],
   "source": [
    "slices= [sample(c) for c in centroids]\n",
    "data = torch.cat(slices)\n",
    "data.shape"
   ]
  },
  {
   "cell_type": "code",
   "execution_count": 145,
   "id": "5208b3b4",
   "metadata": {
    "ExecuteTime": {
     "end_time": "2022-11-09T16:50:25.754378Z",
     "start_time": "2022-11-09T16:50:25.742242Z"
    }
   },
   "outputs": [],
   "source": [
    "def plot_data(centroids, data, n_samples, ax=None):\n",
    "    if ax is None:\n",
    "        _, ax = plt.subplots()\n",
    "    for i,centroid in enumerate(centroids):\n",
    "        samples = data[i*n_samples:(i+1)*n_samples]\n",
    "        ax.scatter(samples[:,0], samples[:,1], s=1)\n",
    "        ax.plot(*centroid,markersize=10, marker=\"x\", color='k', mew=5)\n",
    "        ax.plot(*centroid,markersize=5, marker=\"x\", color='m', mew=2)"
   ]
  },
  {
   "cell_type": "code",
   "execution_count": 146,
   "id": "a787ce39",
   "metadata": {
    "ExecuteTime": {
     "end_time": "2022-11-09T16:50:27.237045Z",
     "start_time": "2022-11-09T16:50:27.094118Z"
    }
   },
   "outputs": [
    {
     "data": {
      "image/png": "[encoded data removed]",
      "text/plain": [
       "<Figure size 432x288 with 1 Axes>"
      ]
     },
     "metadata": {
      "needs_background": "light"
     },
     "output_type": "display_data"
    }
   ],
   "source": [
    "plot_data(centroids, data, n_samples)"
   ]
  },
  {
   "cell_type": "markdown",
   "id": "2bfb2de3",
   "metadata": {
    "ExecuteTime": {
     "end_time": "2022-11-03T12:47:18.151770Z",
     "start_time": "2022-11-03T12:47:18.144390Z"
    }
   },
   "source": [
    "## Kmeans"
   ]
  },
  {
   "cell_type": "code",
   "execution_count": 147,
   "id": "af8b2ed9",
   "metadata": {
    "ExecuteTime": {
     "end_time": "2022-11-09T16:50:37.367832Z",
     "start_time": "2022-11-09T16:50:37.357082Z"
    }
   },
   "outputs": [
    {
     "data": {
      "text/plain": [
       "(tensor([4, 0, 5,  ..., 2, 3, 3]), torch.Size([1500]))"
      ]
     },
     "execution_count": 147,
     "metadata": {},
     "output_type": "execute_result"
    }
   ],
   "source": [
    "from sklearn.preprocessing import MinMaxScaler\n",
    "\n",
    "torch.manual_seed(43);\n",
    "k = 6\n",
    "n_data = len(data)\n",
    "d_labels = torch.randint(k,(n_data,))\n",
    "d_labels, d_labels.shape"
   ]
  },
  {
   "cell_type": "code",
   "execution_count": 148,
   "id": "3202b1e3",
   "metadata": {
    "ExecuteTime": {
     "end_time": "2022-11-09T16:50:39.600415Z",
     "start_time": "2022-11-09T16:50:39.595634Z"
    }
   },
   "outputs": [
    {
     "data": {
      "text/plain": [
       "tensor([[0.819, 0.820],\n",
       "        [0.811, 0.876],\n",
       "        [0.891, 0.854],\n",
       "        ...,\n",
       "        [0.896, 0.577],\n",
       "        [0.873, 0.501],\n",
       "        [0.903, 0.520]], dtype=torch.float64)"
      ]
     },
     "execution_count": 148,
     "metadata": {},
     "output_type": "execute_result"
    }
   ],
   "source": [
    "scaler = MinMaxScaler()\n",
    "s_data = tensor( scaler.fit_transform(data) )\n",
    "s_data"
   ]
  },
  {
   "cell_type": "code",
   "execution_count": 149,
   "id": "7c74eea3",
   "metadata": {
    "ExecuteTime": {
     "end_time": "2022-11-09T16:50:43.507450Z",
     "start_time": "2022-11-09T16:50:43.389532Z"
    }
   },
   "outputs": [
    {
     "data": {
      "image/png": "[encoded data removed]",
      "text/plain": [
       "<Figure size 432x288 with 1 Axes>"
      ]
     },
     "metadata": {
      "needs_background": "light"
     },
     "output_type": "display_data"
    }
   ],
   "source": [
    "plot_data(scaler.transform(centroids), s_data, n_samples)"
   ]
  },
  {
   "cell_type": "code",
   "execution_count": 150,
   "id": "1436a5bb",
   "metadata": {
    "ExecuteTime": {
     "end_time": "2022-11-09T16:51:12.558720Z",
     "start_time": "2022-11-09T16:51:12.554681Z"
    }
   },
   "outputs": [
    {
     "data": {
      "text/plain": [
       "tensor([0, 1, 2, 3, 4, 5])"
      ]
     },
     "execution_count": 150,
     "metadata": {},
     "output_type": "execute_result"
    }
   ],
   "source": [
    "k_vec = torch.unique(d_labels, sorted=True)\n",
    "k_vec"
   ]
  },
  {
   "cell_type": "code",
   "execution_count": 152,
   "id": "0aa3fbe1",
   "metadata": {
    "ExecuteTime": {
     "end_time": "2022-11-09T16:52:19.483004Z",
     "start_time": "2022-11-09T16:52:19.478218Z"
    }
   },
   "outputs": [
    {
     "data": {
      "text/plain": [
       "tensor([[0.819, 0.820],\n",
       "        [0.811, 0.876],\n",
       "        [0.891, 0.854],\n",
       "        ...,\n",
       "        [0.896, 0.577],\n",
       "        [0.873, 0.501],\n",
       "        [0.903, 0.520]], dtype=torch.float64)"
      ]
     },
     "execution_count": 152,
     "metadata": {},
     "output_type": "execute_result"
    }
   ],
   "source": [
    "s_data"
   ]
  },
  {
   "cell_type": "code",
   "execution_count": 154,
   "id": "0d6d9e08",
   "metadata": {
    "ExecuteTime": {
     "end_time": "2022-11-09T16:53:39.227837Z",
     "start_time": "2022-11-09T16:53:39.223616Z"
    }
   },
   "outputs": [
    {
     "data": {
      "text/plain": [
       "torch.Size([264, 2])"
      ]
     },
     "execution_count": 154,
     "metadata": {},
     "output_type": "execute_result"
    }
   ],
   "source": [
    "s_data[d_labels == k_vec[0]].shape"
   ]
  },
  {
   "cell_type": "code",
   "execution_count": 155,
   "id": "1fa95aa2",
   "metadata": {
    "ExecuteTime": {
     "end_time": "2022-11-09T16:53:46.430997Z",
     "start_time": "2022-11-09T16:53:46.426524Z"
    }
   },
   "outputs": [
    {
     "data": {
      "text/plain": [
       "(tensor([4, 0, 5, 1, 1, 2, 0, 3, 1, 1]),\n",
       " tensor([False,  True, False, False, False, False,  True, False, False, False]))"
      ]
     },
     "execution_count": 155,
     "metadata": {},
     "output_type": "execute_result"
    }
   ],
   "source": [
    "ltest = d_labels[:10]\n",
    "ltest, ltest == k_vec[0], "
   ]
  },
  {
   "cell_type": "code",
   "execution_count": 156,
   "id": "17a8091c",
   "metadata": {
    "ExecuteTime": {
     "end_time": "2022-11-09T16:53:50.733246Z",
     "start_time": "2022-11-09T16:53:50.726914Z"
    }
   },
   "outputs": [
    {
     "data": {
      "text/plain": [
       "(torch.Size([1, 10]), torch.Size([6, 1]))"
      ]
     },
     "execution_count": 156,
     "metadata": {},
     "output_type": "execute_result"
    }
   ],
   "source": [
    "ltest[None].shape, labels[:,None].shape"
   ]
  },
  {
   "cell_type": "code",
   "execution_count": 157,
   "id": "8785d957",
   "metadata": {
    "ExecuteTime": {
     "end_time": "2022-11-09T16:53:54.177816Z",
     "start_time": "2022-11-09T16:53:54.173902Z"
    }
   },
   "outputs": [
    {
     "data": {
      "text/plain": [
       "(tensor([[False,  True, False, False, False, False,  True, False, False, False],\n",
       "         [False, False, False,  True,  True, False, False, False,  True,  True],\n",
       "         [False, False, False, False, False,  True, False, False, False, False],\n",
       "         [False, False, False, False, False, False, False,  True, False, False],\n",
       "         [ True, False, False, False, False, False, False, False, False, False],\n",
       "         [False, False,  True, False, False, False, False, False, False, False]]),\n",
       " torch.Size([6, 10]))"
      ]
     },
     "execution_count": 157,
     "metadata": {},
     "output_type": "execute_result"
    }
   ],
   "source": [
    "masks = ltest[None] == k_vec[:,None]\n",
    "masks, masks.shape"
   ]
  },
  {
   "cell_type": "code",
   "execution_count": 158,
   "id": "f224cd34",
   "metadata": {
    "ExecuteTime": {
     "end_time": "2022-11-09T16:54:02.472695Z",
     "start_time": "2022-11-09T16:54:02.468082Z"
    }
   },
   "outputs": [
    {
     "data": {
      "text/plain": [
       "torch.Size([6, 10, 2])"
      ]
     },
     "execution_count": 158,
     "metadata": {},
     "output_type": "execute_result"
    }
   ],
   "source": [
    "masked = s_data[:10] * masks[...,None]\n",
    "masked.shape"
   ]
  },
  {
   "cell_type": "code",
   "execution_count": 159,
   "id": "6f07068c",
   "metadata": {
    "ExecuteTime": {
     "end_time": "2022-11-09T16:54:04.554559Z",
     "start_time": "2022-11-09T16:54:04.540357Z"
    }
   },
   "outputs": [
    {
     "data": {
      "text/plain": [
       "tensor([[1.688, 1.776],\n",
       "        [3.243, 3.461],\n",
       "        [0.888, 0.830],\n",
       "        [0.852, 0.902],\n",
       "        [0.819, 0.820],\n",
       "        [0.891, 0.854]], dtype=torch.float64)"
      ]
     },
     "execution_count": 159,
     "metadata": {},
     "output_type": "execute_result"
    }
   ],
   "source": [
    "msum = masked.sum(axis=1)\n",
    "msum"
   ]
  },
  {
   "cell_type": "code",
   "execution_count": 160,
   "id": "e7b04065",
   "metadata": {
    "ExecuteTime": {
     "end_time": "2022-11-09T16:54:07.685053Z",
     "start_time": "2022-11-09T16:54:07.681341Z"
    }
   },
   "outputs": [
    {
     "data": {
      "text/plain": [
       "torch.Size([6, 10])"
      ]
     },
     "execution_count": 160,
     "metadata": {},
     "output_type": "execute_result"
    }
   ],
   "source": [
    "masks.shape"
   ]
  },
  {
   "cell_type": "code",
   "execution_count": 161,
   "id": "c06f29de",
   "metadata": {
    "ExecuteTime": {
     "end_time": "2022-11-09T16:54:11.675730Z",
     "start_time": "2022-11-09T16:54:11.665335Z"
    }
   },
   "outputs": [
    {
     "data": {
      "text/plain": [
       "tensor([2, 4, 1, 1, 1, 1])"
      ]
     },
     "execution_count": 161,
     "metadata": {},
     "output_type": "execute_result"
    }
   ],
   "source": [
    "div = masks.sum(1)\n",
    "div"
   ]
  },
  {
   "cell_type": "code",
   "execution_count": 162,
   "id": "9ec0606a",
   "metadata": {
    "ExecuteTime": {
     "end_time": "2022-11-09T16:54:14.817347Z",
     "start_time": "2022-11-09T16:54:14.801966Z"
    }
   },
   "outputs": [
    {
     "data": {
      "text/plain": [
       "tensor([[0.844, 0.888],\n",
       "        [0.811, 0.865],\n",
       "        [0.888, 0.830],\n",
       "        [0.852, 0.902],\n",
       "        [0.819, 0.820],\n",
       "        [0.891, 0.854]], dtype=torch.float64)"
      ]
     },
     "execution_count": 162,
     "metadata": {},
     "output_type": "execute_result"
    }
   ],
   "source": [
    "msum/div[...,None]"
   ]
  },
  {
   "cell_type": "code",
   "execution_count": 163,
   "id": "30d5f4ff",
   "metadata": {
    "ExecuteTime": {
     "end_time": "2022-11-09T16:54:24.586271Z",
     "start_time": "2022-11-09T16:54:24.579989Z"
    }
   },
   "outputs": [],
   "source": [
    "def calc_centroids(data,k_vec,data_labels):\n",
    "    #get masks for detecting points that correspond to every cluster\n",
    "    masks = (data_labels[None] == k_vec[:,None])\n",
    "    #get average of all points that correspond to every cluster\n",
    "    #i.e.get centroids\n",
    "    msum = (data * masks[...,None]).sum(1)\n",
    "    div = masks[...,None].sum(1)\n",
    "    return msum/div"
   ]
  },
  {
   "cell_type": "code",
   "execution_count": 165,
   "id": "be40f921",
   "metadata": {
    "ExecuteTime": {
     "end_time": "2022-11-09T16:54:37.293455Z",
     "start_time": "2022-11-09T16:54:37.283604Z"
    }
   },
   "outputs": [
    {
     "data": {
      "text/plain": [
       "(tensor([[0.484, 0.622],\n",
       "         [0.533, 0.607],\n",
       "         [0.543, 0.589],\n",
       "         [0.559, 0.591],\n",
       "         [0.550, 0.646],\n",
       "         [0.535, 0.608]], dtype=torch.float64),\n",
       " torch.Size([6, 2]))"
      ]
     },
     "execution_count": 165,
     "metadata": {},
     "output_type": "execute_result"
    }
   ],
   "source": [
    "centroids = calc_centroids(s_data,k_vec,d_labels)\n",
    "centroids, centroids.shape"
   ]
  },
  {
   "cell_type": "code",
   "execution_count": 167,
   "id": "49fc0e72",
   "metadata": {
    "ExecuteTime": {
     "end_time": "2022-11-09T16:55:52.572690Z",
     "start_time": "2022-11-09T16:55:52.564523Z"
    }
   },
   "outputs": [
    {
     "data": {
      "text/plain": [
       "(tensor([[0.390, 0.414, 0.469,  ..., 0.415, 0.407, 0.432],\n",
       "         [0.357, 0.386, 0.435,  ..., 0.364, 0.356, 0.380],\n",
       "         [0.361, 0.392, 0.437,  ..., 0.353, 0.341, 0.366],\n",
       "         [0.347, 0.380, 0.424,  ..., 0.338, 0.327, 0.352],\n",
       "         [0.321, 0.348, 0.399,  ..., 0.353, 0.354, 0.375],\n",
       "         [0.355, 0.385, 0.433,  ..., 0.363, 0.354, 0.379]], dtype=torch.float64),\n",
       " torch.Size([6, 1500]))"
      ]
     },
     "execution_count": 167,
     "metadata": {},
     "output_type": "execute_result"
    }
   ],
   "source": [
    "distances = ( (centroids[:,None,:]-s_data)**2 ).sum(2).sqrt()\n",
    "distances, distances.shape    "
   ]
  },
  {
   "cell_type": "code",
   "execution_count": 168,
   "id": "b9b0b247",
   "metadata": {
    "ExecuteTime": {
     "end_time": "2022-11-09T16:55:59.398022Z",
     "start_time": "2022-11-09T16:55:59.388085Z"
    }
   },
   "outputs": [
    {
     "data": {
      "text/plain": [
       "tensor([4, 4, 4,  ..., 3, 3, 3])"
      ]
     },
     "execution_count": 168,
     "metadata": {},
     "output_type": "execute_result"
    }
   ],
   "source": [
    "d_labels  = distances.argmin(dim=0)\n",
    "d_labels"
   ]
  },
  {
   "cell_type": "code",
   "execution_count": 169,
   "id": "b733ed4b",
   "metadata": {
    "ExecuteTime": {
     "end_time": "2022-11-09T16:56:15.563092Z",
     "start_time": "2022-11-09T16:56:15.558224Z"
    }
   },
   "outputs": [
    {
     "data": {
      "text/plain": [
       "(tensor([[-10.937,  19.788],\n",
       "         [    nan,     nan],\n",
       "         [    nan,     nan],\n",
       "         [ 30.682,  -9.467],\n",
       "         [ 26.780,  29.194],\n",
       "         [    nan,     nan]]),\n",
       " torch.Size([6, 2]))"
      ]
     },
     "execution_count": 169,
     "metadata": {},
     "output_type": "execute_result"
    }
   ],
   "source": [
    "centroids = calc_centroids(data,k_vec,d_labels)\n",
    "centroids, centroids.shape"
   ]
  },
  {
   "cell_type": "code",
   "execution_count": 181,
   "id": "48bac6de",
   "metadata": {
    "ExecuteTime": {
     "end_time": "2022-11-09T17:27:48.692191Z",
     "start_time": "2022-11-09T17:27:48.681574Z"
    }
   },
   "outputs": [],
   "source": [
    "def calc_labels(centroids,data):\n",
    "    distances = ( (centroids[:,None,:]-data)**2 ).sum(2).sqrt()\n",
    "    labels = distances.argmin(dim=0)\n",
    "    return labels"
   ]
  },
  {
   "cell_type": "code",
   "execution_count": 171,
   "id": "80111ded",
   "metadata": {
    "ExecuteTime": {
     "end_time": "2022-11-09T17:10:29.575099Z",
     "start_time": "2022-11-09T17:10:29.570251Z"
    }
   },
   "outputs": [
    {
     "data": {
      "text/plain": [
       "tensor([0, 3, 0,  ..., 4, 4, 4])"
      ]
     },
     "execution_count": 171,
     "metadata": {},
     "output_type": "execute_result"
    }
   ],
   "source": [
    "calc_labels(centroids, s_data)"
   ]
  },
  {
   "cell_type": "code",
   "execution_count": 170,
   "id": "e2d6cd2f",
   "metadata": {
    "ExecuteTime": {
     "end_time": "2022-11-09T17:09:54.940785Z",
     "start_time": "2022-11-09T17:09:54.935297Z"
    }
   },
   "outputs": [
    {
     "data": {
      "text/plain": [
       "tensor([[0.793, 0.819],\n",
       "        [0.945, 0.012],\n",
       "        [0.251, 0.917],\n",
       "        [0.773, 0.905],\n",
       "        [0.850, 0.571],\n",
       "        [0.847, 0.076]], dtype=torch.float64)"
      ]
     },
     "execution_count": 170,
     "metadata": {},
     "output_type": "execute_result"
    }
   ],
   "source": [
    "torch.manual_seed(43);\n",
    "centroids = s_data[torch.randint(n_data,(k,))].clone()\n",
    "centroids"
   ]
  },
  {
   "cell_type": "code",
   "execution_count": 172,
   "id": "ac15424c",
   "metadata": {
    "ExecuteTime": {
     "end_time": "2022-11-09T17:11:01.479759Z",
     "start_time": "2022-11-09T17:11:01.469494Z"
    }
   },
   "outputs": [
    {
     "data": {
      "text/plain": [
       "tensor([0, 3, 0,  ..., 4, 4, 4])"
      ]
     },
     "execution_count": 172,
     "metadata": {},
     "output_type": "execute_result"
    }
   ],
   "source": [
    "d_labels = calc_labels(centroids, s_data)\n",
    "d_labels"
   ]
  },
  {
   "cell_type": "code",
   "execution_count": 173,
   "id": "53d108f2",
   "metadata": {
    "ExecuteTime": {
     "end_time": "2022-11-09T17:11:28.270690Z",
     "start_time": "2022-11-09T17:11:28.260007Z"
    }
   },
   "outputs": [
    {
     "data": {
      "text/plain": [
       "(tensor([[0.835, 0.846],\n",
       "         [0.942, 0.069],\n",
       "         [0.194, 0.727],\n",
       "         [0.819, 0.888],\n",
       "         [0.891, 0.537],\n",
       "         [0.879, 0.086]], dtype=torch.float64),\n",
       " torch.Size([6, 2]))"
      ]
     },
     "execution_count": 173,
     "metadata": {},
     "output_type": "execute_result"
    }
   ],
   "source": [
    "centroids = calc_centroids(s_data,k_vec,d_labels)\n",
    "centroids, centroids.shape"
   ]
  },
  {
   "cell_type": "code",
   "execution_count": 177,
   "id": "66aae314",
   "metadata": {
    "ExecuteTime": {
     "end_time": "2022-11-09T17:20:10.486779Z",
     "start_time": "2022-11-09T17:20:10.479513Z"
    }
   },
   "outputs": [],
   "source": [
    "def plot_kdata(centroids,data,d_labels,ax=None):\n",
    "    if ax is None:\n",
    "        _, ax = plt.subplots()\n",
    "    labels = torch.unique(d_labels, sorted=True)\n",
    "    for l in labels:\n",
    "        points  = data[d_labels == l]\n",
    "        ax.scatter(points[:,0],points[:,1], s=1)\n",
    "        ax.plot(*centroids[l],markersize=10, marker=\"x\", color='k', mew=5)\n",
    "        ax.plot(*centroids[l],markersize=5, marker=\"x\", color='m', mew=2)    "
   ]
  },
  {
   "cell_type": "code",
   "execution_count": 178,
   "id": "d2365026",
   "metadata": {
    "ExecuteTime": {
     "end_time": "2022-11-09T17:20:11.046865Z",
     "start_time": "2022-11-09T17:20:10.912832Z"
    }
   },
   "outputs": [
    {
     "data": {
      "image/png": "[encoded data removed]",
      "text/plain": [
       "<Figure size 432x288 with 1 Axes>"
      ]
     },
     "metadata": {
      "needs_background": "light"
     },
     "output_type": "display_data"
    }
   ],
   "source": [
    "plot_kdata(centroids,s_data,d_labels)"
   ]
  },
  {
   "cell_type": "code",
   "execution_count": 185,
   "id": "0f62b770",
   "metadata": {
    "ExecuteTime": {
     "end_time": "2022-11-09T17:33:36.368291Z",
     "start_time": "2022-11-09T17:33:36.362061Z"
    }
   },
   "outputs": [],
   "source": [
    "def k_means(k,data):\n",
    "    k_vector = tensor(range(k))\n",
    "    #select randomly k centroids from data\n",
    "    centroids = data[torch.randint(n_data,(k,))].clone()\n",
    "    for i in range(30):\n",
    "        d_labels = calc_labels(centroids,data)\n",
    "        centroids = calc_centroids(data,k_vec,d_labels)\n",
    "    return centroids, d_labels"
   ]
  },
  {
   "cell_type": "code",
   "execution_count": 209,
   "id": "b396f60c",
   "metadata": {
    "ExecuteTime": {
     "end_time": "2022-11-09T17:40:24.688617Z",
     "start_time": "2022-11-09T17:40:24.653644Z"
    }
   },
   "outputs": [],
   "source": [
    "torch.manual_seed(47);\n",
    "k = 6\n",
    "centroids, labels = k_means(k,s_data)"
   ]
  },
  {
   "cell_type": "code",
   "execution_count": 201,
   "id": "a8722d9d",
   "metadata": {
    "ExecuteTime": {
     "end_time": "2022-11-09T17:34:52.504307Z",
     "start_time": "2022-11-09T17:34:52.366843Z"
    }
   },
   "outputs": [
    {
     "data": {
      "image/png": "[encoded data removed]",
      "text/plain": [
       "<Figure size 432x288 with 1 Axes>"
      ]
     },
     "metadata": {
      "needs_background": "light"
     },
     "output_type": "display_data"
    }
   ],
   "source": [
    "plot_kdata(centroids,s_data,labels)"
   ]
  },
  {
   "cell_type": "code",
   "execution_count": 220,
   "id": "1c3c86c4",
   "metadata": {
    "ExecuteTime": {
     "end_time": "2022-11-09T17:41:37.335118Z",
     "start_time": "2022-11-09T17:41:37.330420Z"
    }
   },
   "outputs": [],
   "source": [
    "from sklearn.cluster import KMeans"
   ]
  },
  {
   "cell_type": "code",
   "execution_count": 221,
   "id": "5e30e5bd",
   "metadata": {
    "ExecuteTime": {
     "end_time": "2022-11-09T17:41:37.910719Z",
     "start_time": "2022-11-09T17:41:37.882531Z"
    }
   },
   "outputs": [
    {
     "data": {
      "text/html": [
       "<style>#sk-container-id-8 {color: black;background-color: white;}#sk-container-id-8 pre{padding: 0;}#sk-container-id-8 div.sk-toggleable {background-color: white;}#sk-container-id-8 label.sk-toggleable__label {cursor: pointer;display: block;width: 100%;margin-bottom: 0;padding: 0.3em;box-sizing: border-box;text-align: center;}#sk-container-id-8 label.sk-toggleable__label-arrow:before {content: \"▸\";float: left;margin-right: 0.25em;color: #696969;}#sk-container-id-8 label.sk-toggleable__label-arrow:hover:before {color: black;}#sk-container-id-8 div.sk-estimator:hover label.sk-toggleable__label-arrow:before {color: black;}#sk-container-id-8 div.sk-toggleable__content {max-height: 0;max-width: 0;overflow: hidden;text-align: left;background-color: #f0f8ff;}#sk-container-id-8 div.sk-toggleable__content pre {margin: 0.2em;color: black;border-radius: 0.25em;background-color: #f0f8ff;}#sk-container-id-8 input.sk-toggleable__control:checked~div.sk-toggleable__content {max-height: 200px;max-width: 100%;overflow: auto;}#sk-container-id-8 input.sk-toggleable__control:checked~label.sk-toggleable__label-arrow:before {content: \"▾\";}#sk-container-id-8 div.sk-estimator input.sk-toggleable__control:checked~label.sk-toggleable__label {background-color: #d4ebff;}#sk-container-id-8 div.sk-label input.sk-toggleable__control:checked~label.sk-toggleable__label {background-color: #d4ebff;}#sk-container-id-8 input.sk-hidden--visually {border: 0;clip: rect(1px 1px 1px 1px);clip: rect(1px, 1px, 1px, 1px);height: 1px;margin: -1px;overflow: hidden;padding: 0;position: absolute;width: 1px;}#sk-container-id-8 div.sk-estimator {font-family: monospace;background-color: #f0f8ff;border: 1px dotted black;border-radius: 0.25em;box-sizing: border-box;margin-bottom: 0.5em;}#sk-container-id-8 div.sk-estimator:hover {background-color: #d4ebff;}#sk-container-id-8 div.sk-parallel-item::after {content: \"\";width: 100%;border-bottom: 1px solid gray;flex-grow: 1;}#sk-container-id-8 div.sk-label:hover label.sk-toggleable__label {background-color: #d4ebff;}#sk-container-id-8 div.sk-serial::before {content: \"\";position: absolute;border-left: 1px solid gray;box-sizing: border-box;top: 0;bottom: 0;left: 50%;z-index: 0;}#sk-container-id-8 div.sk-serial {display: flex;flex-direction: column;align-items: center;background-color: white;padding-right: 0.2em;padding-left: 0.2em;position: relative;}#sk-container-id-8 div.sk-item {position: relative;z-index: 1;}#sk-container-id-8 div.sk-parallel {display: flex;align-items: stretch;justify-content: center;background-color: white;position: relative;}#sk-container-id-8 div.sk-item::before, #sk-container-id-8 div.sk-parallel-item::before {content: \"\";position: absolute;border-left: 1px solid gray;box-sizing: border-box;top: 0;bottom: 0;left: 50%;z-index: -1;}#sk-container-id-8 div.sk-parallel-item {display: flex;flex-direction: column;z-index: 1;position: relative;background-color: white;}#sk-container-id-8 div.sk-parallel-item:first-child::after {align-self: flex-end;width: 50%;}#sk-container-id-8 div.sk-parallel-item:last-child::after {align-self: flex-start;width: 50%;}#sk-container-id-8 div.sk-parallel-item:only-child::after {width: 0;}#sk-container-id-8 div.sk-dashed-wrapped {border: 1px dashed gray;margin: 0 0.4em 0.5em 0.4em;box-sizing: border-box;padding-bottom: 0.4em;background-color: white;}#sk-container-id-8 div.sk-label label {font-family: monospace;font-weight: bold;display: inline-block;line-height: 1.2em;}#sk-container-id-8 div.sk-label-container {text-align: center;}#sk-container-id-8 div.sk-container {/* jupyter's `normalize.less` sets `[hidden] { display: none; }` but bootstrap.min.css set `[hidden] { display: none !important; }` so we also need the `!important` here to be able to override the default hidden behavior on the sphinx rendered scikit-learn.org. See: https://github.com/scikit-learn/scikit-learn/issues/21755 */display: inline-block !important;position: relative;}#sk-container-id-8 div.sk-text-repr-fallback {display: none;}</style><div id=\"sk-container-id-8\" class=\"sk-top-container\"><div class=\"sk-text-repr-fallback\"><pre>KMeans(n_clusters=6)</pre><b>In a Jupyter environment, please rerun this cell to show the HTML representation or trust the notebook. <br />On GitHub, the HTML representation is unable to render, please try loading this page with nbviewer.org.</b></div><div class=\"sk-container\" hidden><div class=\"sk-item\"><div class=\"sk-estimator sk-toggleable\"><input class=\"sk-toggleable__control sk-hidden--visually\" id=\"sk-estimator-id-8\" type=\"checkbox\" checked><label for=\"sk-estimator-id-8\" class=\"sk-toggleable__label sk-toggleable__label-arrow\">KMeans</label><div class=\"sk-toggleable__content\"><pre>KMeans(n_clusters=6)</pre></div></div></div></div></div>"
      ],
      "text/plain": [
       "KMeans(n_clusters=6)"
      ]
     },
     "execution_count": 221,
     "metadata": {},
     "output_type": "execute_result"
    }
   ],
   "source": [
    "torch.manual_seed(5675);\n",
    "kmeans = KMeans(n_clusters=k)\n",
    "kmeans.fit(s_data)"
   ]
  },
  {
   "cell_type": "code",
   "execution_count": 219,
   "id": "bb2b62a1",
   "metadata": {
    "ExecuteTime": {
     "end_time": "2022-11-09T17:41:30.433771Z",
     "start_time": "2022-11-09T17:41:30.320602Z"
    }
   },
   "outputs": [
    {
     "data": {
      "image/png": "[encoded data removed]",
      "text/plain": [
       "<Figure size 432x288 with 1 Axes>"
      ]
     },
     "metadata": {
      "needs_background": "light"
     },
     "output_type": "display_data"
    }
   ],
   "source": [
    "plt.scatter(s_data[:,0], s_data[:,1], c=kmeans.labels_)\n",
    "plt.show() "
   ]
  },
  {
   "cell_type": "code",
   "execution_count": 222,
   "id": "92f33fbc",
   "metadata": {
    "ExecuteTime": {
     "end_time": "2022-11-10T15:08:38.181902Z",
     "start_time": "2022-11-10T15:08:38.178842Z"
    }
   },
   "outputs": [],
   "source": [
    "centroids = data[torch.randint(n_data,(1,))].clone()"
   ]
  },
  {
   "cell_type": "code",
   "execution_count": 224,
   "id": "341aa87d",
   "metadata": {
    "ExecuteTime": {
     "end_time": "2022-11-10T15:10:59.450466Z",
     "start_time": "2022-11-10T15:10:59.439980Z"
    }
   },
   "outputs": [
    {
     "data": {
      "text/plain": [
       "(tensor([[28.922,  8.680]]), torch.Size([1, 2]))"
      ]
     },
     "execution_count": 224,
     "metadata": {},
     "output_type": "execute_result"
    }
   ],
   "source": [
    "centroids, centroids.shape "
   ]
  },
  {
   "cell_type": "code",
   "execution_count": null,
   "id": "d670f0dc",
   "metadata": {},
   "outputs": [],
   "source": [
    "distances = ( (centroids[:,None,:]-data)**2 ).sum(2)"
   ]
  },
  {
   "cell_type": "code",
   "execution_count": 233,
   "id": "e2ee549d",
   "metadata": {
    "ExecuteTime": {
     "end_time": "2022-11-10T15:15:33.911888Z",
     "start_time": "2022-11-10T15:15:33.899866Z"
    }
   },
   "outputs": [
    {
     "data": {
      "text/plain": [
       "torch.Size([2, 2])"
      ]
     },
     "execution_count": 233,
     "metadata": {},
     "output_type": "execute_result"
    }
   ],
   "source": [
    "torch.cat((centroids,data[None,0])).shape"
   ]
  },
  {
   "cell_type": "code",
   "execution_count": 289,
   "id": "d344cf57",
   "metadata": {
    "ExecuteTime": {
     "end_time": "2022-11-10T16:12:20.045818Z",
     "start_time": "2022-11-10T16:12:20.031979Z"
    }
   },
   "outputs": [],
   "source": [
    "def kmeans_plusplus_init(data,k):\n",
    "    #select first centroid randomly from data\n",
    "    centroids = data[torch.randint(n_data,(1,))].clone()\n",
    "    distances = torch.ones(len(data)) * torch.inf\n",
    "    for i in range(k-1):\n",
    "        #calculate distances of datapoints to newest centroid\n",
    "        dist_kth = ( (centroids[-1]-data)**2 ).sum(1)\n",
    "        #keep minimum distances among centroids\n",
    "        distances = torch.minimum(distances,dist_kth)\n",
    "        #select next centroid with weighted probability  using distances as weights\n",
    "        cent_idx = list(WeightedRandomSampler(weights=distances, num_samples=1, replacement=False))[0]\n",
    "        centroids = torch.cat((centroids,data[None,cent_idx]))\n",
    "    return centroids"
   ]
  },
  {
   "cell_type": "code",
   "execution_count": 324,
   "id": "9df9e140",
   "metadata": {
    "ExecuteTime": {
     "end_time": "2022-11-10T16:40:35.547109Z",
     "start_time": "2022-11-10T16:40:35.540655Z"
    }
   },
   "outputs": [],
   "source": [
    "def k_means_plusplus(k,data):\n",
    "    k_vector = tensor(range(k))\n",
    "    centroids = kmeans_plusplus_init(data,k)\n",
    "    prev_labels = torch.randint(k,(len(data),))\n",
    "    for i in range(50):\n",
    "        d_labels = calc_labels(centroids,data)\n",
    "        centroids = calc_centroids(data,k_vec,d_labels)\n",
    "        if torch.all( prev_labels.eq(d_labels) ): break\n",
    "        prev_labels = d_labels.clone()\n",
    "        #print(i)\n",
    "    return centroids, d_labels"
   ]
  },
  {
   "cell_type": "code",
   "execution_count": 339,
   "id": "b887338e",
   "metadata": {
    "ExecuteTime": {
     "end_time": "2022-11-10T16:52:36.260960Z",
     "start_time": "2022-11-10T16:52:36.253068Z"
    }
   },
   "outputs": [],
   "source": [
    "#torch.manual_seed(8);\n",
    "k = 6\n",
    "centroids, labels = k_means_plusplus(k,s_data)\n",
    "#plot_kdata(centroids,s_data,labels)"
   ]
  },
  {
   "cell_type": "code",
   "execution_count": 340,
   "id": "1b3a432e",
   "metadata": {
    "ExecuteTime": {
     "end_time": "2022-11-10T16:52:36.669795Z",
     "start_time": "2022-11-10T16:52:36.542929Z"
    }
   },
   "outputs": [
    {
     "data": {
      "image/png": "[encoded data removed]",
      "text/plain": [
       "<Figure size 432x288 with 1 Axes>"
      ]
     },
     "metadata": {
      "needs_background": "light"
     },
     "output_type": "display_data"
    }
   ],
   "source": [
    "plot_kdata(centroids,s_data,labels)"
   ]
  },
  {
   "cell_type": "code",
   "execution_count": null,
   "id": "1f1073e8",
   "metadata": {},
   "outputs": [],
   "source": []
  }
 ],
 "metadata": {
  "kernelspec": {
   "display_name": "Python [conda env:fai] *",
   "language": "python",
   "name": "conda-env-fai-py"
  },
  "language_info": {
   "codemirror_mode": {
    "name": "ipython",
    "version": 3
   },
   "file_extension": ".py",
   "mimetype": "text/x-python",
   "name": "python",
   "nbconvert_exporter": "python",
   "pygments_lexer": "ipython3",
   "version": "3.10.4"
  },
  "varInspector": {
   "cols": {
    "lenName": 16,
    "lenType": 16,
    "lenVar": 40
   },
   "kernels_config": {
    "python": {
     "delete_cmd_postfix": "",
     "delete_cmd_prefix": "del ",
     "library": "var_list.py",
     "varRefreshCmd": "print(var_dic_list())"
    },
    "r": {
     "delete_cmd_postfix": ") ",
     "delete_cmd_prefix": "rm(",
     "library": "var_list.r",
     "varRefreshCmd": "cat(var_dic_list()) "
    }
   },
   "types_to_exclude": [
    "module",
    "function",
    "builtin_function_or_method",
    "instance",
    "_Feature"
   ],
   "window_display": false
  }
 },
 "nbformat": 4,
 "nbformat_minor": 5
}
