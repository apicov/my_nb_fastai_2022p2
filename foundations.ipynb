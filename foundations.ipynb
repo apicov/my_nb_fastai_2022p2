{
 "cells": [
  {
   "cell_type": "code",
   "execution_count": 1,
   "id": "e4738849",
   "metadata": {
    "ExecuteTime": {
     "end_time": "2022-11-28T11:47:25.161201Z",
     "start_time": "2022-11-28T11:47:24.273749Z"
    }
   },
   "outputs": [],
   "source": [
    "import torch\n",
    "import matplotlib.pyplot as plt\n",
    "import random"
   ]
  },
  {
   "cell_type": "markdown",
   "id": "ef4c6804",
   "metadata": {},
   "source": [
    "## Callbacks"
   ]
  },
  {
   "cell_type": "markdown",
   "id": "7700f0e1",
   "metadata": {},
   "source": [
    "### Callbacks as GUI events"
   ]
  },
  {
   "cell_type": "code",
   "execution_count": 2,
   "id": "b3fbb5e7",
   "metadata": {
    "ExecuteTime": {
     "end_time": "2022-11-28T11:48:32.332669Z",
     "start_time": "2022-11-28T11:48:32.330087Z"
    }
   },
   "outputs": [],
   "source": [
    "import ipywidgets as widgets"
   ]
  },
  {
   "cell_type": "code",
   "execution_count": 3,
   "id": "de537a20",
   "metadata": {
    "ExecuteTime": {
     "end_time": "2022-11-28T11:49:05.639978Z",
     "start_time": "2022-11-28T11:49:05.630268Z"
    }
   },
   "outputs": [],
   "source": [
    "w = widgets.Button(description= 'Click me')"
   ]
  },
  {
   "cell_type": "code",
   "execution_count": 5,
   "id": "939a1a77",
   "metadata": {
    "ExecuteTime": {
     "end_time": "2022-11-28T11:49:19.594038Z",
     "start_time": "2022-11-28T11:49:19.586811Z"
    }
   },
   "outputs": [
    {
     "data": {
      "application/vnd.jupyter.widget-view+json": {
       "model_id": "c24f88876f504556a375598ede3ed18c",
       "version_major": 2,
       "version_minor": 0
      },
      "text/plain": [
       "Button(description='Click me', style=ButtonStyle())"
      ]
     },
     "metadata": {},
     "output_type": "display_data"
    },
    {
     "name": "stdout",
     "output_type": "stream",
     "text": [
      "hi\n"
     ]
    }
   ],
   "source": [
    "w"
   ]
  },
  {
   "cell_type": "code",
   "execution_count": 6,
   "id": "738b095b",
   "metadata": {
    "ExecuteTime": {
     "end_time": "2022-11-28T11:50:05.003288Z",
     "start_time": "2022-11-28T11:50:05.000306Z"
    }
   },
   "outputs": [],
   "source": [
    "def f(o):\n",
    "    print('hi')"
   ]
  },
  {
   "cell_type": "code",
   "execution_count": 7,
   "id": "fea423d9",
   "metadata": {
    "ExecuteTime": {
     "end_time": "2022-11-28T11:50:21.128345Z",
     "start_time": "2022-11-28T11:50:21.125837Z"
    }
   },
   "outputs": [],
   "source": [
    "w.on_click(f)"
   ]
  },
  {
   "cell_type": "markdown",
   "id": "0b2de431",
   "metadata": {},
   "source": [
    "### Creating our own calbacks"
   ]
  },
  {
   "cell_type": "code",
   "execution_count": 8,
   "id": "d332a841",
   "metadata": {
    "ExecuteTime": {
     "end_time": "2022-11-28T11:57:31.403816Z",
     "start_time": "2022-11-28T11:57:31.401002Z"
    }
   },
   "outputs": [],
   "source": [
    "from time import sleep"
   ]
  },
  {
   "cell_type": "code",
   "execution_count": 9,
   "id": "1d8c2498",
   "metadata": {
    "ExecuteTime": {
     "end_time": "2022-11-28T11:59:03.370224Z",
     "start_time": "2022-11-28T11:59:03.367583Z"
    }
   },
   "outputs": [],
   "source": [
    "def slow_calculation():\n",
    "    res = 0\n",
    "    for i in range(5):\n",
    "        res += i*i\n",
    "        sleep(1)\n",
    "    return res"
   ]
  },
  {
   "cell_type": "code",
   "execution_count": 10,
   "id": "0eacace3",
   "metadata": {
    "ExecuteTime": {
     "end_time": "2022-11-28T11:59:14.293089Z",
     "start_time": "2022-11-28T11:59:09.248220Z"
    }
   },
   "outputs": [
    {
     "data": {
      "text/plain": [
       "30"
      ]
     },
     "execution_count": 10,
     "metadata": {},
     "output_type": "execute_result"
    }
   ],
   "source": [
    "slow_calculation()"
   ]
  },
  {
   "cell_type": "code",
   "execution_count": 11,
   "id": "b59fb17c",
   "metadata": {
    "ExecuteTime": {
     "end_time": "2022-11-28T11:59:48.967146Z",
     "start_time": "2022-11-28T11:59:48.958504Z"
    }
   },
   "outputs": [],
   "source": [
    "def slow_calculation(cb=None):\n",
    "    res = 0\n",
    "    for i in range(5):\n",
    "        res += i*i\n",
    "        sleep(1)\n",
    "        if cb:\n",
    "            cb(i)\n",
    "    return res"
   ]
  },
  {
   "cell_type": "code",
   "execution_count": 12,
   "id": "9ddd7974",
   "metadata": {
    "ExecuteTime": {
     "end_time": "2022-11-28T12:01:21.973129Z",
     "start_time": "2022-11-28T12:01:21.970160Z"
    }
   },
   "outputs": [],
   "source": [
    "def show_progress(epoch):\n",
    "    print(f\"Awesome! We've finished epoch {epoch} !\")"
   ]
  },
  {
   "cell_type": "code",
   "execution_count": 13,
   "id": "b0698000",
   "metadata": {
    "ExecuteTime": {
     "end_time": "2022-11-28T12:01:53.724900Z",
     "start_time": "2022-11-28T12:01:48.693933Z"
    }
   },
   "outputs": [
    {
     "name": "stdout",
     "output_type": "stream",
     "text": [
      "Awesome! We've finished epoch 0 !\n",
      "Awesome! We've finished epoch 1 !\n",
      "Awesome! We've finished epoch 2 !\n",
      "Awesome! We've finished epoch 3 !\n",
      "Awesome! We've finished epoch 4 !\n"
     ]
    },
    {
     "data": {
      "text/plain": [
       "30"
      ]
     },
     "execution_count": 13,
     "metadata": {},
     "output_type": "execute_result"
    }
   ],
   "source": [
    "slow_calculation(show_progress)"
   ]
  },
  {
   "cell_type": "code",
   "execution_count": 14,
   "id": "4ea84b32",
   "metadata": {
    "ExecuteTime": {
     "end_time": "2022-11-28T12:02:46.900900Z",
     "start_time": "2022-11-28T12:02:46.892934Z"
    }
   },
   "outputs": [],
   "source": [
    "### Lambdas and partials"
   ]
  },
  {
   "cell_type": "code",
   "execution_count": 15,
   "id": "d19f3ce5",
   "metadata": {
    "ExecuteTime": {
     "end_time": "2022-11-28T12:03:27.542948Z",
     "start_time": "2022-11-28T12:03:22.511497Z"
    }
   },
   "outputs": [
    {
     "name": "stdout",
     "output_type": "stream",
     "text": [
      "Awesome! We've finished epoch 0 !\n",
      "Awesome! We've finished epoch 1 !\n",
      "Awesome! We've finished epoch 2 !\n",
      "Awesome! We've finished epoch 3 !\n",
      "Awesome! We've finished epoch 4 !\n"
     ]
    },
    {
     "data": {
      "text/plain": [
       "30"
      ]
     },
     "execution_count": 15,
     "metadata": {},
     "output_type": "execute_result"
    }
   ],
   "source": [
    "slow_calculation(lambda o: print(f\"Awesome! We've finished epoch {o} !\"))"
   ]
  },
  {
   "cell_type": "code",
   "execution_count": 16,
   "id": "c4ba9b22",
   "metadata": {
    "ExecuteTime": {
     "end_time": "2022-11-28T12:07:19.236334Z",
     "start_time": "2022-11-28T12:07:19.233383Z"
    }
   },
   "outputs": [],
   "source": [
    "def show_progress(exclamation, epoch):\n",
    "    print(f\"{exclamation}! We've finished epoch {epoch} !\")"
   ]
  },
  {
   "cell_type": "code",
   "execution_count": 17,
   "id": "c38aaf66",
   "metadata": {
    "ExecuteTime": {
     "end_time": "2022-11-28T12:08:40.060561Z",
     "start_time": "2022-11-28T12:08:35.025136Z"
    }
   },
   "outputs": [
    {
     "name": "stdout",
     "output_type": "stream",
     "text": [
      "OK, I guess! We've finished epoch 0 !\n",
      "OK, I guess! We've finished epoch 1 !\n",
      "OK, I guess! We've finished epoch 2 !\n",
      "OK, I guess! We've finished epoch 3 !\n",
      "OK, I guess! We've finished epoch 4 !\n"
     ]
    },
    {
     "data": {
      "text/plain": [
       "30"
      ]
     },
     "execution_count": 17,
     "metadata": {},
     "output_type": "execute_result"
    }
   ],
   "source": [
    "slow_calculation(lambda o: show_progress(\"OK, I guess\", o))"
   ]
  },
  {
   "cell_type": "code",
   "execution_count": 18,
   "id": "4726fc8e",
   "metadata": {
    "ExecuteTime": {
     "end_time": "2022-11-28T12:10:54.191022Z",
     "start_time": "2022-11-28T12:10:54.188285Z"
    }
   },
   "outputs": [],
   "source": [
    "def make_show_progress(exclamation):\n",
    "    return lambda epoch: print(f\"{exclamation}! We've finished epoch {epoch} !\")"
   ]
  },
  {
   "cell_type": "code",
   "execution_count": 19,
   "id": "db35563b",
   "metadata": {
    "ExecuteTime": {
     "end_time": "2022-11-28T12:11:20.439676Z",
     "start_time": "2022-11-28T12:11:15.403404Z"
    }
   },
   "outputs": [
    {
     "name": "stdout",
     "output_type": "stream",
     "text": [
      "Nice!! We've finished epoch 0 !\n",
      "Nice!! We've finished epoch 1 !\n",
      "Nice!! We've finished epoch 2 !\n",
      "Nice!! We've finished epoch 3 !\n",
      "Nice!! We've finished epoch 4 !\n"
     ]
    },
    {
     "data": {
      "text/plain": [
       "30"
      ]
     },
     "execution_count": 19,
     "metadata": {},
     "output_type": "execute_result"
    }
   ],
   "source": [
    "slow_calculation(make_show_progress(\"Nice!\"))"
   ]
  },
  {
   "cell_type": "code",
   "execution_count": 20,
   "id": "c2d763ee",
   "metadata": {
    "ExecuteTime": {
     "end_time": "2022-11-28T12:12:26.847577Z",
     "start_time": "2022-11-28T12:12:26.845153Z"
    }
   },
   "outputs": [],
   "source": [
    "from functools import partial"
   ]
  },
  {
   "cell_type": "code",
   "execution_count": 21,
   "id": "6c415cb4",
   "metadata": {
    "ExecuteTime": {
     "end_time": "2022-11-28T12:13:17.727778Z",
     "start_time": "2022-11-28T12:13:12.691372Z"
    }
   },
   "outputs": [
    {
     "name": "stdout",
     "output_type": "stream",
     "text": [
      "ok. I guess! We've finished epoch 0 !\n",
      "ok. I guess! We've finished epoch 1 !\n",
      "ok. I guess! We've finished epoch 2 !\n",
      "ok. I guess! We've finished epoch 3 !\n",
      "ok. I guess! We've finished epoch 4 !\n"
     ]
    },
    {
     "data": {
      "text/plain": [
       "30"
      ]
     },
     "execution_count": 21,
     "metadata": {},
     "output_type": "execute_result"
    }
   ],
   "source": [
    "slow_calculation(partial(show_progress,\"ok. I guess\"))"
   ]
  },
  {
   "cell_type": "code",
   "execution_count": 22,
   "id": "149e850e",
   "metadata": {
    "ExecuteTime": {
     "end_time": "2022-11-28T12:13:43.598984Z",
     "start_time": "2022-11-28T12:13:43.593551Z"
    }
   },
   "outputs": [],
   "source": [
    "f2 =  partial(show_progress,\"ok. I guess\")"
   ]
  },
  {
   "cell_type": "markdown",
   "id": "34db4aa1",
   "metadata": {},
   "source": [
    "### Callbacks as callable classes"
   ]
  },
  {
   "cell_type": "code",
   "execution_count": 23,
   "id": "9eb60163",
   "metadata": {
    "ExecuteTime": {
     "end_time": "2022-11-28T12:18:50.656799Z",
     "start_time": "2022-11-28T12:18:50.648374Z"
    }
   },
   "outputs": [],
   "source": [
    "class ProgressShowingCallback():\n",
    "    def __init__(self, exclamation='Awesome'):\n",
    "        self.exclamation =  exclamation\n",
    "    def __call__(self, epoch):\n",
    "        print(f\"{self.exclamation}! We've finished epoch {epoch}!\")"
   ]
  },
  {
   "cell_type": "code",
   "execution_count": 24,
   "id": "965ea5ac",
   "metadata": {
    "ExecuteTime": {
     "end_time": "2022-11-28T12:22:26.262648Z",
     "start_time": "2022-11-28T12:22:26.259789Z"
    }
   },
   "outputs": [],
   "source": [
    "cb = ProgressShowingCallback(\"Just super\")"
   ]
  },
  {
   "cell_type": "code",
   "execution_count": 25,
   "id": "e05ebd49",
   "metadata": {
    "ExecuteTime": {
     "end_time": "2022-11-28T12:22:39.035527Z",
     "start_time": "2022-11-28T12:22:34.000289Z"
    }
   },
   "outputs": [
    {
     "name": "stdout",
     "output_type": "stream",
     "text": [
      "Just super! We've finished epoch 0!\n",
      "Just super! We've finished epoch 1!\n",
      "Just super! We've finished epoch 2!\n",
      "Just super! We've finished epoch 3!\n",
      "Just super! We've finished epoch 4!\n"
     ]
    },
    {
     "data": {
      "text/plain": [
       "30"
      ]
     },
     "execution_count": 25,
     "metadata": {},
     "output_type": "execute_result"
    }
   ],
   "source": [
    "slow_calculation(cb)"
   ]
  },
  {
   "cell_type": "markdown",
   "id": "ce581e78",
   "metadata": {},
   "source": [
    "### Multiple callback funcs ; *args and **kwargs"
   ]
  },
  {
   "cell_type": "code",
   "execution_count": 27,
   "id": "5e031288",
   "metadata": {
    "ExecuteTime": {
     "end_time": "2022-11-28T12:25:34.044028Z",
     "start_time": "2022-11-28T12:25:34.038719Z"
    }
   },
   "outputs": [],
   "source": [
    "def f(*args, **kwargs):\n",
    "    print(f\"args: {args}; kwargs: {kwargs}\")"
   ]
  },
  {
   "cell_type": "code",
   "execution_count": 28,
   "id": "b40ad703",
   "metadata": {
    "ExecuteTime": {
     "end_time": "2022-11-28T12:25:34.584707Z",
     "start_time": "2022-11-28T12:25:34.576720Z"
    }
   },
   "outputs": [
    {
     "name": "stdout",
     "output_type": "stream",
     "text": [
      "args: (3, 'a'); kwargs: {'thing1': 'hello'}\n"
     ]
    }
   ],
   "source": [
    "f(3, 'a', thing1=\"hello\")"
   ]
  },
  {
   "cell_type": "code",
   "execution_count": 29,
   "id": "4d1d73c8",
   "metadata": {
    "ExecuteTime": {
     "end_time": "2022-11-28T12:29:05.167209Z",
     "start_time": "2022-11-28T12:29:05.164446Z"
    }
   },
   "outputs": [],
   "source": [
    "def g(a,b, c=0):\n",
    "    print(a,b,c)"
   ]
  },
  {
   "cell_type": "code",
   "execution_count": 30,
   "id": "abb1b41d",
   "metadata": {
    "ExecuteTime": {
     "end_time": "2022-11-28T12:29:50.897769Z",
     "start_time": "2022-11-28T12:29:50.891496Z"
    }
   },
   "outputs": [
    {
     "name": "stdout",
     "output_type": "stream",
     "text": [
      "1 2 3\n"
     ]
    }
   ],
   "source": [
    "args = [1,2]\n",
    "kwargs = {'c':3}\n",
    "g(*args, **kwargs)"
   ]
  },
  {
   "cell_type": "code",
   "execution_count": 36,
   "id": "210def7f",
   "metadata": {
    "ExecuteTime": {
     "end_time": "2022-11-28T13:14:38.698403Z",
     "start_time": "2022-11-28T13:14:38.694711Z"
    }
   },
   "outputs": [],
   "source": [
    "def slow_calculation(cb=None):\n",
    "    res = 0\n",
    "    for i in range(5):\n",
    "        if cb: cb.before_calc(i)\n",
    "        res += i*i\n",
    "        sleep(1)\n",
    "        if cb: cb.after_calc(i, val = res)\n",
    "    return res"
   ]
  },
  {
   "cell_type": "code",
   "execution_count": 37,
   "id": "40297c43",
   "metadata": {
    "ExecuteTime": {
     "end_time": "2022-11-28T13:14:39.097426Z",
     "start_time": "2022-11-28T13:14:39.087643Z"
    }
   },
   "outputs": [],
   "source": [
    "class PrintStepCallback():\n",
    "    def __init__(self):\n",
    "        pass\n",
    "    def before_calc(self, *args, **kwargs): \n",
    "        print(f\"about to start\")\n",
    "    def after_calc(self, *args, **kwargs):\n",
    "        print(f\"Done step\")"
   ]
  },
  {
   "cell_type": "code",
   "execution_count": 38,
   "id": "fc805963",
   "metadata": {
    "ExecuteTime": {
     "end_time": "2022-11-28T13:14:44.534386Z",
     "start_time": "2022-11-28T13:14:39.493001Z"
    }
   },
   "outputs": [
    {
     "name": "stdout",
     "output_type": "stream",
     "text": [
      "about to start\n",
      "Done step\n",
      "about to start\n",
      "Done step\n",
      "about to start\n",
      "Done step\n",
      "about to start\n",
      "Done step\n",
      "about to start\n",
      "Done step\n"
     ]
    },
    {
     "data": {
      "text/plain": [
       "30"
      ]
     },
     "execution_count": 38,
     "metadata": {},
     "output_type": "execute_result"
    }
   ],
   "source": [
    "slow_calculation(PrintStepCallback())"
   ]
  },
  {
   "cell_type": "code",
   "execution_count": 42,
   "id": "85f41190",
   "metadata": {
    "ExecuteTime": {
     "end_time": "2022-11-28T13:18:59.476420Z",
     "start_time": "2022-11-28T13:18:59.469413Z"
    }
   },
   "outputs": [],
   "source": [
    "class PrintStatusCallback():\n",
    "    def __init__(self):\n",
    "        pass\n",
    "    def before_calc(self, epoch, **kwargs): \n",
    "        print(f\"about to start: {epoch}\")\n",
    "    def after_calc(self, epoch, val, **kwargs):\n",
    "        print(f\"After {epoch}: {val}\")"
   ]
  },
  {
   "cell_type": "code",
   "execution_count": 43,
   "id": "63a8d65a",
   "metadata": {
    "ExecuteTime": {
     "end_time": "2022-11-28T13:19:04.773240Z",
     "start_time": "2022-11-28T13:18:59.734105Z"
    }
   },
   "outputs": [
    {
     "name": "stdout",
     "output_type": "stream",
     "text": [
      "about to start: 0\n",
      "After 0: 0\n",
      "about to start: 1\n",
      "After 1: 1\n",
      "about to start: 2\n",
      "After 2: 5\n",
      "about to start: 3\n",
      "After 3: 14\n",
      "about to start: 4\n",
      "After 4: 30\n"
     ]
    },
    {
     "data": {
      "text/plain": [
       "30"
      ]
     },
     "execution_count": 43,
     "metadata": {},
     "output_type": "execute_result"
    }
   ],
   "source": [
    "slow_calculation(PrintStatusCallback())"
   ]
  },
  {
   "cell_type": "markdown",
   "id": "a909c94b",
   "metadata": {
    "ExecuteTime": {
     "end_time": "2022-11-28T13:21:28.711155Z",
     "start_time": "2022-11-28T13:21:28.705706Z"
    }
   },
   "source": [
    "### __dunder__"
   ]
  },
  {
   "cell_type": "code",
   "execution_count": 48,
   "id": "c89f5965",
   "metadata": {
    "ExecuteTime": {
     "end_time": "2022-11-28T13:25:56.547881Z",
     "start_time": "2022-11-28T13:25:56.534283Z"
    }
   },
   "outputs": [],
   "source": [
    "class SloppyAdder():\n",
    "    def __init__(self, o):\n",
    "        self.o = o\n",
    "    def __add__(self,b):\n",
    "        return SloppyAdder(self.o + b.o + 0.01)\n",
    "    def __repr__(self):\n",
    "        return str(self.o)"
   ]
  },
  {
   "cell_type": "code",
   "execution_count": 49,
   "id": "23ede692",
   "metadata": {
    "ExecuteTime": {
     "end_time": "2022-11-28T13:25:57.502185Z",
     "start_time": "2022-11-28T13:25:57.498357Z"
    }
   },
   "outputs": [
    {
     "data": {
      "text/plain": [
       "3.01"
      ]
     },
     "execution_count": 49,
     "metadata": {},
     "output_type": "execute_result"
    }
   ],
   "source": [
    "a = SloppyAdder(1)\n",
    "b = SloppyAdder(2)\n",
    "a+b"
   ]
  },
  {
   "cell_type": "markdown",
   "id": "47745551",
   "metadata": {},
   "source": [
    "Special methods you should probably know about (see data model link above) are:\n",
    "\n",
    "- `__getitem__`\n",
    "- `__getattr__`\n",
    "- `__setattr__`\n",
    "- `__del__`\n",
    "- `__init__`\n",
    "- `__new__`\n",
    "- `__enter__`\n",
    "- `__exit__`\n",
    "- `__len__`\n",
    "- `__repr__`\n",
    "- `__str__`"
   ]
  },
  {
   "cell_type": "markdown",
   "id": "a6d26fe1",
   "metadata": {},
   "source": [
    "## __get_attr__ and getattr"
   ]
  },
  {
   "cell_type": "code",
   "execution_count": 53,
   "id": "ecdcbcfd",
   "metadata": {
    "ExecuteTime": {
     "end_time": "2022-11-28T13:40:43.789355Z",
     "start_time": "2022-11-28T13:40:43.786699Z"
    }
   },
   "outputs": [],
   "source": [
    "class A: \n",
    "    a,b= 1,2"
   ]
  },
  {
   "cell_type": "code",
   "execution_count": 54,
   "id": "2e09f550",
   "metadata": {
    "ExecuteTime": {
     "end_time": "2022-11-28T13:40:45.254275Z",
     "start_time": "2022-11-28T13:40:45.252089Z"
    }
   },
   "outputs": [],
   "source": [
    "a = A()"
   ]
  },
  {
   "cell_type": "code",
   "execution_count": 55,
   "id": "20540b16",
   "metadata": {
    "ExecuteTime": {
     "end_time": "2022-11-28T13:40:45.870534Z",
     "start_time": "2022-11-28T13:40:45.860338Z"
    }
   },
   "outputs": [
    {
     "data": {
      "text/plain": [
       "2"
      ]
     },
     "execution_count": 55,
     "metadata": {},
     "output_type": "execute_result"
    }
   ],
   "source": [
    "a.b"
   ]
  },
  {
   "cell_type": "code",
   "execution_count": 56,
   "id": "65fec394",
   "metadata": {
    "ExecuteTime": {
     "end_time": "2022-11-28T13:41:07.256066Z",
     "start_time": "2022-11-28T13:41:07.252721Z"
    }
   },
   "outputs": [
    {
     "data": {
      "text/plain": [
       "2"
      ]
     },
     "execution_count": 56,
     "metadata": {},
     "output_type": "execute_result"
    }
   ],
   "source": [
    "getattr(a, 'b')"
   ]
  },
  {
   "cell_type": "code",
   "execution_count": 63,
   "id": "19f28287",
   "metadata": {
    "ExecuteTime": {
     "end_time": "2022-11-28T13:42:14.357545Z",
     "start_time": "2022-11-28T13:42:14.347268Z"
    }
   },
   "outputs": [
    {
     "data": {
      "text/plain": [
       "1"
      ]
     },
     "execution_count": 63,
     "metadata": {},
     "output_type": "execute_result"
    }
   ],
   "source": [
    "getattr(a, 'b' if random.random() > 0.5 else 'a')"
   ]
  },
  {
   "cell_type": "code",
   "execution_count": 64,
   "id": "e89cf65d",
   "metadata": {
    "ExecuteTime": {
     "end_time": "2022-11-28T13:47:38.951876Z",
     "start_time": "2022-11-28T13:47:38.945148Z"
    }
   },
   "outputs": [],
   "source": [
    "class B:\n",
    "    a,b = 1,2\n",
    "    def __getattr__(self,k):\n",
    "        if k[0]=='_': raise AttributeError(k)\n",
    "        return f'Hello from {k}'"
   ]
  },
  {
   "cell_type": "code",
   "execution_count": 65,
   "id": "593a2bec",
   "metadata": {
    "ExecuteTime": {
     "end_time": "2022-11-28T13:47:45.580368Z",
     "start_time": "2022-11-28T13:47:45.572319Z"
    }
   },
   "outputs": [],
   "source": [
    "b = B()"
   ]
  },
  {
   "cell_type": "code",
   "execution_count": 66,
   "id": "e6827e68",
   "metadata": {
    "ExecuteTime": {
     "end_time": "2022-11-28T13:47:51.382449Z",
     "start_time": "2022-11-28T13:47:51.378093Z"
    }
   },
   "outputs": [
    {
     "data": {
      "text/plain": [
       "1"
      ]
     },
     "execution_count": 66,
     "metadata": {},
     "output_type": "execute_result"
    }
   ],
   "source": [
    "b.a"
   ]
  },
  {
   "cell_type": "code",
   "execution_count": 67,
   "id": "7b44ca39",
   "metadata": {
    "ExecuteTime": {
     "end_time": "2022-11-28T13:47:58.018881Z",
     "start_time": "2022-11-28T13:47:58.015208Z"
    }
   },
   "outputs": [
    {
     "data": {
      "text/plain": [
       "'Hello from foo'"
      ]
     },
     "execution_count": 67,
     "metadata": {},
     "output_type": "execute_result"
    }
   ],
   "source": [
    "b.foo"
   ]
  },
  {
   "cell_type": "code",
   "execution_count": 68,
   "id": "00908e9d",
   "metadata": {
    "ExecuteTime": {
     "end_time": "2022-11-28T13:48:07.680229Z",
     "start_time": "2022-11-28T13:48:07.676193Z"
    }
   },
   "outputs": [
    {
     "data": {
      "text/plain": [
       "'Hello from foo'"
      ]
     },
     "execution_count": 68,
     "metadata": {},
     "output_type": "execute_result"
    }
   ],
   "source": [
    "b.foo"
   ]
  },
  {
   "cell_type": "code",
   "execution_count": 69,
   "id": "79b69645",
   "metadata": {
    "ExecuteTime": {
     "end_time": "2022-11-28T13:48:21.658319Z",
     "start_time": "2022-11-28T13:48:21.654571Z"
    }
   },
   "outputs": [
    {
     "data": {
      "text/plain": [
       "1"
      ]
     },
     "execution_count": 69,
     "metadata": {},
     "output_type": "execute_result"
    }
   ],
   "source": [
    "b.a"
   ]
  },
  {
   "cell_type": "code",
   "execution_count": null,
   "id": "951379fd",
   "metadata": {},
   "outputs": [],
   "source": []
  }
 ],
 "metadata": {
  "kernelspec": {
   "display_name": "Python [conda env:fai] *",
   "language": "python",
   "name": "conda-env-fai-py"
  },
  "language_info": {
   "codemirror_mode": {
    "name": "ipython",
    "version": 3
   },
   "file_extension": ".py",
   "mimetype": "text/x-python",
   "name": "python",
   "nbconvert_exporter": "python",
   "pygments_lexer": "ipython3",
   "version": "3.10.4"
  },
  "varInspector": {
   "cols": {
    "lenName": 16,
    "lenType": 16,
    "lenVar": 40
   },
   "kernels_config": {
    "python": {
     "delete_cmd_postfix": "",
     "delete_cmd_prefix": "del ",
     "library": "var_list.py",
     "varRefreshCmd": "print(var_dic_list())"
    },
    "r": {
     "delete_cmd_postfix": ") ",
     "delete_cmd_prefix": "rm(",
     "library": "var_list.r",
     "varRefreshCmd": "cat(var_dic_list()) "
    }
   },
   "types_to_exclude": [
    "module",
    "function",
    "builtin_function_or_method",
    "instance",
    "_Feature"
   ],
   "window_display": false
  }
 },
 "nbformat": 4,
 "nbformat_minor": 5
}
