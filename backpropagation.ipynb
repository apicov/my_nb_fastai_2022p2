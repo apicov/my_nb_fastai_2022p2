{
 "cells": [
  {
   "cell_type": "code",
   "execution_count": 1,
   "id": "36d31003",
   "metadata": {
    "ExecuteTime": {
     "end_time": "2022-11-14T15:09:53.825165Z",
     "start_time": "2022-11-14T15:09:52.172614Z"
    }
   },
   "outputs": [],
   "source": [
    "import pickle,gzip,math,os,time,shutil,torch,matplotlib as mpl, numpy as np\n",
    "from pathlib import Path\n",
    "from torch import tensor\n",
    "\n",
    "mpl.rcParams['image.cmap'] = 'gray'\n",
    "torch.set_printoptions(precision=2, linewidth=140, sci_mode=False)\n",
    "np.set_printoptions(precision=2, linewidth=140)\n",
    "\n",
    "path_data = Path('data')\n",
    "path_gz = path_data/'mnist.pkl.gz'\n",
    "with gzip.open(path_gz, 'rb') as f: ((x_train, y_train), (x_valid, y_valid), _) = pickle.load(f, encoding='latin-1')\n",
    "x_train, y_train, x_valid, y_valid = map(tensor, [x_train, y_train, x_valid, y_valid])"
   ]
  },
  {
   "cell_type": "code",
   "execution_count": 2,
   "id": "33084e61",
   "metadata": {
    "ExecuteTime": {
     "end_time": "2022-11-14T15:09:53.833681Z",
     "start_time": "2022-11-14T15:09:53.826313Z"
    }
   },
   "outputs": [
    {
     "data": {
      "text/plain": [
       "(50000, 784, tensor(10))"
      ]
     },
     "execution_count": 2,
     "metadata": {},
     "output_type": "execute_result"
    }
   ],
   "source": [
    "n, m = x_train.shape\n",
    "c = y_train.max()+1\n",
    "n, m, c"
   ]
  },
  {
   "cell_type": "code",
   "execution_count": 3,
   "id": "99143e2b",
   "metadata": {
    "ExecuteTime": {
     "end_time": "2022-11-14T15:09:53.838873Z",
     "start_time": "2022-11-14T15:09:53.835918Z"
    }
   },
   "outputs": [],
   "source": [
    "# num hidden\n",
    "nh = 50"
   ]
  },
  {
   "cell_type": "code",
   "execution_count": 4,
   "id": "416c3dde",
   "metadata": {
    "ExecuteTime": {
     "end_time": "2022-11-14T15:09:53.843498Z",
     "start_time": "2022-11-14T15:09:53.840029Z"
    }
   },
   "outputs": [],
   "source": [
    "w1 = torch.randn(m,nh)\n",
    "b1 = torch.zeros(nh)\n",
    "w2 = torch.randn(nh,1)\n",
    "b2 = torch.zeros(1)"
   ]
  },
  {
   "cell_type": "code",
   "execution_count": 5,
   "id": "d6a74dfb",
   "metadata": {
    "ExecuteTime": {
     "end_time": "2022-11-14T15:09:53.846878Z",
     "start_time": "2022-11-14T15:09:53.844561Z"
    }
   },
   "outputs": [],
   "source": [
    "def lin(x, w, b):\n",
    "    return x@w + b"
   ]
  },
  {
   "cell_type": "code",
   "execution_count": 6,
   "id": "00cc1ae5",
   "metadata": {
    "ExecuteTime": {
     "end_time": "2022-11-14T15:09:53.858270Z",
     "start_time": "2022-11-14T15:09:53.848647Z"
    }
   },
   "outputs": [
    {
     "data": {
      "text/plain": [
       "torch.Size([10000, 50])"
      ]
     },
     "execution_count": 6,
     "metadata": {},
     "output_type": "execute_result"
    }
   ],
   "source": [
    "t = lin(x_valid, w1, b1)\n",
    "t.shape"
   ]
  },
  {
   "cell_type": "code",
   "execution_count": 7,
   "id": "e61eb4d0",
   "metadata": {
    "ExecuteTime": {
     "end_time": "2022-11-14T15:09:53.861999Z",
     "start_time": "2022-11-14T15:09:53.859631Z"
    }
   },
   "outputs": [],
   "source": [
    "def relu(x):\n",
    "    return x.clamp_min(0.)"
   ]
  },
  {
   "cell_type": "code",
   "execution_count": 8,
   "id": "c6cb7435",
   "metadata": {
    "ExecuteTime": {
     "end_time": "2022-11-14T15:09:53.867922Z",
     "start_time": "2022-11-14T15:09:53.863322Z"
    }
   },
   "outputs": [
    {
     "data": {
      "text/plain": [
       "tensor([[16.71,  0.00,  6.27,  ...,  8.47,  0.00,  0.00],\n",
       "        [18.79,  0.00,  4.62,  ..., 10.59,  6.40,  0.00],\n",
       "        [11.95,  1.91,  7.92,  ...,  3.96,  1.43,  0.00],\n",
       "        ...,\n",
       "        [ 0.00,  0.94,  3.64,  ..., 16.63,  8.00,  0.00],\n",
       "        [ 2.63,  0.00, 12.83,  ...,  5.43,  4.04,  0.00],\n",
       "        [ 2.10,  0.00,  9.26,  ...,  0.00,  9.66,  6.48]])"
      ]
     },
     "execution_count": 8,
     "metadata": {},
     "output_type": "execute_result"
    }
   ],
   "source": [
    "t = relu(t)\n",
    "t"
   ]
  },
  {
   "cell_type": "code",
   "execution_count": 9,
   "id": "3e7599f6",
   "metadata": {
    "ExecuteTime": {
     "end_time": "2022-11-14T15:09:53.873270Z",
     "start_time": "2022-11-14T15:09:53.870620Z"
    }
   },
   "outputs": [],
   "source": [
    "def model(xb):\n",
    "    l1 = lin(xb, w1, b1)\n",
    "    l2 = relu(l1)\n",
    "    return lin(l2, w2, b2)"
   ]
  },
  {
   "cell_type": "code",
   "execution_count": 10,
   "id": "b23f12b1",
   "metadata": {
    "ExecuteTime": {
     "end_time": "2022-11-14T15:09:53.885165Z",
     "start_time": "2022-11-14T15:09:53.874907Z"
    }
   },
   "outputs": [
    {
     "data": {
      "text/plain": [
       "torch.Size([10000, 1])"
      ]
     },
     "execution_count": 10,
     "metadata": {},
     "output_type": "execute_result"
    }
   ],
   "source": [
    "res = model(x_valid)\n",
    "res.shape"
   ]
  },
  {
   "cell_type": "code",
   "execution_count": 11,
   "id": "d0cc825f",
   "metadata": {
    "ExecuteTime": {
     "end_time": "2022-11-14T15:09:53.890204Z",
     "start_time": "2022-11-14T15:09:53.886652Z"
    }
   },
   "outputs": [
    {
     "data": {
      "text/plain": [
       "(torch.Size([10000, 1]), torch.Size([10000]))"
      ]
     },
     "execution_count": 11,
     "metadata": {},
     "output_type": "execute_result"
    }
   ],
   "source": [
    "res.shape, y_valid.shape"
   ]
  },
  {
   "cell_type": "code",
   "execution_count": 12,
   "id": "6ea423c2",
   "metadata": {
    "ExecuteTime": {
     "end_time": "2022-11-14T15:09:53.959882Z",
     "start_time": "2022-11-14T15:09:53.891920Z"
    }
   },
   "outputs": [
    {
     "data": {
      "text/plain": [
       "torch.Size([10000, 10000])"
      ]
     },
     "execution_count": 12,
     "metadata": {},
     "output_type": "execute_result"
    }
   ],
   "source": [
    "(res-y_valid).shape #not what we want"
   ]
  },
  {
   "cell_type": "code",
   "execution_count": 13,
   "id": "cd7730b3",
   "metadata": {
    "ExecuteTime": {
     "end_time": "2022-11-14T15:09:53.964510Z",
     "start_time": "2022-11-14T15:09:53.961112Z"
    }
   },
   "outputs": [
    {
     "data": {
      "text/plain": [
       "torch.Size([10000])"
      ]
     },
     "execution_count": 13,
     "metadata": {},
     "output_type": "execute_result"
    }
   ],
   "source": [
    "res[:,0].shape"
   ]
  },
  {
   "cell_type": "code",
   "execution_count": 14,
   "id": "fe1472a1",
   "metadata": {
    "ExecuteTime": {
     "end_time": "2022-11-14T15:09:53.969286Z",
     "start_time": "2022-11-14T15:09:53.966050Z"
    }
   },
   "outputs": [
    {
     "data": {
      "text/plain": [
       "torch.Size([10000])"
      ]
     },
     "execution_count": 14,
     "metadata": {},
     "output_type": "execute_result"
    }
   ],
   "source": [
    "res.squeeze().shape"
   ]
  },
  {
   "cell_type": "code",
   "execution_count": 15,
   "id": "a3fc76f6",
   "metadata": {
    "ExecuteTime": {
     "end_time": "2022-11-14T15:09:53.999338Z",
     "start_time": "2022-11-14T15:09:53.970985Z"
    }
   },
   "outputs": [
    {
     "data": {
      "text/plain": [
       "torch.Size([50000, 1])"
      ]
     },
     "execution_count": 15,
     "metadata": {},
     "output_type": "execute_result"
    }
   ],
   "source": [
    "y_train, y_valid = y_train.float(), y_valid.float()\n",
    "preds = model(x_train)\n",
    "preds.shape"
   ]
  },
  {
   "cell_type": "code",
   "execution_count": 16,
   "id": "67f61b40",
   "metadata": {
    "ExecuteTime": {
     "end_time": "2022-11-14T15:09:54.003037Z",
     "start_time": "2022-11-14T15:09:54.000533Z"
    }
   },
   "outputs": [],
   "source": [
    "def mse(output,targ):\n",
    "    return (output[:,0]-targ).pow(2).mean()"
   ]
  },
  {
   "cell_type": "code",
   "execution_count": 17,
   "id": "1c492db5",
   "metadata": {
    "ExecuteTime": {
     "end_time": "2022-11-14T15:09:54.007633Z",
     "start_time": "2022-11-14T15:09:54.004186Z"
    }
   },
   "outputs": [
    {
     "data": {
      "text/plain": [
       "tensor(1081.51)"
      ]
     },
     "execution_count": 17,
     "metadata": {},
     "output_type": "execute_result"
    }
   ],
   "source": [
    "mse(preds, y_train)"
   ]
  },
  {
   "cell_type": "markdown",
   "id": "3e0924e9",
   "metadata": {
    "ExecuteTime": {
     "end_time": "2022-11-11T19:44:49.029720Z",
     "start_time": "2022-11-11T19:44:49.021713Z"
    }
   },
   "source": [
    " ## Gradients"
   ]
  },
  {
   "cell_type": "code",
   "execution_count": 18,
   "id": "1beff73e",
   "metadata": {
    "ExecuteTime": {
     "end_time": "2022-11-14T15:09:54.502784Z",
     "start_time": "2022-11-14T15:09:54.009234Z"
    }
   },
   "outputs": [
    {
     "data": {
      "text/latex": [
       "$\\displaystyle 2 x$"
      ],
      "text/plain": [
       "2*x"
      ]
     },
     "execution_count": 18,
     "metadata": {},
     "output_type": "execute_result"
    }
   ],
   "source": [
    "from sympy import symbols, diff\n",
    "x,y = symbols('x y')\n",
    "diff(x**2,x)"
   ]
  },
  {
   "cell_type": "code",
   "execution_count": 19,
   "id": "75069369",
   "metadata": {
    "ExecuteTime": {
     "end_time": "2022-11-14T15:09:54.508368Z",
     "start_time": "2022-11-14T15:09:54.504009Z"
    }
   },
   "outputs": [
    {
     "data": {
      "text/latex": [
       "$\\displaystyle 6 x$"
      ],
      "text/plain": [
       "6*x"
      ]
     },
     "execution_count": 19,
     "metadata": {},
     "output_type": "execute_result"
    }
   ],
   "source": [
    "diff(3*x**2+9,x)"
   ]
  },
  {
   "cell_type": "code",
   "execution_count": 36,
   "id": "04f243bc",
   "metadata": {
    "ExecuteTime": {
     "end_time": "2022-11-15T16:18:44.288554Z",
     "start_time": "2022-11-15T16:18:44.279761Z"
    }
   },
   "outputs": [],
   "source": [
    "def lin_grad(inp, out, w, b):\n",
    "    #grad of matmul with respect to input\n",
    "    import pdb; pdb.set_trace()\n",
    "    inp.g = out.g @ w.t()\n",
    "    w.g = inp.T@out.g\n",
    "    b.g = out.g.sum(0)"
   ]
  },
  {
   "cell_type": "code",
   "execution_count": 42,
   "id": "b234048b",
   "metadata": {
    "ExecuteTime": {
     "end_time": "2022-11-16T14:30:11.773314Z",
     "start_time": "2022-11-16T14:30:11.769494Z"
    }
   },
   "outputs": [],
   "source": [
    "def forward_and_backward(inp, targ):\n",
    "    #forward pass\n",
    "    #import pdb; pdb.set_trace()\n",
    "    l1 = lin(inp, w1, b1)\n",
    "    l2 = relu(l1)\n",
    "    out = lin(l2, w2, b2)\n",
    "    diff = out[:,0]-targ\n",
    "    loss = diff.pow(2).mean()\n",
    "    import pdb; pdb.set_trace()\n",
    "    #backward pass\n",
    "    out.g = 2.*diff[:,None]/inp.shape[0] #dloss/dout\n",
    "    lin_grad(l2, out, w2, b2) \n",
    "    l1.g = (l1>0).float() * l2.g \n",
    "    lin_grad(inp,l1,w1,b1)"
   ]
  },
  {
   "cell_type": "code",
   "execution_count": 43,
   "id": "b414a51a",
   "metadata": {
    "ExecuteTime": {
     "end_time": "2022-11-16T14:39:16.612250Z",
     "start_time": "2022-11-16T14:30:12.484893Z"
    }
   },
   "outputs": [
    {
     "name": "stdout",
     "output_type": "stream",
     "text": [
      "> \u001b[0;32m/tmp/ipykernel_602491/111450975.py\u001b[0m(11)\u001b[0;36mforward_and_backward\u001b[0;34m()\u001b[0m\n",
      "\u001b[0;32m      9 \u001b[0;31m    \u001b[0;32mimport\u001b[0m \u001b[0mpdb\u001b[0m\u001b[0;34m;\u001b[0m \u001b[0mpdb\u001b[0m\u001b[0;34m.\u001b[0m\u001b[0mset_trace\u001b[0m\u001b[0;34m(\u001b[0m\u001b[0;34m)\u001b[0m\u001b[0;34m\u001b[0m\u001b[0;34m\u001b[0m\u001b[0m\n",
      "\u001b[0m\u001b[0;32m     10 \u001b[0;31m    \u001b[0;31m#backward pass\u001b[0m\u001b[0;34m\u001b[0m\u001b[0;34m\u001b[0m\u001b[0m\n",
      "\u001b[0m\u001b[0;32m---> 11 \u001b[0;31m    \u001b[0mout\u001b[0m\u001b[0;34m.\u001b[0m\u001b[0mg\u001b[0m \u001b[0;34m=\u001b[0m \u001b[0;36m2.\u001b[0m\u001b[0;34m*\u001b[0m\u001b[0mdiff\u001b[0m\u001b[0;34m[\u001b[0m\u001b[0;34m:\u001b[0m\u001b[0;34m,\u001b[0m\u001b[0;32mNone\u001b[0m\u001b[0;34m]\u001b[0m\u001b[0;34m/\u001b[0m\u001b[0minp\u001b[0m\u001b[0;34m.\u001b[0m\u001b[0mshape\u001b[0m\u001b[0;34m[\u001b[0m\u001b[0;36m0\u001b[0m\u001b[0;34m]\u001b[0m \u001b[0;31m#dloss/dout\u001b[0m\u001b[0;34m\u001b[0m\u001b[0;34m\u001b[0m\u001b[0m\n",
      "\u001b[0m\u001b[0;32m     12 \u001b[0;31m    \u001b[0mlin_grad\u001b[0m\u001b[0;34m(\u001b[0m\u001b[0ml2\u001b[0m\u001b[0;34m,\u001b[0m \u001b[0mout\u001b[0m\u001b[0;34m,\u001b[0m \u001b[0mw2\u001b[0m\u001b[0;34m,\u001b[0m \u001b[0mb2\u001b[0m\u001b[0;34m)\u001b[0m\u001b[0;34m\u001b[0m\u001b[0;34m\u001b[0m\u001b[0m\n",
      "\u001b[0m\u001b[0;32m     13 \u001b[0;31m    \u001b[0ml1\u001b[0m\u001b[0;34m.\u001b[0m\u001b[0mg\u001b[0m \u001b[0;34m=\u001b[0m \u001b[0;34m(\u001b[0m\u001b[0ml1\u001b[0m\u001b[0;34m>\u001b[0m\u001b[0;36m0\u001b[0m\u001b[0;34m)\u001b[0m\u001b[0;34m.\u001b[0m\u001b[0mfloat\u001b[0m\u001b[0;34m(\u001b[0m\u001b[0;34m)\u001b[0m \u001b[0;34m*\u001b[0m \u001b[0ml2\u001b[0m\u001b[0;34m.\u001b[0m\u001b[0mg\u001b[0m\u001b[0;34m\u001b[0m\u001b[0;34m\u001b[0m\u001b[0m\n",
      "\u001b[0m\n",
      "ipdb> n\n",
      "> \u001b[0;32m/tmp/ipykernel_602491/111450975.py\u001b[0m(12)\u001b[0;36mforward_and_backward\u001b[0;34m()\u001b[0m\n",
      "\u001b[0;32m     10 \u001b[0;31m    \u001b[0;31m#backward pass\u001b[0m\u001b[0;34m\u001b[0m\u001b[0;34m\u001b[0m\u001b[0m\n",
      "\u001b[0m\u001b[0;32m     11 \u001b[0;31m    \u001b[0mout\u001b[0m\u001b[0;34m.\u001b[0m\u001b[0mg\u001b[0m \u001b[0;34m=\u001b[0m \u001b[0;36m2.\u001b[0m\u001b[0;34m*\u001b[0m\u001b[0mdiff\u001b[0m\u001b[0;34m[\u001b[0m\u001b[0;34m:\u001b[0m\u001b[0;34m,\u001b[0m\u001b[0;32mNone\u001b[0m\u001b[0;34m]\u001b[0m\u001b[0;34m/\u001b[0m\u001b[0minp\u001b[0m\u001b[0;34m.\u001b[0m\u001b[0mshape\u001b[0m\u001b[0;34m[\u001b[0m\u001b[0;36m0\u001b[0m\u001b[0;34m]\u001b[0m \u001b[0;31m#dloss/dout\u001b[0m\u001b[0;34m\u001b[0m\u001b[0;34m\u001b[0m\u001b[0m\n",
      "\u001b[0m\u001b[0;32m---> 12 \u001b[0;31m    \u001b[0mlin_grad\u001b[0m\u001b[0;34m(\u001b[0m\u001b[0ml2\u001b[0m\u001b[0;34m,\u001b[0m \u001b[0mout\u001b[0m\u001b[0;34m,\u001b[0m \u001b[0mw2\u001b[0m\u001b[0;34m,\u001b[0m \u001b[0mb2\u001b[0m\u001b[0;34m)\u001b[0m\u001b[0;34m\u001b[0m\u001b[0;34m\u001b[0m\u001b[0m\n",
      "\u001b[0m\u001b[0;32m     13 \u001b[0;31m    \u001b[0ml1\u001b[0m\u001b[0;34m.\u001b[0m\u001b[0mg\u001b[0m \u001b[0;34m=\u001b[0m \u001b[0;34m(\u001b[0m\u001b[0ml1\u001b[0m\u001b[0;34m>\u001b[0m\u001b[0;36m0\u001b[0m\u001b[0;34m)\u001b[0m\u001b[0;34m.\u001b[0m\u001b[0mfloat\u001b[0m\u001b[0;34m(\u001b[0m\u001b[0;34m)\u001b[0m \u001b[0;34m*\u001b[0m \u001b[0ml2\u001b[0m\u001b[0;34m.\u001b[0m\u001b[0mg\u001b[0m\u001b[0;34m\u001b[0m\u001b[0;34m\u001b[0m\u001b[0m\n",
      "\u001b[0m\u001b[0;32m     14 \u001b[0;31m    \u001b[0mlin_grad\u001b[0m\u001b[0;34m(\u001b[0m\u001b[0minp\u001b[0m\u001b[0;34m,\u001b[0m\u001b[0ml1\u001b[0m\u001b[0;34m,\u001b[0m\u001b[0mw1\u001b[0m\u001b[0;34m,\u001b[0m\u001b[0mb1\u001b[0m\u001b[0;34m)\u001b[0m\u001b[0;34m\u001b[0m\u001b[0;34m\u001b[0m\u001b[0m\n",
      "\u001b[0m\n",
      "ipdb> out.shape\n",
      "torch.Size([50000, 1])\n",
      "ipdb> targ.shape\n",
      "torch.Size([50000])\n",
      "ipdb> q\n"
     ]
    }
   ],
   "source": [
    "forward_and_backward(x_train, y_train)"
   ]
  },
  {
   "cell_type": "code",
   "execution_count": 35,
   "id": "46fd05fd",
   "metadata": {
    "ExecuteTime": {
     "end_time": "2022-11-15T16:18:10.865882Z",
     "start_time": "2022-11-15T16:18:10.846143Z"
    }
   },
   "outputs": [
    {
     "data": {
      "text/plain": [
       "tensor([[0., 0., 0.,  ..., 0., 0., 0.],\n",
       "        [0., 0., 0.,  ..., 0., 0., 0.],\n",
       "        [0., 0., 0.,  ..., 0., 0., 0.],\n",
       "        ...,\n",
       "        [0., 0., 0.,  ..., 0., 0., 0.],\n",
       "        [0., 0., 0.,  ..., 0., 0., 0.],\n",
       "        [0., 0., 0.,  ..., 0., 0., 0.]])"
      ]
     },
     "execution_count": 35,
     "metadata": {},
     "output_type": "execute_result"
    }
   ],
   "source": [
    "#x_train.g.zero_()"
   ]
  },
  {
   "cell_type": "code",
   "execution_count": 24,
   "id": "b7985318",
   "metadata": {
    "ExecuteTime": {
     "end_time": "2022-11-14T15:09:54.615781Z",
     "start_time": "2022-11-14T15:09:54.610727Z"
    }
   },
   "outputs": [
    {
     "data": {
      "text/plain": [
       "tensor([[    -0.02,      0.01,      0.00,  ...,      0.00,     -0.00,      0.01],\n",
       "        [    -0.00,      0.00,      0.00,  ...,      0.00,     -0.00,      0.00],\n",
       "        [    -0.01,      0.01,      0.01,  ...,      0.00,     -0.00,      0.00],\n",
       "        ...,\n",
       "        [    -0.00,     -0.00,     -0.00,  ...,     -0.00,     -0.00,     -0.00],\n",
       "        [    -0.00,      0.01,      0.01,  ...,      0.01,     -0.01,      0.00],\n",
       "        [     0.00,     -0.00,     -0.00,  ...,     -0.00,      0.00,     -0.00]])"
      ]
     },
     "execution_count": 24,
     "metadata": {},
     "output_type": "execute_result"
    }
   ],
   "source": [
    "x_train.g"
   ]
  },
  {
   "cell_type": "code",
   "execution_count": 25,
   "id": "93a7154d",
   "metadata": {
    "ExecuteTime": {
     "end_time": "2022-11-14T15:20:03.114204Z",
     "start_time": "2022-11-14T15:20:03.089662Z"
    }
   },
   "outputs": [],
   "source": [
    "# Save for testing against later\n",
    "w1g = w1.g.clone()\n",
    "w2g = w2.g.clone()\n",
    "b1g = b1.g.clone()\n",
    "b2g = b2.g.clone()\n",
    "ig  = x_train.g.clone()"
   ]
  },
  {
   "cell_type": "markdown",
   "id": "984f91a8",
   "metadata": {
    "ExecuteTime": {
     "end_time": "2022-11-14T15:21:17.414276Z",
     "start_time": "2022-11-14T15:21:17.411446Z"
    }
   },
   "source": [
    "## pytorch autograd"
   ]
  },
  {
   "cell_type": "code",
   "execution_count": 27,
   "id": "cde38b67",
   "metadata": {
    "ExecuteTime": {
     "end_time": "2022-11-14T15:22:34.545049Z",
     "start_time": "2022-11-14T15:22:34.515465Z"
    }
   },
   "outputs": [],
   "source": [
    "xt2 = x_train.clone().requires_grad_(True)\n",
    "w12 = w1.clone().requires_grad_(True)\n",
    "w22 = w2.clone().requires_grad_(True)\n",
    "b12 = b1.clone().requires_grad_(True)\n",
    "b22 = b2.clone().requires_grad_(True)"
   ]
  },
  {
   "cell_type": "code",
   "execution_count": 28,
   "id": "96a255e3",
   "metadata": {
    "ExecuteTime": {
     "end_time": "2022-11-14T15:23:22.006573Z",
     "start_time": "2022-11-14T15:23:22.003676Z"
    }
   },
   "outputs": [],
   "source": [
    "def forward(inp, targ):\n",
    "    l1 = inp @ w12 + b12\n",
    "    l2 = relu(l1)\n",
    "    out = l2 @ w22 + b22\n",
    "    return mse(out, targ)"
   ]
  },
  {
   "cell_type": "code",
   "execution_count": 30,
   "id": "e3b1873f",
   "metadata": {
    "ExecuteTime": {
     "end_time": "2022-11-14T15:26:53.356138Z",
     "start_time": "2022-11-14T15:26:53.257163Z"
    }
   },
   "outputs": [],
   "source": [
    "loss = forward(xt2,y_train)\n",
    "loss.backward()"
   ]
  },
  {
   "cell_type": "code",
   "execution_count": 31,
   "id": "8a4fd5de",
   "metadata": {
    "ExecuteTime": {
     "end_time": "2022-11-14T15:28:25.460551Z",
     "start_time": "2022-11-14T15:28:25.449167Z"
    }
   },
   "outputs": [],
   "source": [
    "from fastcore.test import test_close"
   ]
  },
  {
   "cell_type": "code",
   "execution_count": 32,
   "id": "2e31efa6",
   "metadata": {
    "ExecuteTime": {
     "end_time": "2022-11-14T15:28:38.638707Z",
     "start_time": "2022-11-14T15:28:38.549087Z"
    }
   },
   "outputs": [],
   "source": [
    "test_close(w22.grad, w2g, eps=0.01)\n",
    "test_close(b22.grad, b2g, eps=0.01)\n",
    "test_close(w12.grad, w1g, eps=0.01)\n",
    "test_close(b12.grad, b1g, eps=0.01)\n",
    "test_close(xt2.grad, ig , eps=0.01)"
   ]
  },
  {
   "cell_type": "markdown",
   "id": "93cd91a3",
   "metadata": {
    "ExecuteTime": {
     "end_time": "2022-11-14T15:29:23.511855Z",
     "start_time": "2022-11-14T15:29:23.509593Z"
    }
   },
   "source": [
    "# REfactor model"
   ]
  },
  {
   "cell_type": "code",
   "execution_count": 39,
   "id": "e5a88a97",
   "metadata": {
    "ExecuteTime": {
     "end_time": "2022-11-15T19:36:04.710356Z",
     "start_time": "2022-11-15T19:36:04.707333Z"
    }
   },
   "outputs": [],
   "source": [
    "class Relu():\n",
    "    def __call__(self, inp):\n",
    "        self.inp = inp\n",
    "        self.out = inp.clamp_min(0.)\n",
    "        return self.out\n",
    "    \n",
    "    def backward(self):\n",
    "        self.inp.g = (self.inp > 0).float() * self.out.g"
   ]
  },
  {
   "cell_type": "code",
   "execution_count": 41,
   "id": "da527bda",
   "metadata": {
    "ExecuteTime": {
     "end_time": "2022-11-16T14:10:02.944379Z",
     "start_time": "2022-11-16T14:10:02.940206Z"
    }
   },
   "outputs": [],
   "source": [
    "class Lin():\n",
    "    def __init__(self, w, b):\n",
    "        self.w, self.b = w, b\n",
    "        \n",
    "    def __call__(self, inp):\n",
    "        self.inp = inp\n",
    "        self.out = lin(inp, self.w, self.b)\n",
    "        return self.out\n",
    "    \n",
    "    def backward(self):\n",
    "        self.inp.g = self.out.g @ self.w.t()\n",
    "        self.w.g = self.inp.t() @ self.out.g\n",
    "        self.b.g = self.out.g.sum(0)"
   ]
  },
  {
   "cell_type": "code",
   "execution_count": 78,
   "id": "e03b2f51",
   "metadata": {
    "ExecuteTime": {
     "end_time": "2022-11-16T16:14:24.660446Z",
     "start_time": "2022-11-16T16:14:24.655848Z"
    }
   },
   "outputs": [],
   "source": [
    "class Mse():\n",
    "    def __call__(self, inp, targ):\n",
    "        self.inp , self.targ = inp, targ\n",
    "        self.out = mse(inp, targ)\n",
    "        return self.out\n",
    "    \n",
    "    def backward(self):\n",
    "        self.inp.g = 2. * (self.inp.squeeze() - self.targ).unsqueeze(-1) / self.targ.shape[0] #solo para un nodo de salida?\n",
    "        "
   ]
  },
  {
   "cell_type": "code",
   "execution_count": 79,
   "id": "ab098097",
   "metadata": {
    "ExecuteTime": {
     "end_time": "2022-11-16T16:14:30.464186Z",
     "start_time": "2022-11-16T16:14:30.455993Z"
    }
   },
   "outputs": [],
   "source": [
    "class Model():\n",
    "    def __init__(self, w1, b1, w2, b2):\n",
    "        self.layers = [Lin(w1,b1), Relu(), Lin(w2,b2)]\n",
    "        self.loss = Mse()\n",
    "        \n",
    "    def __call__(self, x, targ):\n",
    "        for l in self.layers:\n",
    "            x = l(x)\n",
    "        return self.loss(x,targ)\n",
    "    \n",
    "    def backward(self):\n",
    "        self.loss.backward()\n",
    "        for l in reversed(self.layers):\n",
    "            l.backward()"
   ]
  },
  {
   "cell_type": "code",
   "execution_count": 80,
   "id": "18d06c9a",
   "metadata": {
    "ExecuteTime": {
     "end_time": "2022-11-16T16:14:31.030760Z",
     "start_time": "2022-11-16T16:14:31.018878Z"
    }
   },
   "outputs": [],
   "source": [
    "model = Model(w1, b1, w2, b2)"
   ]
  },
  {
   "cell_type": "code",
   "execution_count": 81,
   "id": "50fdd472",
   "metadata": {
    "ExecuteTime": {
     "end_time": "2022-11-16T16:14:31.395184Z",
     "start_time": "2022-11-16T16:14:31.346892Z"
    }
   },
   "outputs": [],
   "source": [
    "loss = model(x_train, y_train)"
   ]
  },
  {
   "cell_type": "code",
   "execution_count": 82,
   "id": "25c154bb",
   "metadata": {
    "ExecuteTime": {
     "end_time": "2022-11-16T16:14:32.197168Z",
     "start_time": "2022-11-16T16:14:32.070276Z"
    }
   },
   "outputs": [],
   "source": [
    "model.backward()"
   ]
  },
  {
   "cell_type": "code",
   "execution_count": 83,
   "id": "c7b0e8b4",
   "metadata": {
    "ExecuteTime": {
     "end_time": "2022-11-16T16:15:25.252074Z",
     "start_time": "2022-11-16T16:15:25.026538Z"
    }
   },
   "outputs": [],
   "source": [
    "test_close(w2g, w2.g, eps=0.01)\n",
    "test_close(b2g, b2.g, eps=0.01)\n",
    "test_close(w1g, w1.g, eps=0.01)\n",
    "test_close(b1g, b1.g, eps=0.01)\n",
    "test_close(ig, x_train.g, eps=0.01)"
   ]
  },
  {
   "cell_type": "markdown",
   "id": "b19906e7",
   "metadata": {
    "ExecuteTime": {
     "end_time": "2022-11-16T16:16:51.182921Z",
     "start_time": "2022-11-16T16:16:51.180906Z"
    }
   },
   "source": [
    "## module.forward"
   ]
  },
  {
   "cell_type": "code",
   "execution_count": 86,
   "id": "64516310",
   "metadata": {
    "ExecuteTime": {
     "end_time": "2022-11-16T22:43:13.959382Z",
     "start_time": "2022-11-16T22:43:13.943496Z"
    }
   },
   "outputs": [],
   "source": [
    "class Module():\n",
    "    def __call__(self, *args):\n",
    "        self.args = args\n",
    "        self.out = self.forward(*args)\n",
    "        return self.out  \n",
    "    def forward(self):\n",
    "        raise Exception('Not implemented')\n",
    "    def backward(self):\n",
    "        self.bwd(self.out, *self.args)\n",
    "    def bwd(self):\n",
    "        raise Exception('Not implemented')"
   ]
  },
  {
   "cell_type": "code",
   "execution_count": 104,
   "id": "fd4dca64",
   "metadata": {
    "ExecuteTime": {
     "end_time": "2022-11-17T18:42:14.266916Z",
     "start_time": "2022-11-17T18:42:14.251691Z"
    }
   },
   "outputs": [],
   "source": [
    "class Relu(Module):\n",
    "    def forward(self, inp):\n",
    "        return inp.clamp_min(0.)\n",
    "    def bwd(self, out, inp):\n",
    "        inp.g = (inp > 0).float() * out.g"
   ]
  },
  {
   "cell_type": "code",
   "execution_count": 109,
   "id": "72e658fd",
   "metadata": {
    "ExecuteTime": {
     "end_time": "2022-11-17T19:01:24.990772Z",
     "start_time": "2022-11-17T19:01:24.987272Z"
    }
   },
   "outputs": [],
   "source": [
    "class Lin(Module):\n",
    "    def __init__(self, w, b):\n",
    "        self.w, self.b = w, b\n",
    "    def forward(self, inp):\n",
    "        return inp@self.w + self.b\n",
    "    def bwd(self,out,inp):\n",
    "        inp.g = self.out.g @ self.w.t()\n",
    "        self.w.g = inp.t() @ self.out.g\n",
    "        self.b.g = self.out.g.sum(0)"
   ]
  },
  {
   "cell_type": "code",
   "execution_count": 110,
   "id": "4d59b3de",
   "metadata": {
    "ExecuteTime": {
     "end_time": "2022-11-17T19:01:25.272831Z",
     "start_time": "2022-11-17T19:01:25.265494Z"
    }
   },
   "outputs": [],
   "source": [
    "class Mse(Module):\n",
    "    def forward(self, inp, targ):\n",
    "        return (inp.squeeze() - targ).pow(2).mean()\n",
    "    def bwd(self, out, inp, targ):\n",
    "        inp.g = 2 * (inp.squeeze() - targ).unsqueeze(-1) / targ.shape[0]"
   ]
  },
  {
   "cell_type": "code",
   "execution_count": 111,
   "id": "e8a7a82b",
   "metadata": {
    "ExecuteTime": {
     "end_time": "2022-11-17T19:01:25.686380Z",
     "start_time": "2022-11-17T19:01:25.682791Z"
    }
   },
   "outputs": [],
   "source": [
    "model = Model(w1, b1, w2, b2)"
   ]
  },
  {
   "cell_type": "code",
   "execution_count": 112,
   "id": "1bec0f90",
   "metadata": {
    "ExecuteTime": {
     "end_time": "2022-11-17T19:01:27.057886Z",
     "start_time": "2022-11-17T19:01:27.025059Z"
    }
   },
   "outputs": [],
   "source": [
    "loss = model(x_train, y_train)"
   ]
  },
  {
   "cell_type": "code",
   "execution_count": 113,
   "id": "753d927f",
   "metadata": {
    "ExecuteTime": {
     "end_time": "2022-11-17T19:01:53.303402Z",
     "start_time": "2022-11-17T19:01:53.216958Z"
    }
   },
   "outputs": [],
   "source": [
    "model.backward()"
   ]
  },
  {
   "cell_type": "code",
   "execution_count": 114,
   "id": "66c098d9",
   "metadata": {
    "ExecuteTime": {
     "end_time": "2022-11-17T19:02:30.171858Z",
     "start_time": "2022-11-17T19:02:30.071440Z"
    }
   },
   "outputs": [],
   "source": [
    "test_close(w2g, w2.g, eps=0.01)\n",
    "test_close(b2g, b2.g, eps=0.01)\n",
    "test_close(w1g, w1.g, eps=0.01)\n",
    "test_close(b1g, b1.g, eps=0.01)\n",
    "test_close(ig, x_train.g, eps=0.01)"
   ]
  },
  {
   "cell_type": "markdown",
   "id": "aa74c2b5",
   "metadata": {},
   "source": [
    "## Autograd"
   ]
  },
  {
   "cell_type": "code",
   "execution_count": 115,
   "id": "1c2a30ab",
   "metadata": {
    "ExecuteTime": {
     "end_time": "2022-11-17T19:07:50.630400Z",
     "start_time": "2022-11-17T19:07:50.624608Z"
    }
   },
   "outputs": [],
   "source": [
    "from torch import nn\n",
    "import torch.nn.functional as F"
   ]
  },
  {
   "cell_type": "code",
   "execution_count": 120,
   "id": "92e72fef",
   "metadata": {
    "ExecuteTime": {
     "end_time": "2022-11-17T19:51:58.848063Z",
     "start_time": "2022-11-17T19:51:58.844198Z"
    }
   },
   "outputs": [],
   "source": [
    "class Linear(nn.Module):\n",
    "    def __init__(self, n_in, n_out):\n",
    "        super().__init__()\n",
    "        self.w = torch.randn(n_in, n_out).requires_grad_()\n",
    "        self.b = torch.zeros(n_out).requires_grad_()\n",
    "    def forward(self, inp):\n",
    "        return inp@self.w + self.b"
   ]
  },
  {
   "cell_type": "code",
   "execution_count": 129,
   "id": "f1f8274e",
   "metadata": {
    "ExecuteTime": {
     "end_time": "2022-11-17T19:55:45.156489Z",
     "start_time": "2022-11-17T19:55:45.145177Z"
    }
   },
   "outputs": [],
   "source": [
    "class Model(nn.Module):\n",
    "    def __init__(self, n_in, nh, n_out):\n",
    "        super().__init__()\n",
    "        self.layers = [Linear(n_in,nh), nn.ReLU(), Linear(nh, n_out)]\n",
    "    def forward(self, x, targ):\n",
    "        for l in self.layers:\n",
    "            x = l(x)\n",
    "        return F.mse_loss(x, targ[:,None])"
   ]
  },
  {
   "cell_type": "code",
   "execution_count": 130,
   "id": "f3dc26b8",
   "metadata": {
    "ExecuteTime": {
     "end_time": "2022-11-17T19:55:45.418739Z",
     "start_time": "2022-11-17T19:55:45.358600Z"
    }
   },
   "outputs": [],
   "source": [
    "model = Model(m, nh, 1)\n",
    "loss = model(x_train, y_train)\n",
    "loss.backward()"
   ]
  },
  {
   "cell_type": "code",
   "execution_count": 131,
   "id": "45f080e2",
   "metadata": {
    "ExecuteTime": {
     "end_time": "2022-11-17T19:55:46.273120Z",
     "start_time": "2022-11-17T19:55:46.259293Z"
    }
   },
   "outputs": [
    {
     "data": {
      "text/plain": [
       "tensor([   -17.21,      7.03,    101.29,     74.58,     -4.47,     63.51,     59.04,    193.68,      2.44,    -21.20,    101.63,      2.69,\n",
       "            81.84,     67.91,    133.15,    -47.66,    215.08,    -57.13,    -89.19,     24.66,     99.81,     61.46,    198.97,     55.98,\n",
       "           -86.37,    -30.38,    -28.61,      2.21,    -68.43,      0.11,     21.68,      0.22,      9.14,    109.53,      2.54,      9.45,\n",
       "            22.46,     61.57,     60.60,      9.37,     11.73,    -11.93,     22.53,     51.65,   -101.33,    -62.67,    -17.56,     -2.98,\n",
       "            39.20,    104.26])"
      ]
     },
     "execution_count": 131,
     "metadata": {},
     "output_type": "execute_result"
    }
   ],
   "source": [
    "l0 = model.layers[0]\n",
    "l0.b.grad"
   ]
  },
  {
   "cell_type": "code",
   "execution_count": null,
   "id": "f4aedfb6",
   "metadata": {},
   "outputs": [],
   "source": []
  }
 ],
 "metadata": {
  "kernelspec": {
   "display_name": "Python [conda env:fai] *",
   "language": "python",
   "name": "conda-env-fai-py"
  },
  "language_info": {
   "codemirror_mode": {
    "name": "ipython",
    "version": 3
   },
   "file_extension": ".py",
   "mimetype": "text/x-python",
   "name": "python",
   "nbconvert_exporter": "python",
   "pygments_lexer": "ipython3",
   "version": "3.10.4"
  },
  "varInspector": {
   "cols": {
    "lenName": 16,
    "lenType": 16,
    "lenVar": 40
   },
   "kernels_config": {
    "python": {
     "delete_cmd_postfix": "",
     "delete_cmd_prefix": "del ",
     "library": "var_list.py",
     "varRefreshCmd": "print(var_dic_list())"
    },
    "r": {
     "delete_cmd_postfix": ") ",
     "delete_cmd_prefix": "rm(",
     "library": "var_list.r",
     "varRefreshCmd": "cat(var_dic_list()) "
    }
   },
   "types_to_exclude": [
    "module",
    "function",
    "builtin_function_or_method",
    "instance",
    "_Feature"
   ],
   "window_display": false
  }
 },
 "nbformat": 4,
 "nbformat_minor": 5
}
