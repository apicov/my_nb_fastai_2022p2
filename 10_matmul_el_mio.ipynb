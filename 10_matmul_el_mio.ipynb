{
 "cells": [
  {
   "cell_type": "code",
   "execution_count": 1,
   "id": "1fb7c985-9861-43ab-b77d-36d134e30626",
   "metadata": {
    "ExecuteTime": {
     "end_time": "2022-10-27T20:42:48.501707Z",
     "start_time": "2022-10-27T20:42:48.293943Z"
    }
   },
   "outputs": [],
   "source": [
    "from pathlib import Path\n",
    "import pickle, gzip, math, os, time, shutil, matplotlib as mpl, matplotlib.pyplot as plt"
   ]
  },
  {
   "cell_type": "code",
   "execution_count": 2,
   "id": "cb17dc70",
   "metadata": {
    "ExecuteTime": {
     "end_time": "2022-10-27T20:42:49.245078Z",
     "start_time": "2022-10-27T20:42:49.242931Z"
    }
   },
   "outputs": [],
   "source": [
    "MNIST_URL = 'https://github.com/mnielsen/neural-networks-and-deep-learning/blob/master/data/mnist.pkl.gz?raw=true'\n",
    "path_data = Path('../data')\n",
    "path_data.mkdir(exist_ok=True)\n",
    "path_gz = path_data/'mnist.pkl.gz'"
   ]
  },
  {
   "cell_type": "code",
   "execution_count": 3,
   "id": "6b6cfe70",
   "metadata": {
    "ExecuteTime": {
     "end_time": "2022-10-27T20:42:50.326511Z",
     "start_time": "2022-10-27T20:42:50.324213Z"
    }
   },
   "outputs": [],
   "source": [
    "from urllib.request import urlretrieve\n",
    "if not path_gz.exists(): \n",
    "    urlretrieve(MNIST_URL, path_gz)"
   ]
  },
  {
   "cell_type": "code",
   "execution_count": 6,
   "id": "c5464ef7",
   "metadata": {
    "ExecuteTime": {
     "end_time": "2022-10-27T20:43:24.213970Z",
     "start_time": "2022-10-27T20:43:24.085557Z"
    }
   },
   "outputs": [
    {
     "name": "stdout",
     "output_type": "stream",
     "text": [
      "total 16656\r\n",
      "-rw-rw-r-- 1 pico pico 17051982 Oct 26 17:01 mnist.pkl.gz\r\n"
     ]
    }
   ],
   "source": [
    "!ls -l {path_data}"
   ]
  },
  {
   "cell_type": "code",
   "execution_count": 7,
   "id": "5e199efb",
   "metadata": {
    "ExecuteTime": {
     "end_time": "2022-10-27T20:43:43.324855Z",
     "start_time": "2022-10-27T20:43:42.634780Z"
    }
   },
   "outputs": [],
   "source": [
    "with gzip.open(path_gz, 'rb') as f:\n",
    "    ((x_train, y_train), (x_valid,y_valid), _) = pickle.load(f,encoding='latin-1')"
   ]
  },
  {
   "cell_type": "code",
   "execution_count": 8,
   "id": "4d48e2a4",
   "metadata": {
    "ExecuteTime": {
     "end_time": "2022-10-27T20:43:46.887246Z",
     "start_time": "2022-10-27T20:43:46.882663Z"
    }
   },
   "outputs": [
    {
     "data": {
      "text/plain": [
       "[0.0,\n",
       " 0.0,\n",
       " 0.0,\n",
       " 0.19140625,\n",
       " 0.9296875,\n",
       " 0.98828125,\n",
       " 0.98828125,\n",
       " 0.98828125,\n",
       " 0.98828125,\n",
       " 0.98828125]"
      ]
     },
     "execution_count": 8,
     "metadata": {},
     "output_type": "execute_result"
    }
   ],
   "source": [
    "lst1 = list(x_train[0])\n",
    "vals = lst1[200:210]\n",
    "vals"
   ]
  },
  {
   "cell_type": "code",
   "execution_count": 9,
   "id": "a7e33ffc",
   "metadata": {
    "ExecuteTime": {
     "end_time": "2022-10-27T20:43:50.695909Z",
     "start_time": "2022-10-27T20:43:50.689548Z"
    }
   },
   "outputs": [],
   "source": [
    "def chunks(x, sz):\n",
    "    for i in range(0,len(x),sz):\n",
    "        yield x[i:i+sz]"
   ]
  },
  {
   "cell_type": "code",
   "execution_count": 10,
   "id": "6e87464e",
   "metadata": {
    "ExecuteTime": {
     "end_time": "2022-10-27T20:43:53.971495Z",
     "start_time": "2022-10-27T20:43:53.874682Z"
    }
   },
   "outputs": [
    {
     "data": {
      "text/plain": [
       "<matplotlib.image.AxesImage at 0x7f2e8178df40>"
      ]
     },
     "execution_count": 10,
     "metadata": {},
     "output_type": "execute_result"
    },
    {
     "data": {
      "image/png": "[encoded data removed]",
      "text/plain": [
       "<Figure size 432x288 with 1 Axes>"
      ]
     },
     "metadata": {
      "needs_background": "light"
     },
     "output_type": "display_data"
    }
   ],
   "source": [
    "mpl.rcParams['image.cmap'] = 'gray'\n",
    "plt.imshow(list(chunks(lst1,28)))"
   ]
  },
  {
   "cell_type": "code",
   "execution_count": 11,
   "id": "952bd43b",
   "metadata": {
    "ExecuteTime": {
     "end_time": "2022-10-27T20:43:55.676923Z",
     "start_time": "2022-10-27T20:43:55.672625Z"
    }
   },
   "outputs": [],
   "source": [
    "from itertools import islice"
   ]
  },
  {
   "cell_type": "code",
   "execution_count": 12,
   "id": "90ce0bec",
   "metadata": {
    "ExecuteTime": {
     "end_time": "2022-10-27T20:43:59.282749Z",
     "start_time": "2022-10-27T20:43:59.280291Z"
    }
   },
   "outputs": [],
   "source": [
    "it = iter(vals)"
   ]
  },
  {
   "cell_type": "code",
   "execution_count": 13,
   "id": "b0c418b9",
   "metadata": {
    "ExecuteTime": {
     "end_time": "2022-10-27T20:44:02.141431Z",
     "start_time": "2022-10-27T20:44:02.138930Z"
    }
   },
   "outputs": [],
   "source": [
    "ii= islice(it,5)"
   ]
  },
  {
   "cell_type": "code",
   "execution_count": 19,
   "id": "150978c8",
   "metadata": {
    "ExecuteTime": {
     "end_time": "2022-10-27T20:44:16.941362Z",
     "start_time": "2022-10-27T20:44:16.913238Z"
    }
   },
   "outputs": [
    {
     "ename": "StopIteration",
     "evalue": "",
     "output_type": "error",
     "traceback": [
      "\u001b[0;31m---------------------------------------------------------------------------\u001b[0m",
      "\u001b[0;31mStopIteration\u001b[0m                             Traceback (most recent call last)",
      "\u001b[0;32m<ipython-input-19-8ad9079e7eb3>\u001b[0m in \u001b[0;36m<module>\u001b[0;34m\u001b[0m\n\u001b[0;32m----> 1\u001b[0;31m \u001b[0mnext\u001b[0m\u001b[0;34m(\u001b[0m\u001b[0mii\u001b[0m\u001b[0;34m)\u001b[0m\u001b[0;34m\u001b[0m\u001b[0;34m\u001b[0m\u001b[0m\n\u001b[0m",
      "\u001b[0;31mStopIteration\u001b[0m: "
     ]
    }
   ],
   "source": [
    "next(ii)"
   ]
  },
  {
   "cell_type": "code",
   "execution_count": 20,
   "id": "c89a1ba5",
   "metadata": {
    "ExecuteTime": {
     "end_time": "2022-10-27T20:49:34.488967Z",
     "start_time": "2022-10-27T20:49:34.486424Z"
    }
   },
   "outputs": [],
   "source": [
    "def f(): return list(islice(it,28))"
   ]
  },
  {
   "cell_type": "code",
   "execution_count": 21,
   "id": "a1841638",
   "metadata": {
    "ExecuteTime": {
     "end_time": "2022-10-27T20:50:01.229039Z",
     "start_time": "2022-10-27T20:50:01.220848Z"
    }
   },
   "outputs": [],
   "source": [
    "it = iter(lst1)"
   ]
  },
  {
   "cell_type": "code",
   "execution_count": null,
   "id": "eeab2c2c",
   "metadata": {},
   "outputs": [],
   "source": [
    "f()"
   ]
  },
  {
   "cell_type": "code",
   "execution_count": 34,
   "id": "fe4fbb87",
   "metadata": {
    "ExecuteTime": {
     "end_time": "2022-10-27T21:01:43.585970Z",
     "start_time": "2022-10-27T21:01:43.583445Z"
    }
   },
   "outputs": [],
   "source": [
    "it = iter(lst1)\n",
    "img = list(iter(lambda : list(islice(it,28)),[]))"
   ]
  },
  {
   "cell_type": "code",
   "execution_count": 36,
   "id": "844a213a",
   "metadata": {
    "ExecuteTime": {
     "end_time": "2022-10-27T21:02:13.898241Z",
     "start_time": "2022-10-27T21:02:13.814064Z"
    }
   },
   "outputs": [
    {
     "data": {
      "text/plain": [
       "<matplotlib.image.AxesImage at 0x7f2e817b7be0>"
      ]
     },
     "execution_count": 36,
     "metadata": {},
     "output_type": "execute_result"
    },
    {
     "data": {
      "image/png": "[encoded data removed]",
      "text/plain": [
       "<Figure size 432x288 with 1 Axes>"
      ]
     },
     "metadata": {
      "needs_background": "light"
     },
     "output_type": "display_data"
    }
   ],
   "source": [
    "plt.imshow(img)"
   ]
  },
  {
   "cell_type": "markdown",
   "id": "3e7e9c97",
   "metadata": {
    "ExecuteTime": {
     "end_time": "2022-10-27T21:03:36.219664Z",
     "start_time": "2022-10-27T21:03:36.214908Z"
    }
   },
   "source": [
    "## Matrix and tensor"
   ]
  },
  {
   "cell_type": "code",
   "execution_count": 40,
   "id": "ac7f75e6",
   "metadata": {
    "ExecuteTime": {
     "end_time": "2022-10-27T21:19:03.358933Z",
     "start_time": "2022-10-27T21:19:03.344759Z"
    }
   },
   "outputs": [
    {
     "data": {
      "text/plain": [
       "0.98828125"
      ]
     },
     "execution_count": 40,
     "metadata": {},
     "output_type": "execute_result"
    }
   ],
   "source": [
    "img[20][15] "
   ]
  },
  {
   "cell_type": "code",
   "execution_count": 41,
   "id": "845b7487",
   "metadata": {
    "ExecuteTime": {
     "end_time": "2022-10-27T21:19:04.351095Z",
     "start_time": "2022-10-27T21:19:04.348762Z"
    }
   },
   "outputs": [],
   "source": [
    "class Matrix:\n",
    "    def __init__(self,xs):\n",
    "        self.xs = xs\n",
    "    def __getitem__(self, idxs): \n",
    "        return self.xs[idxs[0]][idxs[1]]"
   ]
  },
  {
   "cell_type": "code",
   "execution_count": 43,
   "id": "e4f8dfe0",
   "metadata": {
    "ExecuteTime": {
     "end_time": "2022-10-27T21:20:05.363775Z",
     "start_time": "2022-10-27T21:20:05.360185Z"
    }
   },
   "outputs": [
    {
     "data": {
      "text/plain": [
       "0.98828125"
      ]
     },
     "execution_count": 43,
     "metadata": {},
     "output_type": "execute_result"
    }
   ],
   "source": [
    "m = Matrix(img)\n",
    "m[20,15]"
   ]
  },
  {
   "cell_type": "code",
   "execution_count": 44,
   "id": "3c45ac09",
   "metadata": {
    "ExecuteTime": {
     "end_time": "2022-10-27T21:21:39.159733Z",
     "start_time": "2022-10-27T21:21:38.515060Z"
    }
   },
   "outputs": [],
   "source": [
    "import torch\n",
    "from torch import tensor"
   ]
  },
  {
   "cell_type": "code",
   "execution_count": 45,
   "id": "637aac77",
   "metadata": {
    "ExecuteTime": {
     "end_time": "2022-10-27T21:21:48.577932Z",
     "start_time": "2022-10-27T21:21:48.552321Z"
    }
   },
   "outputs": [
    {
     "data": {
      "text/plain": [
       "tensor([1, 2, 3])"
      ]
     },
     "execution_count": 45,
     "metadata": {},
     "output_type": "execute_result"
    }
   ],
   "source": [
    "tensor([1,2,3])"
   ]
  },
  {
   "cell_type": "code",
   "execution_count": 46,
   "id": "00065500",
   "metadata": {
    "ExecuteTime": {
     "end_time": "2022-10-27T21:22:06.262088Z",
     "start_time": "2022-10-27T21:22:06.253340Z"
    }
   },
   "outputs": [],
   "source": [
    "tens = tensor(img)"
   ]
  },
  {
   "cell_type": "code",
   "execution_count": 47,
   "id": "ef3e5444",
   "metadata": {
    "ExecuteTime": {
     "end_time": "2022-10-27T21:22:12.401602Z",
     "start_time": "2022-10-27T21:22:12.388643Z"
    }
   },
   "outputs": [
    {
     "data": {
      "text/plain": [
       "tensor(0.9883)"
      ]
     },
     "execution_count": 47,
     "metadata": {},
     "output_type": "execute_result"
    }
   ],
   "source": [
    "tens[20,15]"
   ]
  },
  {
   "cell_type": "code",
   "execution_count": 50,
   "id": "d76e7894",
   "metadata": {
    "ExecuteTime": {
     "end_time": "2022-10-27T21:25:06.439915Z",
     "start_time": "2022-10-27T21:25:06.392599Z"
    }
   },
   "outputs": [
    {
     "name": "stderr",
     "output_type": "stream",
     "text": [
      "<ipython-input-50-66145db8fb92>:2: UserWarning: To copy construct from a tensor, it is recommended to use sourceTensor.clone().detach() or sourceTensor.clone().detach().requires_grad_(True), rather than torch.tensor(sourceTensor).\n",
      "  x_train, y_train,x_valid,y_valid = map(tensor,(x_train, y_train,x_valid,y_valid))\n"
     ]
    },
    {
     "data": {
      "text/plain": [
       "torch.Size([50000, 784])"
      ]
     },
     "execution_count": 50,
     "metadata": {},
     "output_type": "execute_result"
    }
   ],
   "source": [
    "#convert lists into tensors\n",
    "x_train, y_train,x_valid,y_valid = map(tensor,(x_train, y_train,x_valid,y_valid))\n",
    "x_train.shape"
   ]
  },
  {
   "cell_type": "code",
   "execution_count": 51,
   "id": "b61b4a25",
   "metadata": {
    "ExecuteTime": {
     "end_time": "2022-10-27T21:27:10.544792Z",
     "start_time": "2022-10-27T21:27:10.539302Z"
    }
   },
   "outputs": [
    {
     "data": {
      "text/plain": [
       "torch.Size([50000, 28, 28])"
      ]
     },
     "execution_count": 51,
     "metadata": {},
     "output_type": "execute_result"
    }
   ],
   "source": [
    "imgs = x_train.reshape(-1,28,28)\n",
    "imgs.shape"
   ]
  },
  {
   "cell_type": "code",
   "execution_count": 52,
   "id": "8a41542b",
   "metadata": {
    "ExecuteTime": {
     "end_time": "2022-10-27T21:32:43.629169Z",
     "start_time": "2022-10-27T21:32:43.512406Z"
    }
   },
   "outputs": [
    {
     "data": {
      "text/plain": [
       "<matplotlib.image.AxesImage at 0x7f2e778c49d0>"
      ]
     },
     "execution_count": 52,
     "metadata": {},
     "output_type": "execute_result"
    },
    {
     "data": {
      "image/png": "[encoded data removed]",
      "text/plain": [
       "<Figure size 432x288 with 1 Axes>"
      ]
     },
     "metadata": {
      "needs_background": "light"
     },
     "output_type": "display_data"
    }
   ],
   "source": [
    "plt.imshow(imgs[0])"
   ]
  },
  {
   "cell_type": "code",
   "execution_count": 53,
   "id": "d69971c9",
   "metadata": {
    "ExecuteTime": {
     "end_time": "2022-10-27T21:34:41.847920Z",
     "start_time": "2022-10-27T21:34:41.834674Z"
    }
   },
   "outputs": [
    {
     "data": {
      "text/plain": [
       "tensor(0.9883)"
      ]
     },
     "execution_count": 53,
     "metadata": {},
     "output_type": "execute_result"
    }
   ],
   "source": [
    "imgs[0,20,15]"
   ]
  },
  {
   "cell_type": "code",
   "execution_count": 54,
   "id": "46c92b4d",
   "metadata": {
    "ExecuteTime": {
     "end_time": "2022-10-27T21:34:55.902131Z",
     "start_time": "2022-10-27T21:34:55.889928Z"
    }
   },
   "outputs": [
    {
     "data": {
      "text/plain": [
       "torch.Size([50000, 784])"
      ]
     },
     "execution_count": 54,
     "metadata": {},
     "output_type": "execute_result"
    }
   ],
   "source": [
    "x_train.shape"
   ]
  },
  {
   "cell_type": "code",
   "execution_count": 55,
   "id": "27c3e316",
   "metadata": {
    "ExecuteTime": {
     "end_time": "2022-10-27T21:35:35.157373Z",
     "start_time": "2022-10-27T21:35:35.154972Z"
    }
   },
   "outputs": [],
   "source": [
    "n,c = x_train.shape"
   ]
  },
  {
   "cell_type": "code",
   "execution_count": 56,
   "id": "6db337af",
   "metadata": {
    "ExecuteTime": {
     "end_time": "2022-10-27T21:36:10.884343Z",
     "start_time": "2022-10-27T21:36:10.880097Z"
    }
   },
   "outputs": [
    {
     "data": {
      "text/plain": [
       "(tensor([5, 0, 4,  ..., 8, 4, 8]), torch.Size([50000]))"
      ]
     },
     "execution_count": 56,
     "metadata": {},
     "output_type": "execute_result"
    }
   ],
   "source": [
    "y_train, y_train.shape"
   ]
  },
  {
   "cell_type": "code",
   "execution_count": 58,
   "id": "65050f64",
   "metadata": {
    "ExecuteTime": {
     "end_time": "2022-10-27T21:36:25.354879Z",
     "start_time": "2022-10-27T21:36:25.350216Z"
    }
   },
   "outputs": [
    {
     "data": {
      "text/plain": [
       "50000"
      ]
     },
     "execution_count": 58,
     "metadata": {},
     "output_type": "execute_result"
    }
   ],
   "source": [
    "n"
   ]
  },
  {
   "cell_type": "code",
   "execution_count": 59,
   "id": "628e5fc3",
   "metadata": {
    "ExecuteTime": {
     "end_time": "2022-10-27T21:37:13.764063Z",
     "start_time": "2022-10-27T21:37:13.061548Z"
    }
   },
   "outputs": [
    {
     "data": {
      "text/plain": [
       "(tensor(0), tensor(9))"
      ]
     },
     "execution_count": 59,
     "metadata": {},
     "output_type": "execute_result"
    }
   ],
   "source": [
    "min(y_train), max(y_train)"
   ]
  },
  {
   "cell_type": "code",
   "execution_count": 60,
   "id": "e742d88b",
   "metadata": {
    "ExecuteTime": {
     "end_time": "2022-10-27T21:37:41.943315Z",
     "start_time": "2022-10-27T21:37:41.939167Z"
    }
   },
   "outputs": [
    {
     "data": {
      "text/plain": [
       "(tensor(0), tensor(9))"
      ]
     },
     "execution_count": 60,
     "metadata": {},
     "output_type": "execute_result"
    }
   ],
   "source": [
    "y_train.min() , y_train.max()"
   ]
  },
  {
   "cell_type": "markdown",
   "id": "b7ca4806",
   "metadata": {},
   "source": [
    "## Random numbers "
   ]
  },
  {
   "cell_type": "code",
   "execution_count": 61,
   "id": "cab25c3e",
   "metadata": {
    "ExecuteTime": {
     "end_time": "2022-10-27T21:43:20.306440Z",
     "start_time": "2022-10-27T21:43:20.295364Z"
    }
   },
   "outputs": [],
   "source": [
    "rnd_state = None\n",
    "def seed(a):\n",
    "    global rnd_state\n",
    "    a, x = divmod(a, 30268)\n",
    "    a, y = divmod(a, 30306)\n",
    "    a, z = divmod(a, 30322)\n",
    "    rnd_state = int(x)+1, int(y)+1, int(z)+1"
   ]
  },
  {
   "cell_type": "code",
   "execution_count": 62,
   "id": "dcad5a96",
   "metadata": {
    "ExecuteTime": {
     "end_time": "2022-10-27T21:43:51.376751Z",
     "start_time": "2022-10-27T21:43:51.366187Z"
    }
   },
   "outputs": [
    {
     "data": {
      "text/plain": [
       "(7623, 12, 1)"
      ]
     },
     "execution_count": 62,
     "metadata": {},
     "output_type": "execute_result"
    }
   ],
   "source": [
    "seed(340570)\n",
    "rnd_state"
   ]
  },
  {
   "cell_type": "code",
   "execution_count": 63,
   "id": "1283558f",
   "metadata": {
    "ExecuteTime": {
     "end_time": "2022-10-27T21:44:36.434975Z",
     "start_time": "2022-10-27T21:44:36.423616Z"
    }
   },
   "outputs": [],
   "source": [
    "def rand():\n",
    "    global rnd_state\n",
    "    x, y, z = rnd_state\n",
    "    x = (171 * x) % 30269\n",
    "    y = (172 * y) % 30307\n",
    "    z = (170 * z) % 30323\n",
    "    rnd_state = x,y,z\n",
    "    return (x/30269 + y/30307 + z/30323) % 1.0"
   ]
  },
  {
   "cell_type": "code",
   "execution_count": 64,
   "id": "48afa306",
   "metadata": {
    "ExecuteTime": {
     "end_time": "2022-10-27T21:45:17.879748Z",
     "start_time": "2022-10-27T21:45:17.868915Z"
    }
   },
   "outputs": [
    {
     "data": {
      "text/plain": [
       "(0.13866032384694274, 0.7734121508792164, 0.014135376180295145)"
      ]
     },
     "execution_count": 64,
     "metadata": {},
     "output_type": "execute_result"
    }
   ],
   "source": [
    "rand(), rand(), rand()"
   ]
  },
  {
   "cell_type": "code",
   "execution_count": 65,
   "id": "247eadfb",
   "metadata": {
    "ExecuteTime": {
     "end_time": "2022-10-27T21:51:38.126942Z",
     "start_time": "2022-10-27T21:51:37.901792Z"
    }
   },
   "outputs": [
    {
     "name": "stdout",
     "output_type": "stream",
     "text": [
      "3.17 ms ± 235 µs per loop (mean ± std. dev. of 7 runs, 10 loops each)\n"
     ]
    }
   ],
   "source": [
    "%timeit -n 10 list(chunks([rand() for _ in range(7840)],10))"
   ]
  },
  {
   "cell_type": "code",
   "execution_count": 66,
   "id": "9286a395",
   "metadata": {
    "ExecuteTime": {
     "end_time": "2022-10-27T21:53:32.385119Z",
     "start_time": "2022-10-27T21:53:32.361452Z"
    }
   },
   "outputs": [
    {
     "name": "stdout",
     "output_type": "stream",
     "text": [
      "The slowest run took 15.55 times longer than the fastest. This could mean that an intermediate result is being cached.\n",
      "260 µs ± 405 µs per loop (mean ± std. dev. of 7 runs, 10 loops each)\n"
     ]
    }
   ],
   "source": [
    "%timeit -n 10 torch.randn(784,10)"
   ]
  },
  {
   "cell_type": "code",
   "execution_count": 67,
   "id": "2d7dc376",
   "metadata": {
    "ExecuteTime": {
     "end_time": "2022-10-27T21:55:24.578762Z",
     "start_time": "2022-10-27T21:55:24.549644Z"
    }
   },
   "outputs": [
    {
     "data": {
      "text/plain": [
       "True"
      ]
     },
     "execution_count": 67,
     "metadata": {},
     "output_type": "execute_result"
    }
   ],
   "source": [
    "torch.cuda.is_available()"
   ]
  },
  {
   "cell_type": "code",
   "execution_count": null,
   "id": "ee26610e",
   "metadata": {},
   "outputs": [],
   "source": []
  }
 ],
 "metadata": {
  "kernelspec": {
   "display_name": "Python [conda env:fastai]",
   "language": "python",
   "name": "conda-env-fastai-py"
  },
  "varInspector": {
   "cols": {
    "lenName": 16,
    "lenType": 16,
    "lenVar": 40
   },
   "kernels_config": {
    "python": {
     "delete_cmd_postfix": "",
     "delete_cmd_prefix": "del ",
     "library": "var_list.py",
     "varRefreshCmd": "print(var_dic_list())"
    },
    "r": {
     "delete_cmd_postfix": ") ",
     "delete_cmd_prefix": "rm(",
     "library": "var_list.r",
     "varRefreshCmd": "cat(var_dic_list()) "
    }
   },
   "types_to_exclude": [
    "module",
    "function",
    "builtin_function_or_method",
    "instance",
    "_Feature"
   ],
   "window_display": false
  }
 },
 "nbformat": 4,
 "nbformat_minor": 5
}
