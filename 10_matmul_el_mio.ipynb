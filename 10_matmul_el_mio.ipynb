{
 "cells": [
  {
   "cell_type": "code",
   "execution_count": 105,
   "id": "1fb7c985-9861-43ab-b77d-36d134e30626",
   "metadata": {
    "ExecuteTime": {
     "end_time": "2022-10-29T17:32:48.612011Z",
     "start_time": "2022-10-29T17:32:48.607159Z"
    }
   },
   "outputs": [],
   "source": [
    "from pathlib import Path\n",
    "import pickle, gzip, math, os, time, shutil, matplotlib as mpl, matplotlib.pyplot as plt"
   ]
  },
  {
   "cell_type": "code",
   "execution_count": 106,
   "id": "cb17dc70",
   "metadata": {
    "ExecuteTime": {
     "end_time": "2022-10-29T17:32:49.277347Z",
     "start_time": "2022-10-29T17:32:49.267517Z"
    }
   },
   "outputs": [],
   "source": [
    "MNIST_URL = 'https://github.com/mnielsen/neural-networks-and-deep-learning/blob/master/data/mnist.pkl.gz?raw=true'\n",
    "path_data = Path('../data')\n",
    "path_data.mkdir(exist_ok=True)\n",
    "path_gz = path_data/'mnist.pkl.gz'"
   ]
  },
  {
   "cell_type": "code",
   "execution_count": 107,
   "id": "6b6cfe70",
   "metadata": {
    "ExecuteTime": {
     "end_time": "2022-10-29T17:32:49.465901Z",
     "start_time": "2022-10-29T17:32:49.461083Z"
    }
   },
   "outputs": [],
   "source": [
    "from urllib.request import urlretrieve\n",
    "if not path_gz.exists(): \n",
    "    urlretrieve(MNIST_URL, path_gz)"
   ]
  },
  {
   "cell_type": "code",
   "execution_count": 108,
   "id": "c5464ef7",
   "metadata": {
    "ExecuteTime": {
     "end_time": "2022-10-29T17:32:49.844900Z",
     "start_time": "2022-10-29T17:32:49.694414Z"
    }
   },
   "outputs": [
    {
     "name": "stdout",
     "output_type": "stream",
     "text": [
      "total 16656\r\n",
      "-rw-rw-r-- 1 pico pico 17051982 Oct 26 17:01 mnist.pkl.gz\r\n"
     ]
    }
   ],
   "source": [
    "!ls -l {path_data}"
   ]
  },
  {
   "cell_type": "code",
   "execution_count": 109,
   "id": "5e199efb",
   "metadata": {
    "ExecuteTime": {
     "end_time": "2022-10-29T17:32:50.525056Z",
     "start_time": "2022-10-29T17:32:49.894521Z"
    }
   },
   "outputs": [],
   "source": [
    "with gzip.open(path_gz, 'rb') as f:\n",
    "    ((x_train, y_train), (x_valid,y_valid), _) = pickle.load(f,encoding='latin-1')"
   ]
  },
  {
   "cell_type": "code",
   "execution_count": 110,
   "id": "4d48e2a4",
   "metadata": {
    "ExecuteTime": {
     "end_time": "2022-10-29T17:32:50.785348Z",
     "start_time": "2022-10-29T17:32:50.779313Z"
    }
   },
   "outputs": [
    {
     "data": {
      "text/plain": [
       "[0.0,\n",
       " 0.0,\n",
       " 0.0,\n",
       " 0.19140625,\n",
       " 0.9296875,\n",
       " 0.98828125,\n",
       " 0.98828125,\n",
       " 0.98828125,\n",
       " 0.98828125,\n",
       " 0.98828125]"
      ]
     },
     "execution_count": 110,
     "metadata": {},
     "output_type": "execute_result"
    }
   ],
   "source": [
    "lst1 = list(x_train[0])\n",
    "vals = lst1[200:210]\n",
    "vals"
   ]
  },
  {
   "cell_type": "code",
   "execution_count": 111,
   "id": "a7e33ffc",
   "metadata": {
    "ExecuteTime": {
     "end_time": "2022-10-29T17:32:51.309097Z",
     "start_time": "2022-10-29T17:32:51.305192Z"
    }
   },
   "outputs": [],
   "source": [
    "def chunks(x, sz):\n",
    "    for i in range(0,len(x),sz):\n",
    "        yield x[i:i+sz]"
   ]
  },
  {
   "cell_type": "code",
   "execution_count": 112,
   "id": "6e87464e",
   "metadata": {
    "ExecuteTime": {
     "end_time": "2022-10-29T17:32:53.698826Z",
     "start_time": "2022-10-29T17:32:53.604229Z"
    }
   },
   "outputs": [
    {
     "data": {
      "text/plain": [
       "<matplotlib.image.AxesImage at 0x7f3a600a9540>"
      ]
     },
     "execution_count": 112,
     "metadata": {},
     "output_type": "execute_result"
    },
    {
     "data": {
      "image/png": "[encoded data removed]",
      "text/plain": [
       "<Figure size 432x288 with 1 Axes>"
      ]
     },
     "metadata": {
      "needs_background": "light"
     },
     "output_type": "display_data"
    }
   ],
   "source": [
    "mpl.rcParams['image.cmap'] = 'gray'\n",
    "plt.imshow(list(chunks(lst1,28)))"
   ]
  },
  {
   "cell_type": "code",
   "execution_count": 113,
   "id": "952bd43b",
   "metadata": {
    "ExecuteTime": {
     "end_time": "2022-10-29T17:32:54.447601Z",
     "start_time": "2022-10-29T17:32:54.440871Z"
    }
   },
   "outputs": [],
   "source": [
    "from itertools import islice"
   ]
  },
  {
   "cell_type": "code",
   "execution_count": 114,
   "id": "90ce0bec",
   "metadata": {
    "ExecuteTime": {
     "end_time": "2022-10-29T17:32:55.044504Z",
     "start_time": "2022-10-29T17:32:55.041948Z"
    }
   },
   "outputs": [],
   "source": [
    "it = iter(vals)"
   ]
  },
  {
   "cell_type": "code",
   "execution_count": 115,
   "id": "b0c418b9",
   "metadata": {
    "ExecuteTime": {
     "end_time": "2022-10-29T17:32:55.649867Z",
     "start_time": "2022-10-29T17:32:55.641748Z"
    }
   },
   "outputs": [],
   "source": [
    "ii= islice(it,5)"
   ]
  },
  {
   "cell_type": "code",
   "execution_count": 116,
   "id": "150978c8",
   "metadata": {
    "ExecuteTime": {
     "end_time": "2022-10-29T17:32:56.289813Z",
     "start_time": "2022-10-29T17:32:56.286472Z"
    }
   },
   "outputs": [
    {
     "data": {
      "text/plain": [
       "0.0"
      ]
     },
     "execution_count": 116,
     "metadata": {},
     "output_type": "execute_result"
    }
   ],
   "source": [
    "next(ii)"
   ]
  },
  {
   "cell_type": "code",
   "execution_count": 117,
   "id": "c89a1ba5",
   "metadata": {
    "ExecuteTime": {
     "end_time": "2022-10-29T17:32:56.965013Z",
     "start_time": "2022-10-29T17:32:56.960460Z"
    }
   },
   "outputs": [],
   "source": [
    "def f(): return list(islice(it,28))"
   ]
  },
  {
   "cell_type": "code",
   "execution_count": 118,
   "id": "fa4609f4",
   "metadata": {
    "ExecuteTime": {
     "end_time": "2022-10-29T17:33:00.340064Z",
     "start_time": "2022-10-29T17:33:00.337598Z"
    }
   },
   "outputs": [],
   "source": [
    "it = iter(lst1)"
   ]
  },
  {
   "cell_type": "code",
   "execution_count": 119,
   "id": "b363da84",
   "metadata": {
    "ExecuteTime": {
     "end_time": "2022-10-29T17:33:01.076679Z",
     "start_time": "2022-10-29T17:33:01.072398Z"
    }
   },
   "outputs": [
    {
     "data": {
      "text/plain": [
       "[0.0,\n",
       " 0.0,\n",
       " 0.0,\n",
       " 0.0,\n",
       " 0.0,\n",
       " 0.0,\n",
       " 0.0,\n",
       " 0.0,\n",
       " 0.0,\n",
       " 0.0,\n",
       " 0.0,\n",
       " 0.0,\n",
       " 0.0,\n",
       " 0.0,\n",
       " 0.0,\n",
       " 0.0,\n",
       " 0.0,\n",
       " 0.0,\n",
       " 0.0,\n",
       " 0.0,\n",
       " 0.0,\n",
       " 0.0,\n",
       " 0.0,\n",
       " 0.0,\n",
       " 0.0,\n",
       " 0.0,\n",
       " 0.0,\n",
       " 0.0]"
      ]
     },
     "execution_count": 119,
     "metadata": {},
     "output_type": "execute_result"
    }
   ],
   "source": [
    "f()"
   ]
  },
  {
   "cell_type": "code",
   "execution_count": 120,
   "id": "9d514afa",
   "metadata": {
    "ExecuteTime": {
     "end_time": "2022-10-29T17:33:01.675694Z",
     "start_time": "2022-10-29T17:33:01.669980Z"
    }
   },
   "outputs": [],
   "source": [
    "it = iter(lst1)\n",
    "img = list(iter(lambda : list(islice(it,28)),[]))"
   ]
  },
  {
   "cell_type": "code",
   "execution_count": 121,
   "id": "9a4caf57",
   "metadata": {
    "ExecuteTime": {
     "end_time": "2022-10-29T17:33:02.536865Z",
     "start_time": "2022-10-29T17:33:02.461544Z"
    }
   },
   "outputs": [
    {
     "data": {
      "text/plain": [
       "<matplotlib.image.AxesImage at 0x7f3a5f6734c0>"
      ]
     },
     "execution_count": 121,
     "metadata": {},
     "output_type": "execute_result"
    },
    {
     "data": {
      "image/png": "[encoded data removed]",
      "text/plain": [
       "<Figure size 432x288 with 1 Axes>"
      ]
     },
     "metadata": {
      "needs_background": "light"
     },
     "output_type": "display_data"
    }
   ],
   "source": [
    "plt.imshow(img)"
   ]
  },
  {
   "cell_type": "markdown",
   "id": "3dec8fd5",
   "metadata": {
    "ExecuteTime": {
     "end_time": "2022-10-27T21:03:36.219664Z",
     "start_time": "2022-10-27T21:03:36.214908Z"
    }
   },
   "source": [
    "## Matrix and tensor"
   ]
  },
  {
   "cell_type": "code",
   "execution_count": 122,
   "id": "2f0a0c1c",
   "metadata": {
    "ExecuteTime": {
     "end_time": "2022-10-29T17:33:03.970350Z",
     "start_time": "2022-10-29T17:33:03.967003Z"
    }
   },
   "outputs": [
    {
     "data": {
      "text/plain": [
       "0.98828125"
      ]
     },
     "execution_count": 122,
     "metadata": {},
     "output_type": "execute_result"
    }
   ],
   "source": [
    "img[20][15] "
   ]
  },
  {
   "cell_type": "code",
   "execution_count": 123,
   "id": "10206f0f",
   "metadata": {
    "ExecuteTime": {
     "end_time": "2022-10-29T17:33:04.530113Z",
     "start_time": "2022-10-29T17:33:04.520193Z"
    }
   },
   "outputs": [],
   "source": [
    "class Matrix:\n",
    "    def __init__(self,xs):\n",
    "        self.xs = xs\n",
    "    def __getitem__(self, idxs): \n",
    "        return self.xs[idxs[0]][idxs[1]]"
   ]
  },
  {
   "cell_type": "code",
   "execution_count": 124,
   "id": "33585cd7",
   "metadata": {
    "ExecuteTime": {
     "end_time": "2022-10-29T17:33:05.176760Z",
     "start_time": "2022-10-29T17:33:05.166764Z"
    }
   },
   "outputs": [
    {
     "data": {
      "text/plain": [
       "0.98828125"
      ]
     },
     "execution_count": 124,
     "metadata": {},
     "output_type": "execute_result"
    }
   ],
   "source": [
    "m = Matrix(img)\n",
    "m[20,15]"
   ]
  },
  {
   "cell_type": "code",
   "execution_count": 125,
   "id": "377deea6",
   "metadata": {
    "ExecuteTime": {
     "end_time": "2022-10-29T17:33:06.717371Z",
     "start_time": "2022-10-29T17:33:06.709503Z"
    }
   },
   "outputs": [],
   "source": [
    "import torch\n",
    "from torch import tensor"
   ]
  },
  {
   "cell_type": "code",
   "execution_count": 126,
   "id": "210eed43",
   "metadata": {
    "ExecuteTime": {
     "end_time": "2022-10-29T17:33:33.891935Z",
     "start_time": "2022-10-29T17:33:33.887440Z"
    }
   },
   "outputs": [
    {
     "data": {
      "text/plain": [
       "tensor([1, 2, 3])"
      ]
     },
     "execution_count": 126,
     "metadata": {},
     "output_type": "execute_result"
    }
   ],
   "source": [
    "tensor([1,2,3])"
   ]
  },
  {
   "cell_type": "code",
   "execution_count": 127,
   "id": "adfced59",
   "metadata": {
    "ExecuteTime": {
     "end_time": "2022-10-29T17:33:34.976397Z",
     "start_time": "2022-10-29T17:33:34.972082Z"
    }
   },
   "outputs": [],
   "source": [
    "tens = tensor(img)"
   ]
  },
  {
   "cell_type": "code",
   "execution_count": 128,
   "id": "74de617b",
   "metadata": {
    "ExecuteTime": {
     "end_time": "2022-10-29T17:33:35.357731Z",
     "start_time": "2022-10-29T17:33:35.348165Z"
    }
   },
   "outputs": [
    {
     "data": {
      "text/plain": [
       "tensor(0.99)"
      ]
     },
     "execution_count": 128,
     "metadata": {},
     "output_type": "execute_result"
    }
   ],
   "source": [
    "tens[20,15]"
   ]
  },
  {
   "cell_type": "code",
   "execution_count": 129,
   "id": "bf2d87f9",
   "metadata": {
    "ExecuteTime": {
     "end_time": "2022-10-29T17:33:35.677046Z",
     "start_time": "2022-10-29T17:33:35.616871Z"
    }
   },
   "outputs": [
    {
     "data": {
      "text/plain": [
       "torch.Size([50000, 784])"
      ]
     },
     "execution_count": 129,
     "metadata": {},
     "output_type": "execute_result"
    }
   ],
   "source": [
    "#convert lists into tensors\n",
    "x_train, y_train,x_valid,y_valid = map(tensor,(x_train, y_train,x_valid,y_valid))\n",
    "x_train.shape"
   ]
  },
  {
   "cell_type": "code",
   "execution_count": 130,
   "id": "83b02b4d",
   "metadata": {
    "ExecuteTime": {
     "end_time": "2022-10-29T17:33:35.870237Z",
     "start_time": "2022-10-29T17:33:35.866819Z"
    }
   },
   "outputs": [
    {
     "data": {
      "text/plain": [
       "torch.Size([50000, 28, 28])"
      ]
     },
     "execution_count": 130,
     "metadata": {},
     "output_type": "execute_result"
    }
   ],
   "source": [
    "imgs = x_train.reshape(-1,28,28)\n",
    "imgs.shape"
   ]
  },
  {
   "cell_type": "code",
   "execution_count": 131,
   "id": "d2a9371a",
   "metadata": {
    "ExecuteTime": {
     "end_time": "2022-10-29T17:33:36.204446Z",
     "start_time": "2022-10-29T17:33:36.125947Z"
    }
   },
   "outputs": [
    {
     "data": {
      "text/plain": [
       "<matplotlib.image.AxesImage at 0x7f3a5fc10d30>"
      ]
     },
     "execution_count": 131,
     "metadata": {},
     "output_type": "execute_result"
    },
    {
     "data": {
      "image/png": "[encoded data removed]",
      "text/plain": [
       "<Figure size 432x288 with 1 Axes>"
      ]
     },
     "metadata": {
      "needs_background": "light"
     },
     "output_type": "display_data"
    }
   ],
   "source": [
    "plt.imshow(imgs[0])"
   ]
  },
  {
   "cell_type": "code",
   "execution_count": 132,
   "id": "2472ad3e",
   "metadata": {
    "ExecuteTime": {
     "end_time": "2022-10-29T17:33:36.670543Z",
     "start_time": "2022-10-29T17:33:36.664202Z"
    }
   },
   "outputs": [
    {
     "data": {
      "text/plain": [
       "tensor(0.99)"
      ]
     },
     "execution_count": 132,
     "metadata": {},
     "output_type": "execute_result"
    }
   ],
   "source": [
    "imgs[0,20,15]"
   ]
  },
  {
   "cell_type": "code",
   "execution_count": 133,
   "id": "1ff54737",
   "metadata": {
    "ExecuteTime": {
     "end_time": "2022-10-29T17:33:37.130716Z",
     "start_time": "2022-10-29T17:33:37.127565Z"
    }
   },
   "outputs": [
    {
     "data": {
      "text/plain": [
       "torch.Size([50000, 784])"
      ]
     },
     "execution_count": 133,
     "metadata": {},
     "output_type": "execute_result"
    }
   ],
   "source": [
    "x_train.shape"
   ]
  },
  {
   "cell_type": "code",
   "execution_count": 134,
   "id": "6adf2b6b",
   "metadata": {
    "ExecuteTime": {
     "end_time": "2022-10-29T17:33:37.646406Z",
     "start_time": "2022-10-29T17:33:37.641450Z"
    }
   },
   "outputs": [],
   "source": [
    "n,c = x_train.shape"
   ]
  },
  {
   "cell_type": "code",
   "execution_count": 135,
   "id": "80ff5034",
   "metadata": {
    "ExecuteTime": {
     "end_time": "2022-10-29T17:33:38.146508Z",
     "start_time": "2022-10-29T17:33:38.136557Z"
    }
   },
   "outputs": [
    {
     "data": {
      "text/plain": [
       "(tensor([5, 0, 4,  ..., 8, 4, 8]), torch.Size([50000]))"
      ]
     },
     "execution_count": 135,
     "metadata": {},
     "output_type": "execute_result"
    }
   ],
   "source": [
    "y_train, y_train.shape"
   ]
  },
  {
   "cell_type": "code",
   "execution_count": 136,
   "id": "72be880e",
   "metadata": {
    "ExecuteTime": {
     "end_time": "2022-10-29T17:33:38.484172Z",
     "start_time": "2022-10-29T17:33:38.478051Z"
    }
   },
   "outputs": [
    {
     "data": {
      "text/plain": [
       "50000"
      ]
     },
     "execution_count": 136,
     "metadata": {},
     "output_type": "execute_result"
    }
   ],
   "source": [
    "n"
   ]
  },
  {
   "cell_type": "code",
   "execution_count": 137,
   "id": "dbb57ddb",
   "metadata": {
    "ExecuteTime": {
     "end_time": "2022-10-29T17:33:39.191182Z",
     "start_time": "2022-10-29T17:33:38.792346Z"
    }
   },
   "outputs": [
    {
     "data": {
      "text/plain": [
       "(tensor(0), tensor(9))"
      ]
     },
     "execution_count": 137,
     "metadata": {},
     "output_type": "execute_result"
    }
   ],
   "source": [
    "min(y_train), max(y_train)"
   ]
  },
  {
   "cell_type": "code",
   "execution_count": 138,
   "id": "6171a4db",
   "metadata": {
    "ExecuteTime": {
     "end_time": "2022-10-29T17:33:39.537891Z",
     "start_time": "2022-10-29T17:33:39.531217Z"
    }
   },
   "outputs": [
    {
     "data": {
      "text/plain": [
       "(tensor(0), tensor(9))"
      ]
     },
     "execution_count": 138,
     "metadata": {},
     "output_type": "execute_result"
    }
   ],
   "source": [
    "y_train.min() , y_train.max()"
   ]
  },
  {
   "cell_type": "markdown",
   "id": "f30f176d",
   "metadata": {},
   "source": [
    "## Random numbers "
   ]
  },
  {
   "cell_type": "code",
   "execution_count": 139,
   "id": "003f184f",
   "metadata": {
    "ExecuteTime": {
     "end_time": "2022-10-29T17:33:40.975086Z",
     "start_time": "2022-10-29T17:33:40.972494Z"
    }
   },
   "outputs": [],
   "source": [
    "rnd_state = None\n",
    "def seed(a):\n",
    "    global rnd_state\n",
    "    a, x = divmod(a, 30268)\n",
    "    a, y = divmod(a, 30306)\n",
    "    a, z = divmod(a, 30322)\n",
    "    rnd_state = int(x)+1, int(y)+1, int(z)+1"
   ]
  },
  {
   "cell_type": "code",
   "execution_count": 140,
   "id": "78765594",
   "metadata": {
    "ExecuteTime": {
     "end_time": "2022-10-29T17:33:42.656335Z",
     "start_time": "2022-10-29T17:33:42.653141Z"
    }
   },
   "outputs": [
    {
     "data": {
      "text/plain": [
       "(7623, 12, 1)"
      ]
     },
     "execution_count": 140,
     "metadata": {},
     "output_type": "execute_result"
    }
   ],
   "source": [
    "seed(340570)\n",
    "rnd_state"
   ]
  },
  {
   "cell_type": "code",
   "execution_count": 141,
   "id": "e0baed61",
   "metadata": {
    "ExecuteTime": {
     "end_time": "2022-10-29T17:33:43.036385Z",
     "start_time": "2022-10-29T17:33:43.029983Z"
    }
   },
   "outputs": [],
   "source": [
    "def rand():\n",
    "    global rnd_state\n",
    "    x, y, z = rnd_state\n",
    "    x = (171 * x) % 30269\n",
    "    y = (172 * y) % 30307\n",
    "    z = (170 * z) % 30323\n",
    "    rnd_state = x,y,z\n",
    "    return (x/30269 + y/30307 + z/30323) % 1.0"
   ]
  },
  {
   "cell_type": "code",
   "execution_count": 142,
   "id": "c63886f6",
   "metadata": {
    "ExecuteTime": {
     "end_time": "2022-10-29T17:33:43.377593Z",
     "start_time": "2022-10-29T17:33:43.370799Z"
    }
   },
   "outputs": [
    {
     "data": {
      "text/plain": [
       "(0.13866032384694274, 0.7734121508792164, 0.014135376180295145)"
      ]
     },
     "execution_count": 142,
     "metadata": {},
     "output_type": "execute_result"
    }
   ],
   "source": [
    "rand(), rand(), rand()"
   ]
  },
  {
   "cell_type": "code",
   "execution_count": 143,
   "id": "9076267c",
   "metadata": {
    "ExecuteTime": {
     "end_time": "2022-10-29T17:33:43.950548Z",
     "start_time": "2022-10-29T17:33:43.715165Z"
    }
   },
   "outputs": [
    {
     "name": "stdout",
     "output_type": "stream",
     "text": [
      "3.28 ms ± 433 µs per loop (mean ± std. dev. of 7 runs, 10 loops each)\n"
     ]
    }
   ],
   "source": [
    "%timeit -n 10 list(chunks([rand() for _ in range(7840)],10))"
   ]
  },
  {
   "cell_type": "code",
   "execution_count": 144,
   "id": "cfdff450",
   "metadata": {
    "ExecuteTime": {
     "end_time": "2022-10-29T17:33:44.102154Z",
     "start_time": "2022-10-29T17:33:44.085300Z"
    }
   },
   "outputs": [
    {
     "name": "stdout",
     "output_type": "stream",
     "text": [
      "The slowest run took 28.47 times longer than the fastest. This could mean that an intermediate result is being cached.\n",
      "179 µs ± 347 µs per loop (mean ± std. dev. of 7 runs, 10 loops each)\n"
     ]
    }
   ],
   "source": [
    "%timeit -n 10 torch.randn(784,10)"
   ]
  },
  {
   "cell_type": "code",
   "execution_count": 145,
   "id": "de9dd1d7",
   "metadata": {
    "ExecuteTime": {
     "end_time": "2022-10-29T17:33:44.632702Z",
     "start_time": "2022-10-29T17:33:44.616044Z"
    }
   },
   "outputs": [
    {
     "data": {
      "text/plain": [
       "True"
      ]
     },
     "execution_count": 145,
     "metadata": {},
     "output_type": "execute_result"
    }
   ],
   "source": [
    "torch.cuda.is_available()"
   ]
  },
  {
   "cell_type": "markdown",
   "id": "3b24e143",
   "metadata": {},
   "source": [
    "## matrix multiplication"
   ]
  },
  {
   "cell_type": "code",
   "execution_count": 146,
   "id": "79e48667",
   "metadata": {
    "ExecuteTime": {
     "end_time": "2022-10-29T17:33:46.670379Z",
     "start_time": "2022-10-29T17:33:46.656044Z"
    }
   },
   "outputs": [],
   "source": [
    "torch.manual_seed(1)\n",
    "weights = torch.randn(784,10)\n",
    "bias = torch.zeros(10)"
   ]
  },
  {
   "cell_type": "code",
   "execution_count": 147,
   "id": "01e7ed8b",
   "metadata": {
    "ExecuteTime": {
     "end_time": "2022-10-29T17:33:47.121777Z",
     "start_time": "2022-10-29T17:33:47.117940Z"
    }
   },
   "outputs": [],
   "source": [
    "m1 = x_valid[:5]\n",
    "m2 = weights"
   ]
  },
  {
   "cell_type": "code",
   "execution_count": 148,
   "id": "f3436c8a",
   "metadata": {
    "ExecuteTime": {
     "end_time": "2022-10-29T17:33:48.096155Z",
     "start_time": "2022-10-29T17:33:48.093047Z"
    }
   },
   "outputs": [
    {
     "data": {
      "text/plain": [
       "(torch.Size([5, 784]), torch.Size([784, 10]))"
      ]
     },
     "execution_count": 148,
     "metadata": {},
     "output_type": "execute_result"
    }
   ],
   "source": [
    "m1.shape, m2.shape"
   ]
  },
  {
   "cell_type": "code",
   "execution_count": 149,
   "id": "410fa6e1",
   "metadata": {
    "ExecuteTime": {
     "end_time": "2022-10-29T17:33:48.534025Z",
     "start_time": "2022-10-29T17:33:48.527879Z"
    }
   },
   "outputs": [
    {
     "data": {
      "text/plain": [
       "((5, 784), (784, 10))"
      ]
     },
     "execution_count": 149,
     "metadata": {},
     "output_type": "execute_result"
    }
   ],
   "source": [
    "ar,ac = m1.shape\n",
    "br,bc = m2.shape\n",
    "(ar,ac),(br,bc)"
   ]
  },
  {
   "cell_type": "code",
   "execution_count": 150,
   "id": "4cd13f0f",
   "metadata": {
    "ExecuteTime": {
     "end_time": "2022-10-29T17:33:49.051068Z",
     "start_time": "2022-10-29T17:33:49.041077Z"
    }
   },
   "outputs": [
    {
     "data": {
      "text/plain": [
       "torch.Size([5, 10])"
      ]
     },
     "execution_count": 150,
     "metadata": {},
     "output_type": "execute_result"
    }
   ],
   "source": [
    "t1 = torch.zeros(ar,bc)\n",
    "t1.shape"
   ]
  },
  {
   "cell_type": "code",
   "execution_count": 151,
   "id": "7370fbfd",
   "metadata": {
    "ExecuteTime": {
     "end_time": "2022-10-29T17:33:49.933967Z",
     "start_time": "2022-10-29T17:33:49.412151Z"
    }
   },
   "outputs": [],
   "source": [
    "for i in range(ar):\n",
    "    for j in range(bc):\n",
    "        for k in range(ac):\n",
    "            t1[i,j] += m1[i,k]*m2[k,j] "
   ]
  },
  {
   "cell_type": "code",
   "execution_count": 152,
   "id": "44dee17d",
   "metadata": {
    "ExecuteTime": {
     "end_time": "2022-10-29T17:33:50.817402Z",
     "start_time": "2022-10-29T17:33:50.810095Z"
    }
   },
   "outputs": [
    {
     "data": {
      "text/plain": [
       "tensor([[-10.94,  -0.68,  -7.00,  -4.01,  -2.09,  -3.36,   3.91,  -3.44, -11.47,  -2.12],\n",
       "        [ 14.54,   6.00,   2.89,  -4.08,   6.59, -14.74,  -9.28,   2.16, -15.28,  -2.68],\n",
       "        [  2.22,  -3.22,  -4.80,  -6.05,  14.17,  -8.98,  -4.79,  -5.44, -20.68,  13.57],\n",
       "        [ -6.71,   8.90,  -7.46,  -7.90,   2.70,  -4.73, -11.03, -12.98,  -6.44,   3.64],\n",
       "        [ -2.44,  -6.40,  -2.40,  -9.04,  11.18,  -5.77,  -8.92,  -3.79,  -8.98,   5.28]])"
      ]
     },
     "execution_count": 152,
     "metadata": {},
     "output_type": "execute_result"
    }
   ],
   "source": [
    "torch.set_printoptions(precision=2, linewidth=140, sci_mode=False)\n",
    "t1"
   ]
  },
  {
   "cell_type": "code",
   "execution_count": 153,
   "id": "fffd6500",
   "metadata": {
    "ExecuteTime": {
     "end_time": "2022-10-29T17:33:51.581402Z",
     "start_time": "2022-10-29T17:33:51.578254Z"
    }
   },
   "outputs": [
    {
     "data": {
      "text/plain": [
       "torch.Size([5, 10])"
      ]
     },
     "execution_count": 153,
     "metadata": {},
     "output_type": "execute_result"
    }
   ],
   "source": [
    "t1.shape"
   ]
  },
  {
   "cell_type": "code",
   "execution_count": 154,
   "id": "d66f39cd",
   "metadata": {
    "ExecuteTime": {
     "end_time": "2022-10-29T17:33:52.509455Z",
     "start_time": "2022-10-29T17:33:52.507195Z"
    }
   },
   "outputs": [],
   "source": [
    "import numpy as np\n",
    "np.set_printoptions(precision=2, linewidth=140)"
   ]
  },
  {
   "cell_type": "code",
   "execution_count": 155,
   "id": "e1217abc",
   "metadata": {
    "ExecuteTime": {
     "end_time": "2022-10-29T17:33:53.005606Z",
     "start_time": "2022-10-29T17:33:52.999344Z"
    }
   },
   "outputs": [],
   "source": [
    "def matmul(a,b):\n",
    "    (ar,ac),(br,bc) = a.shape, b.shape\n",
    "    c = torch.zeros(ar,bc)\n",
    "    for i in range(ar):\n",
    "        for j in range(bc):\n",
    "            for k in range(ac):\n",
    "                c[i,j] += a[i,k]*b[k,j]\n",
    "    return c"
   ]
  },
  {
   "cell_type": "code",
   "execution_count": 156,
   "id": "a4bc9403",
   "metadata": {
    "ExecuteTime": {
     "end_time": "2022-10-29T17:33:56.044296Z",
     "start_time": "2022-10-29T17:33:55.539218Z"
    }
   },
   "outputs": [
    {
     "name": "stdout",
     "output_type": "stream",
     "text": [
      "CPU times: user 503 ms, sys: 0 ns, total: 503 ms\n",
      "Wall time: 503 ms\n"
     ]
    }
   ],
   "source": [
    "%time _ = matmul(m1,m2)"
   ]
  },
  {
   "cell_type": "code",
   "execution_count": 157,
   "id": "1767eb3b",
   "metadata": {
    "ExecuteTime": {
     "end_time": "2022-10-29T17:34:03.111026Z",
     "start_time": "2022-10-29T17:34:03.107835Z"
    }
   },
   "outputs": [
    {
     "data": {
      "text/plain": [
       "39200"
      ]
     },
     "execution_count": 157,
     "metadata": {},
     "output_type": "execute_result"
    }
   ],
   "source": [
    "ar*bc*ac"
   ]
  },
  {
   "cell_type": "markdown",
   "id": "50d4977f",
   "metadata": {},
   "source": [
    "## Numba"
   ]
  },
  {
   "cell_type": "code",
   "execution_count": 158,
   "id": "fb386620",
   "metadata": {
    "ExecuteTime": {
     "end_time": "2022-10-29T17:34:05.184484Z",
     "start_time": "2022-10-29T17:34:05.182174Z"
    }
   },
   "outputs": [],
   "source": [
    "from numba import njit"
   ]
  },
  {
   "cell_type": "code",
   "execution_count": 159,
   "id": "228b6236",
   "metadata": {
    "ExecuteTime": {
     "end_time": "2022-10-29T17:34:05.798007Z",
     "start_time": "2022-10-29T17:34:05.788101Z"
    }
   },
   "outputs": [],
   "source": [
    "@njit\n",
    "def dot(a,b):\n",
    "    res = 0.\n",
    "    for i in range(len(a)):\n",
    "        res += a[i]*b[i]\n",
    "    return res"
   ]
  },
  {
   "cell_type": "code",
   "execution_count": 160,
   "id": "46762ccc",
   "metadata": {
    "ExecuteTime": {
     "end_time": "2022-10-29T17:34:06.358315Z",
     "start_time": "2022-10-29T17:34:06.351252Z"
    }
   },
   "outputs": [],
   "source": [
    "from numpy import array"
   ]
  },
  {
   "cell_type": "code",
   "execution_count": 161,
   "id": "012d4726",
   "metadata": {
    "ExecuteTime": {
     "end_time": "2022-10-29T17:34:07.129629Z",
     "start_time": "2022-10-29T17:34:07.058600Z"
    }
   },
   "outputs": [
    {
     "name": "stdout",
     "output_type": "stream",
     "text": [
      "CPU times: user 58.8 ms, sys: 8.12 ms, total: 66.9 ms\n",
      "Wall time: 64 ms\n"
     ]
    },
    {
     "data": {
      "text/plain": [
       "20.0"
      ]
     },
     "execution_count": 161,
     "metadata": {},
     "output_type": "execute_result"
    }
   ],
   "source": [
    "%time dot(array([1.,2,3]),array([2.,3,4]))"
   ]
  },
  {
   "cell_type": "code",
   "execution_count": 162,
   "id": "9408791d",
   "metadata": {
    "ExecuteTime": {
     "end_time": "2022-10-29T17:34:13.416839Z",
     "start_time": "2022-10-29T17:34:13.412857Z"
    }
   },
   "outputs": [
    {
     "name": "stdout",
     "output_type": "stream",
     "text": [
      "CPU times: user 14 µs, sys: 1 µs, total: 15 µs\n",
      "Wall time: 17.9 µs\n"
     ]
    },
    {
     "data": {
      "text/plain": [
       "20.0"
      ]
     },
     "execution_count": 162,
     "metadata": {},
     "output_type": "execute_result"
    }
   ],
   "source": [
    "%time dot(array([1.,2,3]),array([2.,3,4]))"
   ]
  },
  {
   "cell_type": "code",
   "execution_count": 163,
   "id": "12c437e2",
   "metadata": {
    "ExecuteTime": {
     "end_time": "2022-10-29T17:34:14.230300Z",
     "start_time": "2022-10-29T17:34:14.227235Z"
    }
   },
   "outputs": [],
   "source": [
    "def matmul(a,b):\n",
    "    (ar,ac),(br,bc) = a.shape, b.shape\n",
    "    c = torch.zeros(ar,bc)\n",
    "    for i in range(ar):\n",
    "        for j in range(bc):\n",
    "            c[i,j] = dot(a[i,:],b[:,j])\n",
    "    return c"
   ]
  },
  {
   "cell_type": "code",
   "execution_count": 164,
   "id": "551269f5",
   "metadata": {
    "ExecuteTime": {
     "end_time": "2022-10-29T17:34:15.011708Z",
     "start_time": "2022-10-29T17:34:15.009006Z"
    }
   },
   "outputs": [],
   "source": [
    "m1a,m2a = m1.numpy(),m2.numpy()"
   ]
  },
  {
   "cell_type": "code",
   "execution_count": 165,
   "id": "0daac5ed",
   "metadata": {
    "ExecuteTime": {
     "end_time": "2022-10-29T17:34:18.639003Z",
     "start_time": "2022-10-29T17:34:18.631648Z"
    }
   },
   "outputs": [],
   "source": [
    "from fastcore.test import *"
   ]
  },
  {
   "cell_type": "code",
   "execution_count": 166,
   "id": "d769d59c",
   "metadata": {
    "ExecuteTime": {
     "end_time": "2022-10-29T17:34:25.850378Z",
     "start_time": "2022-10-29T17:34:25.792435Z"
    }
   },
   "outputs": [],
   "source": [
    "test_close(t1,matmul(m1a,m2a))"
   ]
  },
  {
   "cell_type": "code",
   "execution_count": 167,
   "id": "5699dbc2",
   "metadata": {
    "ExecuteTime": {
     "end_time": "2022-10-29T17:34:26.294776Z",
     "start_time": "2022-10-29T17:34:26.178513Z"
    }
   },
   "outputs": [
    {
     "name": "stdout",
     "output_type": "stream",
     "text": [
      "324 µs ± 11.7 µs per loop (mean ± std. dev. of 7 runs, 50 loops each)\n"
     ]
    }
   ],
   "source": [
    "%timeit -n 50 matmul(m1a,m2a)"
   ]
  },
  {
   "cell_type": "markdown",
   "id": "c47adfe9",
   "metadata": {},
   "source": [
    "## Elementwise ops"
   ]
  },
  {
   "cell_type": "code",
   "execution_count": 168,
   "id": "7a2f77b6",
   "metadata": {
    "ExecuteTime": {
     "end_time": "2022-10-29T17:34:32.991131Z",
     "start_time": "2022-10-29T17:34:32.987451Z"
    }
   },
   "outputs": [
    {
     "data": {
      "text/plain": [
       "(tensor([10.,  6., -4.]), tensor([2., 8., 7.]))"
      ]
     },
     "execution_count": 168,
     "metadata": {},
     "output_type": "execute_result"
    }
   ],
   "source": [
    "a =  tensor([10.,6,-4])\n",
    "b = tensor([2., 8, 7])\n",
    "a,b"
   ]
  },
  {
   "cell_type": "code",
   "execution_count": 169,
   "id": "0bdf9d86",
   "metadata": {
    "ExecuteTime": {
     "end_time": "2022-10-29T17:34:33.635258Z",
     "start_time": "2022-10-29T17:34:33.622982Z"
    }
   },
   "outputs": [
    {
     "data": {
      "text/plain": [
       "tensor([12., 14.,  3.])"
      ]
     },
     "execution_count": 169,
     "metadata": {},
     "output_type": "execute_result"
    }
   ],
   "source": [
    "a + b"
   ]
  },
  {
   "cell_type": "code",
   "execution_count": 170,
   "id": "97068bba",
   "metadata": {
    "ExecuteTime": {
     "end_time": "2022-10-29T17:34:34.192891Z",
     "start_time": "2022-10-29T17:34:34.179390Z"
    }
   },
   "outputs": [
    {
     "data": {
      "text/plain": [
       "tensor(0.67)"
      ]
     },
     "execution_count": 170,
     "metadata": {},
     "output_type": "execute_result"
    }
   ],
   "source": [
    "(a < b).float().mean()"
   ]
  },
  {
   "cell_type": "code",
   "execution_count": 171,
   "id": "d761b9fe",
   "metadata": {
    "ExecuteTime": {
     "end_time": "2022-10-29T17:34:36.014514Z",
     "start_time": "2022-10-29T17:34:36.010020Z"
    }
   },
   "outputs": [
    {
     "data": {
      "text/plain": [
       "tensor([[1., 2., 3.],\n",
       "        [4., 5., 6.],\n",
       "        [7., 8., 9.]])"
      ]
     },
     "execution_count": 171,
     "metadata": {},
     "output_type": "execute_result"
    }
   ],
   "source": [
    "m = tensor([[1., 2, 3], [4., 5, 6], [7., 8, 9]]); m"
   ]
  },
  {
   "cell_type": "markdown",
   "id": "5203783f",
   "metadata": {},
   "source": [
    "## frobenius norm"
   ]
  },
  {
   "cell_type": "code",
   "execution_count": 172,
   "id": "fc743fbc",
   "metadata": {
    "ExecuteTime": {
     "end_time": "2022-10-29T17:34:36.988320Z",
     "start_time": "2022-10-29T17:34:36.984662Z"
    }
   },
   "outputs": [
    {
     "data": {
      "text/plain": [
       "tensor(285.)"
      ]
     },
     "execution_count": 172,
     "metadata": {},
     "output_type": "execute_result"
    }
   ],
   "source": [
    "sf = (m*m).sum()\n",
    "sf"
   ]
  },
  {
   "cell_type": "code",
   "execution_count": 173,
   "id": "86475495",
   "metadata": {
    "ExecuteTime": {
     "end_time": "2022-10-29T17:34:37.381058Z",
     "start_time": "2022-10-29T17:34:37.373102Z"
    }
   },
   "outputs": [
    {
     "data": {
      "text/plain": [
       "tensor(16.88)"
      ]
     },
     "execution_count": 173,
     "metadata": {},
     "output_type": "execute_result"
    }
   ],
   "source": [
    "sf.sqrt()"
   ]
  },
  {
   "cell_type": "code",
   "execution_count": 174,
   "id": "ddff76c1",
   "metadata": {
    "ExecuteTime": {
     "end_time": "2022-10-29T17:34:37.783501Z",
     "start_time": "2022-10-29T17:34:37.778849Z"
    }
   },
   "outputs": [
    {
     "data": {
      "text/plain": [
       "(tensor([7., 8., 9.]), tensor([3., 6., 9.]))"
      ]
     },
     "execution_count": 174,
     "metadata": {},
     "output_type": "execute_result"
    }
   ],
   "source": [
    "m[2,:],m[:,2]"
   ]
  },
  {
   "cell_type": "code",
   "execution_count": 175,
   "id": "5c7c25a9",
   "metadata": {
    "ExecuteTime": {
     "end_time": "2022-10-29T17:34:38.548500Z",
     "start_time": "2022-10-29T17:34:38.545094Z"
    }
   },
   "outputs": [
    {
     "data": {
      "text/plain": [
       "tensor([7., 8., 9.])"
      ]
     },
     "execution_count": 175,
     "metadata": {},
     "output_type": "execute_result"
    }
   ],
   "source": [
    "m[2]"
   ]
  },
  {
   "cell_type": "code",
   "execution_count": 176,
   "id": "b4015303",
   "metadata": {
    "ExecuteTime": {
     "end_time": "2022-10-29T17:34:38.907095Z",
     "start_time": "2022-10-29T17:34:38.900441Z"
    }
   },
   "outputs": [],
   "source": [
    "def matmul(a,b):\n",
    "    (ar,ac),(br,bc) = a.shape, b.shape\n",
    "    c = torch.zeros(ar,bc)\n",
    "    for i in range(ar):\n",
    "        for j in range(bc):\n",
    "            c[i,j] = (a[i,:]*b[:,j]).sum()\n",
    "    return c"
   ]
  },
  {
   "cell_type": "code",
   "execution_count": 177,
   "id": "1d78f5f8",
   "metadata": {
    "ExecuteTime": {
     "end_time": "2022-10-29T17:34:39.302451Z",
     "start_time": "2022-10-29T17:34:39.295866Z"
    }
   },
   "outputs": [],
   "source": [
    "test_close(t1,matmul(m1,m2))"
   ]
  },
  {
   "cell_type": "code",
   "execution_count": 178,
   "id": "d6d97a6f",
   "metadata": {
    "ExecuteTime": {
     "end_time": "2022-10-29T17:34:50.868677Z",
     "start_time": "2022-10-29T17:34:50.599518Z"
    }
   },
   "outputs": [
    {
     "name": "stdout",
     "output_type": "stream",
     "text": [
      "761 µs ± 43 µs per loop (mean ± std. dev. of 7 runs, 50 loops each)\n"
     ]
    }
   ],
   "source": [
    "%timeit -n 50 _=matmul(m1,m2)"
   ]
  },
  {
   "cell_type": "code",
   "execution_count": 179,
   "id": "760f833f",
   "metadata": {
    "ExecuteTime": {
     "end_time": "2022-10-29T17:34:51.629410Z",
     "start_time": "2022-10-29T17:34:51.625481Z"
    }
   },
   "outputs": [],
   "source": [
    "def matmul(a,b):\n",
    "    (ar,ac),(br,bc) = a.shape, b.shape\n",
    "    c = torch.zeros(ar,bc)\n",
    "    for i in range(ar):\n",
    "        for j in range(bc):\n",
    "            c[i,j] = torch.dot(a[i,:],b[:,j])\n",
    "    return c"
   ]
  },
  {
   "cell_type": "code",
   "execution_count": 180,
   "id": "1b431cb8",
   "metadata": {
    "ExecuteTime": {
     "end_time": "2022-10-29T17:34:52.378934Z",
     "start_time": "2022-10-29T17:34:52.373218Z"
    }
   },
   "outputs": [],
   "source": [
    "test_close(t1,matmul(m1,m2))"
   ]
  },
  {
   "cell_type": "code",
   "execution_count": 181,
   "id": "a21ae20b",
   "metadata": {
    "ExecuteTime": {
     "end_time": "2022-10-29T17:34:53.099837Z",
     "start_time": "2022-10-29T17:34:52.884083Z"
    }
   },
   "outputs": [
    {
     "name": "stdout",
     "output_type": "stream",
     "text": [
      "593 µs ± 63.6 µs per loop (mean ± std. dev. of 7 runs, 50 loops each)\n"
     ]
    }
   ],
   "source": [
    "%timeit -n 50 _=matmul(m1,m2)"
   ]
  },
  {
   "cell_type": "markdown",
   "id": "5a704517",
   "metadata": {},
   "source": [
    "## Broadcasting"
   ]
  },
  {
   "cell_type": "code",
   "execution_count": 182,
   "id": "a836b756",
   "metadata": {
    "ExecuteTime": {
     "end_time": "2022-10-29T17:34:54.419233Z",
     "start_time": "2022-10-29T17:34:54.415503Z"
    }
   },
   "outputs": [
    {
     "data": {
      "text/plain": [
       "tensor([10.,  6., -4.])"
      ]
     },
     "execution_count": 182,
     "metadata": {},
     "output_type": "execute_result"
    }
   ],
   "source": [
    "a"
   ]
  },
  {
   "cell_type": "code",
   "execution_count": 183,
   "id": "10d48ac1",
   "metadata": {
    "ExecuteTime": {
     "end_time": "2022-10-29T17:34:55.182913Z",
     "start_time": "2022-10-29T17:34:55.179300Z"
    }
   },
   "outputs": [
    {
     "data": {
      "text/plain": [
       "tensor([ True,  True, False])"
      ]
     },
     "execution_count": 183,
     "metadata": {},
     "output_type": "execute_result"
    }
   ],
   "source": [
    "a > 0"
   ]
  },
  {
   "cell_type": "code",
   "execution_count": 184,
   "id": "b22df56f",
   "metadata": {
    "ExecuteTime": {
     "end_time": "2022-10-29T17:34:55.649496Z",
     "start_time": "2022-10-29T17:34:55.644146Z"
    }
   },
   "outputs": [
    {
     "data": {
      "text/plain": [
       "tensor([11.,  7., -3.])"
      ]
     },
     "execution_count": 184,
     "metadata": {},
     "output_type": "execute_result"
    }
   ],
   "source": [
    "a+1"
   ]
  },
  {
   "cell_type": "code",
   "execution_count": 185,
   "id": "dec9d81b",
   "metadata": {
    "ExecuteTime": {
     "end_time": "2022-10-29T17:34:56.067914Z",
     "start_time": "2022-10-29T17:34:56.061338Z"
    }
   },
   "outputs": [
    {
     "data": {
      "text/plain": [
       "tensor([10, 20, 30])"
      ]
     },
     "execution_count": 185,
     "metadata": {},
     "output_type": "execute_result"
    }
   ],
   "source": [
    "c = tensor([10, 20, 30]);c"
   ]
  },
  {
   "cell_type": "code",
   "execution_count": 186,
   "id": "6e156bc6",
   "metadata": {
    "ExecuteTime": {
     "end_time": "2022-10-29T17:34:57.249084Z",
     "start_time": "2022-10-29T17:34:57.245300Z"
    }
   },
   "outputs": [
    {
     "data": {
      "text/plain": [
       "tensor([[1., 2., 3.],\n",
       "        [4., 5., 6.],\n",
       "        [7., 8., 9.]])"
      ]
     },
     "execution_count": 186,
     "metadata": {},
     "output_type": "execute_result"
    }
   ],
   "source": [
    "m"
   ]
  },
  {
   "cell_type": "code",
   "execution_count": 187,
   "id": "e3c03e34",
   "metadata": {
    "ExecuteTime": {
     "end_time": "2022-10-29T17:34:57.624043Z",
     "start_time": "2022-10-29T17:34:57.620152Z"
    }
   },
   "outputs": [
    {
     "data": {
      "text/plain": [
       "(torch.Size([3, 3]), torch.Size([3]))"
      ]
     },
     "execution_count": 187,
     "metadata": {},
     "output_type": "execute_result"
    }
   ],
   "source": [
    "m.shape, c.shape"
   ]
  },
  {
   "cell_type": "code",
   "execution_count": 188,
   "id": "a2fae40f",
   "metadata": {
    "ExecuteTime": {
     "end_time": "2022-10-29T17:35:11.736788Z",
     "start_time": "2022-10-29T17:35:11.728112Z"
    }
   },
   "outputs": [
    {
     "data": {
      "text/plain": [
       "tensor([[11., 22., 33.],\n",
       "        [14., 25., 36.],\n",
       "        [17., 28., 39.]])"
      ]
     },
     "execution_count": 188,
     "metadata": {},
     "output_type": "execute_result"
    }
   ],
   "source": [
    "c+ m"
   ]
  },
  {
   "cell_type": "code",
   "execution_count": 189,
   "id": "5137220e",
   "metadata": {
    "ExecuteTime": {
     "end_time": "2022-10-29T17:35:12.360433Z",
     "start_time": "2022-10-29T17:35:12.353186Z"
    }
   },
   "outputs": [],
   "source": [
    "t = c.expand_as(m)"
   ]
  },
  {
   "cell_type": "code",
   "execution_count": 190,
   "id": "fe902fc5",
   "metadata": {
    "ExecuteTime": {
     "end_time": "2022-10-29T17:35:13.484924Z",
     "start_time": "2022-10-29T17:35:13.480996Z"
    }
   },
   "outputs": [
    {
     "data": {
      "text/plain": [
       "tensor([[10, 20, 30],\n",
       "        [10, 20, 30],\n",
       "        [10, 20, 30]])"
      ]
     },
     "execution_count": 190,
     "metadata": {},
     "output_type": "execute_result"
    }
   ],
   "source": [
    "t"
   ]
  },
  {
   "cell_type": "code",
   "execution_count": 191,
   "id": "a88d47f4",
   "metadata": {
    "ExecuteTime": {
     "end_time": "2022-10-29T17:35:13.901053Z",
     "start_time": "2022-10-29T17:35:13.893680Z"
    }
   },
   "outputs": [
    {
     "data": {
      "text/plain": [
       "tensor([[11., 22., 33.],\n",
       "        [14., 25., 36.],\n",
       "        [17., 28., 39.]])"
      ]
     },
     "execution_count": 191,
     "metadata": {},
     "output_type": "execute_result"
    }
   ],
   "source": [
    "m+t"
   ]
  },
  {
   "cell_type": "code",
   "execution_count": 192,
   "id": "f88cd842",
   "metadata": {
    "ExecuteTime": {
     "end_time": "2022-10-29T17:35:14.217278Z",
     "start_time": "2022-10-29T17:35:14.210835Z"
    }
   },
   "outputs": [
    {
     "data": {
      "text/plain": [
       " 10\n",
       " 20\n",
       " 30\n",
       "[torch.storage._TypedStorage(dtype=torch.int64, device=cpu) of size 3]"
      ]
     },
     "execution_count": 192,
     "metadata": {},
     "output_type": "execute_result"
    }
   ],
   "source": [
    "t.storage()"
   ]
  },
  {
   "cell_type": "code",
   "execution_count": 193,
   "id": "b591f8cb",
   "metadata": {
    "ExecuteTime": {
     "end_time": "2022-10-29T17:35:14.750602Z",
     "start_time": "2022-10-29T17:35:14.739292Z"
    }
   },
   "outputs": [
    {
     "data": {
      "text/plain": [
       "((0, 1), torch.Size([3, 3]))"
      ]
     },
     "execution_count": 193,
     "metadata": {},
     "output_type": "execute_result"
    }
   ],
   "source": [
    "t.stride(), t.shape"
   ]
  },
  {
   "cell_type": "code",
   "execution_count": 194,
   "id": "945132ce",
   "metadata": {
    "ExecuteTime": {
     "end_time": "2022-10-29T17:35:15.114076Z",
     "start_time": "2022-10-29T17:35:15.109980Z"
    }
   },
   "outputs": [
    {
     "data": {
      "text/plain": [
       "(tensor([[10, 20, 30]]), tensor([[10, 20, 30]]))"
      ]
     },
     "execution_count": 194,
     "metadata": {},
     "output_type": "execute_result"
    }
   ],
   "source": [
    "c.unsqueeze(0), c[None, :]"
   ]
  },
  {
   "cell_type": "code",
   "execution_count": 195,
   "id": "36926ec5",
   "metadata": {
    "ExecuteTime": {
     "end_time": "2022-10-29T17:35:15.944712Z",
     "start_time": "2022-10-29T17:35:15.938934Z"
    }
   },
   "outputs": [
    {
     "data": {
      "text/plain": [
       "(torch.Size([3]), torch.Size([1, 3]))"
      ]
     },
     "execution_count": 195,
     "metadata": {},
     "output_type": "execute_result"
    }
   ],
   "source": [
    "c.shape, c.unsqueeze(0).shape"
   ]
  },
  {
   "cell_type": "code",
   "execution_count": 196,
   "id": "1fc0c613",
   "metadata": {
    "ExecuteTime": {
     "end_time": "2022-10-29T17:35:16.711999Z",
     "start_time": "2022-10-29T17:35:16.704772Z"
    }
   },
   "outputs": [
    {
     "data": {
      "text/plain": [
       "(tensor([[10],\n",
       "         [20],\n",
       "         [30]]),\n",
       " tensor([[10],\n",
       "         [20],\n",
       "         [30]]))"
      ]
     },
     "execution_count": 196,
     "metadata": {},
     "output_type": "execute_result"
    }
   ],
   "source": [
    "c.unsqueeze(1), c[:,None]"
   ]
  },
  {
   "cell_type": "code",
   "execution_count": 197,
   "id": "bdc18639",
   "metadata": {
    "ExecuteTime": {
     "end_time": "2022-10-29T17:35:17.326056Z",
     "start_time": "2022-10-29T17:35:17.319962Z"
    }
   },
   "outputs": [
    {
     "data": {
      "text/plain": [
       "(torch.Size([1, 3]), torch.Size([3, 1]))"
      ]
     },
     "execution_count": 197,
     "metadata": {},
     "output_type": "execute_result"
    }
   ],
   "source": [
    "c[None].shape, c[..., None].shape"
   ]
  },
  {
   "cell_type": "code",
   "execution_count": 198,
   "id": "5fbb5d40",
   "metadata": {
    "ExecuteTime": {
     "end_time": "2022-10-29T17:35:18.370133Z",
     "start_time": "2022-10-29T17:35:18.366430Z"
    }
   },
   "outputs": [
    {
     "data": {
      "text/plain": [
       "tensor([[10, 10, 10],\n",
       "        [20, 20, 20],\n",
       "        [30, 30, 30]])"
      ]
     },
     "execution_count": 198,
     "metadata": {},
     "output_type": "execute_result"
    }
   ],
   "source": [
    "c[:,None].expand_as(m)"
   ]
  },
  {
   "cell_type": "code",
   "execution_count": 199,
   "id": "d828b57b",
   "metadata": {
    "ExecuteTime": {
     "end_time": "2022-10-29T17:35:18.857513Z",
     "start_time": "2022-10-29T17:35:18.848595Z"
    }
   },
   "outputs": [
    {
     "data": {
      "text/plain": [
       "tensor([[11., 12., 13.],\n",
       "        [24., 25., 26.],\n",
       "        [37., 38., 39.]])"
      ]
     },
     "execution_count": 199,
     "metadata": {},
     "output_type": "execute_result"
    }
   ],
   "source": [
    "m + c[:,None]"
   ]
  },
  {
   "cell_type": "code",
   "execution_count": 103,
   "id": "87d71735",
   "metadata": {
    "ExecuteTime": {
     "end_time": "2022-10-28T22:15:16.961885Z",
     "start_time": "2022-10-28T22:15:16.951263Z"
    }
   },
   "outputs": [
    {
     "data": {
      "text/plain": [
       "tensor([[11., 22., 33.],\n",
       "        [14., 25., 36.],\n",
       "        [17., 28., 39.]])"
      ]
     },
     "execution_count": 103,
     "metadata": {},
     "output_type": "execute_result"
    }
   ],
   "source": [
    "m + c[None,:]"
   ]
  },
  {
   "cell_type": "code",
   "execution_count": 104,
   "id": "6256d599",
   "metadata": {
    "ExecuteTime": {
     "end_time": "2022-10-28T22:15:45.738992Z",
     "start_time": "2022-10-28T22:15:45.728128Z"
    }
   },
   "outputs": [
    {
     "data": {
      "text/plain": [
       "tensor([[11., 22., 33.],\n",
       "        [14., 25., 36.],\n",
       "        [17., 28., 39.]])"
      ]
     },
     "execution_count": 104,
     "metadata": {},
     "output_type": "execute_result"
    }
   ],
   "source": [
    "m + c"
   ]
  },
  {
   "cell_type": "markdown",
   "id": "8946a92e",
   "metadata": {},
   "source": [
    "## Broadcasting rules"
   ]
  },
  {
   "cell_type": "code",
   "execution_count": 200,
   "id": "9a48f64d",
   "metadata": {
    "ExecuteTime": {
     "end_time": "2022-10-29T17:37:52.125634Z",
     "start_time": "2022-10-29T17:37:52.121788Z"
    }
   },
   "outputs": [
    {
     "data": {
      "text/plain": [
       "tensor([10, 20, 30])"
      ]
     },
     "execution_count": 200,
     "metadata": {},
     "output_type": "execute_result"
    }
   ],
   "source": [
    "c"
   ]
  },
  {
   "cell_type": "code",
   "execution_count": 201,
   "id": "8978be1f",
   "metadata": {
    "ExecuteTime": {
     "end_time": "2022-10-29T17:37:58.522924Z",
     "start_time": "2022-10-29T17:37:58.519567Z"
    }
   },
   "outputs": [
    {
     "data": {
      "text/plain": [
       "tensor([[10, 20, 30]])"
      ]
     },
     "execution_count": 201,
     "metadata": {},
     "output_type": "execute_result"
    }
   ],
   "source": [
    "c[None,:]"
   ]
  },
  {
   "cell_type": "code",
   "execution_count": 202,
   "id": "82527d0e",
   "metadata": {
    "ExecuteTime": {
     "end_time": "2022-10-29T17:40:37.632530Z",
     "start_time": "2022-10-29T17:40:37.628966Z"
    }
   },
   "outputs": [
    {
     "data": {
      "text/plain": [
       "torch.Size([1, 3])"
      ]
     },
     "execution_count": 202,
     "metadata": {},
     "output_type": "execute_result"
    }
   ],
   "source": [
    "c[None,:].shape"
   ]
  },
  {
   "cell_type": "code",
   "execution_count": 203,
   "id": "c457f2c9",
   "metadata": {
    "ExecuteTime": {
     "end_time": "2022-10-29T17:40:57.215448Z",
     "start_time": "2022-10-29T17:40:57.210779Z"
    }
   },
   "outputs": [
    {
     "data": {
      "text/plain": [
       "tensor([[10],\n",
       "        [20],\n",
       "        [30]])"
      ]
     },
     "execution_count": 203,
     "metadata": {},
     "output_type": "execute_result"
    }
   ],
   "source": [
    "c[:,None]"
   ]
  },
  {
   "cell_type": "code",
   "execution_count": 204,
   "id": "27b8f1dc",
   "metadata": {
    "ExecuteTime": {
     "end_time": "2022-10-29T17:41:20.847367Z",
     "start_time": "2022-10-29T17:41:20.843584Z"
    }
   },
   "outputs": [
    {
     "data": {
      "text/plain": [
       "torch.Size([3, 1])"
      ]
     },
     "execution_count": 204,
     "metadata": {},
     "output_type": "execute_result"
    }
   ],
   "source": [
    "c[:,None].shape"
   ]
  },
  {
   "cell_type": "code",
   "execution_count": 205,
   "id": "162bd11e",
   "metadata": {
    "ExecuteTime": {
     "end_time": "2022-10-29T17:52:20.628172Z",
     "start_time": "2022-10-29T17:52:20.615990Z"
    }
   },
   "outputs": [
    {
     "data": {
      "text/plain": [
       "tensor([[100, 200, 300],\n",
       "        [200, 400, 600],\n",
       "        [300, 600, 900]])"
      ]
     },
     "execution_count": 205,
     "metadata": {},
     "output_type": "execute_result"
    }
   ],
   "source": [
    "c[None,:]*c[:,None]"
   ]
  },
  {
   "cell_type": "code",
   "execution_count": 206,
   "id": "81a25e21",
   "metadata": {
    "ExecuteTime": {
     "end_time": "2022-10-29T17:52:46.004074Z",
     "start_time": "2022-10-29T17:52:45.995919Z"
    }
   },
   "outputs": [
    {
     "data": {
      "text/plain": [
       "tensor([[False,  True,  True],\n",
       "        [False, False,  True],\n",
       "        [False, False, False]])"
      ]
     },
     "execution_count": 206,
     "metadata": {},
     "output_type": "execute_result"
    }
   ],
   "source": [
    "c[None] > c[:,None]"
   ]
  },
  {
   "cell_type": "markdown",
   "id": "575b434b",
   "metadata": {},
   "source": [
    "## MAtmul with broadcasting"
   ]
  },
  {
   "cell_type": "code",
   "execution_count": 207,
   "id": "bd16ea12",
   "metadata": {
    "ExecuteTime": {
     "end_time": "2022-10-29T18:07:27.751518Z",
     "start_time": "2022-10-29T18:07:27.748482Z"
    }
   },
   "outputs": [
    {
     "data": {
      "text/plain": [
       "(torch.Size([784]), torch.Size([784, 10]))"
      ]
     },
     "execution_count": 207,
     "metadata": {},
     "output_type": "execute_result"
    }
   ],
   "source": [
    "digit = m1[0]\n",
    "digit.shape, m2.shape"
   ]
  },
  {
   "cell_type": "code",
   "execution_count": 209,
   "id": "1b29d347",
   "metadata": {
    "ExecuteTime": {
     "end_time": "2022-10-29T18:12:40.788699Z",
     "start_time": "2022-10-29T18:12:40.780450Z"
    }
   },
   "outputs": [
    {
     "data": {
      "text/plain": [
       "torch.Size([784, 1])"
      ]
     },
     "execution_count": 209,
     "metadata": {},
     "output_type": "execute_result"
    }
   ],
   "source": [
    "digit[:,None].shape"
   ]
  },
  {
   "cell_type": "code",
   "execution_count": 216,
   "id": "4f2c148d",
   "metadata": {
    "ExecuteTime": {
     "end_time": "2022-10-29T18:36:31.029276Z",
     "start_time": "2022-10-29T18:36:31.023635Z"
    }
   },
   "outputs": [],
   "source": [
    "def matmul(a,b):\n",
    "    (ar,ac),(br,bc) = a.shape, b.shape\n",
    "    c = torch.zeros(ar,bc)\n",
    "    for i in range(ar):\n",
    "        c[i] = (a[i,:,None]*b).sum(dim=0)\n",
    "    return c"
   ]
  },
  {
   "cell_type": "code",
   "execution_count": 217,
   "id": "6801a579",
   "metadata": {
    "ExecuteTime": {
     "end_time": "2022-10-29T18:37:59.058453Z",
     "start_time": "2022-10-29T18:37:59.046156Z"
    }
   },
   "outputs": [],
   "source": [
    "test_close(t1,matmul(m1,m2))"
   ]
  },
  {
   "cell_type": "code",
   "execution_count": 218,
   "id": "1cf6140c",
   "metadata": {
    "ExecuteTime": {
     "end_time": "2022-10-29T18:38:18.634714Z",
     "start_time": "2022-10-29T18:38:18.575256Z"
    }
   },
   "outputs": [
    {
     "name": "stdout",
     "output_type": "stream",
     "text": [
      "152 µs ± 54 µs per loop (mean ± std. dev. of 7 runs, 50 loops each)\n"
     ]
    }
   ],
   "source": [
    "%timeit -n 50 _=matmul(m1,m2)"
   ]
  },
  {
   "cell_type": "code",
   "execution_count": 221,
   "id": "d66ee5ba",
   "metadata": {
    "ExecuteTime": {
     "end_time": "2022-10-29T18:41:46.777475Z",
     "start_time": "2022-10-29T18:41:45.565672Z"
    }
   },
   "outputs": [
    {
     "data": {
      "text/plain": [
       "tensor([[  0.96,  -2.96,  -2.11,  ..., -15.09, -17.69,   0.60],\n",
       "        [  6.89,  -0.34,   0.79,  ..., -17.13, -25.36,  16.23],\n",
       "        [-10.18,   7.38,   4.13,  ...,  -6.73,  -6.79,  -1.58],\n",
       "        ...,\n",
       "        [  7.40,   7.64,  -3.50,  ...,  -1.02, -16.22,   2.07],\n",
       "        [  3.25,   9.52,  -9.37,  ...,   2.98, -19.58,  -1.96],\n",
       "        [ 15.70,   4.12,  -5.62,  ...,   8.08, -12.21,   0.42]])"
      ]
     },
     "execution_count": 221,
     "metadata": {},
     "output_type": "execute_result"
    }
   ],
   "source": [
    "tr = matmul(x_train,weights)\n",
    "tr"
   ]
  },
  {
   "cell_type": "code",
   "execution_count": 222,
   "id": "4ea1f569",
   "metadata": {
    "ExecuteTime": {
     "end_time": "2022-10-29T18:41:55.501533Z",
     "start_time": "2022-10-29T18:41:55.497875Z"
    }
   },
   "outputs": [
    {
     "data": {
      "text/plain": [
       "torch.Size([50000, 10])"
      ]
     },
     "execution_count": 222,
     "metadata": {},
     "output_type": "execute_result"
    }
   ],
   "source": [
    "tr.shape"
   ]
  },
  {
   "cell_type": "code",
   "execution_count": 224,
   "id": "bfa56aaf",
   "metadata": {
    "ExecuteTime": {
     "end_time": "2022-10-29T18:42:56.978890Z",
     "start_time": "2022-10-29T18:42:55.739211Z"
    }
   },
   "outputs": [
    {
     "name": "stdout",
     "output_type": "stream",
     "text": [
      "CPU times: user 2.06 s, sys: 14.8 ms, total: 2.08 s\n",
      "Wall time: 1.23 s\n"
     ]
    }
   ],
   "source": [
    "%time _ = matmul(x_train, weights)"
   ]
  },
  {
   "cell_type": "markdown",
   "id": "5f5a3dfe",
   "metadata": {
    "ExecuteTime": {
     "end_time": "2022-10-29T18:44:47.492505Z",
     "start_time": "2022-10-29T18:44:47.486760Z"
    }
   },
   "source": [
    "## Einstein summation"
   ]
  },
  {
   "cell_type": "code",
   "execution_count": null,
   "id": "16b2d778",
   "metadata": {},
   "outputs": [],
   "source": []
  }
 ],
 "metadata": {
  "kernelspec": {
   "display_name": "Python [conda env:fai] *",
   "language": "python",
   "name": "conda-env-fai-py"
  },
  "language_info": {
   "codemirror_mode": {
    "name": "ipython",
    "version": 3
   },
   "file_extension": ".py",
   "mimetype": "text/x-python",
   "name": "python",
   "nbconvert_exporter": "python",
   "pygments_lexer": "ipython3",
   "version": "3.10.4"
  },
  "varInspector": {
   "cols": {
    "lenName": 16,
    "lenType": 16,
    "lenVar": 40
   },
   "kernels_config": {
    "python": {
     "delete_cmd_postfix": "",
     "delete_cmd_prefix": "del ",
     "library": "var_list.py",
     "varRefreshCmd": "print(var_dic_list())"
    },
    "r": {
     "delete_cmd_postfix": ") ",
     "delete_cmd_prefix": "rm(",
     "library": "var_list.r",
     "varRefreshCmd": "cat(var_dic_list()) "
    }
   },
   "types_to_exclude": [
    "module",
    "function",
    "builtin_function_or_method",
    "instance",
    "_Feature"
   ],
   "window_display": false
  }
 },
 "nbformat": 4,
 "nbformat_minor": 5
}
