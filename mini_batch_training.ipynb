{
 "cells": [
  {
   "cell_type": "code",
   "execution_count": 45,
   "id": "76f5023b",
   "metadata": {
    "ExecuteTime": {
     "end_time": "2022-11-18T14:03:54.146514Z",
     "start_time": "2022-11-18T14:03:53.465691Z"
    }
   },
   "outputs": [],
   "source": [
    "import pickle,gzip,math,os,time,shutil,torch,matplotlib as mpl,numpy as np,matplotlib.pyplot as plt\n",
    "from pathlib import Path\n",
    "from torch import tensor,nn\n",
    "import torch.nn.functional as F\n",
    "from fastcore.test import test_close\n",
    "\n",
    "torch.set_printoptions(precision=2, linewidth=140, sci_mode=False)\n",
    "torch.manual_seed(1)\n",
    "mpl.rcParams['image.cmap'] = 'gray'\n",
    "\n",
    "path_data = Path('data')\n",
    "path_gz = path_data/'mnist.pkl.gz'\n",
    "with gzip.open(path_gz, 'rb') as f: ((x_train, y_train), (x_valid, y_valid), _) = pickle.load(f, encoding='latin-1')\n",
    "x_train, y_train, x_valid, y_valid = map(tensor, [x_train, y_train, x_valid, y_valid])"
   ]
  },
  {
   "cell_type": "markdown",
   "id": "8c94f8c4",
   "metadata": {},
   "source": [
    " ## Data\n"
   ]
  },
  {
   "cell_type": "code",
   "execution_count": 46,
   "id": "5cb5009b",
   "metadata": {
    "ExecuteTime": {
     "end_time": "2022-11-18T14:03:54.151957Z",
     "start_time": "2022-11-18T14:03:54.148157Z"
    }
   },
   "outputs": [
    {
     "data": {
      "text/plain": [
       "(50000, 784, tensor(10))"
      ]
     },
     "execution_count": 46,
     "metadata": {},
     "output_type": "execute_result"
    }
   ],
   "source": [
    "n, m = x_train.shape\n",
    "c = y_train.max()+1\n",
    "nh = 50\n",
    "n, m, c"
   ]
  },
  {
   "cell_type": "code",
   "execution_count": 47,
   "id": "14f2e0fa",
   "metadata": {
    "ExecuteTime": {
     "end_time": "2022-11-18T14:03:54.160525Z",
     "start_time": "2022-11-18T14:03:54.153277Z"
    }
   },
   "outputs": [],
   "source": [
    "class Model(nn.Module):\n",
    "    def __init__(self, n_in, nh, n_out):\n",
    "        super().__init__()\n",
    "        self.layers = [nn.Linear(n_in,nh), nn.ReLU(), nn.Linear(nh, n_out)]\n",
    "    def forward(self, x):\n",
    "        for l in self.layers:\n",
    "            x = l(x)\n",
    "        return x"
   ]
  },
  {
   "cell_type": "code",
   "execution_count": 78,
   "id": "d8f01ac4",
   "metadata": {
    "ExecuteTime": {
     "end_time": "2022-11-18T17:46:02.155305Z",
     "start_time": "2022-11-18T17:46:02.121329Z"
    }
   },
   "outputs": [
    {
     "data": {
      "text/plain": [
       "torch.Size([50000, 10])"
      ]
     },
     "execution_count": 78,
     "metadata": {},
     "output_type": "execute_result"
    }
   ],
   "source": [
    "model = Model(m, nh, c)\n",
    "pred = model(x_train)\n",
    "pred.shape"
   ]
  },
  {
   "cell_type": "markdown",
   "id": "d129d4ca",
   "metadata": {},
   "source": [
    "## Basic training loop"
   ]
  },
  {
   "cell_type": "code",
   "execution_count": 49,
   "id": "d3d53730",
   "metadata": {
    "ExecuteTime": {
     "end_time": "2022-11-18T14:03:54.195393Z",
     "start_time": "2022-11-18T14:03:54.193373Z"
    }
   },
   "outputs": [],
   "source": [
    "loss_func = F.cross_entropy"
   ]
  },
  {
   "cell_type": "code",
   "execution_count": 50,
   "id": "e839107a",
   "metadata": {
    "ExecuteTime": {
     "end_time": "2022-11-18T14:03:54.203854Z",
     "start_time": "2022-11-18T14:03:54.196787Z"
    }
   },
   "outputs": [
    {
     "data": {
      "text/plain": [
       "(tensor([-0.09, -0.21, -0.08,  0.10, -0.04,  0.08, -0.04, -0.03,  0.01,  0.06], grad_fn=<SelectBackward0>),\n",
       " torch.Size([64, 10]))"
      ]
     },
     "execution_count": 50,
     "metadata": {},
     "output_type": "execute_result"
    }
   ],
   "source": [
    "bs =64\n",
    "\n",
    "xb = x_train[0:bs]\n",
    "preds = model(xb)\n",
    "preds[0], preds.shape"
   ]
  },
  {
   "cell_type": "code",
   "execution_count": 51,
   "id": "d99a8828",
   "metadata": {
    "ExecuteTime": {
     "end_time": "2022-11-18T14:03:54.209292Z",
     "start_time": "2022-11-18T14:03:54.205250Z"
    }
   },
   "outputs": [
    {
     "data": {
      "text/plain": [
       "tensor(2.30, grad_fn=<NllLossBackward0>)"
      ]
     },
     "execution_count": 51,
     "metadata": {},
     "output_type": "execute_result"
    }
   ],
   "source": [
    "yb = y_train[0:bs]\n",
    "loss_func(preds, yb)"
   ]
  },
  {
   "cell_type": "code",
   "execution_count": 52,
   "id": "8d32b4ee",
   "metadata": {
    "ExecuteTime": {
     "end_time": "2022-11-18T14:03:54.214464Z",
     "start_time": "2022-11-18T14:03:54.210789Z"
    }
   },
   "outputs": [
    {
     "data": {
      "text/plain": [
       "tensor([3, 9, 3, 8, 5, 9, 3, 9, 3, 9, 5, 3, 9, 9, 3, 9, 9, 5, 8, 7, 9, 5, 3, 8, 9, 5, 9, 5, 5, 9, 3, 5, 9, 7, 5, 7, 9, 9, 3, 9, 3, 5, 3, 8,\n",
       "        3, 5, 9, 5, 9, 5, 3, 9, 3, 8, 9, 5, 9, 5, 9, 5, 8, 8, 9, 8])"
      ]
     },
     "execution_count": 52,
     "metadata": {},
     "output_type": "execute_result"
    }
   ],
   "source": [
    "preds.argmax(dim=1)"
   ]
  },
  {
   "cell_type": "code",
   "execution_count": 53,
   "id": "af285cf0",
   "metadata": {
    "ExecuteTime": {
     "end_time": "2022-11-18T14:03:54.219296Z",
     "start_time": "2022-11-18T14:03:54.216496Z"
    }
   },
   "outputs": [],
   "source": [
    "def accuracy(out, yb):\n",
    "    return (out.argmax(dim=1)==yb).float().mean()"
   ]
  },
  {
   "cell_type": "code",
   "execution_count": 54,
   "id": "63bfb765",
   "metadata": {
    "ExecuteTime": {
     "end_time": "2022-11-18T14:03:54.228331Z",
     "start_time": "2022-11-18T14:03:54.224528Z"
    }
   },
   "outputs": [],
   "source": [
    "lr = 0.5\n",
    "epochs = 3"
   ]
  },
  {
   "cell_type": "code",
   "execution_count": 55,
   "id": "cbdbc9c2",
   "metadata": {
    "ExecuteTime": {
     "end_time": "2022-11-18T14:03:54.232351Z",
     "start_time": "2022-11-18T14:03:54.229886Z"
    }
   },
   "outputs": [],
   "source": [
    "def report(loss, preds, yb):\n",
    "    print(f'{loss:.2f}, {accuracy(preds, yb):.2f}')"
   ]
  },
  {
   "cell_type": "code",
   "execution_count": 56,
   "id": "cdbfbea8",
   "metadata": {
    "ExecuteTime": {
     "end_time": "2022-11-18T14:03:57.895318Z",
     "start_time": "2022-11-18T14:03:56.849022Z"
    }
   },
   "outputs": [
    {
     "name": "stdout",
     "output_type": "stream",
     "text": [
      "0.19, 0.94\n",
      "0.05, 1.00\n",
      "0.03, 1.00\n"
     ]
    }
   ],
   "source": [
    "for epoch in range(epochs):\n",
    "    for i in range(0, n, bs):\n",
    "        s = slice(i, min(n,i+bs))\n",
    "        xb, yb = x_train[s], y_train[s]\n",
    "        preds = model(xb)\n",
    "        loss = loss_func(preds, yb)\n",
    "        loss.backward()\n",
    "        with torch.no_grad():\n",
    "            for l in model.layers:\n",
    "                if hasattr(l, 'weight'):\n",
    "                    l.weight -= l.weight.grad * lr\n",
    "                    l.bias -= l.bias.grad * lr\n",
    "                    l.weight.grad.zero_()\n",
    "                    l.bias.grad.zero_()\n",
    "    report(loss, preds, yb)"
   ]
  },
  {
   "cell_type": "markdown",
   "id": "c96084e5",
   "metadata": {
    "ExecuteTime": {
     "end_time": "2022-11-18T13:31:29.692322Z",
     "start_time": "2022-11-18T13:31:29.679075Z"
    }
   },
   "source": [
    "## Using parameters and optim"
   ]
  },
  {
   "cell_type": "markdown",
   "id": "b2f22a51",
   "metadata": {},
   "source": [
    "### Parameters"
   ]
  },
  {
   "cell_type": "code",
   "execution_count": 81,
   "id": "848a4bef",
   "metadata": {
    "ExecuteTime": {
     "end_time": "2022-11-18T17:46:42.420869Z",
     "start_time": "2022-11-18T17:46:42.410536Z"
    }
   },
   "outputs": [],
   "source": [
    "m1 = nn.Module()\n",
    "m1.foo = nn.Linear(3,4)"
   ]
  },
  {
   "cell_type": "code",
   "execution_count": 58,
   "id": "bde0de32",
   "metadata": {
    "ExecuteTime": {
     "end_time": "2022-11-18T14:11:06.901299Z",
     "start_time": "2022-11-18T14:11:06.887494Z"
    }
   },
   "outputs": [
    {
     "data": {
      "text/plain": [
       "Module(\n",
       "  (foo): Linear(in_features=3, out_features=4, bias=True)\n",
       ")"
      ]
     },
     "execution_count": 58,
     "metadata": {},
     "output_type": "execute_result"
    }
   ],
   "source": [
    "m1"
   ]
  },
  {
   "cell_type": "code",
   "execution_count": 59,
   "id": "787f296a",
   "metadata": {
    "ExecuteTime": {
     "end_time": "2022-11-18T14:11:43.065572Z",
     "start_time": "2022-11-18T14:11:43.052665Z"
    }
   },
   "outputs": [
    {
     "data": {
      "text/plain": [
       "[('foo', Linear(in_features=3, out_features=4, bias=True))]"
      ]
     },
     "execution_count": 59,
     "metadata": {},
     "output_type": "execute_result"
    }
   ],
   "source": [
    "list(m1.named_children())"
   ]
  },
  {
   "cell_type": "code",
   "execution_count": 60,
   "id": "342fce1c",
   "metadata": {
    "ExecuteTime": {
     "end_time": "2022-11-18T14:12:58.792079Z",
     "start_time": "2022-11-18T14:12:58.775897Z"
    }
   },
   "outputs": [
    {
     "data": {
      "text/plain": [
       "[Parameter containing:\n",
       " tensor([[ 0.57,  0.43, -0.30],\n",
       "         [ 0.13, -0.32, -0.24],\n",
       "         [ 0.51,  0.04,  0.22],\n",
       "         [ 0.13, -0.17, -0.24]], requires_grad=True),\n",
       " Parameter containing:\n",
       " tensor([-0.01, -0.51, -0.39,  0.56], requires_grad=True)]"
      ]
     },
     "execution_count": 60,
     "metadata": {},
     "output_type": "execute_result"
    }
   ],
   "source": [
    "list(m1.parameters())"
   ]
  },
  {
   "cell_type": "code",
   "execution_count": 68,
   "id": "1184a4b8",
   "metadata": {
    "ExecuteTime": {
     "end_time": "2022-11-18T14:24:42.095870Z",
     "start_time": "2022-11-18T14:24:42.082189Z"
    }
   },
   "outputs": [],
   "source": [
    "class MLP(nn.Module):\n",
    "    def __init__(self, n_in, nh, n_out):\n",
    "        super().__init__()\n",
    "        self.l1 = nn.Linear(n_in, nh)\n",
    "        self.l2 = nn.Linear(nh, n_out)\n",
    "        self.relu = nn.ReLU()\n",
    "    \n",
    "    def forward(self, x):\n",
    "        return self.l2(self.relu(self.l1(x)))\n",
    "    "
   ]
  },
  {
   "cell_type": "code",
   "execution_count": 82,
   "id": "b4435881",
   "metadata": {
    "ExecuteTime": {
     "end_time": "2022-11-18T17:46:46.790299Z",
     "start_time": "2022-11-18T17:46:46.774078Z"
    }
   },
   "outputs": [
    {
     "data": {
      "text/plain": [
       "Linear(in_features=784, out_features=50, bias=True)"
      ]
     },
     "execution_count": 82,
     "metadata": {},
     "output_type": "execute_result"
    }
   ],
   "source": [
    "model = MLP(m, nh, 10)\n",
    "model.l1"
   ]
  },
  {
   "cell_type": "code",
   "execution_count": 70,
   "id": "19a4d108",
   "metadata": {
    "ExecuteTime": {
     "end_time": "2022-11-18T14:24:42.739905Z",
     "start_time": "2022-11-18T14:24:42.731663Z"
    }
   },
   "outputs": [
    {
     "data": {
      "text/plain": [
       "MLP(\n",
       "  (l1): Linear(in_features=784, out_features=50, bias=True)\n",
       "  (l2): Linear(in_features=50, out_features=10, bias=True)\n",
       "  (relu): ReLU()\n",
       ")"
      ]
     },
     "execution_count": 70,
     "metadata": {},
     "output_type": "execute_result"
    }
   ],
   "source": [
    "model"
   ]
  },
  {
   "cell_type": "code",
   "execution_count": 72,
   "id": "3e3710e6",
   "metadata": {
    "ExecuteTime": {
     "end_time": "2022-11-18T14:27:34.825042Z",
     "start_time": "2022-11-18T14:27:34.818967Z"
    }
   },
   "outputs": [
    {
     "name": "stdout",
     "output_type": "stream",
     "text": [
      "l1: Linear(in_features=784, out_features=50, bias=True)\n",
      "l2: Linear(in_features=50, out_features=10, bias=True)\n",
      "relu: ReLU()\n"
     ]
    }
   ],
   "source": [
    "for name,l in model.named_children():\n",
    "    print(f\"{name}: {l}\")"
   ]
  },
  {
   "cell_type": "code",
   "execution_count": 73,
   "id": "6d40e528",
   "metadata": {
    "ExecuteTime": {
     "end_time": "2022-11-18T14:28:15.910025Z",
     "start_time": "2022-11-18T14:28:15.896766Z"
    }
   },
   "outputs": [
    {
     "name": "stdout",
     "output_type": "stream",
     "text": [
      "torch.Size([50, 784])\n",
      "torch.Size([50])\n",
      "torch.Size([10, 50])\n",
      "torch.Size([10])\n"
     ]
    }
   ],
   "source": [
    "for p in model.parameters():\n",
    "    print(p.shape)"
   ]
  },
  {
   "cell_type": "code",
   "execution_count": 75,
   "id": "a0b97a9f",
   "metadata": {
    "ExecuteTime": {
     "end_time": "2022-11-18T14:34:49.338534Z",
     "start_time": "2022-11-18T14:34:49.327780Z"
    }
   },
   "outputs": [],
   "source": [
    "F.linear??"
   ]
  },
  {
   "cell_type": "code",
   "execution_count": 79,
   "id": "fd44c8c4",
   "metadata": {
    "ExecuteTime": {
     "end_time": "2022-11-18T17:46:06.529523Z",
     "start_time": "2022-11-18T17:46:06.522638Z"
    }
   },
   "outputs": [],
   "source": [
    "def fit():\n",
    "    for epoch in range(epochs):\n",
    "        for i in range(0, n, bs):\n",
    "            s = slice(i, min(n, i+bs))\n",
    "            xb, yb = x_train[s], y_train[s]\n",
    "            preds = model(xb)\n",
    "            loss = loss_func(preds, yb)\n",
    "            loss.backward()\n",
    "            with torch.no_grad():\n",
    "                for p in model.parameters():\n",
    "                    p -= p.grad * lr\n",
    "                model.zero_grad()\n",
    "        report(loss, preds, yb)"
   ]
  },
  {
   "cell_type": "code",
   "execution_count": 83,
   "id": "151a63ba",
   "metadata": {
    "ExecuteTime": {
     "end_time": "2022-11-18T17:46:52.668977Z",
     "start_time": "2022-11-18T17:46:51.768329Z"
    }
   },
   "outputs": [
    {
     "name": "stdout",
     "output_type": "stream",
     "text": [
      "0.23, 0.88\n",
      "0.18, 0.88\n",
      "0.08, 1.00\n"
     ]
    }
   ],
   "source": [
    "fit()"
   ]
  },
  {
   "cell_type": "code",
   "execution_count": 92,
   "id": "184380d3",
   "metadata": {
    "ExecuteTime": {
     "end_time": "2022-11-19T18:30:32.016253Z",
     "start_time": "2022-11-19T18:30:32.006904Z"
    }
   },
   "outputs": [],
   "source": [
    "class MyModule():\n",
    "    def __init__(self, n_in, nh, n_out):\n",
    "        self._modules = {}\n",
    "        self.l1 = nn.Linear(n_in, nh)\n",
    "        self.l2 = nn.Linear(nh, n_out)\n",
    "    \n",
    "    def __setattr__(self, k, v):\n",
    "        if not k.startswith(\"_\"):\n",
    "            self._modules[k] = v\n",
    "        super().__setattr__(k,v)\n",
    "    \n",
    "    def __repr__(self):\n",
    "        return f'{self._modules}'\n",
    "    \n",
    "    def parameters(self):\n",
    "        for l in self._modules.values():\n",
    "            #for p in l.parameters():\n",
    "            #    yield p\n",
    "            yield from l.parameters()"
   ]
  },
  {
   "cell_type": "code",
   "execution_count": 93,
   "id": "34cd529a",
   "metadata": {
    "ExecuteTime": {
     "end_time": "2022-11-19T18:30:32.232307Z",
     "start_time": "2022-11-19T18:30:32.225829Z"
    }
   },
   "outputs": [
    {
     "data": {
      "text/plain": [
       "{'l1': Linear(in_features=784, out_features=50, bias=True), 'l2': Linear(in_features=50, out_features=10, bias=True)}"
      ]
     },
     "execution_count": 93,
     "metadata": {},
     "output_type": "execute_result"
    }
   ],
   "source": [
    "mdl = MyModule(m, nh, 10)\n",
    "mdl"
   ]
  },
  {
   "cell_type": "code",
   "execution_count": 94,
   "id": "3193d7b2",
   "metadata": {
    "ExecuteTime": {
     "end_time": "2022-11-19T18:30:32.579025Z",
     "start_time": "2022-11-19T18:30:32.575776Z"
    }
   },
   "outputs": [
    {
     "name": "stdout",
     "output_type": "stream",
     "text": [
      "torch.Size([50, 784])\n",
      "torch.Size([50])\n",
      "torch.Size([10, 50])\n",
      "torch.Size([10])\n"
     ]
    }
   ],
   "source": [
    "for p in mdl.parameters():\n",
    "    print(p.shape)"
   ]
  },
  {
   "cell_type": "markdown",
   "id": "a3442203",
   "metadata": {},
   "source": [
    "## Registering modules"
   ]
  },
  {
   "cell_type": "code",
   "execution_count": 95,
   "id": "5cfc9c7f",
   "metadata": {
    "ExecuteTime": {
     "end_time": "2022-11-19T18:35:31.587651Z",
     "start_time": "2022-11-19T18:35:31.579598Z"
    }
   },
   "outputs": [],
   "source": [
    "from functools import reduce"
   ]
  },
  {
   "cell_type": "code",
   "execution_count": 96,
   "id": "a2fc57cb",
   "metadata": {
    "ExecuteTime": {
     "end_time": "2022-11-19T18:36:34.847125Z",
     "start_time": "2022-11-19T18:36:34.835609Z"
    }
   },
   "outputs": [],
   "source": [
    "layers = [nn.Linear(m, nh), nn.ReLU(), nn.Linear(nh,10)]"
   ]
  },
  {
   "cell_type": "code",
   "execution_count": 99,
   "id": "ac632d7e",
   "metadata": {
    "ExecuteTime": {
     "end_time": "2022-11-19T18:51:14.236993Z",
     "start_time": "2022-11-19T18:51:14.232773Z"
    }
   },
   "outputs": [],
   "source": [
    "class Model(nn.Module):\n",
    "    def __init__(self, layers):\n",
    "        super().__init__()\n",
    "        self.layers = layers\n",
    "        for i,l in enumerate(self.layers):\n",
    "            self.add_module(f'layer_{i}',l)\n",
    "            \n",
    "        def forward(self, x):\n",
    "            return reduce(lambda val,layer: layer(val),self.layers, x)"
   ]
  },
  {
   "cell_type": "code",
   "execution_count": 100,
   "id": "61aca4ef",
   "metadata": {
    "ExecuteTime": {
     "end_time": "2022-11-19T18:51:15.284826Z",
     "start_time": "2022-11-19T18:51:15.278420Z"
    }
   },
   "outputs": [
    {
     "data": {
      "text/plain": [
       "Model(\n",
       "  (layer_0): Linear(in_features=784, out_features=50, bias=True)\n",
       "  (layer_1): ReLU()\n",
       "  (layer_2): Linear(in_features=50, out_features=10, bias=True)\n",
       ")"
      ]
     },
     "execution_count": 100,
     "metadata": {},
     "output_type": "execute_result"
    }
   ],
   "source": [
    "model = Model(layers)\n",
    "model"
   ]
  },
  {
   "cell_type": "code",
   "execution_count": 103,
   "id": "c0e7095b",
   "metadata": {
    "ExecuteTime": {
     "end_time": "2022-11-19T18:55:57.476668Z",
     "start_time": "2022-11-19T18:55:57.467221Z"
    }
   },
   "outputs": [],
   "source": [
    "class SequentialModel(nn.Module):\n",
    "    def __init__(self, layers):\n",
    "        super().__init__()\n",
    "        self.layers = nn.ModuleList(layers)\n",
    "        \n",
    "    def forward(self, x):\n",
    "        for l in self.layers:\n",
    "            x = l(x)\n",
    "        return x"
   ]
  },
  {
   "cell_type": "code",
   "execution_count": 104,
   "id": "eb72ec54",
   "metadata": {
    "ExecuteTime": {
     "end_time": "2022-11-19T18:55:57.828881Z",
     "start_time": "2022-11-19T18:55:57.820711Z"
    }
   },
   "outputs": [
    {
     "data": {
      "text/plain": [
       "SequentialModel(\n",
       "  (layers): ModuleList(\n",
       "    (0): Linear(in_features=784, out_features=50, bias=True)\n",
       "    (1): ReLU()\n",
       "    (2): Linear(in_features=50, out_features=10, bias=True)\n",
       "  )\n",
       ")"
      ]
     },
     "execution_count": 104,
     "metadata": {},
     "output_type": "execute_result"
    }
   ],
   "source": [
    "model = SequentialModel(layers)\n",
    "model"
   ]
  },
  {
   "cell_type": "code",
   "execution_count": 106,
   "id": "8c19762d",
   "metadata": {
    "ExecuteTime": {
     "end_time": "2022-11-19T18:59:21.449562Z",
     "start_time": "2022-11-19T18:59:20.540062Z"
    }
   },
   "outputs": [
    {
     "name": "stdout",
     "output_type": "stream",
     "text": [
      "0.26, 0.94\n",
      "0.08, 0.94\n",
      "0.03, 1.00\n"
     ]
    },
    {
     "data": {
      "text/plain": [
       "(tensor(0.01, grad_fn=<NllLossBackward0>), tensor(1.))"
      ]
     },
     "execution_count": 106,
     "metadata": {},
     "output_type": "execute_result"
    }
   ],
   "source": [
    "fit()\n",
    "loss_func(model(xb), yb), accuracy(model(xb),yb) "
   ]
  },
  {
   "cell_type": "markdown",
   "id": "43478b8d",
   "metadata": {},
   "source": [
    "## nn.Sequential"
   ]
  },
  {
   "cell_type": "code",
   "execution_count": 107,
   "id": "1e3ba7a9",
   "metadata": {
    "ExecuteTime": {
     "end_time": "2022-11-19T19:03:41.906998Z",
     "start_time": "2022-11-19T19:03:41.896270Z"
    }
   },
   "outputs": [],
   "source": [
    "model = nn.Sequential(nn.Linear(m, nh), nn.ReLU(), nn.Linear(nh, 10))"
   ]
  },
  {
   "cell_type": "code",
   "execution_count": 108,
   "id": "d6fada0c",
   "metadata": {
    "ExecuteTime": {
     "end_time": "2022-11-19T19:05:11.533929Z",
     "start_time": "2022-11-19T19:05:10.621509Z"
    }
   },
   "outputs": [
    {
     "name": "stdout",
     "output_type": "stream",
     "text": [
      "0.29, 0.94\n",
      "0.15, 0.94\n",
      "0.06, 1.00\n"
     ]
    },
    {
     "data": {
      "text/plain": [
       "(tensor(0.01, grad_fn=<NllLossBackward0>), tensor(1.))"
      ]
     },
     "execution_count": 108,
     "metadata": {},
     "output_type": "execute_result"
    }
   ],
   "source": [
    "fit()\n",
    "loss_func(model(xb), yb), accuracy(model(xb),yb) "
   ]
  },
  {
   "cell_type": "code",
   "execution_count": 109,
   "id": "9c0af4b0",
   "metadata": {
    "ExecuteTime": {
     "end_time": "2022-11-19T19:05:40.650668Z",
     "start_time": "2022-11-19T19:05:40.647469Z"
    }
   },
   "outputs": [
    {
     "data": {
      "text/plain": [
       "Sequential(\n",
       "  (0): Linear(in_features=784, out_features=50, bias=True)\n",
       "  (1): ReLU()\n",
       "  (2): Linear(in_features=50, out_features=10, bias=True)\n",
       ")"
      ]
     },
     "execution_count": 109,
     "metadata": {},
     "output_type": "execute_result"
    }
   ],
   "source": [
    "model"
   ]
  },
  {
   "cell_type": "markdown",
   "id": "36115e94",
   "metadata": {
    "ExecuteTime": {
     "end_time": "2022-11-19T19:05:54.283385Z",
     "start_time": "2022-11-19T19:05:54.276561Z"
    }
   },
   "source": [
    "## optim"
   ]
  },
  {
   "cell_type": "code",
   "execution_count": 111,
   "id": "f9692334",
   "metadata": {
    "ExecuteTime": {
     "end_time": "2022-11-19T23:40:54.178706Z",
     "start_time": "2022-11-19T23:40:54.162881Z"
    }
   },
   "outputs": [],
   "source": [
    "class Optimizer():\n",
    "    def __init__(self, params, lr = 0.5):\n",
    "        self.params , self.lr = list(params), lr\n",
    "        \n",
    "    def step(self):\n",
    "        with torch.no_grad():\n",
    "            for p in self.params: p-= p.grad * self.lr\n",
    "                \n",
    "    def zero_grad(self):\n",
    "        for p in self.params:\n",
    "            p.grad.data.zero_()"
   ]
  },
  {
   "cell_type": "code",
   "execution_count": 112,
   "id": "fcad0fd9",
   "metadata": {
    "ExecuteTime": {
     "end_time": "2022-11-19T23:43:27.168185Z",
     "start_time": "2022-11-19T23:43:27.164612Z"
    }
   },
   "outputs": [],
   "source": [
    "model = nn.Sequential(nn.Linear(m, nh), nn.ReLU(), nn.Linear(nh, 10))"
   ]
  },
  {
   "cell_type": "code",
   "execution_count": 114,
   "id": "621adac7",
   "metadata": {
    "ExecuteTime": {
     "end_time": "2022-11-19T23:44:18.946892Z",
     "start_time": "2022-11-19T23:44:18.938798Z"
    }
   },
   "outputs": [],
   "source": [
    "opt = Optimizer(model.parameters())"
   ]
  },
  {
   "cell_type": "code",
   "execution_count": 115,
   "id": "0e9b5633",
   "metadata": {
    "ExecuteTime": {
     "end_time": "2022-11-19T23:51:51.612269Z",
     "start_time": "2022-11-19T23:51:50.806104Z"
    }
   },
   "outputs": [
    {
     "name": "stdout",
     "output_type": "stream",
     "text": [
      "0.20, 0.94\n",
      "0.05, 1.00\n",
      "0.07, 1.00\n"
     ]
    }
   ],
   "source": [
    "for epoch in range(epochs):\n",
    "    for i in range(0, n, bs):\n",
    "        s = slice(i, min(n,i+bs))\n",
    "        xb, yb  = x_train[s], y_train[s]\n",
    "        preds = model(xb)\n",
    "        loss = loss_func(preds, yb)\n",
    "        loss.backward()\n",
    "        opt.step()\n",
    "        opt.zero_grad()\n",
    "    report(loss, preds, yb)"
   ]
  },
  {
   "cell_type": "code",
   "execution_count": 116,
   "id": "42dda50c",
   "metadata": {
    "ExecuteTime": {
     "end_time": "2022-11-19T23:52:50.741807Z",
     "start_time": "2022-11-19T23:52:50.733967Z"
    }
   },
   "outputs": [],
   "source": [
    "from torch import optim"
   ]
  },
  {
   "cell_type": "code",
   "execution_count": 117,
   "id": "bb6d6730",
   "metadata": {
    "ExecuteTime": {
     "end_time": "2022-11-19T23:56:35.588765Z",
     "start_time": "2022-11-19T23:56:35.572029Z"
    }
   },
   "outputs": [],
   "source": [
    "def get_model():\n",
    "    model = nn.Sequential(nn.Linear(m, nh), nn.ReLU(), nn.Linear(nh, 10))\n",
    "    return model, optim.SGD(model.parameters(), lr=lr)"
   ]
  },
  {
   "cell_type": "code",
   "execution_count": 118,
   "id": "179345d5",
   "metadata": {
    "ExecuteTime": {
     "end_time": "2022-11-19T23:57:25.773776Z",
     "start_time": "2022-11-19T23:57:25.761088Z"
    }
   },
   "outputs": [
    {
     "data": {
      "text/plain": [
       "tensor(2.30, grad_fn=<NllLossBackward0>)"
      ]
     },
     "execution_count": 118,
     "metadata": {},
     "output_type": "execute_result"
    }
   ],
   "source": [
    "model, opt = get_model()\n",
    "loss_func(model(xb), yb)"
   ]
  },
  {
   "cell_type": "code",
   "execution_count": 119,
   "id": "26018fc7",
   "metadata": {
    "ExecuteTime": {
     "end_time": "2022-11-20T00:04:20.322068Z",
     "start_time": "2022-11-20T00:04:19.501945Z"
    }
   },
   "outputs": [
    {
     "name": "stdout",
     "output_type": "stream",
     "text": [
      "0.14, 0.94\n",
      "0.04, 1.00\n",
      "0.02, 1.00\n"
     ]
    }
   ],
   "source": [
    "for epoch in range(epochs):\n",
    "    for i in range(0, n, bs):\n",
    "        s = slice(i, min(n,i+bs))\n",
    "        xb,yb = x_train[s], y_train[s]\n",
    "        preds = model(xb)\n",
    "        loss = loss_func(preds, yb)\n",
    "        loss.backward()\n",
    "        opt.step()\n",
    "        opt.zero_grad()\n",
    "    report(loss, preds, yb)"
   ]
  },
  {
   "cell_type": "code",
   "execution_count": 120,
   "id": "8e096ade",
   "metadata": {
    "ExecuteTime": {
     "end_time": "2022-11-20T17:20:21.429497Z",
     "start_time": "2022-11-20T17:20:21.418848Z"
    }
   },
   "outputs": [],
   "source": [
    "class Dataset():\n",
    "    def __init__(self, x, y):\n",
    "        self.x, self.y = x, y\n",
    "    def __len__(self):\n",
    "        return len(self.x)\n",
    "    def __getitem__(self, i):\n",
    "        return self.x[i], self.y[i]"
   ]
  },
  {
   "cell_type": "code",
   "execution_count": 124,
   "id": "ce92c675",
   "metadata": {
    "ExecuteTime": {
     "end_time": "2022-11-20T17:23:24.805296Z",
     "start_time": "2022-11-20T17:23:24.796314Z"
    }
   },
   "outputs": [],
   "source": [
    "train_ds, valid_ds = Dataset(x_train, y_train), Dataset(x_valid, y_valid)\n",
    "assert len(train_ds) == len(x_train)\n",
    "assert len(valid_ds) == len(x_valid)"
   ]
  },
  {
   "cell_type": "code",
   "execution_count": 125,
   "id": "5362d4f0",
   "metadata": {
    "ExecuteTime": {
     "end_time": "2022-11-20T17:38:25.194849Z",
     "start_time": "2022-11-20T17:38:25.184217Z"
    }
   },
   "outputs": [],
   "source": [
    "xb, yb = train_ds[0:5]\n",
    "assert xb.shape==(5,28*28)\n",
    "assert yb.shape==(5,)"
   ]
  },
  {
   "cell_type": "code",
   "execution_count": 126,
   "id": "f533ed2f",
   "metadata": {
    "ExecuteTime": {
     "end_time": "2022-11-20T17:38:57.327471Z",
     "start_time": "2022-11-20T17:38:57.316306Z"
    }
   },
   "outputs": [],
   "source": [
    "model,opt = get_model()"
   ]
  },
  {
   "cell_type": "code",
   "execution_count": 127,
   "id": "f149ac27",
   "metadata": {
    "ExecuteTime": {
     "end_time": "2022-11-20T17:46:29.359976Z",
     "start_time": "2022-11-20T17:46:28.507441Z"
    }
   },
   "outputs": [
    {
     "name": "stdout",
     "output_type": "stream",
     "text": [
      "0.29, 0.94\n",
      "0.18, 0.88\n",
      "0.09, 1.00\n"
     ]
    }
   ],
   "source": [
    "for epoch in range(epochs):\n",
    "    for i in range(0, n, bs):\n",
    "        xb,yb = train_ds[i:min(n,i+bs)]\n",
    "        preds = model(xb)\n",
    "        loss = loss_func(preds, yb)\n",
    "        loss.backward()\n",
    "        opt.step()\n",
    "        opt.zero_grad()\n",
    "    report(loss, preds, yb)"
   ]
  },
  {
   "cell_type": "code",
   "execution_count": 128,
   "id": "ce24eb92",
   "metadata": {
    "ExecuteTime": {
     "end_time": "2022-11-20T18:41:57.720929Z",
     "start_time": "2022-11-20T18:41:57.717661Z"
    }
   },
   "outputs": [],
   "source": [
    "class Dataloader():\n",
    "    def __init__(self, ds, bs):\n",
    "        self.ds, self.bs = ds, bs\n",
    "    def __iter__(self):\n",
    "        for i in range(0, len(self.ds), self.bs):\n",
    "            yield self.ds[i:i+self.bs]"
   ]
  },
  {
   "cell_type": "code",
   "execution_count": 129,
   "id": "1b975780",
   "metadata": {
    "ExecuteTime": {
     "end_time": "2022-11-20T18:44:52.277116Z",
     "start_time": "2022-11-20T18:44:52.267791Z"
    }
   },
   "outputs": [],
   "source": [
    "train_dl = Dataloader(train_ds, bs)\n",
    "valid_dl = Dataloader(valid_ds, bs)"
   ]
  },
  {
   "cell_type": "code",
   "execution_count": 130,
   "id": "3aa9873a",
   "metadata": {
    "ExecuteTime": {
     "end_time": "2022-11-20T18:45:37.122896Z",
     "start_time": "2022-11-20T18:45:37.116810Z"
    }
   },
   "outputs": [
    {
     "data": {
      "text/plain": [
       "torch.Size([64, 784])"
      ]
     },
     "execution_count": 130,
     "metadata": {},
     "output_type": "execute_result"
    }
   ],
   "source": [
    "xb, yb = next(iter(valid_dl))\n",
    "xb.shape"
   ]
  },
  {
   "cell_type": "code",
   "execution_count": 131,
   "id": "c1d2b6bc",
   "metadata": {
    "ExecuteTime": {
     "end_time": "2022-11-20T18:46:27.202120Z",
     "start_time": "2022-11-20T18:46:27.187131Z"
    }
   },
   "outputs": [
    {
     "data": {
      "text/plain": [
       "tensor([3, 8, 6, 9, 6, 4, 5, 3, 8, 4, 5, 2, 3, 8, 4, 8, 1, 5, 0, 5, 9, 7, 4, 1, 0, 3, 0, 6, 2, 9, 9, 4, 1, 3, 6, 8, 0, 7, 7, 6, 8, 9, 0, 3,\n",
       "        8, 3, 7, 7, 8, 4, 4, 1, 2, 9, 8, 1, 1, 0, 6, 6, 5, 0, 1, 1])"
      ]
     },
     "execution_count": 131,
     "metadata": {},
     "output_type": "execute_result"
    }
   ],
   "source": [
    "yb"
   ]
  },
  {
   "cell_type": "code",
   "execution_count": 135,
   "id": "02c64353",
   "metadata": {
    "ExecuteTime": {
     "end_time": "2022-11-20T18:49:57.850281Z",
     "start_time": "2022-11-20T18:49:57.769251Z"
    }
   },
   "outputs": [
    {
     "data": {
      "text/plain": [
       "tensor(3)"
      ]
     },
     "execution_count": 135,
     "metadata": {},
     "output_type": "execute_result"
    },
    {
     "data": {
      "image/png": "[encoded data removed]",
      "text/plain": [
       "<Figure size 432x288 with 1 Axes>"
      ]
     },
     "metadata": {
      "needs_background": "light"
     },
     "output_type": "display_data"
    }
   ],
   "source": [
    "plt.imshow(xb[0].view(28,28))\n",
    "yb[0]"
   ]
  },
  {
   "cell_type": "code",
   "execution_count": 139,
   "id": "706f02e1",
   "metadata": {
    "ExecuteTime": {
     "end_time": "2022-11-20T18:59:42.205694Z",
     "start_time": "2022-11-20T18:59:42.195289Z"
    }
   },
   "outputs": [],
   "source": [
    "model, opt = get_model()"
   ]
  },
  {
   "cell_type": "code",
   "execution_count": 140,
   "id": "ba51a5d2",
   "metadata": {
    "ExecuteTime": {
     "end_time": "2022-11-20T18:59:42.546962Z",
     "start_time": "2022-11-20T18:59:42.541814Z"
    }
   },
   "outputs": [],
   "source": [
    "def fit():\n",
    "    for epoch in range(epochs):\n",
    "        for xb,yb in train_dl:\n",
    "            pred = model(xb)\n",
    "            loss = loss_func(pred, yb)\n",
    "            loss.backward()\n",
    "            opt.step()\n",
    "            opt.zero_grad()\n",
    "        report(loss, preds, yb)"
   ]
  },
  {
   "cell_type": "code",
   "execution_count": 141,
   "id": "f5dc9dc3",
   "metadata": {
    "ExecuteTime": {
     "end_time": "2022-11-20T18:59:43.828431Z",
     "start_time": "2022-11-20T18:59:42.922286Z"
    }
   },
   "outputs": [
    {
     "name": "stdout",
     "output_type": "stream",
     "text": [
      "0.20, 1.00\n",
      "0.07, 1.00\n",
      "0.03, 1.00\n"
     ]
    },
    {
     "data": {
      "text/plain": [
       "(tensor(0.07, grad_fn=<NllLossBackward0>), tensor(0.98))"
      ]
     },
     "execution_count": 141,
     "metadata": {},
     "output_type": "execute_result"
    }
   ],
   "source": [
    "fit()\n",
    "loss_func(model(xb), yb), accuracy(model(xb), yb)"
   ]
  },
  {
   "cell_type": "markdown",
   "id": "2168ac25",
   "metadata": {},
   "source": [
    "## random sampling"
   ]
  },
  {
   "cell_type": "code",
   "execution_count": 142,
   "id": "889d2896",
   "metadata": {
    "ExecuteTime": {
     "end_time": "2022-11-20T19:11:43.970123Z",
     "start_time": "2022-11-20T19:11:43.962711Z"
    }
   },
   "outputs": [],
   "source": [
    "import random"
   ]
  },
  {
   "cell_type": "code",
   "execution_count": 150,
   "id": "ed3761f9",
   "metadata": {
    "ExecuteTime": {
     "end_time": "2022-11-20T19:29:34.189019Z",
     "start_time": "2022-11-20T19:29:34.177326Z"
    }
   },
   "outputs": [],
   "source": [
    "class Sampler():\n",
    "    def __init__(self, ds, shuffle=False):\n",
    "        self.n, self.shuffle = len(ds), shuffle\n",
    "        \n",
    "    def __iter__(self):\n",
    "        res = list(range(self.n))\n",
    "        if self.shuffle:\n",
    "            random.shuffle(res)\n",
    "        return iter(res)"
   ]
  },
  {
   "cell_type": "code",
   "execution_count": 151,
   "id": "e3ddab23",
   "metadata": {
    "ExecuteTime": {
     "end_time": "2022-11-20T19:29:34.475013Z",
     "start_time": "2022-11-20T19:29:34.469331Z"
    }
   },
   "outputs": [],
   "source": [
    "from itertools import islice"
   ]
  },
  {
   "cell_type": "code",
   "execution_count": 152,
   "id": "150fd20a",
   "metadata": {
    "ExecuteTime": {
     "end_time": "2022-11-20T19:29:34.760446Z",
     "start_time": "2022-11-20T19:29:34.758172Z"
    }
   },
   "outputs": [],
   "source": [
    "ss = Sampler(train_ds)"
   ]
  },
  {
   "cell_type": "code",
   "execution_count": 153,
   "id": "34c79df7",
   "metadata": {
    "ExecuteTime": {
     "end_time": "2022-11-20T19:29:35.114333Z",
     "start_time": "2022-11-20T19:29:35.103776Z"
    }
   },
   "outputs": [
    {
     "name": "stdout",
     "output_type": "stream",
     "text": [
      "0\n",
      "1\n",
      "2\n",
      "3\n",
      "4\n"
     ]
    }
   ],
   "source": [
    "it = iter(ss)\n",
    "for o in range(5):\n",
    "    print(next(it))"
   ]
  },
  {
   "cell_type": "code",
   "execution_count": 154,
   "id": "464529b8",
   "metadata": {
    "ExecuteTime": {
     "end_time": "2022-11-20T19:29:35.502309Z",
     "start_time": "2022-11-20T19:29:35.494175Z"
    }
   },
   "outputs": [
    {
     "data": {
      "text/plain": [
       "[0, 1, 2, 3, 4]"
      ]
     },
     "execution_count": 154,
     "metadata": {},
     "output_type": "execute_result"
    }
   ],
   "source": [
    "list(islice(ss,5))"
   ]
  },
  {
   "cell_type": "code",
   "execution_count": 158,
   "id": "f4651fb5",
   "metadata": {
    "ExecuteTime": {
     "end_time": "2022-11-20T19:37:35.408605Z",
     "start_time": "2022-11-20T19:37:35.374002Z"
    }
   },
   "outputs": [
    {
     "data": {
      "text/plain": [
       "[6882, 8881, 6752, 8786, 36618]"
      ]
     },
     "execution_count": 158,
     "metadata": {},
     "output_type": "execute_result"
    }
   ],
   "source": [
    "ss = Sampler(train_ds, shuffle=True)\n",
    "list(islice(ss, 5))"
   ]
  },
  {
   "cell_type": "code",
   "execution_count": 163,
   "id": "e4fc5823",
   "metadata": {
    "ExecuteTime": {
     "end_time": "2022-11-20T19:37:53.883438Z",
     "start_time": "2022-11-20T19:37:53.850283Z"
    }
   },
   "outputs": [
    {
     "data": {
      "text/plain": [
       "[21527, 28513, 29486, 46655, 40314]"
      ]
     },
     "execution_count": 163,
     "metadata": {},
     "output_type": "execute_result"
    }
   ],
   "source": [
    "list(islice(ss, 5))"
   ]
  },
  {
   "cell_type": "code",
   "execution_count": 156,
   "id": "0d46b0d9",
   "metadata": {
    "ExecuteTime": {
     "end_time": "2022-11-20T19:32:10.037007Z",
     "start_time": "2022-11-20T19:32:10.017463Z"
    }
   },
   "outputs": [],
   "source": [
    "import fastcore.all as fc"
   ]
  },
  {
   "cell_type": "code",
   "execution_count": 157,
   "id": "e9bb784e",
   "metadata": {
    "ExecuteTime": {
     "end_time": "2022-11-20T19:37:04.814334Z",
     "start_time": "2022-11-20T19:37:04.803892Z"
    }
   },
   "outputs": [],
   "source": [
    "class BatchSampler():\n",
    "    def __init__(self, sampler, bs, drop_last = False):\n",
    "        self.sampler, self.bs, self.drop_last = sampler, bs, drop_last\n",
    "        \n",
    "    def __iter__(self):\n",
    "        yield from fc.chunked(iter(self.sampler), self.bs, drop_last = self.drop_last)"
   ]
  },
  {
   "cell_type": "code",
   "execution_count": 164,
   "id": "9e833aec",
   "metadata": {
    "ExecuteTime": {
     "end_time": "2022-11-20T19:40:01.100463Z",
     "start_time": "2022-11-20T19:40:01.056903Z"
    }
   },
   "outputs": [
    {
     "data": {
      "text/plain": [
       "[[4180, 49388, 44035, 25436],\n",
       " [22119, 19311, 7929, 8742],\n",
       " [25140, 49480, 903, 26122],\n",
       " [4952, 2633, 27737, 47503],\n",
       " [28032, 28774, 22609, 13076]]"
      ]
     },
     "execution_count": 164,
     "metadata": {},
     "output_type": "execute_result"
    }
   ],
   "source": [
    "batchs = BatchSampler(ss, 4)\n",
    "list(islice(batchs,5))"
   ]
  },
  {
   "cell_type": "code",
   "execution_count": 166,
   "id": "9888f15a",
   "metadata": {
    "ExecuteTime": {
     "end_time": "2022-11-20T19:45:18.162898Z",
     "start_time": "2022-11-20T19:45:18.148340Z"
    }
   },
   "outputs": [],
   "source": [
    "fc.chunked??"
   ]
  },
  {
   "cell_type": "code",
   "execution_count": 167,
   "id": "56f1c705",
   "metadata": {
    "ExecuteTime": {
     "end_time": "2022-11-20T19:51:08.046884Z",
     "start_time": "2022-11-20T19:51:08.043544Z"
    }
   },
   "outputs": [],
   "source": [
    "def collate(b):\n",
    "    xs, ys = zip(*b)\n",
    "    return torch.stack(xs), torch.stack(ys)"
   ]
  },
  {
   "cell_type": "code",
   "execution_count": 168,
   "id": "ec653d9d",
   "metadata": {
    "ExecuteTime": {
     "end_time": "2022-11-20T19:57:12.119633Z",
     "start_time": "2022-11-20T19:57:12.108572Z"
    }
   },
   "outputs": [],
   "source": [
    "class Dataloader():\n",
    "    def __init__(self, ds, batchs, collate_fn=collate):\n",
    "        fc.store_attr()\n",
    "    def __iter__(self):\n",
    "        yield from (self.collate_fn(self.ds[i] for i in b) for b in self.batchs)"
   ]
  },
  {
   "cell_type": "code",
   "execution_count": 169,
   "id": "5c5328bd",
   "metadata": {
    "ExecuteTime": {
     "end_time": "2022-11-20T19:59:20.420051Z",
     "start_time": "2022-11-20T19:59:20.411697Z"
    }
   },
   "outputs": [],
   "source": [
    "train_samp = BatchSampler(Sampler(train_ds, shuffle=True), bs)\n",
    "valid_samp = BatchSampler(Sampler(valid_ds, shuffle=False), bs)"
   ]
  },
  {
   "cell_type": "code",
   "execution_count": 170,
   "id": "0b71922e",
   "metadata": {
    "ExecuteTime": {
     "end_time": "2022-11-20T20:01:50.374301Z",
     "start_time": "2022-11-20T20:01:50.369955Z"
    }
   },
   "outputs": [],
   "source": [
    "train_dl = Dataloader(train_ds, batchs=train_samp)\n",
    "valid_dl = Dataloader(valid_ds, batchs=valid_samp)"
   ]
  },
  {
   "cell_type": "code",
   "execution_count": 171,
   "id": "5e0ae177",
   "metadata": {
    "ExecuteTime": {
     "end_time": "2022-11-20T20:03:31.430852Z",
     "start_time": "2022-11-20T20:03:31.345750Z"
    }
   },
   "outputs": [
    {
     "data": {
      "text/plain": [
       "tensor(3)"
      ]
     },
     "execution_count": 171,
     "metadata": {},
     "output_type": "execute_result"
    },
    {
     "data": {
      "image/png": "[encoded data removed]",
      "text/plain": [
       "<Figure size 432x288 with 1 Axes>"
      ]
     },
     "metadata": {
      "needs_background": "light"
     },
     "output_type": "display_data"
    }
   ],
   "source": [
    "xb, yb = next(iter(valid_dl))\n",
    "plt.imshow(xb[0].view(28,28))\n",
    "yb[0]"
   ]
  },
  {
   "cell_type": "code",
   "execution_count": null,
   "id": "9dcd1dda",
   "metadata": {},
   "outputs": [],
   "source": []
  }
 ],
 "metadata": {
  "kernelspec": {
   "display_name": "Python [conda env:fai] *",
   "language": "python",
   "name": "conda-env-fai-py"
  },
  "language_info": {
   "codemirror_mode": {
    "name": "ipython",
    "version": 3
   },
   "file_extension": ".py",
   "mimetype": "text/x-python",
   "name": "python",
   "nbconvert_exporter": "python",
   "pygments_lexer": "ipython3",
   "version": "3.10.4"
  },
  "varInspector": {
   "cols": {
    "lenName": 16,
    "lenType": 16,
    "lenVar": 40
   },
   "kernels_config": {
    "python": {
     "delete_cmd_postfix": "",
     "delete_cmd_prefix": "del ",
     "library": "var_list.py",
     "varRefreshCmd": "print(var_dic_list())"
    },
    "r": {
     "delete_cmd_postfix": ") ",
     "delete_cmd_prefix": "rm(",
     "library": "var_list.r",
     "varRefreshCmd": "cat(var_dic_list()) "
    }
   },
   "types_to_exclude": [
    "module",
    "function",
    "builtin_function_or_method",
    "instance",
    "_Feature"
   ],
   "window_display": false
  }
 },
 "nbformat": 4,
 "nbformat_minor": 5
}
