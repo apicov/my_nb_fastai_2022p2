{
 "cells": [
  {
   "cell_type": "code",
   "execution_count": 45,
   "id": "08f647d5",
   "metadata": {
    "ExecuteTime": {
     "end_time": "2022-11-18T14:03:54.146514Z",
     "start_time": "2022-11-18T14:03:53.465691Z"
    }
   },
   "outputs": [],
   "source": [
    "import pickle,gzip,math,os,time,shutil,torch,matplotlib as mpl,numpy as np,matplotlib.pyplot as plt\n",
    "from pathlib import Path\n",
    "from torch import tensor,nn\n",
    "import torch.nn.functional as F\n",
    "from fastcore.test import test_close\n",
    "\n",
    "torch.set_printoptions(precision=2, linewidth=140, sci_mode=False)\n",
    "torch.manual_seed(1)\n",
    "mpl.rcParams['image.cmap'] = 'gray'\n",
    "\n",
    "path_data = Path('data')\n",
    "path_gz = path_data/'mnist.pkl.gz'\n",
    "with gzip.open(path_gz, 'rb') as f: ((x_train, y_train), (x_valid, y_valid), _) = pickle.load(f, encoding='latin-1')\n",
    "x_train, y_train, x_valid, y_valid = map(tensor, [x_train, y_train, x_valid, y_valid])"
   ]
  },
  {
   "cell_type": "markdown",
   "id": "6d2cc4c6",
   "metadata": {},
   "source": [
    " ## Data\n"
   ]
  },
  {
   "cell_type": "code",
   "execution_count": 46,
   "id": "2c0503b5",
   "metadata": {
    "ExecuteTime": {
     "end_time": "2022-11-18T14:03:54.151957Z",
     "start_time": "2022-11-18T14:03:54.148157Z"
    }
   },
   "outputs": [
    {
     "data": {
      "text/plain": [
       "(50000, 784, tensor(10))"
      ]
     },
     "execution_count": 46,
     "metadata": {},
     "output_type": "execute_result"
    }
   ],
   "source": [
    "n, m = x_train.shape\n",
    "c = y_train.max()+1\n",
    "nh = 50\n",
    "n, m, c"
   ]
  },
  {
   "cell_type": "code",
   "execution_count": 47,
   "id": "ff36dc70",
   "metadata": {
    "ExecuteTime": {
     "end_time": "2022-11-18T14:03:54.160525Z",
     "start_time": "2022-11-18T14:03:54.153277Z"
    }
   },
   "outputs": [],
   "source": [
    "class Model(nn.Module):\n",
    "    def __init__(self, n_in, nh, n_out):\n",
    "        super().__init__()\n",
    "        self.layers = [nn.Linear(n_in,nh), nn.ReLU(), nn.Linear(nh, n_out)]\n",
    "    def forward(self, x):\n",
    "        for l in self.layers:\n",
    "            x = l(x)\n",
    "        return x"
   ]
  },
  {
   "cell_type": "code",
   "execution_count": 78,
   "id": "cc3d0281",
   "metadata": {
    "ExecuteTime": {
     "end_time": "2022-11-18T17:46:02.155305Z",
     "start_time": "2022-11-18T17:46:02.121329Z"
    }
   },
   "outputs": [
    {
     "data": {
      "text/plain": [
       "torch.Size([50000, 10])"
      ]
     },
     "execution_count": 78,
     "metadata": {},
     "output_type": "execute_result"
    }
   ],
   "source": [
    "model = Model(m, nh, c)\n",
    "pred = model(x_train)\n",
    "pred.shape"
   ]
  },
  {
   "cell_type": "markdown",
   "id": "9f929396",
   "metadata": {},
   "source": [
    "## Basic training loop"
   ]
  },
  {
   "cell_type": "code",
   "execution_count": 49,
   "id": "f1cc1167",
   "metadata": {
    "ExecuteTime": {
     "end_time": "2022-11-18T14:03:54.195393Z",
     "start_time": "2022-11-18T14:03:54.193373Z"
    }
   },
   "outputs": [],
   "source": [
    "loss_func = F.cross_entropy"
   ]
  },
  {
   "cell_type": "code",
   "execution_count": 50,
   "id": "3b1ac4a8",
   "metadata": {
    "ExecuteTime": {
     "end_time": "2022-11-18T14:03:54.203854Z",
     "start_time": "2022-11-18T14:03:54.196787Z"
    }
   },
   "outputs": [
    {
     "data": {
      "text/plain": [
       "(tensor([-0.09, -0.21, -0.08,  0.10, -0.04,  0.08, -0.04, -0.03,  0.01,  0.06], grad_fn=<SelectBackward0>),\n",
       " torch.Size([64, 10]))"
      ]
     },
     "execution_count": 50,
     "metadata": {},
     "output_type": "execute_result"
    }
   ],
   "source": [
    "bs =64\n",
    "\n",
    "xb = x_train[0:bs]\n",
    "preds = model(xb)\n",
    "preds[0], preds.shape"
   ]
  },
  {
   "cell_type": "code",
   "execution_count": 51,
   "id": "bdf6a9ab",
   "metadata": {
    "ExecuteTime": {
     "end_time": "2022-11-18T14:03:54.209292Z",
     "start_time": "2022-11-18T14:03:54.205250Z"
    }
   },
   "outputs": [
    {
     "data": {
      "text/plain": [
       "tensor(2.30, grad_fn=<NllLossBackward0>)"
      ]
     },
     "execution_count": 51,
     "metadata": {},
     "output_type": "execute_result"
    }
   ],
   "source": [
    "yb = y_train[0:bs]\n",
    "loss_func(preds, yb)"
   ]
  },
  {
   "cell_type": "code",
   "execution_count": 52,
   "id": "b39bf06c",
   "metadata": {
    "ExecuteTime": {
     "end_time": "2022-11-18T14:03:54.214464Z",
     "start_time": "2022-11-18T14:03:54.210789Z"
    }
   },
   "outputs": [
    {
     "data": {
      "text/plain": [
       "tensor([3, 9, 3, 8, 5, 9, 3, 9, 3, 9, 5, 3, 9, 9, 3, 9, 9, 5, 8, 7, 9, 5, 3, 8, 9, 5, 9, 5, 5, 9, 3, 5, 9, 7, 5, 7, 9, 9, 3, 9, 3, 5, 3, 8,\n",
       "        3, 5, 9, 5, 9, 5, 3, 9, 3, 8, 9, 5, 9, 5, 9, 5, 8, 8, 9, 8])"
      ]
     },
     "execution_count": 52,
     "metadata": {},
     "output_type": "execute_result"
    }
   ],
   "source": [
    "preds.argmax(dim=1)"
   ]
  },
  {
   "cell_type": "code",
   "execution_count": 53,
   "id": "1bdaf50b",
   "metadata": {
    "ExecuteTime": {
     "end_time": "2022-11-18T14:03:54.219296Z",
     "start_time": "2022-11-18T14:03:54.216496Z"
    }
   },
   "outputs": [],
   "source": [
    "def accuracy(out, yb):\n",
    "    return (out.argmax(dim=1)==yb).float().mean()"
   ]
  },
  {
   "cell_type": "code",
   "execution_count": 54,
   "id": "f19567a5",
   "metadata": {
    "ExecuteTime": {
     "end_time": "2022-11-18T14:03:54.228331Z",
     "start_time": "2022-11-18T14:03:54.224528Z"
    }
   },
   "outputs": [],
   "source": [
    "lr = 0.5\n",
    "epochs = 3"
   ]
  },
  {
   "cell_type": "code",
   "execution_count": 55,
   "id": "336439b5",
   "metadata": {
    "ExecuteTime": {
     "end_time": "2022-11-18T14:03:54.232351Z",
     "start_time": "2022-11-18T14:03:54.229886Z"
    }
   },
   "outputs": [],
   "source": [
    "def report(loss, preds, yb):\n",
    "    print(f'{loss:.2f}, {accuracy(preds, yb):.2f}')"
   ]
  },
  {
   "cell_type": "code",
   "execution_count": 56,
   "id": "806a41ee",
   "metadata": {
    "ExecuteTime": {
     "end_time": "2022-11-18T14:03:57.895318Z",
     "start_time": "2022-11-18T14:03:56.849022Z"
    }
   },
   "outputs": [
    {
     "name": "stdout",
     "output_type": "stream",
     "text": [
      "0.19, 0.94\n",
      "0.05, 1.00\n",
      "0.03, 1.00\n"
     ]
    }
   ],
   "source": [
    "for epoch in range(epochs):\n",
    "    for i in range(0, n, bs):\n",
    "        s = slice(i, min(n,i+bs))\n",
    "        xb, yb = x_train[s], y_train[s]\n",
    "        preds = model(xb)\n",
    "        loss = loss_func(preds, yb)\n",
    "        loss.backward()\n",
    "        with torch.no_grad():\n",
    "            for l in model.layers:\n",
    "                if hasattr(l, 'weight'):\n",
    "                    l.weight -= l.weight.grad * lr\n",
    "                    l.bias -= l.bias.grad * lr\n",
    "                    l.weight.grad.zero_()\n",
    "                    l.bias.grad.zero_()\n",
    "    report(loss, preds, yb)"
   ]
  },
  {
   "cell_type": "markdown",
   "id": "70001ae2",
   "metadata": {
    "ExecuteTime": {
     "end_time": "2022-11-18T13:31:29.692322Z",
     "start_time": "2022-11-18T13:31:29.679075Z"
    }
   },
   "source": [
    "## Using parameters and optim"
   ]
  },
  {
   "cell_type": "markdown",
   "id": "796c2d0a",
   "metadata": {},
   "source": [
    "### Parameters"
   ]
  },
  {
   "cell_type": "code",
   "execution_count": 81,
   "id": "a7ec4f5a",
   "metadata": {
    "ExecuteTime": {
     "end_time": "2022-11-18T17:46:42.420869Z",
     "start_time": "2022-11-18T17:46:42.410536Z"
    }
   },
   "outputs": [],
   "source": [
    "m1 = nn.Module()\n",
    "m1.foo = nn.Linear(3,4)"
   ]
  },
  {
   "cell_type": "code",
   "execution_count": 58,
   "id": "61a51e82",
   "metadata": {
    "ExecuteTime": {
     "end_time": "2022-11-18T14:11:06.901299Z",
     "start_time": "2022-11-18T14:11:06.887494Z"
    }
   },
   "outputs": [
    {
     "data": {
      "text/plain": [
       "Module(\n",
       "  (foo): Linear(in_features=3, out_features=4, bias=True)\n",
       ")"
      ]
     },
     "execution_count": 58,
     "metadata": {},
     "output_type": "execute_result"
    }
   ],
   "source": [
    "m1"
   ]
  },
  {
   "cell_type": "code",
   "execution_count": 59,
   "id": "6cd1dd25",
   "metadata": {
    "ExecuteTime": {
     "end_time": "2022-11-18T14:11:43.065572Z",
     "start_time": "2022-11-18T14:11:43.052665Z"
    }
   },
   "outputs": [
    {
     "data": {
      "text/plain": [
       "[('foo', Linear(in_features=3, out_features=4, bias=True))]"
      ]
     },
     "execution_count": 59,
     "metadata": {},
     "output_type": "execute_result"
    }
   ],
   "source": [
    "list(m1.named_children())"
   ]
  },
  {
   "cell_type": "code",
   "execution_count": 60,
   "id": "a946d6af",
   "metadata": {
    "ExecuteTime": {
     "end_time": "2022-11-18T14:12:58.792079Z",
     "start_time": "2022-11-18T14:12:58.775897Z"
    }
   },
   "outputs": [
    {
     "data": {
      "text/plain": [
       "[Parameter containing:\n",
       " tensor([[ 0.57,  0.43, -0.30],\n",
       "         [ 0.13, -0.32, -0.24],\n",
       "         [ 0.51,  0.04,  0.22],\n",
       "         [ 0.13, -0.17, -0.24]], requires_grad=True),\n",
       " Parameter containing:\n",
       " tensor([-0.01, -0.51, -0.39,  0.56], requires_grad=True)]"
      ]
     },
     "execution_count": 60,
     "metadata": {},
     "output_type": "execute_result"
    }
   ],
   "source": [
    "list(m1.parameters())"
   ]
  },
  {
   "cell_type": "code",
   "execution_count": 68,
   "id": "86099394",
   "metadata": {
    "ExecuteTime": {
     "end_time": "2022-11-18T14:24:42.095870Z",
     "start_time": "2022-11-18T14:24:42.082189Z"
    }
   },
   "outputs": [],
   "source": [
    "class MLP(nn.Module):\n",
    "    def __init__(self, n_in, nh, n_out):\n",
    "        super().__init__()\n",
    "        self.l1 = nn.Linear(n_in, nh)\n",
    "        self.l2 = nn.Linear(nh, n_out)\n",
    "        self.relu = nn.ReLU()\n",
    "    \n",
    "    def forward(self, x):\n",
    "        return self.l2(self.relu(self.l1(x)))\n",
    "    "
   ]
  },
  {
   "cell_type": "code",
   "execution_count": 82,
   "id": "ba2ff2d7",
   "metadata": {
    "ExecuteTime": {
     "end_time": "2022-11-18T17:46:46.790299Z",
     "start_time": "2022-11-18T17:46:46.774078Z"
    }
   },
   "outputs": [
    {
     "data": {
      "text/plain": [
       "Linear(in_features=784, out_features=50, bias=True)"
      ]
     },
     "execution_count": 82,
     "metadata": {},
     "output_type": "execute_result"
    }
   ],
   "source": [
    "model = MLP(m, nh, 10)\n",
    "model.l1"
   ]
  },
  {
   "cell_type": "code",
   "execution_count": 70,
   "id": "e77ad055",
   "metadata": {
    "ExecuteTime": {
     "end_time": "2022-11-18T14:24:42.739905Z",
     "start_time": "2022-11-18T14:24:42.731663Z"
    }
   },
   "outputs": [
    {
     "data": {
      "text/plain": [
       "MLP(\n",
       "  (l1): Linear(in_features=784, out_features=50, bias=True)\n",
       "  (l2): Linear(in_features=50, out_features=10, bias=True)\n",
       "  (relu): ReLU()\n",
       ")"
      ]
     },
     "execution_count": 70,
     "metadata": {},
     "output_type": "execute_result"
    }
   ],
   "source": [
    "model"
   ]
  },
  {
   "cell_type": "code",
   "execution_count": 72,
   "id": "55935670",
   "metadata": {
    "ExecuteTime": {
     "end_time": "2022-11-18T14:27:34.825042Z",
     "start_time": "2022-11-18T14:27:34.818967Z"
    }
   },
   "outputs": [
    {
     "name": "stdout",
     "output_type": "stream",
     "text": [
      "l1: Linear(in_features=784, out_features=50, bias=True)\n",
      "l2: Linear(in_features=50, out_features=10, bias=True)\n",
      "relu: ReLU()\n"
     ]
    }
   ],
   "source": [
    "for name,l in model.named_children():\n",
    "    print(f\"{name}: {l}\")"
   ]
  },
  {
   "cell_type": "code",
   "execution_count": 73,
   "id": "82318d88",
   "metadata": {
    "ExecuteTime": {
     "end_time": "2022-11-18T14:28:15.910025Z",
     "start_time": "2022-11-18T14:28:15.896766Z"
    }
   },
   "outputs": [
    {
     "name": "stdout",
     "output_type": "stream",
     "text": [
      "torch.Size([50, 784])\n",
      "torch.Size([50])\n",
      "torch.Size([10, 50])\n",
      "torch.Size([10])\n"
     ]
    }
   ],
   "source": [
    "for p in model.parameters():\n",
    "    print(p.shape)"
   ]
  },
  {
   "cell_type": "code",
   "execution_count": 75,
   "id": "0e944f2f",
   "metadata": {
    "ExecuteTime": {
     "end_time": "2022-11-18T14:34:49.338534Z",
     "start_time": "2022-11-18T14:34:49.327780Z"
    }
   },
   "outputs": [],
   "source": [
    "F.linear??"
   ]
  },
  {
   "cell_type": "code",
   "execution_count": 79,
   "id": "511d64c1",
   "metadata": {
    "ExecuteTime": {
     "end_time": "2022-11-18T17:46:06.529523Z",
     "start_time": "2022-11-18T17:46:06.522638Z"
    }
   },
   "outputs": [],
   "source": [
    "def fit():\n",
    "    for epoch in range(epochs):\n",
    "        for i in range(0, n, bs):\n",
    "            s = slice(i, min(n, i+bs))\n",
    "            xb, yb = x_train[s], y_train[s]\n",
    "            preds = model(xb)\n",
    "            loss = loss_func(preds, yb)\n",
    "            loss.backward()\n",
    "            with torch.no_grad():\n",
    "                for p in model.parameters():\n",
    "                    p -= p.grad * lr\n",
    "                model.zero_grad()\n",
    "        report(loss, preds, yb)"
   ]
  },
  {
   "cell_type": "code",
   "execution_count": 83,
   "id": "573277b4",
   "metadata": {
    "ExecuteTime": {
     "end_time": "2022-11-18T17:46:52.668977Z",
     "start_time": "2022-11-18T17:46:51.768329Z"
    }
   },
   "outputs": [
    {
     "name": "stdout",
     "output_type": "stream",
     "text": [
      "0.23, 0.88\n",
      "0.18, 0.88\n",
      "0.08, 1.00\n"
     ]
    }
   ],
   "source": [
    "fit()"
   ]
  },
  {
   "cell_type": "code",
   "execution_count": 92,
   "id": "22f8586e",
   "metadata": {
    "ExecuteTime": {
     "end_time": "2022-11-19T18:30:32.016253Z",
     "start_time": "2022-11-19T18:30:32.006904Z"
    }
   },
   "outputs": [],
   "source": [
    "class MyModule():\n",
    "    def __init__(self, n_in, nh, n_out):\n",
    "        self._modules = {}\n",
    "        self.l1 = nn.Linear(n_in, nh)\n",
    "        self.l2 = nn.Linear(nh, n_out)\n",
    "    \n",
    "    def __setattr__(self, k, v):\n",
    "        if not k.startswith(\"_\"):\n",
    "            self._modules[k] = v\n",
    "        super().__setattr__(k,v)\n",
    "    \n",
    "    def __repr__(self):\n",
    "        return f'{self._modules}'\n",
    "    \n",
    "    def parameters(self):\n",
    "        for l in self._modules.values():\n",
    "            #for p in l.parameters():\n",
    "            #    yield p\n",
    "            yield from l.parameters()"
   ]
  },
  {
   "cell_type": "code",
   "execution_count": 93,
   "id": "4aa2f44f",
   "metadata": {
    "ExecuteTime": {
     "end_time": "2022-11-19T18:30:32.232307Z",
     "start_time": "2022-11-19T18:30:32.225829Z"
    }
   },
   "outputs": [
    {
     "data": {
      "text/plain": [
       "{'l1': Linear(in_features=784, out_features=50, bias=True), 'l2': Linear(in_features=50, out_features=10, bias=True)}"
      ]
     },
     "execution_count": 93,
     "metadata": {},
     "output_type": "execute_result"
    }
   ],
   "source": [
    "mdl = MyModule(m, nh, 10)\n",
    "mdl"
   ]
  },
  {
   "cell_type": "code",
   "execution_count": 94,
   "id": "f5683472",
   "metadata": {
    "ExecuteTime": {
     "end_time": "2022-11-19T18:30:32.579025Z",
     "start_time": "2022-11-19T18:30:32.575776Z"
    }
   },
   "outputs": [
    {
     "name": "stdout",
     "output_type": "stream",
     "text": [
      "torch.Size([50, 784])\n",
      "torch.Size([50])\n",
      "torch.Size([10, 50])\n",
      "torch.Size([10])\n"
     ]
    }
   ],
   "source": [
    "for p in mdl.parameters():\n",
    "    print(p.shape)"
   ]
  },
  {
   "cell_type": "markdown",
   "id": "451f9607",
   "metadata": {},
   "source": [
    "## Registering modules"
   ]
  },
  {
   "cell_type": "code",
   "execution_count": 95,
   "id": "555a1931",
   "metadata": {
    "ExecuteTime": {
     "end_time": "2022-11-19T18:35:31.587651Z",
     "start_time": "2022-11-19T18:35:31.579598Z"
    }
   },
   "outputs": [],
   "source": [
    "from functools import reduce"
   ]
  },
  {
   "cell_type": "code",
   "execution_count": 96,
   "id": "b20c08eb",
   "metadata": {
    "ExecuteTime": {
     "end_time": "2022-11-19T18:36:34.847125Z",
     "start_time": "2022-11-19T18:36:34.835609Z"
    }
   },
   "outputs": [],
   "source": [
    "layers = [nn.Linear(m, nh), nn.ReLU(), nn.Linear(nh,10)]"
   ]
  },
  {
   "cell_type": "code",
   "execution_count": 99,
   "id": "2615bb94",
   "metadata": {
    "ExecuteTime": {
     "end_time": "2022-11-19T18:51:14.236993Z",
     "start_time": "2022-11-19T18:51:14.232773Z"
    }
   },
   "outputs": [],
   "source": [
    "class Model(nn.Module):\n",
    "    def __init__(self, layers):\n",
    "        super().__init__()\n",
    "        self.layers = layers\n",
    "        for i,l in enumerate(self.layers):\n",
    "            self.add_module(f'layer_{i}',l)\n",
    "            \n",
    "        def forward(self, x):\n",
    "            return reduce(lambda val,layer: layer(val),self.layers, x)"
   ]
  },
  {
   "cell_type": "code",
   "execution_count": 100,
   "id": "e83b9ca8",
   "metadata": {
    "ExecuteTime": {
     "end_time": "2022-11-19T18:51:15.284826Z",
     "start_time": "2022-11-19T18:51:15.278420Z"
    }
   },
   "outputs": [
    {
     "data": {
      "text/plain": [
       "Model(\n",
       "  (layer_0): Linear(in_features=784, out_features=50, bias=True)\n",
       "  (layer_1): ReLU()\n",
       "  (layer_2): Linear(in_features=50, out_features=10, bias=True)\n",
       ")"
      ]
     },
     "execution_count": 100,
     "metadata": {},
     "output_type": "execute_result"
    }
   ],
   "source": [
    "model = Model(layers)\n",
    "model"
   ]
  },
  {
   "cell_type": "code",
   "execution_count": 103,
   "id": "56686360",
   "metadata": {
    "ExecuteTime": {
     "end_time": "2022-11-19T18:55:57.476668Z",
     "start_time": "2022-11-19T18:55:57.467221Z"
    }
   },
   "outputs": [],
   "source": [
    "class SequentialModel(nn.Module):\n",
    "    def __init__(self, layers):\n",
    "        super().__init__()\n",
    "        self.layers = nn.ModuleList(layers)\n",
    "        \n",
    "    def forward(self, x):\n",
    "        for l in self.layers:\n",
    "            x = l(x)\n",
    "        return x"
   ]
  },
  {
   "cell_type": "code",
   "execution_count": 104,
   "id": "7220b2b9",
   "metadata": {
    "ExecuteTime": {
     "end_time": "2022-11-19T18:55:57.828881Z",
     "start_time": "2022-11-19T18:55:57.820711Z"
    }
   },
   "outputs": [
    {
     "data": {
      "text/plain": [
       "SequentialModel(\n",
       "  (layers): ModuleList(\n",
       "    (0): Linear(in_features=784, out_features=50, bias=True)\n",
       "    (1): ReLU()\n",
       "    (2): Linear(in_features=50, out_features=10, bias=True)\n",
       "  )\n",
       ")"
      ]
     },
     "execution_count": 104,
     "metadata": {},
     "output_type": "execute_result"
    }
   ],
   "source": [
    "model = SequentialModel(layers)\n",
    "model"
   ]
  },
  {
   "cell_type": "code",
   "execution_count": 106,
   "id": "f2c48e0b",
   "metadata": {
    "ExecuteTime": {
     "end_time": "2022-11-19T18:59:21.449562Z",
     "start_time": "2022-11-19T18:59:20.540062Z"
    }
   },
   "outputs": [
    {
     "name": "stdout",
     "output_type": "stream",
     "text": [
      "0.26, 0.94\n",
      "0.08, 0.94\n",
      "0.03, 1.00\n"
     ]
    },
    {
     "data": {
      "text/plain": [
       "(tensor(0.01, grad_fn=<NllLossBackward0>), tensor(1.))"
      ]
     },
     "execution_count": 106,
     "metadata": {},
     "output_type": "execute_result"
    }
   ],
   "source": [
    "fit()\n",
    "loss_func(model(xb), yb), accuracy(model(xb),yb) "
   ]
  },
  {
   "cell_type": "markdown",
   "id": "71fd12c9",
   "metadata": {},
   "source": [
    "## nn.Sequential"
   ]
  },
  {
   "cell_type": "code",
   "execution_count": 107,
   "id": "7be5ee8e",
   "metadata": {
    "ExecuteTime": {
     "end_time": "2022-11-19T19:03:41.906998Z",
     "start_time": "2022-11-19T19:03:41.896270Z"
    }
   },
   "outputs": [],
   "source": [
    "model = nn.Sequential(nn.Linear(m, nh), nn.ReLU(), nn.Linear(nh, 10))"
   ]
  },
  {
   "cell_type": "code",
   "execution_count": 108,
   "id": "fad61d98",
   "metadata": {
    "ExecuteTime": {
     "end_time": "2022-11-19T19:05:11.533929Z",
     "start_time": "2022-11-19T19:05:10.621509Z"
    }
   },
   "outputs": [
    {
     "name": "stdout",
     "output_type": "stream",
     "text": [
      "0.29, 0.94\n",
      "0.15, 0.94\n",
      "0.06, 1.00\n"
     ]
    },
    {
     "data": {
      "text/plain": [
       "(tensor(0.01, grad_fn=<NllLossBackward0>), tensor(1.))"
      ]
     },
     "execution_count": 108,
     "metadata": {},
     "output_type": "execute_result"
    }
   ],
   "source": [
    "fit()\n",
    "loss_func(model(xb), yb), accuracy(model(xb),yb) "
   ]
  },
  {
   "cell_type": "code",
   "execution_count": 109,
   "id": "a81bcd7b",
   "metadata": {
    "ExecuteTime": {
     "end_time": "2022-11-19T19:05:40.650668Z",
     "start_time": "2022-11-19T19:05:40.647469Z"
    }
   },
   "outputs": [
    {
     "data": {
      "text/plain": [
       "Sequential(\n",
       "  (0): Linear(in_features=784, out_features=50, bias=True)\n",
       "  (1): ReLU()\n",
       "  (2): Linear(in_features=50, out_features=10, bias=True)\n",
       ")"
      ]
     },
     "execution_count": 109,
     "metadata": {},
     "output_type": "execute_result"
    }
   ],
   "source": [
    "model"
   ]
  },
  {
   "cell_type": "markdown",
   "id": "87dffdce",
   "metadata": {
    "ExecuteTime": {
     "end_time": "2022-11-19T19:05:54.283385Z",
     "start_time": "2022-11-19T19:05:54.276561Z"
    }
   },
   "source": [
    "## optim"
   ]
  },
  {
   "cell_type": "code",
   "execution_count": 111,
   "id": "94823dfa",
   "metadata": {
    "ExecuteTime": {
     "end_time": "2022-11-19T23:40:54.178706Z",
     "start_time": "2022-11-19T23:40:54.162881Z"
    }
   },
   "outputs": [],
   "source": [
    "class Optimizer():\n",
    "    def __init__(self, params, lr = 0.5):\n",
    "        self.params , self.lr = list(params), lr\n",
    "        \n",
    "    def step(self):\n",
    "        with torch.no_grad():\n",
    "            for p in self.params: p-= p.grad * self.lr\n",
    "                \n",
    "    def zero_grad(self):\n",
    "        for p in self.params:\n",
    "            p.grad.data.zero_()"
   ]
  },
  {
   "cell_type": "code",
   "execution_count": 112,
   "id": "337dab49",
   "metadata": {
    "ExecuteTime": {
     "end_time": "2022-11-19T23:43:27.168185Z",
     "start_time": "2022-11-19T23:43:27.164612Z"
    }
   },
   "outputs": [],
   "source": [
    "model = nn.Sequential(nn.Linear(m, nh), nn.ReLU(), nn.Linear(nh, 10))"
   ]
  },
  {
   "cell_type": "code",
   "execution_count": 114,
   "id": "40dd08d7",
   "metadata": {
    "ExecuteTime": {
     "end_time": "2022-11-19T23:44:18.946892Z",
     "start_time": "2022-11-19T23:44:18.938798Z"
    }
   },
   "outputs": [],
   "source": [
    "opt = Optimizer(model.parameters())"
   ]
  },
  {
   "cell_type": "code",
   "execution_count": 115,
   "id": "b686fb62",
   "metadata": {
    "ExecuteTime": {
     "end_time": "2022-11-19T23:51:51.612269Z",
     "start_time": "2022-11-19T23:51:50.806104Z"
    }
   },
   "outputs": [
    {
     "name": "stdout",
     "output_type": "stream",
     "text": [
      "0.20, 0.94\n",
      "0.05, 1.00\n",
      "0.07, 1.00\n"
     ]
    }
   ],
   "source": [
    "for epoch in range(epochs):\n",
    "    for i in range(0, n, bs):\n",
    "        s = slice(i, min(n,i+bs))\n",
    "        xb, yb  = x_train[s], y_train[s]\n",
    "        preds = model(xb)\n",
    "        loss = loss_func(preds, yb)\n",
    "        loss.backward()\n",
    "        opt.step()\n",
    "        opt.zero_grad()\n",
    "    report(loss, preds, yb)"
   ]
  },
  {
   "cell_type": "code",
   "execution_count": 116,
   "id": "ad51fbb1",
   "metadata": {
    "ExecuteTime": {
     "end_time": "2022-11-19T23:52:50.741807Z",
     "start_time": "2022-11-19T23:52:50.733967Z"
    }
   },
   "outputs": [],
   "source": [
    "from torch import optim"
   ]
  },
  {
   "cell_type": "code",
   "execution_count": 117,
   "id": "101dc900",
   "metadata": {
    "ExecuteTime": {
     "end_time": "2022-11-19T23:56:35.588765Z",
     "start_time": "2022-11-19T23:56:35.572029Z"
    }
   },
   "outputs": [],
   "source": [
    "def get_model():\n",
    "    model = nn.Sequential(nn.Linear(m, nh), nn.ReLU(), nn.Linear(nh, 10))\n",
    "    return model, optim.SGD(model.parameters(), lr=lr)"
   ]
  },
  {
   "cell_type": "code",
   "execution_count": 118,
   "id": "b3f5f3cb",
   "metadata": {
    "ExecuteTime": {
     "end_time": "2022-11-19T23:57:25.773776Z",
     "start_time": "2022-11-19T23:57:25.761088Z"
    }
   },
   "outputs": [
    {
     "data": {
      "text/plain": [
       "tensor(2.30, grad_fn=<NllLossBackward0>)"
      ]
     },
     "execution_count": 118,
     "metadata": {},
     "output_type": "execute_result"
    }
   ],
   "source": [
    "model, opt = get_model()\n",
    "loss_func(model(xb), yb)"
   ]
  },
  {
   "cell_type": "code",
   "execution_count": 119,
   "id": "82be78c4",
   "metadata": {
    "ExecuteTime": {
     "end_time": "2022-11-20T00:04:20.322068Z",
     "start_time": "2022-11-20T00:04:19.501945Z"
    }
   },
   "outputs": [
    {
     "name": "stdout",
     "output_type": "stream",
     "text": [
      "0.14, 0.94\n",
      "0.04, 1.00\n",
      "0.02, 1.00\n"
     ]
    }
   ],
   "source": [
    "for epoch in range(epochs):\n",
    "    for i in range(0, n, bs):\n",
    "        s = slice(i, min(n,i+bs))\n",
    "        xb,yb = x_train[s], y_train[s]\n",
    "        preds = model(xb)\n",
    "        loss = loss_func(preds, yb)\n",
    "        loss.backward()\n",
    "        opt.step()\n",
    "        opt.zero_grad()\n",
    "    report(loss, preds, yb)"
   ]
  },
  {
   "cell_type": "code",
   "execution_count": null,
   "id": "59d878e2",
   "metadata": {},
   "outputs": [],
   "source": []
  }
 ],
 "metadata": {
  "kernelspec": {
   "display_name": "Python [conda env:fai] *",
   "language": "python",
   "name": "conda-env-fai-py"
  },
  "language_info": {
   "codemirror_mode": {
    "name": "ipython",
    "version": 3
   },
   "file_extension": ".py",
   "mimetype": "text/x-python",
   "name": "python",
   "nbconvert_exporter": "python",
   "pygments_lexer": "ipython3",
   "version": "3.10.4"
  },
  "varInspector": {
   "cols": {
    "lenName": 16,
    "lenType": 16,
    "lenVar": 40
   },
   "kernels_config": {
    "python": {
     "delete_cmd_postfix": "",
     "delete_cmd_prefix": "del ",
     "library": "var_list.py",
     "varRefreshCmd": "print(var_dic_list())"
    },
    "r": {
     "delete_cmd_postfix": ") ",
     "delete_cmd_prefix": "rm(",
     "library": "var_list.r",
     "varRefreshCmd": "cat(var_dic_list()) "
    }
   },
   "types_to_exclude": [
    "module",
    "function",
    "builtin_function_or_method",
    "instance",
    "_Feature"
   ],
   "window_display": false
  }
 },
 "nbformat": 4,
 "nbformat_minor": 5
}
