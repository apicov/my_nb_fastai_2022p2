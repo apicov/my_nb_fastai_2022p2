{
 "cells": [
  {
   "cell_type": "code",
   "execution_count": 1,
   "id": "76f5023b",
   "metadata": {
    "ExecuteTime": {
     "end_time": "2022-11-24T20:17:47.301802Z",
     "start_time": "2022-11-24T20:17:45.693488Z"
    }
   },
   "outputs": [],
   "source": [
    "import pickle,gzip,math,os,time,shutil,torch,matplotlib as mpl,numpy as np,matplotlib.pyplot as plt\n",
    "from pathlib import Path\n",
    "from torch import tensor,nn\n",
    "import torch.nn.functional as F\n",
    "from fastcore.test import test_close\n",
    " \n",
    "torch.set_printoptions(precision=2, linewidth=140, sci_mode=False)\n",
    "torch.manual_seed(1)\n",
    "mpl.rcParams['image.cmap'] = 'gray'\n",
    "\n",
    "path_data = Path('data')\n",
    "path_gz = path_data/'mnist.pkl.gz'\n",
    "with gzip.open(path_gz, 'rb') as f: ((x_train, y_train), (x_valid, y_valid), _) = pickle.load(f, encoding='latin-1')\n",
    "x_train, y_train, x_valid, y_valid = map(tensor, [x_train, y_train, x_valid, y_valid])"
   ]
  },
  {
   "cell_type": "markdown",
   "id": "8c94f8c4",
   "metadata": {},
   "source": [
    " ## Data\n"
   ]
  },
  {
   "cell_type": "code",
   "execution_count": 2,
   "id": "5cb5009b",
   "metadata": {
    "ExecuteTime": {
     "end_time": "2022-11-24T20:17:47.542821Z",
     "start_time": "2022-11-24T20:17:47.534202Z"
    }
   },
   "outputs": [
    {
     "data": {
      "text/plain": [
       "(50000, 784, tensor(10))"
      ]
     },
     "execution_count": 2,
     "metadata": {},
     "output_type": "execute_result"
    }
   ],
   "source": [
    "n, m = x_train.shape\n",
    "c = y_train.max()+1\n",
    "nh = 50\n",
    "n, m, c"
   ]
  },
  {
   "cell_type": "code",
   "execution_count": 3,
   "id": "14f2e0fa",
   "metadata": {
    "ExecuteTime": {
     "end_time": "2022-11-24T17:04:17.391785Z",
     "start_time": "2022-11-24T17:04:17.385617Z"
    }
   },
   "outputs": [],
   "source": [
    "class Model(nn.Module):\n",
    "    def __init__(self, n_in, nh, n_out):\n",
    "        super().__init__()\n",
    "        self.layers = [nn.Linear(n_in,nh), nn.ReLU(), nn.Linear(nh, n_out)]\n",
    "    def forward(self, x):\n",
    "        for l in self.layers:\n",
    "            x = l(x)\n",
    "        return x"
   ]
  },
  {
   "cell_type": "code",
   "execution_count": 4,
   "id": "d8f01ac4",
   "metadata": {
    "ExecuteTime": {
     "end_time": "2022-11-24T17:04:18.101791Z",
     "start_time": "2022-11-24T17:04:18.048526Z"
    }
   },
   "outputs": [
    {
     "data": {
      "text/plain": [
       "torch.Size([50000, 10])"
      ]
     },
     "execution_count": 4,
     "metadata": {},
     "output_type": "execute_result"
    }
   ],
   "source": [
    "model = Model(m, nh, c)\n",
    "pred = model(x_train)\n",
    "pred.shape"
   ]
  },
  {
   "cell_type": "markdown",
   "id": "d129d4ca",
   "metadata": {},
   "source": [
    "## Basic training loop"
   ]
  },
  {
   "cell_type": "code",
   "execution_count": 34,
   "id": "d3d53730",
   "metadata": {
    "ExecuteTime": {
     "end_time": "2022-11-24T20:21:40.171609Z",
     "start_time": "2022-11-24T20:21:40.163658Z"
    }
   },
   "outputs": [],
   "source": [
    "loss_func = F.cross_entropy"
   ]
  },
  {
   "cell_type": "code",
   "execution_count": 16,
   "id": "e839107a",
   "metadata": {
    "ExecuteTime": {
     "end_time": "2022-11-24T20:19:40.698198Z",
     "start_time": "2022-11-24T20:19:40.671883Z"
    }
   },
   "outputs": [
    {
     "ename": "NameError",
     "evalue": "name 'model' is not defined",
     "output_type": "error",
     "traceback": [
      "\u001b[0;31m---------------------------------------------------------------------------\u001b[0m",
      "\u001b[0;31mNameError\u001b[0m                                 Traceback (most recent call last)",
      "Input \u001b[0;32mIn [16]\u001b[0m, in \u001b[0;36m<cell line: 4>\u001b[0;34m()\u001b[0m\n\u001b[1;32m      1\u001b[0m bs \u001b[38;5;241m=\u001b[39m\u001b[38;5;241m64\u001b[39m\n\u001b[1;32m      3\u001b[0m xb \u001b[38;5;241m=\u001b[39m x_train[\u001b[38;5;241m0\u001b[39m:bs]\n\u001b[0;32m----> 4\u001b[0m preds \u001b[38;5;241m=\u001b[39m \u001b[43mmodel\u001b[49m(xb)\n\u001b[1;32m      5\u001b[0m preds[\u001b[38;5;241m0\u001b[39m], preds\u001b[38;5;241m.\u001b[39mshape\n",
      "\u001b[0;31mNameError\u001b[0m: name 'model' is not defined"
     ]
    }
   ],
   "source": [
    "bs =64\n",
    "\n",
    "xb = x_train[0:bs]\n",
    "preds = model(xb)\n",
    "preds[0], preds.shape"
   ]
  },
  {
   "cell_type": "code",
   "execution_count": 7,
   "id": "d99a8828",
   "metadata": {
    "ExecuteTime": {
     "end_time": "2022-11-24T17:05:03.860791Z",
     "start_time": "2022-11-24T17:05:03.856591Z"
    }
   },
   "outputs": [
    {
     "data": {
      "text/plain": [
       "tensor(2.30, grad_fn=<NllLossBackward0>)"
      ]
     },
     "execution_count": 7,
     "metadata": {},
     "output_type": "execute_result"
    }
   ],
   "source": [
    "yb = y_train[0:bs]\n",
    "loss_func(preds, yb)"
   ]
  },
  {
   "cell_type": "code",
   "execution_count": 8,
   "id": "8d32b4ee",
   "metadata": {
    "ExecuteTime": {
     "end_time": "2022-11-24T17:05:28.177855Z",
     "start_time": "2022-11-24T17:05:28.170791Z"
    }
   },
   "outputs": [
    {
     "data": {
      "text/plain": [
       "tensor([3, 9, 3, 8, 5, 9, 3, 9, 3, 9, 5, 3, 9, 9, 3, 9, 9, 5, 8, 7, 9, 5, 3, 8, 9, 5, 9, 5, 5, 9, 3, 5, 9, 7, 5, 7, 9, 9, 3, 9, 3, 5, 3, 8,\n",
       "        3, 5, 9, 5, 9, 5, 3, 9, 3, 8, 9, 5, 9, 5, 9, 5, 8, 8, 9, 8])"
      ]
     },
     "execution_count": 8,
     "metadata": {},
     "output_type": "execute_result"
    }
   ],
   "source": [
    "preds.argmax(dim=1)"
   ]
  },
  {
   "cell_type": "code",
   "execution_count": 3,
   "id": "af285cf0",
   "metadata": {
    "ExecuteTime": {
     "end_time": "2022-11-24T20:17:53.859515Z",
     "start_time": "2022-11-24T20:17:53.854002Z"
    }
   },
   "outputs": [],
   "source": [
    "def accuracy(out, yb):\n",
    "    return (out.argmax(dim=1)==yb).float().mean()"
   ]
  },
  {
   "cell_type": "code",
   "execution_count": 29,
   "id": "63bfb765",
   "metadata": {
    "ExecuteTime": {
     "end_time": "2022-11-24T20:21:13.754176Z",
     "start_time": "2022-11-24T20:21:13.747081Z"
    }
   },
   "outputs": [],
   "source": [
    "lr = 0.5\n",
    "epochs = 3"
   ]
  },
  {
   "cell_type": "code",
   "execution_count": 4,
   "id": "cbdbc9c2",
   "metadata": {
    "ExecuteTime": {
     "end_time": "2022-11-24T20:17:55.031599Z",
     "start_time": "2022-11-24T20:17:55.024353Z"
    }
   },
   "outputs": [],
   "source": [
    "def report(loss, preds, yb):\n",
    "    print(f'{loss:.2f}, {accuracy(preds, yb):.2f}')"
   ]
  },
  {
   "cell_type": "code",
   "execution_count": 12,
   "id": "cdbfbea8",
   "metadata": {
    "ExecuteTime": {
     "end_time": "2022-11-24T17:05:37.798700Z",
     "start_time": "2022-11-24T17:05:36.943031Z"
    }
   },
   "outputs": [
    {
     "name": "stdout",
     "output_type": "stream",
     "text": [
      "0.19, 0.94\n",
      "0.05, 1.00\n",
      "0.03, 1.00\n"
     ]
    }
   ],
   "source": [
    "for epoch in range(epochs):\n",
    "    for i in range(0, n, bs):\n",
    "        s = slice(i, min(n,i+bs))\n",
    "        xb, yb = x_train[s], y_train[s]\n",
    "        preds = model(xb)\n",
    "        loss = loss_func(preds, yb)\n",
    "        loss.backward()\n",
    "        with torch.no_grad():\n",
    "            for l in model.layers:\n",
    "                if hasattr(l, 'weight'):\n",
    "                    l.weight -= l.weight.grad * lr\n",
    "                    l.bias -= l.bias.grad * lr\n",
    "                    l.weight.grad.zero_()\n",
    "                    l.bias.grad.zero_()\n",
    "    report(loss, preds, yb)"
   ]
  },
  {
   "cell_type": "markdown",
   "id": "c96084e5",
   "metadata": {
    "ExecuteTime": {
     "end_time": "2022-11-18T13:31:29.692322Z",
     "start_time": "2022-11-18T13:31:29.679075Z"
    }
   },
   "source": [
    "## Using parameters and optim"
   ]
  },
  {
   "cell_type": "markdown",
   "id": "b2f22a51",
   "metadata": {},
   "source": [
    "### Parameters"
   ]
  },
  {
   "cell_type": "code",
   "execution_count": 13,
   "id": "848a4bef",
   "metadata": {
    "ExecuteTime": {
     "end_time": "2022-11-24T17:06:12.159191Z",
     "start_time": "2022-11-24T17:06:12.149325Z"
    }
   },
   "outputs": [],
   "source": [
    "m1 = nn.Module()\n",
    "m1.foo = nn.Linear(3,4)"
   ]
  },
  {
   "cell_type": "code",
   "execution_count": 14,
   "id": "bde0de32",
   "metadata": {
    "ExecuteTime": {
     "end_time": "2022-11-24T17:06:26.162625Z",
     "start_time": "2022-11-24T17:06:26.158103Z"
    }
   },
   "outputs": [
    {
     "data": {
      "text/plain": [
       "Module(\n",
       "  (foo): Linear(in_features=3, out_features=4, bias=True)\n",
       ")"
      ]
     },
     "execution_count": 14,
     "metadata": {},
     "output_type": "execute_result"
    }
   ],
   "source": [
    "m1"
   ]
  },
  {
   "cell_type": "code",
   "execution_count": 15,
   "id": "787f296a",
   "metadata": {
    "ExecuteTime": {
     "end_time": "2022-11-24T17:06:31.875898Z",
     "start_time": "2022-11-24T17:06:31.864508Z"
    }
   },
   "outputs": [
    {
     "data": {
      "text/plain": [
       "[('foo', Linear(in_features=3, out_features=4, bias=True))]"
      ]
     },
     "execution_count": 15,
     "metadata": {},
     "output_type": "execute_result"
    }
   ],
   "source": [
    "list(m1.named_children())"
   ]
  },
  {
   "cell_type": "code",
   "execution_count": 16,
   "id": "342fce1c",
   "metadata": {
    "ExecuteTime": {
     "end_time": "2022-11-24T17:07:07.576709Z",
     "start_time": "2022-11-24T17:07:07.564206Z"
    }
   },
   "outputs": [
    {
     "data": {
      "text/plain": [
       "[Parameter containing:\n",
       " tensor([[ 0.57,  0.43, -0.30],\n",
       "         [ 0.13, -0.32, -0.24],\n",
       "         [ 0.51,  0.04,  0.22],\n",
       "         [ 0.13, -0.17, -0.24]], requires_grad=True),\n",
       " Parameter containing:\n",
       " tensor([-0.01, -0.51, -0.39,  0.56], requires_grad=True)]"
      ]
     },
     "execution_count": 16,
     "metadata": {},
     "output_type": "execute_result"
    }
   ],
   "source": [
    "list(m1.parameters())"
   ]
  },
  {
   "cell_type": "code",
   "execution_count": 17,
   "id": "1184a4b8",
   "metadata": {
    "ExecuteTime": {
     "end_time": "2022-11-24T17:07:22.123741Z",
     "start_time": "2022-11-24T17:07:22.118659Z"
    }
   },
   "outputs": [],
   "source": [
    "class MLP(nn.Module):\n",
    "    def __init__(self, n_in, nh, n_out):\n",
    "        super().__init__()\n",
    "        self.l1 = nn.Linear(n_in, nh)\n",
    "        self.l2 = nn.Linear(nh, n_out)\n",
    "        self.relu = nn.ReLU()\n",
    "    \n",
    "    def forward(self, x):\n",
    "        return self.l2(self.relu(self.l1(x)))\n",
    "    "
   ]
  },
  {
   "cell_type": "code",
   "execution_count": 18,
   "id": "b4435881",
   "metadata": {
    "ExecuteTime": {
     "end_time": "2022-11-24T17:07:23.026679Z",
     "start_time": "2022-11-24T17:07:23.022742Z"
    }
   },
   "outputs": [
    {
     "data": {
      "text/plain": [
       "Linear(in_features=784, out_features=50, bias=True)"
      ]
     },
     "execution_count": 18,
     "metadata": {},
     "output_type": "execute_result"
    }
   ],
   "source": [
    "model = MLP(m, nh, 10)\n",
    "model.l1"
   ]
  },
  {
   "cell_type": "code",
   "execution_count": 19,
   "id": "19a4d108",
   "metadata": {
    "ExecuteTime": {
     "end_time": "2022-11-24T17:07:23.390548Z",
     "start_time": "2022-11-24T17:07:23.386003Z"
    }
   },
   "outputs": [
    {
     "data": {
      "text/plain": [
       "MLP(\n",
       "  (l1): Linear(in_features=784, out_features=50, bias=True)\n",
       "  (l2): Linear(in_features=50, out_features=10, bias=True)\n",
       "  (relu): ReLU()\n",
       ")"
      ]
     },
     "execution_count": 19,
     "metadata": {},
     "output_type": "execute_result"
    }
   ],
   "source": [
    "model"
   ]
  },
  {
   "cell_type": "code",
   "execution_count": 20,
   "id": "3e3710e6",
   "metadata": {
    "ExecuteTime": {
     "end_time": "2022-11-24T17:07:38.160311Z",
     "start_time": "2022-11-24T17:07:38.150692Z"
    }
   },
   "outputs": [
    {
     "name": "stdout",
     "output_type": "stream",
     "text": [
      "l1: Linear(in_features=784, out_features=50, bias=True)\n",
      "l2: Linear(in_features=50, out_features=10, bias=True)\n",
      "relu: ReLU()\n"
     ]
    }
   ],
   "source": [
    "for name,l in model.named_children():\n",
    "    print(f\"{name}: {l}\")"
   ]
  },
  {
   "cell_type": "code",
   "execution_count": 21,
   "id": "6d40e528",
   "metadata": {
    "ExecuteTime": {
     "end_time": "2022-11-24T17:07:50.082562Z",
     "start_time": "2022-11-24T17:07:50.075249Z"
    }
   },
   "outputs": [
    {
     "name": "stdout",
     "output_type": "stream",
     "text": [
      "torch.Size([50, 784])\n",
      "torch.Size([50])\n",
      "torch.Size([10, 50])\n",
      "torch.Size([10])\n"
     ]
    }
   ],
   "source": [
    "for p in model.parameters():\n",
    "    print(p.shape)"
   ]
  },
  {
   "cell_type": "code",
   "execution_count": 22,
   "id": "a0b97a9f",
   "metadata": {
    "ExecuteTime": {
     "end_time": "2022-11-24T15:32:54.841210Z",
     "start_time": "2022-11-24T15:32:54.837809Z"
    }
   },
   "outputs": [],
   "source": [
    "F.linear??"
   ]
  },
  {
   "cell_type": "code",
   "execution_count": 22,
   "id": "fd44c8c4",
   "metadata": {
    "ExecuteTime": {
     "end_time": "2022-11-24T17:08:53.315727Z",
     "start_time": "2022-11-24T17:08:53.308590Z"
    }
   },
   "outputs": [],
   "source": [
    "def fit():\n",
    "    for epoch in range(epochs):\n",
    "        for i in range(0, n, bs):\n",
    "            s = slice(i, min(n, i+bs))\n",
    "            xb, yb = x_train[s], y_train[s]\n",
    "            preds = model(xb)\n",
    "            loss = loss_func(preds, yb)\n",
    "            loss.backward()\n",
    "            with torch.no_grad():\n",
    "                for p in model.parameters():\n",
    "                    p -= p.grad * lr\n",
    "                model.zero_grad()\n",
    "        report(loss, preds, yb)"
   ]
  },
  {
   "cell_type": "code",
   "execution_count": 23,
   "id": "151a63ba",
   "metadata": {
    "ExecuteTime": {
     "end_time": "2022-11-24T17:08:54.535858Z",
     "start_time": "2022-11-24T17:08:53.622411Z"
    }
   },
   "outputs": [
    {
     "name": "stdout",
     "output_type": "stream",
     "text": [
      "0.41, 0.94\n",
      "0.10, 1.00\n",
      "0.05, 1.00\n"
     ]
    }
   ],
   "source": [
    "fit()"
   ]
  },
  {
   "cell_type": "code",
   "execution_count": 24,
   "id": "184380d3",
   "metadata": {
    "ExecuteTime": {
     "end_time": "2022-11-24T17:10:14.735060Z",
     "start_time": "2022-11-24T17:10:14.729367Z"
    }
   },
   "outputs": [],
   "source": [
    "class MyModule():\n",
    "    def __init__(self, n_in, nh, n_out):\n",
    "        self._modules = {}\n",
    "        self.l1 = nn.Linear(n_in, nh)\n",
    "        self.l2 = nn.Linear(nh, n_out)\n",
    "    \n",
    "    def __setattr__(self, k, v):\n",
    "        if not k.startswith(\"_\"):\n",
    "            self._modules[k] = v\n",
    "        super().__setattr__(k,v)\n",
    "    \n",
    "    def __repr__(self):\n",
    "        return f'{self._modules}'\n",
    "    \n",
    "    def parameters(self):\n",
    "        for l in self._modules.values():\n",
    "            #for p in l.parameters():\n",
    "            #    yield p\n",
    "            yield from l.parameters()"
   ]
  },
  {
   "cell_type": "code",
   "execution_count": 25,
   "id": "34cd529a",
   "metadata": {
    "ExecuteTime": {
     "end_time": "2022-11-24T17:10:15.985385Z",
     "start_time": "2022-11-24T17:10:15.976241Z"
    }
   },
   "outputs": [
    {
     "data": {
      "text/plain": [
       "{'l1': Linear(in_features=784, out_features=50, bias=True), 'l2': Linear(in_features=50, out_features=10, bias=True)}"
      ]
     },
     "execution_count": 25,
     "metadata": {},
     "output_type": "execute_result"
    }
   ],
   "source": [
    "mdl = MyModule(m, nh, 10)\n",
    "mdl"
   ]
  },
  {
   "cell_type": "code",
   "execution_count": 26,
   "id": "3193d7b2",
   "metadata": {
    "ExecuteTime": {
     "end_time": "2022-11-24T17:11:22.367912Z",
     "start_time": "2022-11-24T17:11:22.359817Z"
    }
   },
   "outputs": [
    {
     "name": "stdout",
     "output_type": "stream",
     "text": [
      "torch.Size([50, 784])\n",
      "torch.Size([50])\n",
      "torch.Size([10, 50])\n",
      "torch.Size([10])\n"
     ]
    }
   ],
   "source": [
    "for p in mdl.parameters():\n",
    "    print(p.shape)"
   ]
  },
  {
   "cell_type": "markdown",
   "id": "a3442203",
   "metadata": {},
   "source": [
    "## Registering modules"
   ]
  },
  {
   "cell_type": "code",
   "execution_count": 27,
   "id": "5cfc9c7f",
   "metadata": {
    "ExecuteTime": {
     "end_time": "2022-11-24T17:14:35.456952Z",
     "start_time": "2022-11-24T17:14:35.449495Z"
    }
   },
   "outputs": [],
   "source": [
    "from functools import reduce"
   ]
  },
  {
   "cell_type": "code",
   "execution_count": 28,
   "id": "a2fc57cb",
   "metadata": {
    "ExecuteTime": {
     "end_time": "2022-11-24T17:14:46.659090Z",
     "start_time": "2022-11-24T17:14:46.656623Z"
    }
   },
   "outputs": [],
   "source": [
    "layers = [nn.Linear(m, nh), nn.ReLU(), nn.Linear(nh,10)]"
   ]
  },
  {
   "cell_type": "code",
   "execution_count": 29,
   "id": "ac632d7e",
   "metadata": {
    "ExecuteTime": {
     "end_time": "2022-11-24T17:14:55.197885Z",
     "start_time": "2022-11-24T17:14:55.194975Z"
    }
   },
   "outputs": [],
   "source": [
    "class Model(nn.Module):\n",
    "    def __init__(self, layers):\n",
    "        super().__init__()\n",
    "        self.layers = layers\n",
    "        for i,l in enumerate(self.layers):\n",
    "            self.add_module(f'layer_{i}',l)\n",
    "            \n",
    "        def forward(self, x):\n",
    "            return reduce(lambda val,layer: layer(val),self.layers, x)"
   ]
  },
  {
   "cell_type": "code",
   "execution_count": 30,
   "id": "61aca4ef",
   "metadata": {
    "ExecuteTime": {
     "end_time": "2022-11-24T17:14:55.679833Z",
     "start_time": "2022-11-24T17:14:55.671296Z"
    }
   },
   "outputs": [
    {
     "data": {
      "text/plain": [
       "Model(\n",
       "  (layer_0): Linear(in_features=784, out_features=50, bias=True)\n",
       "  (layer_1): ReLU()\n",
       "  (layer_2): Linear(in_features=50, out_features=10, bias=True)\n",
       ")"
      ]
     },
     "execution_count": 30,
     "metadata": {},
     "output_type": "execute_result"
    }
   ],
   "source": [
    "model = Model(layers)\n",
    "model"
   ]
  },
  {
   "cell_type": "code",
   "execution_count": 31,
   "id": "c0e7095b",
   "metadata": {
    "ExecuteTime": {
     "end_time": "2022-11-24T17:14:59.385274Z",
     "start_time": "2022-11-24T17:14:59.373866Z"
    }
   },
   "outputs": [],
   "source": [
    "class SequentialModel(nn.Module):\n",
    "    def __init__(self, layers):\n",
    "        super().__init__()\n",
    "        self.layers = nn.ModuleList(layers)\n",
    "        \n",
    "    def forward(self, x):\n",
    "        for l in self.layers:\n",
    "            x = l(x)\n",
    "        return x"
   ]
  },
  {
   "cell_type": "code",
   "execution_count": 32,
   "id": "eb72ec54",
   "metadata": {
    "ExecuteTime": {
     "end_time": "2022-11-24T17:15:09.577961Z",
     "start_time": "2022-11-24T17:15:09.574780Z"
    }
   },
   "outputs": [
    {
     "data": {
      "text/plain": [
       "SequentialModel(\n",
       "  (layers): ModuleList(\n",
       "    (0): Linear(in_features=784, out_features=50, bias=True)\n",
       "    (1): ReLU()\n",
       "    (2): Linear(in_features=50, out_features=10, bias=True)\n",
       "  )\n",
       ")"
      ]
     },
     "execution_count": 32,
     "metadata": {},
     "output_type": "execute_result"
    }
   ],
   "source": [
    "model = SequentialModel(layers)\n",
    "model"
   ]
  },
  {
   "cell_type": "code",
   "execution_count": 33,
   "id": "8c19762d",
   "metadata": {
    "ExecuteTime": {
     "end_time": "2022-11-24T17:15:13.003788Z",
     "start_time": "2022-11-24T17:15:12.125786Z"
    }
   },
   "outputs": [
    {
     "name": "stdout",
     "output_type": "stream",
     "text": [
      "0.17, 0.94\n",
      "0.11, 1.00\n",
      "0.03, 1.00\n"
     ]
    },
    {
     "data": {
      "text/plain": [
       "(tensor(0.01, grad_fn=<NllLossBackward0>), tensor(1.))"
      ]
     },
     "execution_count": 33,
     "metadata": {},
     "output_type": "execute_result"
    }
   ],
   "source": [
    "fit()\n",
    "loss_func(model(xb), yb), accuracy(model(xb),yb) "
   ]
  },
  {
   "cell_type": "markdown",
   "id": "43478b8d",
   "metadata": {},
   "source": [
    "## nn.Sequential"
   ]
  },
  {
   "cell_type": "code",
   "execution_count": 34,
   "id": "1e3ba7a9",
   "metadata": {
    "ExecuteTime": {
     "end_time": "2022-11-24T17:15:17.739203Z",
     "start_time": "2022-11-24T17:15:17.734183Z"
    }
   },
   "outputs": [],
   "source": [
    "model = nn.Sequential(nn.Linear(m, nh), nn.ReLU(), nn.Linear(nh, 10))"
   ]
  },
  {
   "cell_type": "code",
   "execution_count": 35,
   "id": "d6fada0c",
   "metadata": {
    "ExecuteTime": {
     "end_time": "2022-11-24T17:15:20.202012Z",
     "start_time": "2022-11-24T17:15:19.309713Z"
    }
   },
   "outputs": [
    {
     "name": "stdout",
     "output_type": "stream",
     "text": [
      "0.19, 0.94\n",
      "0.14, 0.94\n",
      "0.09, 0.94\n"
     ]
    },
    {
     "data": {
      "text/plain": [
       "(tensor(0.01, grad_fn=<NllLossBackward0>), tensor(1.))"
      ]
     },
     "execution_count": 35,
     "metadata": {},
     "output_type": "execute_result"
    }
   ],
   "source": [
    "fit()\n",
    "loss_func(model(xb), yb), accuracy(model(xb),yb) "
   ]
  },
  {
   "cell_type": "code",
   "execution_count": 36,
   "id": "9c0af4b0",
   "metadata": {
    "ExecuteTime": {
     "end_time": "2022-11-24T17:17:30.864991Z",
     "start_time": "2022-11-24T17:17:30.861911Z"
    }
   },
   "outputs": [
    {
     "data": {
      "text/plain": [
       "Sequential(\n",
       "  (0): Linear(in_features=784, out_features=50, bias=True)\n",
       "  (1): ReLU()\n",
       "  (2): Linear(in_features=50, out_features=10, bias=True)\n",
       ")"
      ]
     },
     "execution_count": 36,
     "metadata": {},
     "output_type": "execute_result"
    }
   ],
   "source": [
    "model"
   ]
  },
  {
   "cell_type": "markdown",
   "id": "36115e94",
   "metadata": {
    "ExecuteTime": {
     "end_time": "2022-11-19T19:05:54.283385Z",
     "start_time": "2022-11-19T19:05:54.276561Z"
    }
   },
   "source": [
    "## optim"
   ]
  },
  {
   "cell_type": "code",
   "execution_count": 5,
   "id": "f9692334",
   "metadata": {
    "ExecuteTime": {
     "end_time": "2022-11-24T20:18:09.229439Z",
     "start_time": "2022-11-24T20:18:09.218505Z"
    }
   },
   "outputs": [],
   "source": [
    "class Optimizer():\n",
    "    def __init__(self, params, lr = 0.5):\n",
    "        self.params , self.lr = list(params), lr\n",
    "        \n",
    "    def step(self):\n",
    "        with torch.no_grad():\n",
    "            for p in self.params: p-= p.grad * self.lr\n",
    "                \n",
    "    def zero_grad(self):\n",
    "        for p in self.params:\n",
    "            p.grad.data.zero_()"
   ]
  },
  {
   "cell_type": "code",
   "execution_count": 38,
   "id": "fcad0fd9",
   "metadata": {
    "ExecuteTime": {
     "end_time": "2022-11-24T17:18:16.257139Z",
     "start_time": "2022-11-24T17:18:16.253748Z"
    }
   },
   "outputs": [],
   "source": [
    "model = nn.Sequential(nn.Linear(m, nh), nn.ReLU(), nn.Linear(nh, 10))"
   ]
  },
  {
   "cell_type": "code",
   "execution_count": 39,
   "id": "621adac7",
   "metadata": {
    "ExecuteTime": {
     "end_time": "2022-11-24T17:18:17.343529Z",
     "start_time": "2022-11-24T17:18:17.336359Z"
    }
   },
   "outputs": [],
   "source": [
    "opt = Optimizer(model.parameters())"
   ]
  },
  {
   "cell_type": "code",
   "execution_count": 40,
   "id": "0e9b5633",
   "metadata": {
    "ExecuteTime": {
     "end_time": "2022-11-24T17:18:21.354540Z",
     "start_time": "2022-11-24T17:18:20.529390Z"
    }
   },
   "outputs": [
    {
     "name": "stdout",
     "output_type": "stream",
     "text": [
      "0.16, 0.94\n",
      "0.15, 0.94\n",
      "0.08, 1.00\n"
     ]
    }
   ],
   "source": [
    "for epoch in range(epochs):\n",
    "    for i in range(0, n, bs):\n",
    "        s = slice(i, min(n,i+bs))\n",
    "        xb, yb  = x_train[s], y_train[s]\n",
    "        preds = model(xb)\n",
    "        loss = loss_func(preds, yb)\n",
    "        loss.backward()\n",
    "        opt.step()\n",
    "        opt.zero_grad()\n",
    "    report(loss, preds, yb)"
   ]
  },
  {
   "cell_type": "code",
   "execution_count": 7,
   "id": "42dda50c",
   "metadata": {
    "ExecuteTime": {
     "end_time": "2022-11-24T20:18:18.087086Z",
     "start_time": "2022-11-24T20:18:18.080105Z"
    }
   },
   "outputs": [],
   "source": [
    "from torch import optim"
   ]
  },
  {
   "cell_type": "code",
   "execution_count": 53,
   "id": "bb6d6730",
   "metadata": {
    "ExecuteTime": {
     "end_time": "2022-11-24T20:37:32.688485Z",
     "start_time": "2022-11-24T20:37:32.681645Z"
    }
   },
   "outputs": [],
   "source": [
    "def get_model():\n",
    "    model = nn.Sequential(nn.Linear(m, nh), nn.ReLU(), nn.Linear(nh, 10))\n",
    "    return model, optim.SGD(model.parameters(), lr=lr)"
   ]
  },
  {
   "cell_type": "code",
   "execution_count": 43,
   "id": "179345d5",
   "metadata": {
    "ExecuteTime": {
     "end_time": "2022-11-24T17:18:48.730196Z",
     "start_time": "2022-11-24T17:18:48.717009Z"
    }
   },
   "outputs": [
    {
     "data": {
      "text/plain": [
       "tensor(2.32, grad_fn=<NllLossBackward0>)"
      ]
     },
     "execution_count": 43,
     "metadata": {},
     "output_type": "execute_result"
    }
   ],
   "source": [
    "model, opt = get_model()\n",
    "loss_func(model(xb), yb)"
   ]
  },
  {
   "cell_type": "code",
   "execution_count": 44,
   "id": "26018fc7",
   "metadata": {
    "ExecuteTime": {
     "end_time": "2022-11-24T17:18:52.178572Z",
     "start_time": "2022-11-24T17:18:51.345704Z"
    }
   },
   "outputs": [
    {
     "name": "stdout",
     "output_type": "stream",
     "text": [
      "0.23, 0.94\n",
      "0.12, 1.00\n",
      "0.15, 0.94\n"
     ]
    }
   ],
   "source": [
    "for epoch in range(epochs):\n",
    "    for i in range(0, n, bs):\n",
    "        s = slice(i, min(n,i+bs))\n",
    "        xb,yb = x_train[s], y_train[s]\n",
    "        preds = model(xb)\n",
    "        loss = loss_func(preds, yb)\n",
    "        loss.backward()\n",
    "        opt.step()\n",
    "        opt.zero_grad()\n",
    "    report(loss, preds, yb)"
   ]
  },
  {
   "cell_type": "code",
   "execution_count": 12,
   "id": "8e096ade",
   "metadata": {
    "ExecuteTime": {
     "end_time": "2022-11-24T20:19:05.541805Z",
     "start_time": "2022-11-24T20:19:05.538489Z"
    }
   },
   "outputs": [],
   "source": [
    "class Dataset():\n",
    "    def __init__(self, x, y):\n",
    "        self.x, self.y = x, y\n",
    "    def __len__(self):\n",
    "        return len(self.x)\n",
    "    def __getitem__(self, i):\n",
    "        return self.x[i], self.y[i]"
   ]
  },
  {
   "cell_type": "code",
   "execution_count": 13,
   "id": "ce92c675",
   "metadata": {
    "ExecuteTime": {
     "end_time": "2022-11-24T20:19:05.808063Z",
     "start_time": "2022-11-24T20:19:05.805099Z"
    }
   },
   "outputs": [],
   "source": [
    "train_ds, valid_ds = Dataset(x_train, y_train), Dataset(x_valid, y_valid)\n",
    "assert len(train_ds) == len(x_train)\n",
    "assert len(valid_ds) == len(x_valid)"
   ]
  },
  {
   "cell_type": "code",
   "execution_count": 47,
   "id": "5362d4f0",
   "metadata": {
    "ExecuteTime": {
     "end_time": "2022-11-24T17:18:55.954679Z",
     "start_time": "2022-11-24T17:18:55.946086Z"
    }
   },
   "outputs": [],
   "source": [
    "xb, yb = train_ds[0:5]\n",
    "assert xb.shape==(5,28*28)\n",
    "assert yb.shape==(5,)"
   ]
  },
  {
   "cell_type": "code",
   "execution_count": 48,
   "id": "f533ed2f",
   "metadata": {
    "ExecuteTime": {
     "end_time": "2022-11-24T17:18:56.204317Z",
     "start_time": "2022-11-24T17:18:56.201442Z"
    }
   },
   "outputs": [],
   "source": [
    "model,opt = get_model()"
   ]
  },
  {
   "cell_type": "code",
   "execution_count": 49,
   "id": "f149ac27",
   "metadata": {
    "ExecuteTime": {
     "end_time": "2022-11-24T17:18:57.457388Z",
     "start_time": "2022-11-24T17:18:56.580534Z"
    }
   },
   "outputs": [
    {
     "name": "stdout",
     "output_type": "stream",
     "text": [
      "0.27, 0.94\n",
      "0.13, 0.94\n",
      "0.20, 0.94\n"
     ]
    }
   ],
   "source": [
    "for epoch in range(epochs):\n",
    "    for i in range(0, n, bs):\n",
    "        xb,yb = train_ds[i:min(n,i+bs)]\n",
    "        preds = model(xb)\n",
    "        loss = loss_func(preds, yb)\n",
    "        loss.backward()\n",
    "        opt.step()\n",
    "        opt.zero_grad()\n",
    "    report(loss, preds, yb)"
   ]
  },
  {
   "cell_type": "code",
   "execution_count": 50,
   "id": "ce24eb92",
   "metadata": {
    "ExecuteTime": {
     "end_time": "2022-11-24T17:18:57.471602Z",
     "start_time": "2022-11-24T17:18:57.468745Z"
    }
   },
   "outputs": [],
   "source": [
    "class Dataloader():\n",
    "    def __init__(self, ds, bs):\n",
    "        self.ds, self.bs = ds, bs\n",
    "    def __iter__(self):\n",
    "        for i in range(0, len(self.ds), self.bs):\n",
    "            yield self.ds[i:i+self.bs]"
   ]
  },
  {
   "cell_type": "code",
   "execution_count": 51,
   "id": "1b975780",
   "metadata": {
    "ExecuteTime": {
     "end_time": "2022-11-24T17:19:00.016269Z",
     "start_time": "2022-11-24T17:19:00.010618Z"
    }
   },
   "outputs": [],
   "source": [
    "train_dl = Dataloader(train_ds, bs)\n",
    "valid_dl = Dataloader(valid_ds, bs)"
   ]
  },
  {
   "cell_type": "code",
   "execution_count": 52,
   "id": "3aa9873a",
   "metadata": {
    "ExecuteTime": {
     "end_time": "2022-11-24T17:19:00.319697Z",
     "start_time": "2022-11-24T17:19:00.310119Z"
    }
   },
   "outputs": [
    {
     "data": {
      "text/plain": [
       "torch.Size([64, 784])"
      ]
     },
     "execution_count": 52,
     "metadata": {},
     "output_type": "execute_result"
    }
   ],
   "source": [
    "xb, yb = next(iter(valid_dl))\n",
    "xb.shape"
   ]
  },
  {
   "cell_type": "code",
   "execution_count": 53,
   "id": "c1d2b6bc",
   "metadata": {
    "ExecuteTime": {
     "end_time": "2022-11-24T17:19:01.389332Z",
     "start_time": "2022-11-24T17:19:01.380047Z"
    }
   },
   "outputs": [
    {
     "data": {
      "text/plain": [
       "tensor([3, 8, 6, 9, 6, 4, 5, 3, 8, 4, 5, 2, 3, 8, 4, 8, 1, 5, 0, 5, 9, 7, 4, 1, 0, 3, 0, 6, 2, 9, 9, 4, 1, 3, 6, 8, 0, 7, 7, 6, 8, 9, 0, 3,\n",
       "        8, 3, 7, 7, 8, 4, 4, 1, 2, 9, 8, 1, 1, 0, 6, 6, 5, 0, 1, 1])"
      ]
     },
     "execution_count": 53,
     "metadata": {},
     "output_type": "execute_result"
    }
   ],
   "source": [
    "yb"
   ]
  },
  {
   "cell_type": "code",
   "execution_count": 54,
   "id": "02c64353",
   "metadata": {
    "ExecuteTime": {
     "end_time": "2022-11-24T17:19:02.834910Z",
     "start_time": "2022-11-24T17:19:02.724161Z"
    }
   },
   "outputs": [
    {
     "data": {
      "text/plain": [
       "tensor(3)"
      ]
     },
     "execution_count": 54,
     "metadata": {},
     "output_type": "execute_result"
    },
    {
     "data": {
      "image/png": "[encoded data removed]",
      "text/plain": [
       "<Figure size 432x288 with 1 Axes>"
      ]
     },
     "metadata": {
      "needs_background": "light"
     },
     "output_type": "display_data"
    }
   ],
   "source": [
    "plt.imshow(xb[0].view(28,28))\n",
    "yb[0]"
   ]
  },
  {
   "cell_type": "code",
   "execution_count": 55,
   "id": "706f02e1",
   "metadata": {
    "ExecuteTime": {
     "end_time": "2022-11-24T17:19:08.164427Z",
     "start_time": "2022-11-24T17:19:08.155346Z"
    }
   },
   "outputs": [],
   "source": [
    "model, opt = get_model()"
   ]
  },
  {
   "cell_type": "code",
   "execution_count": 39,
   "id": "ba51a5d2",
   "metadata": {
    "ExecuteTime": {
     "end_time": "2022-11-24T20:25:54.950297Z",
     "start_time": "2022-11-24T20:25:54.940299Z"
    }
   },
   "outputs": [],
   "source": [
    "def fit():\n",
    "    for epoch in range(epochs):\n",
    "        for xb,yb in train_dl:\n",
    "            pred = model(xb)\n",
    "            loss = loss_func(pred, yb)\n",
    "            loss.backward()\n",
    "            opt.step()\n",
    "            opt.zero_grad()\n",
    "        report(loss, pred, yb)"
   ]
  },
  {
   "cell_type": "code",
   "execution_count": 40,
   "id": "f5dc9dc3",
   "metadata": {
    "ExecuteTime": {
     "end_time": "2022-11-24T20:25:58.158647Z",
     "start_time": "2022-11-24T20:25:56.188745Z"
    }
   },
   "outputs": [
    {
     "name": "stdout",
     "output_type": "stream",
     "text": [
      "0.40, 0.94\n",
      "0.13, 0.94\n",
      "0.18, 0.94\n"
     ]
    },
    {
     "ename": "NameError",
     "evalue": "name 'yb' is not defined",
     "output_type": "error",
     "traceback": [
      "\u001b[0;31m---------------------------------------------------------------------------\u001b[0m",
      "\u001b[0;31mNameError\u001b[0m                                 Traceback (most recent call last)",
      "Input \u001b[0;32mIn [40]\u001b[0m, in \u001b[0;36m<cell line: 2>\u001b[0;34m()\u001b[0m\n\u001b[1;32m      1\u001b[0m fit()\n\u001b[0;32m----> 2\u001b[0m loss_func(model(xb), \u001b[43myb\u001b[49m), accuracy(model(xb), yb)\n",
      "\u001b[0;31mNameError\u001b[0m: name 'yb' is not defined"
     ]
    }
   ],
   "source": [
    "fit()\n",
    "loss_func(model(xb), yb), accuracy(model(xb), yb)"
   ]
  },
  {
   "cell_type": "markdown",
   "id": "2168ac25",
   "metadata": {},
   "source": [
    "## random sampling"
   ]
  },
  {
   "cell_type": "code",
   "execution_count": 58,
   "id": "889d2896",
   "metadata": {
    "ExecuteTime": {
     "end_time": "2022-11-24T17:19:37.921956Z",
     "start_time": "2022-11-24T17:19:37.915891Z"
    }
   },
   "outputs": [],
   "source": [
    "import random"
   ]
  },
  {
   "cell_type": "code",
   "execution_count": 59,
   "id": "ed3761f9",
   "metadata": {
    "ExecuteTime": {
     "end_time": "2022-11-24T17:20:34.727906Z",
     "start_time": "2022-11-24T17:20:34.717427Z"
    }
   },
   "outputs": [],
   "source": [
    "class Sampler():\n",
    "    def __init__(self, ds, shuffle=False):\n",
    "        self.n, self.shuffle = len(ds), shuffle\n",
    "        \n",
    "    def __iter__(self):\n",
    "        res = list(range(self.n))\n",
    "        if self.shuffle:\n",
    "            random.shuffle(res)\n",
    "        return iter(res)"
   ]
  },
  {
   "cell_type": "code",
   "execution_count": 60,
   "id": "e3ddab23",
   "metadata": {
    "ExecuteTime": {
     "end_time": "2022-11-24T17:20:35.765992Z",
     "start_time": "2022-11-24T17:20:35.759147Z"
    }
   },
   "outputs": [],
   "source": [
    "from itertools import islice"
   ]
  },
  {
   "cell_type": "code",
   "execution_count": 61,
   "id": "150fd20a",
   "metadata": {
    "ExecuteTime": {
     "end_time": "2022-11-24T17:20:40.882489Z",
     "start_time": "2022-11-24T17:20:40.875917Z"
    }
   },
   "outputs": [],
   "source": [
    "ss = Sampler(train_ds)"
   ]
  },
  {
   "cell_type": "code",
   "execution_count": 62,
   "id": "34c79df7",
   "metadata": {
    "ExecuteTime": {
     "end_time": "2022-11-24T17:20:48.943896Z",
     "start_time": "2022-11-24T17:20:48.930693Z"
    }
   },
   "outputs": [
    {
     "name": "stdout",
     "output_type": "stream",
     "text": [
      "0\n",
      "1\n",
      "2\n",
      "3\n",
      "4\n"
     ]
    }
   ],
   "source": [
    "it = iter(ss)\n",
    "for o in range(5):\n",
    "    print(next(it))"
   ]
  },
  {
   "cell_type": "code",
   "execution_count": 63,
   "id": "464529b8",
   "metadata": {
    "ExecuteTime": {
     "end_time": "2022-11-24T17:20:58.176241Z",
     "start_time": "2022-11-24T17:20:58.169191Z"
    }
   },
   "outputs": [
    {
     "data": {
      "text/plain": [
       "[0, 1, 2, 3, 4]"
      ]
     },
     "execution_count": 63,
     "metadata": {},
     "output_type": "execute_result"
    }
   ],
   "source": [
    "list(islice(ss,5))"
   ]
  },
  {
   "cell_type": "code",
   "execution_count": 64,
   "id": "f4651fb5",
   "metadata": {
    "ExecuteTime": {
     "end_time": "2022-11-24T17:21:07.654276Z",
     "start_time": "2022-11-24T17:21:07.609061Z"
    }
   },
   "outputs": [
    {
     "data": {
      "text/plain": [
       "[15853, 1443, 28836, 13116, 30204]"
      ]
     },
     "execution_count": 64,
     "metadata": {},
     "output_type": "execute_result"
    }
   ],
   "source": [
    "ss = Sampler(train_ds, shuffle=True)\n",
    "list(islice(ss, 5))"
   ]
  },
  {
   "cell_type": "code",
   "execution_count": 65,
   "id": "e4fc5823",
   "metadata": {
    "ExecuteTime": {
     "end_time": "2022-11-24T17:21:11.850821Z",
     "start_time": "2022-11-24T17:21:11.813763Z"
    }
   },
   "outputs": [
    {
     "data": {
      "text/plain": [
       "[25744, 29528, 1475, 25323, 22573]"
      ]
     },
     "execution_count": 65,
     "metadata": {},
     "output_type": "execute_result"
    }
   ],
   "source": [
    "list(islice(ss, 5))"
   ]
  },
  {
   "cell_type": "code",
   "execution_count": 66,
   "id": "0d46b0d9",
   "metadata": {
    "ExecuteTime": {
     "end_time": "2022-11-24T17:21:21.304482Z",
     "start_time": "2022-11-24T17:21:21.283958Z"
    }
   },
   "outputs": [],
   "source": [
    "import fastcore.all as fc"
   ]
  },
  {
   "cell_type": "code",
   "execution_count": 67,
   "id": "e9bb784e",
   "metadata": {
    "ExecuteTime": {
     "end_time": "2022-11-24T17:23:51.019603Z",
     "start_time": "2022-11-24T17:23:51.008841Z"
    }
   },
   "outputs": [],
   "source": [
    "class BatchSampler():\n",
    "    def __init__(self, sampler, bs, drop_last = False):\n",
    "        self.sampler, self.bs, self.drop_last = sampler, bs, drop_last\n",
    "        \n",
    "    def __iter__(self):\n",
    "        yield from fc.chunked(iter(self.sampler), self.bs, drop_last = self.drop_last)"
   ]
  },
  {
   "cell_type": "code",
   "execution_count": 68,
   "id": "9e833aec",
   "metadata": {
    "ExecuteTime": {
     "end_time": "2022-11-24T17:23:52.597544Z",
     "start_time": "2022-11-24T17:23:52.550416Z"
    }
   },
   "outputs": [
    {
     "data": {
      "text/plain": [
       "[[31068, 3947, 30666, 43437],\n",
       " [46873, 48618, 15049, 46682],\n",
       " [18183, 12048, 6591, 24093],\n",
       " [33071, 8420, 41025, 34686],\n",
       " [31527, 12430, 40512, 18982]]"
      ]
     },
     "execution_count": 68,
     "metadata": {},
     "output_type": "execute_result"
    }
   ],
   "source": [
    "batchs = BatchSampler(ss, 4)\n",
    "list(islice(batchs,5))"
   ]
  },
  {
   "cell_type": "code",
   "execution_count": 70,
   "id": "9888f15a",
   "metadata": {
    "ExecuteTime": {
     "end_time": "2022-11-24T15:33:02.284139Z",
     "start_time": "2022-11-24T15:33:02.244425Z"
    }
   },
   "outputs": [],
   "source": [
    "fc.chunked??"
   ]
  },
  {
   "cell_type": "code",
   "execution_count": 20,
   "id": "56f1c705",
   "metadata": {
    "ExecuteTime": {
     "end_time": "2022-11-24T20:20:08.293817Z",
     "start_time": "2022-11-24T20:20:08.285845Z"
    }
   },
   "outputs": [],
   "source": [
    "def collate(b):\n",
    "    xs, ys = zip(*b)\n",
    "    return torch.stack(xs), torch.stack(ys)"
   ]
  },
  {
   "cell_type": "code",
   "execution_count": 70,
   "id": "ec653d9d",
   "metadata": {
    "ExecuteTime": {
     "end_time": "2022-11-24T17:24:35.184666Z",
     "start_time": "2022-11-24T17:24:35.181566Z"
    }
   },
   "outputs": [],
   "source": [
    "class Dataloader():\n",
    "    def __init__(self, ds, batchs, collate_fn=collate):\n",
    "        fc.store_attr()\n",
    "    def __iter__(self):\n",
    "        yield from (self.collate_fn(self.ds[i] for i in b) for b in self.batchs)"
   ]
  },
  {
   "cell_type": "code",
   "execution_count": 71,
   "id": "5c5328bd",
   "metadata": {
    "ExecuteTime": {
     "end_time": "2022-11-24T17:24:57.625662Z",
     "start_time": "2022-11-24T17:24:57.617598Z"
    }
   },
   "outputs": [],
   "source": [
    "train_samp = BatchSampler(Sampler(train_ds, shuffle=True), bs)\n",
    "valid_samp = BatchSampler(Sampler(valid_ds, shuffle=False), bs)"
   ]
  },
  {
   "cell_type": "code",
   "execution_count": 72,
   "id": "0b71922e",
   "metadata": {
    "ExecuteTime": {
     "end_time": "2022-11-24T17:25:03.431968Z",
     "start_time": "2022-11-24T17:25:03.426140Z"
    }
   },
   "outputs": [],
   "source": [
    "train_dl = Dataloader(train_ds, batchs=train_samp)\n",
    "valid_dl = Dataloader(valid_ds, batchs=valid_samp)"
   ]
  },
  {
   "cell_type": "code",
   "execution_count": 73,
   "id": "5e0ae177",
   "metadata": {
    "ExecuteTime": {
     "end_time": "2022-11-24T17:25:03.957189Z",
     "start_time": "2022-11-24T17:25:03.877393Z"
    }
   },
   "outputs": [
    {
     "data": {
      "text/plain": [
       "tensor(3)"
      ]
     },
     "execution_count": 73,
     "metadata": {},
     "output_type": "execute_result"
    },
    {
     "data": {
      "image/png": "[encoded data removed]",
      "text/plain": [
       "<Figure size 432x288 with 1 Axes>"
      ]
     },
     "metadata": {
      "needs_background": "light"
     },
     "output_type": "display_data"
    }
   ],
   "source": [
    "xb, yb = next(iter(valid_dl))\n",
    "plt.imshow(xb[0].view(28,28))\n",
    "yb[0]"
   ]
  },
  {
   "cell_type": "markdown",
   "id": "4ac25ccb",
   "metadata": {
    "ExecuteTime": {
     "end_time": "2022-11-24T17:26:47.733112Z",
     "start_time": "2022-11-24T17:26:47.729378Z"
    }
   },
   "source": [
    "## Multiprocessing dataloader"
   ]
  },
  {
   "cell_type": "code",
   "execution_count": 76,
   "id": "2774fbe8",
   "metadata": {
    "ExecuteTime": {
     "end_time": "2022-11-24T17:28:24.447197Z",
     "start_time": "2022-11-24T17:28:24.441694Z"
    }
   },
   "outputs": [],
   "source": [
    "import torch.multiprocessing as mp\n",
    "from fastcore.basics import store_attr"
   ]
  },
  {
   "cell_type": "code",
   "execution_count": 77,
   "id": "5b55d708",
   "metadata": {
    "ExecuteTime": {
     "end_time": "2022-11-24T17:28:49.650636Z",
     "start_time": "2022-11-24T17:28:49.635297Z"
    }
   },
   "outputs": [
    {
     "data": {
      "text/plain": [
       "(tensor([[0., 0., 0.,  ..., 0., 0., 0.],\n",
       "         [0., 0., 0.,  ..., 0., 0., 0.],\n",
       "         [0., 0., 0.,  ..., 0., 0., 0.],\n",
       "         [0., 0., 0.,  ..., 0., 0., 0.]]),\n",
       " tensor([1, 1, 1, 0]))"
      ]
     },
     "execution_count": 77,
     "metadata": {},
     "output_type": "execute_result"
    }
   ],
   "source": [
    "train_ds[[3,6,8,1]]"
   ]
  },
  {
   "cell_type": "code",
   "execution_count": 79,
   "id": "25e98d69",
   "metadata": {
    "ExecuteTime": {
     "end_time": "2022-11-24T17:29:29.595458Z",
     "start_time": "2022-11-24T17:29:29.582220Z"
    }
   },
   "outputs": [
    {
     "data": {
      "text/plain": [
       "(tensor([[0., 0., 0.,  ..., 0., 0., 0.],\n",
       "         [0., 0., 0.,  ..., 0., 0., 0.],\n",
       "         [0., 0., 0.,  ..., 0., 0., 0.],\n",
       "         [0., 0., 0.,  ..., 0., 0., 0.]]),\n",
       " tensor([1, 1, 1, 0]))"
      ]
     },
     "execution_count": 79,
     "metadata": {},
     "output_type": "execute_result"
    }
   ],
   "source": [
    "train_ds.__getitem__([3,6,8,1])"
   ]
  },
  {
   "cell_type": "code",
   "execution_count": 82,
   "id": "88adaf23",
   "metadata": {
    "ExecuteTime": {
     "end_time": "2022-11-24T17:32:37.220166Z",
     "start_time": "2022-11-24T17:32:37.205623Z"
    }
   },
   "outputs": [
    {
     "name": "stdout",
     "output_type": "stream",
     "text": [
      "(tensor([[0., 0., 0.,  ..., 0., 0., 0.],\n",
      "        [0., 0., 0.,  ..., 0., 0., 0.]]), tensor([1, 1]))\n",
      "(tensor([[0., 0., 0.,  ..., 0., 0., 0.],\n",
      "        [0., 0., 0.,  ..., 0., 0., 0.]]), tensor([1, 0]))\n"
     ]
    }
   ],
   "source": [
    "for o in map(train_ds.__getitem__, (([3,6]),([8,1])) ):\n",
    "    print (o)"
   ]
  },
  {
   "cell_type": "code",
   "execution_count": 83,
   "id": "fed83544",
   "metadata": {
    "ExecuteTime": {
     "end_time": "2022-11-24T17:40:49.317775Z",
     "start_time": "2022-11-24T17:40:49.308286Z"
    }
   },
   "outputs": [],
   "source": [
    "class Dataloader():\n",
    "    def __init__(self, ds, batchs, n_workers=1, collate_fn=collate):\n",
    "        fc.store_attr()\n",
    "    def __iter__(self):\n",
    "        with mp.Pool(self.n_workers) as ex:\n",
    "            yield from ex.map(self.ds.__getitem__, iter(self.batchs))        "
   ]
  },
  {
   "cell_type": "code",
   "execution_count": 84,
   "id": "ef71f541",
   "metadata": {
    "ExecuteTime": {
     "end_time": "2022-11-24T17:43:00.615762Z",
     "start_time": "2022-11-24T17:43:00.606674Z"
    }
   },
   "outputs": [],
   "source": [
    "train_dl = Dataloader(train_ds, batchs=train_samp, n_workers=2)\n",
    "it = iter(train_dl)"
   ]
  },
  {
   "cell_type": "code",
   "execution_count": 85,
   "id": "98dc2a8e",
   "metadata": {
    "ExecuteTime": {
     "end_time": "2022-11-24T17:44:22.196189Z",
     "start_time": "2022-11-24T17:44:20.307690Z"
    }
   },
   "outputs": [
    {
     "data": {
      "text/plain": [
       "(torch.Size([64, 784]), torch.Size([64]))"
      ]
     },
     "execution_count": 85,
     "metadata": {},
     "output_type": "execute_result"
    }
   ],
   "source": [
    "xb, yb = next(it)\n",
    "xb.shape, yb.shape"
   ]
  },
  {
   "cell_type": "markdown",
   "id": "11731ac8",
   "metadata": {
    "ExecuteTime": {
     "end_time": "2022-11-24T17:45:08.776832Z",
     "start_time": "2022-11-24T17:45:08.769505Z"
    }
   },
   "source": [
    "## Pytorch dataloader"
   ]
  },
  {
   "cell_type": "code",
   "execution_count": 41,
   "id": "32e61e53",
   "metadata": {
    "ExecuteTime": {
     "end_time": "2022-11-24T20:26:06.258221Z",
     "start_time": "2022-11-24T20:26:06.250880Z"
    }
   },
   "outputs": [],
   "source": [
    "from torch.utils.data import DataLoader, SequentialSampler, RandomSampler, BatchSampler\n",
    "bs =64\n",
    "lr = .5"
   ]
  },
  {
   "cell_type": "code",
   "execution_count": 42,
   "id": "b0c242a4",
   "metadata": {
    "ExecuteTime": {
     "end_time": "2022-11-24T20:26:06.937233Z",
     "start_time": "2022-11-24T20:26:06.932024Z"
    }
   },
   "outputs": [],
   "source": [
    "train_samp = BatchSampler(RandomSampler(train_ds), bs, drop_last=False)\n",
    "valid_samp = BatchSampler(SequentialSampler(valid_ds), bs, drop_last=False)"
   ]
  },
  {
   "cell_type": "code",
   "execution_count": 59,
   "id": "b3450188",
   "metadata": {
    "ExecuteTime": {
     "end_time": "2022-11-24T20:42:31.809277Z",
     "start_time": "2022-11-24T20:42:31.804238Z"
    }
   },
   "outputs": [],
   "source": [
    "train_dl = DataLoader(train_ds, batch_sampler=train_samp, collate_fn=collate)\n",
    "valid_dl = DataLoader(valid_ds, batch_sampler=valid_samp, collate_fn=collate)"
   ]
  },
  {
   "cell_type": "code",
   "execution_count": 60,
   "id": "0cbb8723",
   "metadata": {
    "ExecuteTime": {
     "end_time": "2022-11-24T20:42:39.160552Z",
     "start_time": "2022-11-24T20:42:37.609689Z"
    }
   },
   "outputs": [
    {
     "name": "stdout",
     "output_type": "stream",
     "text": [
      "0.06, 1.00\n",
      "0.05, 1.00\n",
      "0.20, 0.88\n"
     ]
    },
    {
     "data": {
      "text/plain": [
       "(tensor(0.00, grad_fn=<NllLossBackward0>), tensor(1.))"
      ]
     },
     "execution_count": 60,
     "metadata": {},
     "output_type": "execute_result"
    }
   ],
   "source": [
    "model, opt = get_model()\n",
    "fit()\n",
    "loss_func(model(xb), yb), accuracy(model(xb), yb)"
   ]
  },
  {
   "cell_type": "code",
   "execution_count": 45,
   "id": "c37e03aa",
   "metadata": {
    "ExecuteTime": {
     "end_time": "2022-11-24T20:32:13.603529Z",
     "start_time": "2022-11-24T20:32:13.595292Z"
    }
   },
   "outputs": [],
   "source": [
    "train_dl = DataLoader(train_ds, bs, sampler=RandomSampler(train_ds), collate_fn=collate)\n",
    "valid_dl = DataLoader(valid_ds, bs, sampler=SequentialSampler(valid_ds), collate_fn=collate)"
   ]
  },
  {
   "cell_type": "code",
   "execution_count": 61,
   "id": "f6f0202a",
   "metadata": {
    "ExecuteTime": {
     "end_time": "2022-11-24T20:43:51.107053Z",
     "start_time": "2022-11-24T20:43:51.098983Z"
    }
   },
   "outputs": [],
   "source": [
    "train_dl = DataLoader(train_ds, bs, shuffle=True, collate_fn=collate)\n",
    "valid_dl = DataLoader(valid_ds, bs, shuffle=False, collate_fn=collate)"
   ]
  },
  {
   "cell_type": "code",
   "execution_count": 62,
   "id": "ba699b56",
   "metadata": {
    "ExecuteTime": {
     "end_time": "2022-11-24T20:44:00.847359Z",
     "start_time": "2022-11-24T20:43:59.333449Z"
    }
   },
   "outputs": [
    {
     "name": "stdout",
     "output_type": "stream",
     "text": [
      "0.12, 1.00\n",
      "0.60, 0.88\n",
      "0.04, 1.00\n"
     ]
    },
    {
     "data": {
      "text/plain": [
       "(tensor(0.00, grad_fn=<NllLossBackward0>), tensor(1.))"
      ]
     },
     "execution_count": 62,
     "metadata": {},
     "output_type": "execute_result"
    }
   ],
   "source": [
    "model, opt = get_model()\n",
    "fit()\n",
    "loss_func(model(xb), yb), accuracy(model(xb), yb)"
   ]
  },
  {
   "cell_type": "markdown",
   "id": "457ef3db",
   "metadata": {},
   "source": [
    "#### we can skip batch sampler and collate_fn entirely"
   ]
  },
  {
   "cell_type": "code",
   "execution_count": 65,
   "id": "3bd03e6a",
   "metadata": {
    "ExecuteTime": {
     "end_time": "2022-11-24T20:55:00.145546Z",
     "start_time": "2022-11-24T20:55:00.142662Z"
    }
   },
   "outputs": [],
   "source": [
    "#put batchsampler as if it was a sampler\n",
    "train_dl = DataLoader(train_ds, sampler=train_samp)\n",
    "valid_dl = DataLoader(valid_ds, sampler=valid_samp)"
   ]
  },
  {
   "cell_type": "code",
   "execution_count": 67,
   "id": "9e08599b",
   "metadata": {
    "ExecuteTime": {
     "end_time": "2022-11-24T20:57:08.132149Z",
     "start_time": "2022-11-24T20:57:08.117665Z"
    }
   },
   "outputs": [
    {
     "data": {
      "text/plain": [
       "(torch.Size([1, 64, 784]), torch.Size([1, 64]))"
      ]
     },
     "execution_count": 67,
     "metadata": {},
     "output_type": "execute_result"
    }
   ],
   "source": [
    "xb,yb = next(iter(train_dl))\n",
    "xb.shape, yb.shape"
   ]
  },
  {
   "cell_type": "markdown",
   "id": "a2dee7f3",
   "metadata": {
    "ExecuteTime": {
     "end_time": "2022-11-24T21:00:13.839631Z",
     "start_time": "2022-11-24T21:00:13.836880Z"
    }
   },
   "source": [
    "## Validation"
   ]
  },
  {
   "cell_type": "markdown",
   "id": "8714bd97",
   "metadata": {},
   "source": [
    "You **always** should also have a [validation set](http://www.fast.ai/2017/11/13/validation-sets/), in order to identify if you are overfitting.\n",
    "\n",
    "We will calculate and print the validation loss at the end of each epoch.\n",
    "\n",
    "(Note that we always call `model.train()` before training, and `model.eval()` before inference, because these are used by layers such as `nn.BatchNorm2d` and `nn.Dropout` to ensure appropriate behaviour for these different phases.)"
   ]
  },
  {
   "cell_type": "code",
   "execution_count": 69,
   "id": "574df750",
   "metadata": {
    "ExecuteTime": {
     "end_time": "2022-11-24T22:47:50.483038Z",
     "start_time": "2022-11-24T22:47:50.469180Z"
    }
   },
   "outputs": [],
   "source": [
    "def fit(epochs, model, loss_func, opt, train_dl, valid_dl):\n",
    "    for epoch in range(epochs):\n",
    "        model.train()\n",
    "        for xb,yb in train_dl:\n",
    "            loss = loss_func(model(xb), yb)\n",
    "            loss.backward()\n",
    "            opt.step()\n",
    "            opt.zero_grad()\n",
    "            \n",
    "        model.eval()\n",
    "        with torch.no_grad():\n",
    "            tot_loss, tot_acc,count = 0., 0., 0\n",
    "            for xb,yb in valid_dl:\n",
    "                pred = model(xb)\n",
    "                n = len(xb)\n",
    "                count += n\n",
    "                tot_loss += loss_func(pred, yb).item()*n\n",
    "                tot_acc += accuracy(pred, yb).item()*n\n",
    "        print(epoch, tot_loss/count, tot_acc/count)\n",
    "    return tot_loss/count, tot_acc/count"
   ]
  },
  {
   "cell_type": "code",
   "execution_count": 72,
   "id": "9b00dae6",
   "metadata": {
    "ExecuteTime": {
     "end_time": "2022-11-24T22:54:08.824439Z",
     "start_time": "2022-11-24T22:54:08.815632Z"
    }
   },
   "outputs": [],
   "source": [
    "def get_dls(train_ds, valid_ds, bs, **kwargs):\n",
    "    return(DataLoader(train_ds, batch_size=bs, shuffle=True, **kwargs),\n",
    "            DataLoader(valid_ds, batch_size=bs*2, **kwargs))"
   ]
  },
  {
   "cell_type": "code",
   "execution_count": 73,
   "id": "6f9e3ad6",
   "metadata": {
    "ExecuteTime": {
     "end_time": "2022-11-24T22:54:12.237587Z",
     "start_time": "2022-11-24T22:54:09.157016Z"
    }
   },
   "outputs": [
    {
     "name": "stdout",
     "output_type": "stream",
     "text": [
      "0 0.1619500123798847 0.9529\n",
      "1 0.14294969681203365 0.9613\n",
      "2 0.11029258045330644 0.9678\n",
      "3 0.2596742490440607 0.9309\n",
      "4 0.1055386916257441 0.9708\n"
     ]
    }
   ],
   "source": [
    "train_dl, valid_dl = get_dls(train_ds, valid_ds, bs)\n",
    "model, opt = get_model()\n",
    "loss, acc = fit(5, model, loss_func, opt, train_dl, valid_dl)"
   ]
  },
  {
   "cell_type": "code",
   "execution_count": null,
   "id": "de231f82",
   "metadata": {},
   "outputs": [],
   "source": []
  }
 ],
 "metadata": {
  "kernelspec": {
   "display_name": "Python [conda env:fai] *",
   "language": "python",
   "name": "conda-env-fai-py"
  },
  "language_info": {
   "codemirror_mode": {
    "name": "ipython",
    "version": 3
   },
   "file_extension": ".py",
   "mimetype": "text/x-python",
   "name": "python",
   "nbconvert_exporter": "python",
   "pygments_lexer": "ipython3",
   "version": "3.10.4"
  },
  "varInspector": {
   "cols": {
    "lenName": 16,
    "lenType": 16,
    "lenVar": 40
   },
   "kernels_config": {
    "python": {
     "delete_cmd_postfix": "",
     "delete_cmd_prefix": "del ",
     "library": "var_list.py",
     "varRefreshCmd": "print(var_dic_list())"
    },
    "r": {
     "delete_cmd_postfix": ") ",
     "delete_cmd_prefix": "rm(",
     "library": "var_list.r",
     "varRefreshCmd": "cat(var_dic_list()) "
    }
   },
   "types_to_exclude": [
    "module",
    "function",
    "builtin_function_or_method",
    "instance",
    "_Feature"
   ],
   "window_display": false
  }
 },
 "nbformat": 4,
 "nbformat_minor": 5
}
